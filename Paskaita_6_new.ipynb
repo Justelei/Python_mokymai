{
 "cells": [
  {
   "cell_type": "markdown",
   "metadata": {},
   "source": [
    "# Numpy biblioteka"
   ]
  },
  {
   "cell_type": "code",
   "execution_count": 1,
   "metadata": {},
   "outputs": [],
   "source": [
    "# Skirta skaiciavimams"
   ]
  },
  {
   "cell_type": "code",
   "execution_count": 5,
   "metadata": {},
   "outputs": [],
   "source": [
    "# numpy modulio pagrindinis objektas - ndarray (n-matis masyvas) array = masyvas\n",
    "# galime tureti visokiu formu modulius,\n",
    "# pvz 1D array - vienos dimensijos duomenys, panasus si sarasus (1D array - vektoriai)\n",
    "# skirtumas nuo sarasu - negalime labai lengvai prideti nauju duomenu\n",
    "# 2D array - 2d masyvas, matrica su eilutem ir stulpeliais\n",
    "# 3D array - triju dimensiju matrica"
   ]
  },
  {
   "cell_type": "code",
   "execution_count": null,
   "metadata": {},
   "outputs": [],
   "source": [
    "# visos matricos (ar vektoriai) turi shape.\n",
    "# 3D matricos forma (4,3,2)"
   ]
  },
  {
   "cell_type": "code",
   "execution_count": 17,
   "metadata": {},
   "outputs": [
    {
     "name": "stdout",
     "output_type": "stream",
     "text": [
      "[[1, 2, 3, 4], [5, 6, 7, 8], [9, 10, 11, 12]]\n",
      "6\n",
      "[2, 6, 10]\n"
     ]
    }
   ],
   "source": [
    "a_list = [\n",
    "    [1,2,3,4],\n",
    "    [5,6,7,8],\n",
    "    [9,10,11,12]\n",
    "]\n",
    "\n",
    "# dvieju dimensiju sarasas\n",
    "\n",
    "print(a_list)\n",
    "print(a_list[1][1])\n",
    "print([row[1] for row in a_list]) # skirtingu eiliu tie patys indeksai su for cycle isgaunami"
   ]
  },
  {
   "cell_type": "code",
   "execution_count": 10,
   "metadata": {},
   "outputs": [],
   "source": [
    "import numpy as np"
   ]
  },
  {
   "cell_type": "markdown",
   "metadata": {},
   "source": [
    "# 2D array"
   ]
  },
  {
   "cell_type": "code",
   "execution_count": 19,
   "metadata": {},
   "outputs": [
    {
     "name": "stdout",
     "output_type": "stream",
     "text": [
      "[[ 1  2  3  4]\n",
      " [ 5  6  7  8]\n",
      " [ 9 10 11 12]]\n",
      "<class 'numpy.ndarray'>\n"
     ]
    }
   ],
   "source": [
    "a_np = np.array([\n",
    "    [1,2,3,4],\n",
    "    [5,6,7,8],\n",
    "    [9,10,11,12]\n",
    "]\n",
    ") \n",
    "# np.array - sarasa konvertuoja i masyva\n",
    "print(a_np) # atspausdina nebe kaip lista, o kaip matrica, nes np.array pakeicia i masyva\n",
    "print(type(a_np)) "
   ]
  },
  {
   "cell_type": "code",
   "execution_count": 24,
   "metadata": {},
   "outputs": [
    {
     "name": "stdout",
     "output_type": "stream",
     "text": [
      "6\n",
      "\n",
      "\n",
      "6\n",
      "\n",
      "\n",
      "[ 2  6 10]\n",
      "\n",
      "\n",
      "[2 6]\n",
      "\n",
      "\n",
      "[[2 3]\n",
      " [6 7]]\n"
     ]
    }
   ],
   "source": [
    "# kaip isaugoti ta pati 6 is array\n",
    "\n",
    "print(a_np[1][1])\n",
    "print('\\n')\n",
    "print(a_np[1,1]) # pirmos eiles pirmo stulpelio ROW INDEX COLUMN INDEX ; pirmos eiles pirmas stulpelis\n",
    "print('\\n')\n",
    "print(a_np[:, 1]) # isgauti visu eiliu pirma index\n",
    "print('\\n')\n",
    "print(a_np[:2, 1]) # 0 ir 1 eiles pirmas index\n",
    "print('\\n')\n",
    "print(a_np[:2, 1:3]) # 0 ir 1 eiles 1 ir antras index /paimti nuo pradzios iki antros eiles pirma ir antra stulpa"
   ]
  },
  {
   "cell_type": "code",
   "execution_count": 33,
   "metadata": {},
   "outputs": [
    {
     "name": "stdout",
     "output_type": "stream",
     "text": [
      "(3, 4)\n",
      "3\n"
     ]
    }
   ],
   "source": [
    "print(a_np.shape)\n",
    "print(len(a_np)) # pirmos asies dydis"
   ]
  },
  {
   "cell_type": "markdown",
   "metadata": {},
   "source": [
    "# 1D array"
   ]
  },
  {
   "cell_type": "code",
   "execution_count": null,
   "metadata": {},
   "outputs": [],
   "source": [
    "# 1 dimencijos matrica (vektorius)"
   ]
  },
  {
   "cell_type": "code",
   "execution_count": 26,
   "metadata": {},
   "outputs": [],
   "source": [
    "array_1d = np.array(\n",
    "    [1,5,7,9,71,14]\n",
    ")"
   ]
  },
  {
   "cell_type": "code",
   "execution_count": 34,
   "metadata": {},
   "outputs": [
    {
     "name": "stdout",
     "output_type": "stream",
     "text": [
      "(6,)\n",
      "6\n"
     ]
    }
   ],
   "source": [
    "print(array_1d.shape)\n",
    "print(len(array_1d))"
   ]
  },
  {
   "cell_type": "code",
   "execution_count": 35,
   "metadata": {},
   "outputs": [
    {
     "name": "stdout",
     "output_type": "stream",
     "text": [
      "[ 1  5  7  9 71 14]\n"
     ]
    }
   ],
   "source": [
    "print(array_1d)"
   ]
  },
  {
   "cell_type": "markdown",
   "metadata": {},
   "source": [
    "# 3D array\n"
   ]
  },
  {
   "cell_type": "code",
   "execution_count": 36,
   "metadata": {},
   "outputs": [],
   "source": [
    "arr_3d = np.array([\n",
    "        [\n",
    "            [1, 2, 3],\n",
    "            [4, 5, 6],\n",
    "        ],\n",
    "        [\n",
    "            [1, 2, 3,],\n",
    "            [4, 5, 6]\n",
    "        ]\n",
    "    ]\n",
    ")\n",
    "\n",
    "# du nariai, po dvi eiles po 3 s"
   ]
  },
  {
   "cell_type": "code",
   "execution_count": 37,
   "metadata": {},
   "outputs": [
    {
     "name": "stdout",
     "output_type": "stream",
     "text": [
      "[[[1 2 3]\n",
      "  [4 5 6]]\n",
      "\n",
      " [[1 2 3]\n",
      "  [4 5 6]]]\n"
     ]
    }
   ],
   "source": [
    "print(arr_3d) # "
   ]
  },
  {
   "cell_type": "code",
   "execution_count": 38,
   "metadata": {},
   "outputs": [
    {
     "name": "stdout",
     "output_type": "stream",
     "text": [
      "(2, 2, 3)\n"
     ]
    }
   ],
   "source": [
    "print(arr_3d.shape)"
   ]
  },
  {
   "cell_type": "code",
   "execution_count": 44,
   "metadata": {},
   "outputs": [
    {
     "name": "stdout",
     "output_type": "stream",
     "text": [
      "(2, 5, 3)\n",
      "[[[ 1.26072125  0.015521    0.85115622]\n",
      "  [ 0.14248699 -0.82091512  0.98816652]\n",
      "  [-0.31445905 -0.47693095 -0.90124973]\n",
      "  [-1.51138859  0.90962953  0.84746733]\n",
      "  [ 1.55937884 -2.13194556 -0.05310899]]\n",
      "\n",
      " [[ 0.43300148 -1.32374524  0.3832497 ]\n",
      "  [-1.20386052 -0.15326386  0.92000353]\n",
      "  [ 1.1367815  -0.21101391 -0.78413387]\n",
      "  [-0.16914331  0.61834202  1.28208518]\n",
      "  [ 0.5457918   0.86890803  2.85589554]]]\n"
     ]
    }
   ],
   "source": [
    "n_dim_array = np.random.randn(2,5,3)\n",
    "print(n_dim_array.shape)\n",
    "print(n_dim_array)\n",
    "\n",
    "# sugeneruoja matricas randomly nurodzius forma"
   ]
  },
  {
   "cell_type": "markdown",
   "metadata": {},
   "source": [
    "# Numpy operations"
   ]
  },
  {
   "cell_type": "code",
   "execution_count": 46,
   "metadata": {},
   "outputs": [
    {
     "name": "stdout",
     "output_type": "stream",
     "text": [
      "[1, 2, 3, 4, 5, 1, 2, 3, 4, 5, 1, 2, 3, 4, 5]\n"
     ]
    }
   ],
   "source": [
    "py_list = [1,2,3,4,5] # su listu\n",
    "print(py_list * 3)"
   ]
  },
  {
   "cell_type": "code",
   "execution_count": 50,
   "metadata": {},
   "outputs": [
    {
     "name": "stdout",
     "output_type": "stream",
     "text": [
      "[ 3  6  9 12 15]\n"
     ]
    }
   ],
   "source": [
    "# su numpy\n",
    "\n",
    "np_array = np.array ( [1,2,3,4,5] )\n",
    "\n",
    "print(np_array * 3) # sudaugina kiekviena verte, su list pakartoja 3 k"
   ]
  },
  {
   "cell_type": "code",
   "execution_count": 51,
   "metadata": {},
   "outputs": [
    {
     "name": "stdout",
     "output_type": "stream",
     "text": [
      "[0.33333333 0.66666667 1.         1.33333333 1.66666667]\n",
      "[  1   8  27  64 125]\n"
     ]
    }
   ],
   "source": [
    "print(np_array / 3)\n",
    "print(np_array ** 3)"
   ]
  },
  {
   "cell_type": "code",
   "execution_count": 54,
   "metadata": {},
   "outputs": [
    {
     "name": "stdout",
     "output_type": "stream",
     "text": [
      "[1, 2, 3, 4, 5]\n"
     ]
    },
    {
     "ename": "TypeError",
     "evalue": "can only assign an iterable",
     "output_type": "error",
     "traceback": [
      "\u001b[1;31m---------------------------------------------------------------------------\u001b[0m",
      "\u001b[1;31mTypeError\u001b[0m                                 Traceback (most recent call last)",
      "\u001b[1;32mc:\\Users\\laima\\Desktop\\Python_mokymai\\Python_mokymai\\Paskaita_6_new.ipynb Cell 25'\u001b[0m in \u001b[0;36m<module>\u001b[1;34m\u001b[0m\n\u001b[0;32m      <a href='vscode-notebook-cell:/c%3A/Users/laima/Desktop/Python_mokymai/Python_mokymai/Paskaita_6_new.ipynb#ch0000030?line=0'>1</a>\u001b[0m \u001b[39mprint\u001b[39m(py_list)\n\u001b[1;32m----> <a href='vscode-notebook-cell:/c%3A/Users/laima/Desktop/Python_mokymai/Python_mokymai/Paskaita_6_new.ipynb#ch0000030?line=1'>2</a>\u001b[0m py_list[\u001b[39m2\u001b[39m:\u001b[39m4\u001b[39m] \u001b[39m=\u001b[39m \u001b[39m100\u001b[39m\n",
      "\u001b[1;31mTypeError\u001b[0m: can only assign an iterable"
     ]
    }
   ],
   "source": [
    "print(py_list)\n",
    "py_list[2:4] = 100 # list neleidzia pakeisti keliu nariu vienu metu"
   ]
  },
  {
   "cell_type": "code",
   "execution_count": 57,
   "metadata": {},
   "outputs": [
    {
     "name": "stdout",
     "output_type": "stream",
     "text": [
      "[  1   2 100 100   5]\n",
      "[  1   2 100 200   5]\n"
     ]
    }
   ],
   "source": [
    "np_array[2:4] = 100\n",
    "print(np_array)\n",
    "np_array[2:4] = [100,200]\n",
    "print(np_array)\n",
    "# np_array[2:4] = [100,200,300] #wrong shapes"
   ]
  },
  {
   "cell_type": "markdown",
   "metadata": {},
   "source": [
    "## Reshape"
   ]
  },
  {
   "cell_type": "code",
   "execution_count": 62,
   "metadata": {},
   "outputs": [
    {
     "name": "stdout",
     "output_type": "stream",
     "text": [
      "[ 0  2  4  6  8 10 12 14 16 18 20 22 24 26 28 30 32 34 36 38 40 42 44 46\n",
      " 48 50 52 54 56 58 60 62 64 66 68 70 72 74 76 78 80 82 84 86 88 90 92 94\n",
      " 96 98]\n",
      "(50,)\n"
     ]
    }
   ],
   "source": [
    "# galime susikurti \n",
    "\n",
    "np_array = np.arange(0,100,2) # sarasas, kurio forma yra vektorius 50 skaiciu\n",
    "print(np_array)\n",
    "print(np_array.shape)"
   ]
  },
  {
   "cell_type": "code",
   "execution_count": 63,
   "metadata": {},
   "outputs": [
    {
     "name": "stdout",
     "output_type": "stream",
     "text": [
      "[[ 0  2  4  6  8 10 12 14 16 18]\n",
      " [20 22 24 26 28 30 32 34 36 38]\n",
      " [40 42 44 46 48 50 52 54 56 58]\n",
      " [60 62 64 66 68 70 72 74 76 78]\n",
      " [80 82 84 86 88 90 92 94 96 98]]\n"
     ]
    }
   ],
   "source": [
    "# galime manipuliuoti forma ir padaryti 2D is 1D\n",
    "\n",
    "print(np_array.reshape( (5,10) )) # is vektoriaus matrica"
   ]
  },
  {
   "cell_type": "code",
   "execution_count": 65,
   "metadata": {},
   "outputs": [
    {
     "name": "stdout",
     "output_type": "stream",
     "text": [
      "[[[ 0  2  4  6  8]\n",
      "  [10 12 14 16 18]\n",
      "  [20 22 24 26 28]\n",
      "  [30 32 34 36 38]\n",
      "  [40 42 44 46 48]]\n",
      "\n",
      " [[50 52 54 56 58]\n",
      "  [60 62 64 66 68]\n",
      "  [70 72 74 76 78]\n",
      "  [80 82 84 86 88]\n",
      "  [90 92 94 96 98]]]\n"
     ]
    }
   ],
   "source": [
    "print(np_array.reshape( (2,5,5) )) # 3D matrica / 5*5  2d matrivos"
   ]
  },
  {
   "cell_type": "code",
   "execution_count": 68,
   "metadata": {},
   "outputs": [
    {
     "name": "stdout",
     "output_type": "stream",
     "text": [
      "[[[ 0  2  4  6  8]\n",
      "  [10 12 14 16 18]\n",
      "  [20 22 24 26 28]\n",
      "  [30 32 34 36 38]\n",
      "  [40 42 44 46 48]\n",
      "  [50 52 54 56 58]\n",
      "  [60 62 64 66 68]\n",
      "  [70 72 74 76 78]\n",
      "  [80 82 84 86 88]\n",
      "  [90 92 94 96 98]]]\n"
     ]
    }
   ],
   "source": [
    "print(np_array.reshape((1, 10, 5)))"
   ]
  },
  {
   "cell_type": "code",
   "execution_count": 67,
   "metadata": {},
   "outputs": [
    {
     "name": "stdout",
     "output_type": "stream",
     "text": [
      "[[[ 0  2  4  6  8 10 12 14 16 18 20 22 24 26 28 30 32 34 36 38 40 42 44\n",
      "   46 48]]\n",
      "\n",
      " [[50 52 54 56 58 60 62 64 66 68 70 72 74 76 78 80 82 84 86 88 90 92 94\n",
      "   96 98]]]\n"
     ]
    }
   ],
   "source": [
    "print(np_array.reshape((2,1,-1)))"
   ]
  },
  {
   "cell_type": "code",
   "execution_count": 73,
   "metadata": {},
   "outputs": [
    {
     "name": "stdout",
     "output_type": "stream",
     "text": [
      "2D [[1 2]\n",
      " [4 3]\n",
      " [7 4]]\n",
      "(3, 2)\n",
      "3D\n",
      " [[[1 2]\n",
      "  [4 3]\n",
      "  [7 4]]\n",
      "\n",
      " [[2 2]\n",
      "  [4 3]\n",
      "  [7 4]]\n",
      "\n",
      " [[3 2]\n",
      "  [4 3]\n",
      "  [7 4]]\n",
      "\n",
      " [[4 2]\n",
      "  [4 3]\n",
      "  [7 4]]]\n",
      "(4, 3, 2)\n"
     ]
    }
   ],
   "source": [
    "array_2d = np.array( [ [1,2], [4,3], [7,4] ] )\n",
    "print('2D', array_2d)\n",
    "print(array_2d.shape)\n",
    "\n",
    "array_3d = np.array( [\n",
    "    [ [1,2], [4,3], [7,4] ],\n",
    "    [ [2,2], [4,3], [7,4] ],\n",
    "    [ [3,2], [4,3], [7,4] ],\n",
    "    [ [4,2], [4,3], [7,4] ],\n",
    "]\n",
    ")\n",
    "     \n",
    "print('3D\\n', array_3d)\n",
    "print(array_3d.shape)"
   ]
  },
  {
   "cell_type": "markdown",
   "metadata": {},
   "source": [
    "# Numpy methods"
   ]
  },
  {
   "cell_type": "code",
   "execution_count": 75,
   "metadata": {},
   "outputs": [
    {
     "data": {
      "text/plain": [
       "3.75"
      ]
     },
     "execution_count": 75,
     "metadata": {},
     "output_type": "execute_result"
    }
   ],
   "source": [
    "np.mean(array_3d) # visos matricos visu skaiciu vidurkis"
   ]
  },
  {
   "cell_type": "code",
   "execution_count": 80,
   "metadata": {},
   "outputs": [
    {
     "name": "stdout",
     "output_type": "stream",
     "text": [
      "[[1 2]\n",
      " [4 3]\n",
      " [7 4]]\n",
      "column mean: [4. 3.]\n",
      "row mean: [1.5 3.5 5.5]\n"
     ]
    }
   ],
   "source": [
    "print(array_2d)\n",
    "print('column mean:', np.mean(array_2d, axis=0)) # stulpeliu vidurkis)\n",
    "print('row mean:', np.mean(array_2d, axis=1))"
   ]
  },
  {
   "cell_type": "code",
   "execution_count": 84,
   "metadata": {},
   "outputs": [
    {
     "name": "stdout",
     "output_type": "stream",
     "text": [
      "[[1 2]\n",
      " [4 3]\n",
      " [7 4]]\n",
      "Column std [2.44948974 0.81649658]\n"
     ]
    }
   ],
   "source": [
    "# standartinis nuokrypis\n",
    "print(array_2d)\n",
    "np.std(array_2d)\n",
    "\n",
    "\n",
    "print('Column std', np.std(array_2d, axis=0))"
   ]
  },
  {
   "cell_type": "code",
   "execution_count": 87,
   "metadata": {},
   "outputs": [
    {
     "name": "stdout",
     "output_type": "stream",
     "text": [
      "column sum [12  9]\n",
      "row sum [ 3  7 11]\n"
     ]
    }
   ],
   "source": [
    "print('column sum', np.sum(array_2d,axis=0))\n",
    "print('row sum', np.sum(array_2d,axis=1))"
   ]
  },
  {
   "cell_type": "code",
   "execution_count": 89,
   "metadata": {},
   "outputs": [
    {
     "data": {
      "text/plain": [
       "array([[1, 4, 7],\n",
       "       [2, 3, 4]])"
      ]
     },
     "execution_count": 89,
     "metadata": {},
     "output_type": "execute_result"
    }
   ],
   "source": [
    "array_2d.transpose() # 3*2 = 2*3"
   ]
  },
  {
   "cell_type": "markdown",
   "metadata": {},
   "source": [
    "# Comparisons"
   ]
  },
  {
   "cell_type": "code",
   "execution_count": 90,
   "metadata": {},
   "outputs": [
    {
     "name": "stdout",
     "output_type": "stream",
     "text": [
      "[ 0  2  4  6  8 10 12 14 16 18 20 22 24 26 28 30 32 34 36 38 40 42 44 46\n",
      " 48 50 52 54 56 58]\n"
     ]
    }
   ],
   "source": [
    "np_array = np.arange(0,60,2) # arange - sukuria matrica pagal duotus duomenis\n",
    "print(np_array)"
   ]
  },
  {
   "cell_type": "code",
   "execution_count": 91,
   "metadata": {},
   "outputs": [
    {
     "data": {
      "text/plain": [
       "array([ 0,  2,  4,  6,  8, 10, 12, 14, 16, 18, 20, 22, 24, 26, 28])"
      ]
     },
     "execution_count": 91,
     "metadata": {},
     "output_type": "execute_result"
    }
   ],
   "source": [
    "# suzinoti, kurie skaiciai didesni uz 30\n",
    "\n",
    "np_array[np_array < 30]"
   ]
  },
  {
   "cell_type": "code",
   "execution_count": 94,
   "metadata": {},
   "outputs": [
    {
     "data": {
      "text/plain": [
       "array([ True,  True,  True,  True,  True,  True,  True,  True,  True,\n",
       "        True,  True,  True,  True,  True,  True, False, False, False,\n",
       "       False, False, False, False, False, False, False, False, False,\n",
       "       False, False, False])"
      ]
     },
     "execution_count": 94,
     "metadata": {},
     "output_type": "execute_result"
    }
   ],
   "source": [
    "np_array < 30 # masking"
   ]
  },
  {
   "cell_type": "code",
   "execution_count": 93,
   "metadata": {},
   "outputs": [
    {
     "data": {
      "text/plain": [
       "array([ 0,  6, 12, 18, 24, 30, 36, 42, 48, 54])"
      ]
     },
     "execution_count": 93,
     "metadata": {},
     "output_type": "execute_result"
    }
   ],
   "source": [
    "np_array[np_array % 3 ==0]"
   ]
  },
  {
   "cell_type": "code",
   "execution_count": null,
   "metadata": {},
   "outputs": [],
   "source": []
  }
 ],
 "metadata": {
  "interpreter": {
   "hash": "c1079bb051ce826b2586e8a117626216eeafca56017ae30fdaacad9a7d00cd2c"
  },
  "kernelspec": {
   "display_name": "Python 3.10.2 64-bit",
   "language": "python",
   "name": "python3"
  },
  "language_info": {
   "codemirror_mode": {
    "name": "ipython",
    "version": 3
   },
   "file_extension": ".py",
   "mimetype": "text/x-python",
   "name": "python",
   "nbconvert_exporter": "python",
   "pygments_lexer": "ipython3",
   "version": "3.10.2"
  },
  "orig_nbformat": 4
 },
 "nbformat": 4,
 "nbformat_minor": 2
}
