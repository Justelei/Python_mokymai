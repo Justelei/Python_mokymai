{
 "cells": [
  {
   "cell_type": "code",
   "execution_count": 2,
   "metadata": {},
   "outputs": [
    {
     "name": "stdout",
     "output_type": "stream",
     "text": [
      "2 Fizz\n",
      "3 Buzz\n",
      "4 Fizz\n",
      "6 FizzBuzz\n",
      "8 Fizz\n",
      "9 Buzz\n",
      "10 Fizz\n",
      "12 FizzBuzz\n",
      "14 Fizz\n",
      "15 Buzz\n",
      "16 Fizz\n",
      "18 FizzBuzz\n",
      "20 Fizz\n",
      "21 Buzz\n",
      "22 Fizz\n",
      "24 FizzBuzz\n",
      "26 Fizz\n",
      "27 Buzz\n",
      "28 Fizz\n",
      "30 FizzBuzz\n",
      "32 Fizz\n",
      "33 Buzz\n",
      "34 Fizz\n",
      "36 FizzBuzz\n",
      "38 Fizz\n",
      "39 Buzz\n",
      "40 Fizz\n",
      "42 FizzBuzz\n",
      "44 Fizz\n",
      "45 Buzz\n",
      "46 Fizz\n",
      "48 FizzBuzz\n",
      "50 Fizz\n",
      "51 Buzz\n",
      "52 Fizz\n",
      "54 FizzBuzz\n",
      "56 Fizz\n",
      "57 Buzz\n",
      "58 Fizz\n",
      "60 FizzBuzz\n",
      "62 Fizz\n",
      "63 Buzz\n",
      "64 Fizz\n",
      "66 FizzBuzz\n",
      "68 Fizz\n",
      "69 Buzz\n",
      "70 Fizz\n",
      "72 FizzBuzz\n",
      "74 Fizz\n",
      "75 Buzz\n",
      "76 Fizz\n",
      "78 FizzBuzz\n",
      "80 Fizz\n",
      "81 Buzz\n",
      "82 Fizz\n",
      "84 FizzBuzz\n",
      "86 Fizz\n",
      "87 Buzz\n",
      "88 Fizz\n",
      "90 FizzBuzz\n",
      "92 Fizz\n",
      "93 Buzz\n",
      "94 Fizz\n",
      "96 FizzBuzz\n",
      "98 Fizz\n",
      "99 Buzz\n",
      "100 Fizz\n"
     ]
    }
   ],
   "source": [
    "# 1. Is pirmu 100 skaiciu, jeigu skaicius dalinasi is 2 be liekanos, atspausdinkite 'Fizz',\n",
    "# jeigu skaicius dalinasi is 3 be lieknos, atspausdinkite 'Buzz',\n",
    "# jei skaicius dalinasi is 2 ir 3 be liekanos, atspausdinkite 'FizzBuzz'\n",
    "\n",
    "for number in range(1,101):\n",
    "    if number % 6 == 0:\n",
    "        print(number, 'FizzBuzz')\n",
    "    elif number % 2 == 0:\n",
    "        print (number, 'Fizz')\n",
    "    elif number % 3 == 0:\n",
    "        print (number, 'Buzz')"
   ]
  },
  {
   "cell_type": "code",
   "execution_count": 7,
   "metadata": {},
   "outputs": [
    {
     "name": "stdout",
     "output_type": "stream",
     "text": [
      "22\n",
      "[1, 2, 3, 4, 6, 7, 8, 9, 11, 12, 13, 14, 16, 17, 18, 19, 21, 22]\n"
     ]
    }
   ],
   "source": [
    "# 2. Leiskite vartotojui pasirinkti skaiciu, jeigu ivestas skaicius yra daugiau arba lygus 10,\n",
    "# atspausdinkite visus skaicius kurie dalinasi is 5 su liekana\n",
    "# kitu atveju nieko nedaryti ir pranesti vartotojui apie tai.\n",
    "\n",
    "input_number = int(input('skaicius'))\n",
    "print(input_number)\n",
    "numbers = list(range(1,input_number+ 1))\n",
    "\n",
    "if input_number >= 10:\n",
    "    liekana = []\n",
    "    for number in numbers:\n",
    "        if number % 5 != 0:\n",
    "            liekana.append(number)\n",
    "    print(liekana)\n",
    "else:\n",
    "    print('skaicius mazesnis arba lygus 10')"
   ]
  },
  {
   "cell_type": "code",
   "execution_count": null,
   "metadata": {},
   "outputs": [],
   "source": []
  }
 ],
 "metadata": {
  "interpreter": {
   "hash": "c1079bb051ce826b2586e8a117626216eeafca56017ae30fdaacad9a7d00cd2c"
  },
  "kernelspec": {
   "display_name": "Python 3.10.2 64-bit",
   "language": "python",
   "name": "python3"
  },
  "language_info": {
   "codemirror_mode": {
    "name": "ipython",
    "version": 3
   },
   "file_extension": ".py",
   "mimetype": "text/x-python",
   "name": "python",
   "nbconvert_exporter": "python",
   "pygments_lexer": "ipython3",
   "version": "3.10.2"
  },
  "orig_nbformat": 4
 },
 "nbformat": 4,
 "nbformat_minor": 2
}
