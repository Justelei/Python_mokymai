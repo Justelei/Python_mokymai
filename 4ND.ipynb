{
 "cells": [
  {
   "cell_type": "code",
   "execution_count": 21,
   "metadata": {},
   "outputs": [
    {
     "name": "stdout",
     "output_type": "stream",
     "text": [
      "[8, 9, 3, 15]\n"
     ]
    }
   ],
   "source": [
    "# 1. Rasti pasikartojancius elementus tarp dvieju list\n",
    "\n",
    "a = [1,2,3,4,5,6,7,8,9,15]\n",
    "b = [3,8,9,11,15]\n",
    "\n",
    "print(list(set(a).intersection(b)))"
   ]
  },
  {
   "cell_type": "code",
   "execution_count": 45,
   "metadata": {},
   "outputs": [
    {
     "name": "stdout",
     "output_type": "stream",
     "text": [
      "[800, 1, 2, 900, 5, 8, 10, 12, 14]\n"
     ]
    }
   ],
   "source": [
    "# 2. Isfiltruoti unikalius teigiamus numerius is saraso\n",
    "\n",
    "x = [1,5,1,2,8,-9,10,1,-8,-900,14,5,-8,2,1,-20,900,800,-6,-8,12,1]\n",
    "\n",
    "# set - reik unikaliu\n",
    "# set(x) - iskart gauna unikalius skaicius\n",
    "\n",
    "list = []\n",
    "for number in set(x):\n",
    "    if number > 0:\n",
    "        list.append(number)\n",
    "print(list)\n",
    "\n",
    "\n"
   ]
  },
  {
   "cell_type": "code",
   "execution_count": 48,
   "metadata": {},
   "outputs": [
    {
     "name": "stdout",
     "output_type": "stream",
     "text": [
      "[800, 1, 2, 900, 5, 8, 10, 12, 14]\n"
     ]
    }
   ],
   "source": [
    "list = [number for number in set(x) if number > 0]\n",
    "print(list)"
   ]
  },
  {
   "cell_type": "code",
   "execution_count": 56,
   "metadata": {},
   "outputs": [],
   "source": [
    "# 3. Parasykite funkcija, kuri priims string tipo kintamaji, grazinkite kiek tame stringe yra raidziu,\n",
    "# skaiciu, skyrybos (specialiu) zenklu ir tarpu.\n",
    "\n",
    "def text_extract (text: str):\n",
    "    numbers = 0\n",
    "    letters = 0\n",
    "    spaces = 0\n",
    "    specials = 0\n",
    "    for symbol in text:\n",
    "        if symbol.isalpha():\n",
    "            letters += 1\n",
    "        elif symbol.isdigit():\n",
    "            numbers += 1\n",
    "        elif symbol.isspace():\n",
    "            spaces =+ 1\n",
    "        else:\n",
    "            specials += 1\n",
    "    print(f'letters: {letters}, numbers: {numbers}, spaces: {spaces}, specials: {specials}')"
   ]
  },
  {
   "cell_type": "code",
   "execution_count": 55,
   "metadata": {},
   "outputs": [
    {
     "name": "stdout",
     "output_type": "stream",
     "text": [
      "letters: 5, numbers: 3, spaces: 1, specials: 5\n"
     ]
    }
   ],
   "source": [
    "text_extract('hello 148 *(*&%')"
   ]
  },
  {
   "cell_type": "code",
   "execution_count": 59,
   "metadata": {},
   "outputs": [
    {
     "data": {
      "text/plain": [
       "9"
      ]
     },
     "execution_count": 59,
     "metadata": {},
     "output_type": "execute_result"
    }
   ],
   "source": [
    "# 4. Parasyti funkcija, kuri priima viena list tipo kintamaji, funkcija grazina skirtuma tarp diziausio ir maziausio skaiciaus\n",
    "def my_function(my_list):\n",
    "    return max(my_list) - min(my_list)\n",
    "\n",
    "my_function([1,5,6,10,4])"
   ]
  },
  {
   "cell_type": "code",
   "execution_count": null,
   "metadata": {},
   "outputs": [],
   "source": []
  }
 ],
 "metadata": {
  "interpreter": {
   "hash": "c1079bb051ce826b2586e8a117626216eeafca56017ae30fdaacad9a7d00cd2c"
  },
  "kernelspec": {
   "display_name": "Python 3.10.2 64-bit",
   "language": "python",
   "name": "python3"
  },
  "language_info": {
   "codemirror_mode": {
    "name": "ipython",
    "version": 3
   },
   "file_extension": ".py",
   "mimetype": "text/x-python",
   "name": "python",
   "nbconvert_exporter": "python",
   "pygments_lexer": "ipython3",
   "version": "3.10.2"
  },
  "orig_nbformat": 4
 },
 "nbformat": 4,
 "nbformat_minor": 2
}
