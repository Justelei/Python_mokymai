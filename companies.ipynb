{
 "cells": [
  {
   "cell_type": "code",
   "execution_count": 1,
   "metadata": {},
   "outputs": [],
   "source": [
    "import pandas"
   ]
  },
  {
   "cell_type": "code",
   "execution_count": 26,
   "metadata": {},
   "outputs": [],
   "source": [
    "invoice_sent = pandas.read_excel('homework.xlsx')"
   ]
  },
  {
   "cell_type": "code",
   "execution_count": 27,
   "metadata": {},
   "outputs": [
    {
     "data": {
      "text/html": [
       "<div>\n",
       "<style scoped>\n",
       "    .dataframe tbody tr th:only-of-type {\n",
       "        vertical-align: middle;\n",
       "    }\n",
       "\n",
       "    .dataframe tbody tr th {\n",
       "        vertical-align: top;\n",
       "    }\n",
       "\n",
       "    .dataframe thead th {\n",
       "        text-align: right;\n",
       "    }\n",
       "</style>\n",
       "<table border=\"1\" class=\"dataframe\">\n",
       "  <thead>\n",
       "    <tr style=\"text-align: right;\">\n",
       "      <th></th>\n",
       "      <th>transaction_date</th>\n",
       "      <th>package_quantity</th>\n",
       "      <th>country</th>\n",
       "      <th>invoice_number</th>\n",
       "      <th>charge_classification_code</th>\n",
       "      <th>currency</th>\n",
       "      <th>billed_weight</th>\n",
       "      <th>tracking_number</th>\n",
       "      <th>charge_description</th>\n",
       "      <th>from_country</th>\n",
       "      <th>entered_weight</th>\n",
       "      <th>to_country</th>\n",
       "      <th>extra_costs</th>\n",
       "      <th>amount</th>\n",
       "      <th>transaction_id</th>\n",
       "      <th>package_size_code</th>\n",
       "    </tr>\n",
       "  </thead>\n",
       "  <tbody>\n",
       "    <tr>\n",
       "      <th>0</th>\n",
       "      <td>2021-02-03</td>\n",
       "      <td>1</td>\n",
       "      <td>IT</td>\n",
       "      <td>NaN</td>\n",
       "      <td>NaN</td>\n",
       "      <td>EUR</td>\n",
       "      <td>0.5</td>\n",
       "      <td>1078440000106</td>\n",
       "      <td>TB Standard</td>\n",
       "      <td>IT</td>\n",
       "      <td>0.5</td>\n",
       "      <td>FR</td>\n",
       "      <td>False</td>\n",
       "      <td>3.69</td>\n",
       "      <td>NaN</td>\n",
       "      <td>SMALL</td>\n",
       "    </tr>\n",
       "    <tr>\n",
       "      <th>1</th>\n",
       "      <td>2021-02-23</td>\n",
       "      <td>1</td>\n",
       "      <td>IT</td>\n",
       "      <td>NaN</td>\n",
       "      <td>NaN</td>\n",
       "      <td>EUR</td>\n",
       "      <td>2.0</td>\n",
       "      <td>1078440000225</td>\n",
       "      <td>TB Standard</td>\n",
       "      <td>IT</td>\n",
       "      <td>0.5</td>\n",
       "      <td>FR</td>\n",
       "      <td>False</td>\n",
       "      <td>4.47</td>\n",
       "      <td>NaN</td>\n",
       "      <td>SMALL</td>\n",
       "    </tr>\n",
       "    <tr>\n",
       "      <th>2</th>\n",
       "      <td>2021-03-03</td>\n",
       "      <td>1</td>\n",
       "      <td>IT</td>\n",
       "      <td>NaN</td>\n",
       "      <td>NaN</td>\n",
       "      <td>EUR</td>\n",
       "      <td>6.5</td>\n",
       "      <td>1078440000284</td>\n",
       "      <td>TB Standard</td>\n",
       "      <td>IT</td>\n",
       "      <td>2.0</td>\n",
       "      <td>FR</td>\n",
       "      <td>False</td>\n",
       "      <td>6.99</td>\n",
       "      <td>NaN</td>\n",
       "      <td>LARGE</td>\n",
       "    </tr>\n",
       "    <tr>\n",
       "      <th>3</th>\n",
       "      <td>2021-02-15</td>\n",
       "      <td>1</td>\n",
       "      <td>IT</td>\n",
       "      <td>NaN</td>\n",
       "      <td>NaN</td>\n",
       "      <td>EUR</td>\n",
       "      <td>0.5</td>\n",
       "      <td>1078440000314</td>\n",
       "      <td>TB Standard</td>\n",
       "      <td>IT</td>\n",
       "      <td>0.5</td>\n",
       "      <td>FR</td>\n",
       "      <td>False</td>\n",
       "      <td>3.69</td>\n",
       "      <td>NaN</td>\n",
       "      <td>SMALL</td>\n",
       "    </tr>\n",
       "    <tr>\n",
       "      <th>4</th>\n",
       "      <td>2021-03-01</td>\n",
       "      <td>1</td>\n",
       "      <td>IT</td>\n",
       "      <td>NaN</td>\n",
       "      <td>NaN</td>\n",
       "      <td>EUR</td>\n",
       "      <td>0.5</td>\n",
       "      <td>1078440000400</td>\n",
       "      <td>TB Standard</td>\n",
       "      <td>IT</td>\n",
       "      <td>0.5</td>\n",
       "      <td>FR</td>\n",
       "      <td>False</td>\n",
       "      <td>3.69</td>\n",
       "      <td>NaN</td>\n",
       "      <td>SMALL</td>\n",
       "    </tr>\n",
       "    <tr>\n",
       "      <th>...</th>\n",
       "      <td>...</td>\n",
       "      <td>...</td>\n",
       "      <td>...</td>\n",
       "      <td>...</td>\n",
       "      <td>...</td>\n",
       "      <td>...</td>\n",
       "      <td>...</td>\n",
       "      <td>...</td>\n",
       "      <td>...</td>\n",
       "      <td>...</td>\n",
       "      <td>...</td>\n",
       "      <td>...</td>\n",
       "      <td>...</td>\n",
       "      <td>...</td>\n",
       "      <td>...</td>\n",
       "      <td>...</td>\n",
       "    </tr>\n",
       "    <tr>\n",
       "      <th>19995</th>\n",
       "      <td>2021-01-25</td>\n",
       "      <td>1</td>\n",
       "      <td>IT</td>\n",
       "      <td>NaN</td>\n",
       "      <td>NaN</td>\n",
       "      <td>EUR</td>\n",
       "      <td>1.0</td>\n",
       "      <td>1078443168103</td>\n",
       "      <td>Dom. Standard</td>\n",
       "      <td>IT</td>\n",
       "      <td>1.0</td>\n",
       "      <td>IT</td>\n",
       "      <td>False</td>\n",
       "      <td>3.61</td>\n",
       "      <td>NaN</td>\n",
       "      <td>MEDIUM</td>\n",
       "    </tr>\n",
       "    <tr>\n",
       "      <th>19996</th>\n",
       "      <td>2021-02-11</td>\n",
       "      <td>1</td>\n",
       "      <td>IT</td>\n",
       "      <td>NaN</td>\n",
       "      <td>NaN</td>\n",
       "      <td>EUR</td>\n",
       "      <td>3.5</td>\n",
       "      <td>1078443168222</td>\n",
       "      <td>TB Standard</td>\n",
       "      <td>IT</td>\n",
       "      <td>1.0</td>\n",
       "      <td>FR</td>\n",
       "      <td>False</td>\n",
       "      <td>5.82</td>\n",
       "      <td>NaN</td>\n",
       "      <td>MEDIUM</td>\n",
       "    </tr>\n",
       "    <tr>\n",
       "      <th>19997</th>\n",
       "      <td>2021-02-11</td>\n",
       "      <td>0</td>\n",
       "      <td>IT</td>\n",
       "      <td>NaN</td>\n",
       "      <td>NaN</td>\n",
       "      <td>EUR</td>\n",
       "      <td>0.0</td>\n",
       "      <td>1078443168222</td>\n",
       "      <td>Extended Area P/U Surcharge-Origin</td>\n",
       "      <td>IT</td>\n",
       "      <td>0.0</td>\n",
       "      <td>FR</td>\n",
       "      <td>True</td>\n",
       "      <td>5.66</td>\n",
       "      <td>NaN</td>\n",
       "      <td>MEDIUM</td>\n",
       "    </tr>\n",
       "    <tr>\n",
       "      <th>19998</th>\n",
       "      <td>2021-02-16</td>\n",
       "      <td>1</td>\n",
       "      <td>IT</td>\n",
       "      <td>NaN</td>\n",
       "      <td>NaN</td>\n",
       "      <td>EUR</td>\n",
       "      <td>2.0</td>\n",
       "      <td>1078443168367</td>\n",
       "      <td>TB Standard</td>\n",
       "      <td>IT</td>\n",
       "      <td>1.0</td>\n",
       "      <td>FR</td>\n",
       "      <td>False</td>\n",
       "      <td>4.47</td>\n",
       "      <td>NaN</td>\n",
       "      <td>MEDIUM</td>\n",
       "    </tr>\n",
       "    <tr>\n",
       "      <th>19999</th>\n",
       "      <td>2021-02-25</td>\n",
       "      <td>1</td>\n",
       "      <td>IT</td>\n",
       "      <td>NaN</td>\n",
       "      <td>NaN</td>\n",
       "      <td>EUR</td>\n",
       "      <td>4.0</td>\n",
       "      <td>1078443168486</td>\n",
       "      <td>TB Standard</td>\n",
       "      <td>IT</td>\n",
       "      <td>2.0</td>\n",
       "      <td>FR</td>\n",
       "      <td>False</td>\n",
       "      <td>5.19</td>\n",
       "      <td>NaN</td>\n",
       "      <td>LARGE</td>\n",
       "    </tr>\n",
       "  </tbody>\n",
       "</table>\n",
       "<p>20000 rows × 16 columns</p>\n",
       "</div>"
      ],
      "text/plain": [
       "      transaction_date  package_quantity country  invoice_number  \\\n",
       "0           2021-02-03                 1      IT             NaN   \n",
       "1           2021-02-23                 1      IT             NaN   \n",
       "2           2021-03-03                 1      IT             NaN   \n",
       "3           2021-02-15                 1      IT             NaN   \n",
       "4           2021-03-01                 1      IT             NaN   \n",
       "...                ...               ...     ...             ...   \n",
       "19995       2021-01-25                 1      IT             NaN   \n",
       "19996       2021-02-11                 1      IT             NaN   \n",
       "19997       2021-02-11                 0      IT             NaN   \n",
       "19998       2021-02-16                 1      IT             NaN   \n",
       "19999       2021-02-25                 1      IT             NaN   \n",
       "\n",
       "       charge_classification_code currency  billed_weight  tracking_number  \\\n",
       "0                             NaN      EUR            0.5    1078440000106   \n",
       "1                             NaN      EUR            2.0    1078440000225   \n",
       "2                             NaN      EUR            6.5    1078440000284   \n",
       "3                             NaN      EUR            0.5    1078440000314   \n",
       "4                             NaN      EUR            0.5    1078440000400   \n",
       "...                           ...      ...            ...              ...   \n",
       "19995                         NaN      EUR            1.0    1078443168103   \n",
       "19996                         NaN      EUR            3.5    1078443168222   \n",
       "19997                         NaN      EUR            0.0    1078443168222   \n",
       "19998                         NaN      EUR            2.0    1078443168367   \n",
       "19999                         NaN      EUR            4.0    1078443168486   \n",
       "\n",
       "                       charge_description from_country  entered_weight  \\\n",
       "0                             TB Standard           IT             0.5   \n",
       "1                             TB Standard           IT             0.5   \n",
       "2                             TB Standard           IT             2.0   \n",
       "3                             TB Standard           IT             0.5   \n",
       "4                             TB Standard           IT             0.5   \n",
       "...                                   ...          ...             ...   \n",
       "19995                       Dom. Standard           IT             1.0   \n",
       "19996                         TB Standard           IT             1.0   \n",
       "19997  Extended Area P/U Surcharge-Origin           IT             0.0   \n",
       "19998                         TB Standard           IT             1.0   \n",
       "19999                         TB Standard           IT             2.0   \n",
       "\n",
       "      to_country  extra_costs  amount  transaction_id package_size_code  \n",
       "0             FR        False    3.69             NaN             SMALL  \n",
       "1             FR        False    4.47             NaN             SMALL  \n",
       "2             FR        False    6.99             NaN             LARGE  \n",
       "3             FR        False    3.69             NaN             SMALL  \n",
       "4             FR        False    3.69             NaN             SMALL  \n",
       "...          ...          ...     ...             ...               ...  \n",
       "19995         IT        False    3.61             NaN            MEDIUM  \n",
       "19996         FR        False    5.82             NaN            MEDIUM  \n",
       "19997         FR         True    5.66             NaN            MEDIUM  \n",
       "19998         FR        False    4.47             NaN            MEDIUM  \n",
       "19999         FR        False    5.19             NaN             LARGE  \n",
       "\n",
       "[20000 rows x 16 columns]"
      ]
     },
     "execution_count": 27,
     "metadata": {},
     "output_type": "execute_result"
    }
   ],
   "source": [
    "invoice_sent"
   ]
  },
  {
   "cell_type": "code",
   "execution_count": 28,
   "metadata": {},
   "outputs": [],
   "source": [
    "invoice_sent.to_csv('homework.csv')"
   ]
  },
  {
   "cell_type": "code",
   "execution_count": 29,
   "metadata": {},
   "outputs": [
    {
     "data": {
      "text/html": [
       "<div>\n",
       "<style scoped>\n",
       "    .dataframe tbody tr th:only-of-type {\n",
       "        vertical-align: middle;\n",
       "    }\n",
       "\n",
       "    .dataframe tbody tr th {\n",
       "        vertical-align: top;\n",
       "    }\n",
       "\n",
       "    .dataframe thead th {\n",
       "        text-align: right;\n",
       "    }\n",
       "</style>\n",
       "<table border=\"1\" class=\"dataframe\">\n",
       "  <thead>\n",
       "    <tr style=\"text-align: right;\">\n",
       "      <th></th>\n",
       "      <th>transaction_date</th>\n",
       "      <th>package_quantity</th>\n",
       "      <th>country</th>\n",
       "      <th>invoice_number</th>\n",
       "      <th>charge_classification_code</th>\n",
       "      <th>currency</th>\n",
       "      <th>billed_weight</th>\n",
       "      <th>tracking_number</th>\n",
       "      <th>charge_description</th>\n",
       "      <th>from_country</th>\n",
       "      <th>entered_weight</th>\n",
       "      <th>to_country</th>\n",
       "      <th>extra_costs</th>\n",
       "      <th>amount</th>\n",
       "      <th>transaction_id</th>\n",
       "      <th>package_size_code</th>\n",
       "    </tr>\n",
       "  </thead>\n",
       "  <tbody>\n",
       "    <tr>\n",
       "      <th>0</th>\n",
       "      <td>2021-02-03</td>\n",
       "      <td>1</td>\n",
       "      <td>IT</td>\n",
       "      <td>NaN</td>\n",
       "      <td>NaN</td>\n",
       "      <td>EUR</td>\n",
       "      <td>0.5</td>\n",
       "      <td>1078440000106</td>\n",
       "      <td>TB Standard</td>\n",
       "      <td>IT</td>\n",
       "      <td>0.5</td>\n",
       "      <td>FR</td>\n",
       "      <td>False</td>\n",
       "      <td>3.69</td>\n",
       "      <td>NaN</td>\n",
       "      <td>SMALL</td>\n",
       "    </tr>\n",
       "    <tr>\n",
       "      <th>1</th>\n",
       "      <td>2021-02-23</td>\n",
       "      <td>1</td>\n",
       "      <td>IT</td>\n",
       "      <td>NaN</td>\n",
       "      <td>NaN</td>\n",
       "      <td>EUR</td>\n",
       "      <td>2.0</td>\n",
       "      <td>1078440000225</td>\n",
       "      <td>TB Standard</td>\n",
       "      <td>IT</td>\n",
       "      <td>0.5</td>\n",
       "      <td>FR</td>\n",
       "      <td>False</td>\n",
       "      <td>4.47</td>\n",
       "      <td>NaN</td>\n",
       "      <td>SMALL</td>\n",
       "    </tr>\n",
       "    <tr>\n",
       "      <th>2</th>\n",
       "      <td>2021-03-03</td>\n",
       "      <td>1</td>\n",
       "      <td>IT</td>\n",
       "      <td>NaN</td>\n",
       "      <td>NaN</td>\n",
       "      <td>EUR</td>\n",
       "      <td>6.5</td>\n",
       "      <td>1078440000284</td>\n",
       "      <td>TB Standard</td>\n",
       "      <td>IT</td>\n",
       "      <td>2.0</td>\n",
       "      <td>FR</td>\n",
       "      <td>False</td>\n",
       "      <td>6.99</td>\n",
       "      <td>NaN</td>\n",
       "      <td>LARGE</td>\n",
       "    </tr>\n",
       "    <tr>\n",
       "      <th>3</th>\n",
       "      <td>2021-02-15</td>\n",
       "      <td>1</td>\n",
       "      <td>IT</td>\n",
       "      <td>NaN</td>\n",
       "      <td>NaN</td>\n",
       "      <td>EUR</td>\n",
       "      <td>0.5</td>\n",
       "      <td>1078440000314</td>\n",
       "      <td>TB Standard</td>\n",
       "      <td>IT</td>\n",
       "      <td>0.5</td>\n",
       "      <td>FR</td>\n",
       "      <td>False</td>\n",
       "      <td>3.69</td>\n",
       "      <td>NaN</td>\n",
       "      <td>SMALL</td>\n",
       "    </tr>\n",
       "    <tr>\n",
       "      <th>4</th>\n",
       "      <td>2021-03-01</td>\n",
       "      <td>1</td>\n",
       "      <td>IT</td>\n",
       "      <td>NaN</td>\n",
       "      <td>NaN</td>\n",
       "      <td>EUR</td>\n",
       "      <td>0.5</td>\n",
       "      <td>1078440000400</td>\n",
       "      <td>TB Standard</td>\n",
       "      <td>IT</td>\n",
       "      <td>0.5</td>\n",
       "      <td>FR</td>\n",
       "      <td>False</td>\n",
       "      <td>3.69</td>\n",
       "      <td>NaN</td>\n",
       "      <td>SMALL</td>\n",
       "    </tr>\n",
       "    <tr>\n",
       "      <th>...</th>\n",
       "      <td>...</td>\n",
       "      <td>...</td>\n",
       "      <td>...</td>\n",
       "      <td>...</td>\n",
       "      <td>...</td>\n",
       "      <td>...</td>\n",
       "      <td>...</td>\n",
       "      <td>...</td>\n",
       "      <td>...</td>\n",
       "      <td>...</td>\n",
       "      <td>...</td>\n",
       "      <td>...</td>\n",
       "      <td>...</td>\n",
       "      <td>...</td>\n",
       "      <td>...</td>\n",
       "      <td>...</td>\n",
       "    </tr>\n",
       "    <tr>\n",
       "      <th>19995</th>\n",
       "      <td>2021-01-25</td>\n",
       "      <td>1</td>\n",
       "      <td>IT</td>\n",
       "      <td>NaN</td>\n",
       "      <td>NaN</td>\n",
       "      <td>EUR</td>\n",
       "      <td>1.0</td>\n",
       "      <td>1078443168103</td>\n",
       "      <td>Dom. Standard</td>\n",
       "      <td>IT</td>\n",
       "      <td>1.0</td>\n",
       "      <td>IT</td>\n",
       "      <td>False</td>\n",
       "      <td>3.61</td>\n",
       "      <td>NaN</td>\n",
       "      <td>MEDIUM</td>\n",
       "    </tr>\n",
       "    <tr>\n",
       "      <th>19996</th>\n",
       "      <td>2021-02-11</td>\n",
       "      <td>1</td>\n",
       "      <td>IT</td>\n",
       "      <td>NaN</td>\n",
       "      <td>NaN</td>\n",
       "      <td>EUR</td>\n",
       "      <td>3.5</td>\n",
       "      <td>1078443168222</td>\n",
       "      <td>TB Standard</td>\n",
       "      <td>IT</td>\n",
       "      <td>1.0</td>\n",
       "      <td>FR</td>\n",
       "      <td>False</td>\n",
       "      <td>5.82</td>\n",
       "      <td>NaN</td>\n",
       "      <td>MEDIUM</td>\n",
       "    </tr>\n",
       "    <tr>\n",
       "      <th>19997</th>\n",
       "      <td>2021-02-11</td>\n",
       "      <td>0</td>\n",
       "      <td>IT</td>\n",
       "      <td>NaN</td>\n",
       "      <td>NaN</td>\n",
       "      <td>EUR</td>\n",
       "      <td>0.0</td>\n",
       "      <td>1078443168222</td>\n",
       "      <td>Extended Area P/U Surcharge-Origin</td>\n",
       "      <td>IT</td>\n",
       "      <td>0.0</td>\n",
       "      <td>FR</td>\n",
       "      <td>True</td>\n",
       "      <td>5.66</td>\n",
       "      <td>NaN</td>\n",
       "      <td>MEDIUM</td>\n",
       "    </tr>\n",
       "    <tr>\n",
       "      <th>19998</th>\n",
       "      <td>2021-02-16</td>\n",
       "      <td>1</td>\n",
       "      <td>IT</td>\n",
       "      <td>NaN</td>\n",
       "      <td>NaN</td>\n",
       "      <td>EUR</td>\n",
       "      <td>2.0</td>\n",
       "      <td>1078443168367</td>\n",
       "      <td>TB Standard</td>\n",
       "      <td>IT</td>\n",
       "      <td>1.0</td>\n",
       "      <td>FR</td>\n",
       "      <td>False</td>\n",
       "      <td>4.47</td>\n",
       "      <td>NaN</td>\n",
       "      <td>MEDIUM</td>\n",
       "    </tr>\n",
       "    <tr>\n",
       "      <th>19999</th>\n",
       "      <td>2021-02-25</td>\n",
       "      <td>1</td>\n",
       "      <td>IT</td>\n",
       "      <td>NaN</td>\n",
       "      <td>NaN</td>\n",
       "      <td>EUR</td>\n",
       "      <td>4.0</td>\n",
       "      <td>1078443168486</td>\n",
       "      <td>TB Standard</td>\n",
       "      <td>IT</td>\n",
       "      <td>2.0</td>\n",
       "      <td>FR</td>\n",
       "      <td>False</td>\n",
       "      <td>5.19</td>\n",
       "      <td>NaN</td>\n",
       "      <td>LARGE</td>\n",
       "    </tr>\n",
       "  </tbody>\n",
       "</table>\n",
       "<p>20000 rows × 16 columns</p>\n",
       "</div>"
      ],
      "text/plain": [
       "      transaction_date  package_quantity country  invoice_number  \\\n",
       "0           2021-02-03                 1      IT             NaN   \n",
       "1           2021-02-23                 1      IT             NaN   \n",
       "2           2021-03-03                 1      IT             NaN   \n",
       "3           2021-02-15                 1      IT             NaN   \n",
       "4           2021-03-01                 1      IT             NaN   \n",
       "...                ...               ...     ...             ...   \n",
       "19995       2021-01-25                 1      IT             NaN   \n",
       "19996       2021-02-11                 1      IT             NaN   \n",
       "19997       2021-02-11                 0      IT             NaN   \n",
       "19998       2021-02-16                 1      IT             NaN   \n",
       "19999       2021-02-25                 1      IT             NaN   \n",
       "\n",
       "       charge_classification_code currency  billed_weight  tracking_number  \\\n",
       "0                             NaN      EUR            0.5    1078440000106   \n",
       "1                             NaN      EUR            2.0    1078440000225   \n",
       "2                             NaN      EUR            6.5    1078440000284   \n",
       "3                             NaN      EUR            0.5    1078440000314   \n",
       "4                             NaN      EUR            0.5    1078440000400   \n",
       "...                           ...      ...            ...              ...   \n",
       "19995                         NaN      EUR            1.0    1078443168103   \n",
       "19996                         NaN      EUR            3.5    1078443168222   \n",
       "19997                         NaN      EUR            0.0    1078443168222   \n",
       "19998                         NaN      EUR            2.0    1078443168367   \n",
       "19999                         NaN      EUR            4.0    1078443168486   \n",
       "\n",
       "                       charge_description from_country  entered_weight  \\\n",
       "0                             TB Standard           IT             0.5   \n",
       "1                             TB Standard           IT             0.5   \n",
       "2                             TB Standard           IT             2.0   \n",
       "3                             TB Standard           IT             0.5   \n",
       "4                             TB Standard           IT             0.5   \n",
       "...                                   ...          ...             ...   \n",
       "19995                       Dom. Standard           IT             1.0   \n",
       "19996                         TB Standard           IT             1.0   \n",
       "19997  Extended Area P/U Surcharge-Origin           IT             0.0   \n",
       "19998                         TB Standard           IT             1.0   \n",
       "19999                         TB Standard           IT             2.0   \n",
       "\n",
       "      to_country  extra_costs  amount  transaction_id package_size_code  \n",
       "0             FR        False    3.69             NaN             SMALL  \n",
       "1             FR        False    4.47             NaN             SMALL  \n",
       "2             FR        False    6.99             NaN             LARGE  \n",
       "3             FR        False    3.69             NaN             SMALL  \n",
       "4             FR        False    3.69             NaN             SMALL  \n",
       "...          ...          ...     ...             ...               ...  \n",
       "19995         IT        False    3.61             NaN            MEDIUM  \n",
       "19996         FR        False    5.82             NaN            MEDIUM  \n",
       "19997         FR         True    5.66             NaN            MEDIUM  \n",
       "19998         FR        False    4.47             NaN            MEDIUM  \n",
       "19999         FR        False    5.19             NaN             LARGE  \n",
       "\n",
       "[20000 rows x 16 columns]"
      ]
     },
     "execution_count": 29,
     "metadata": {},
     "output_type": "execute_result"
    }
   ],
   "source": [
    "invoice_sent"
   ]
  },
  {
   "cell_type": "code",
   "execution_count": 30,
   "metadata": {},
   "outputs": [
    {
     "name": "stdout",
     "output_type": "stream",
     "text": [
      "<class 'pandas.core.frame.DataFrame'>\n",
      "RangeIndex: 20000 entries, 0 to 19999\n",
      "Data columns (total 16 columns):\n",
      " #   Column                      Non-Null Count  Dtype  \n",
      "---  ------                      --------------  -----  \n",
      " 0   transaction_date            20000 non-null  object \n",
      " 1   package_quantity            20000 non-null  int64  \n",
      " 2   country                     20000 non-null  object \n",
      " 3   invoice_number              0 non-null      float64\n",
      " 4   charge_classification_code  0 non-null      float64\n",
      " 5   currency                    20000 non-null  object \n",
      " 6   billed_weight               20000 non-null  float64\n",
      " 7   tracking_number             20000 non-null  int64  \n",
      " 8   charge_description          20000 non-null  object \n",
      " 9   from_country                20000 non-null  object \n",
      " 10  entered_weight              20000 non-null  float64\n",
      " 11  to_country                  20000 non-null  object \n",
      " 12  extra_costs                 20000 non-null  bool   \n",
      " 13  amount                      20000 non-null  float64\n",
      " 14  transaction_id              0 non-null      float64\n",
      " 15  package_size_code           20000 non-null  object \n",
      "dtypes: bool(1), float64(6), int64(2), object(7)\n",
      "memory usage: 2.3+ MB\n"
     ]
    }
   ],
   "source": [
    "invoice_sent.info()"
   ]
  },
  {
   "cell_type": "code",
   "execution_count": 31,
   "metadata": {},
   "outputs": [],
   "source": [
    "revenue_sent = pandas.read_excel('homework.xlsx', sheet_name='Revenue_sent')"
   ]
  },
  {
   "cell_type": "code",
   "execution_count": 32,
   "metadata": {},
   "outputs": [],
   "source": [
    "revenue_sent.to_csv('homework.csv')"
   ]
  },
  {
   "cell_type": "code",
   "execution_count": 33,
   "metadata": {},
   "outputs": [
    {
     "data": {
      "text/html": [
       "<div>\n",
       "<style scoped>\n",
       "    .dataframe tbody tr th:only-of-type {\n",
       "        vertical-align: middle;\n",
       "    }\n",
       "\n",
       "    .dataframe tbody tr th {\n",
       "        vertical-align: top;\n",
       "    }\n",
       "\n",
       "    .dataframe thead th {\n",
       "        text-align: right;\n",
       "    }\n",
       "</style>\n",
       "<table border=\"1\" class=\"dataframe\">\n",
       "  <thead>\n",
       "    <tr style=\"text-align: right;\">\n",
       "      <th></th>\n",
       "      <th>tracking_number</th>\n",
       "      <th>transaction_id</th>\n",
       "      <th>gmv</th>\n",
       "      <th>local_date</th>\n",
       "      <th>refunded_at</th>\n",
       "      <th>refund_reason</th>\n",
       "      <th>package_size</th>\n",
       "      <th>buyer_shipment_price</th>\n",
       "    </tr>\n",
       "  </thead>\n",
       "  <tbody>\n",
       "    <tr>\n",
       "      <th>0</th>\n",
       "      <td>1078440000106</td>\n",
       "      <td>NaN</td>\n",
       "      <td>12.5</td>\n",
       "      <td>2021-02-02</td>\n",
       "      <td>NaN</td>\n",
       "      <td>NaN</td>\n",
       "      <td>SMALL</td>\n",
       "      <td>0.99</td>\n",
       "    </tr>\n",
       "    <tr>\n",
       "      <th>1</th>\n",
       "      <td>1078440000225</td>\n",
       "      <td>NaN</td>\n",
       "      <td>10.5</td>\n",
       "      <td>2021-02-22</td>\n",
       "      <td>NaN</td>\n",
       "      <td>NaN</td>\n",
       "      <td>SMALL</td>\n",
       "      <td>0.99</td>\n",
       "    </tr>\n",
       "    <tr>\n",
       "      <th>2</th>\n",
       "      <td>1078440000284</td>\n",
       "      <td>NaN</td>\n",
       "      <td>45.5</td>\n",
       "      <td>2021-02-25</td>\n",
       "      <td>NaN</td>\n",
       "      <td>NaN</td>\n",
       "      <td>LARGE</td>\n",
       "      <td>5.49</td>\n",
       "    </tr>\n",
       "    <tr>\n",
       "      <th>3</th>\n",
       "      <td>1078440000314</td>\n",
       "      <td>NaN</td>\n",
       "      <td>30.5</td>\n",
       "      <td>2021-02-12</td>\n",
       "      <td>NaN</td>\n",
       "      <td>NaN</td>\n",
       "      <td>SMALL</td>\n",
       "      <td>0.99</td>\n",
       "    </tr>\n",
       "    <tr>\n",
       "      <th>4</th>\n",
       "      <td>1078440000400</td>\n",
       "      <td>NaN</td>\n",
       "      <td>12.5</td>\n",
       "      <td>2021-02-26</td>\n",
       "      <td>NaN</td>\n",
       "      <td>NaN</td>\n",
       "      <td>SMALL</td>\n",
       "      <td>0.99</td>\n",
       "    </tr>\n",
       "    <tr>\n",
       "      <th>...</th>\n",
       "      <td>...</td>\n",
       "      <td>...</td>\n",
       "      <td>...</td>\n",
       "      <td>...</td>\n",
       "      <td>...</td>\n",
       "      <td>...</td>\n",
       "      <td>...</td>\n",
       "      <td>...</td>\n",
       "    </tr>\n",
       "    <tr>\n",
       "      <th>19995</th>\n",
       "      <td>1078443168103</td>\n",
       "      <td>NaN</td>\n",
       "      <td>10.5</td>\n",
       "      <td>2021-01-22</td>\n",
       "      <td>NaN</td>\n",
       "      <td>NaN</td>\n",
       "      <td>MEDIUM</td>\n",
       "      <td>0.99</td>\n",
       "    </tr>\n",
       "    <tr>\n",
       "      <th>19996</th>\n",
       "      <td>1078443168222</td>\n",
       "      <td>NaN</td>\n",
       "      <td>10.5</td>\n",
       "      <td>2021-02-05</td>\n",
       "      <td>NaN</td>\n",
       "      <td>NaN</td>\n",
       "      <td>MEDIUM</td>\n",
       "      <td>0.99</td>\n",
       "    </tr>\n",
       "    <tr>\n",
       "      <th>19997</th>\n",
       "      <td>1078443168222</td>\n",
       "      <td>NaN</td>\n",
       "      <td>10.5</td>\n",
       "      <td>2021-02-05</td>\n",
       "      <td>NaN</td>\n",
       "      <td>NaN</td>\n",
       "      <td>MEDIUM</td>\n",
       "      <td>0.99</td>\n",
       "    </tr>\n",
       "    <tr>\n",
       "      <th>19998</th>\n",
       "      <td>1078443168367</td>\n",
       "      <td>NaN</td>\n",
       "      <td>25.5</td>\n",
       "      <td>2021-02-16</td>\n",
       "      <td>NaN</td>\n",
       "      <td>NaN</td>\n",
       "      <td>MEDIUM</td>\n",
       "      <td>0.99</td>\n",
       "    </tr>\n",
       "    <tr>\n",
       "      <th>19999</th>\n",
       "      <td>1078443168486</td>\n",
       "      <td>NaN</td>\n",
       "      <td>75.5</td>\n",
       "      <td>2021-02-19</td>\n",
       "      <td>NaN</td>\n",
       "      <td>NaN</td>\n",
       "      <td>LARGE</td>\n",
       "      <td>5.49</td>\n",
       "    </tr>\n",
       "  </tbody>\n",
       "</table>\n",
       "<p>20000 rows × 8 columns</p>\n",
       "</div>"
      ],
      "text/plain": [
       "       tracking_number  transaction_id   gmv  local_date refunded_at  \\\n",
       "0        1078440000106             NaN  12.5  2021-02-02         NaN   \n",
       "1        1078440000225             NaN  10.5  2021-02-22         NaN   \n",
       "2        1078440000284             NaN  45.5  2021-02-25         NaN   \n",
       "3        1078440000314             NaN  30.5  2021-02-12         NaN   \n",
       "4        1078440000400             NaN  12.5  2021-02-26         NaN   \n",
       "...                ...             ...   ...         ...         ...   \n",
       "19995    1078443168103             NaN  10.5  2021-01-22         NaN   \n",
       "19996    1078443168222             NaN  10.5  2021-02-05         NaN   \n",
       "19997    1078443168222             NaN  10.5  2021-02-05         NaN   \n",
       "19998    1078443168367             NaN  25.5  2021-02-16         NaN   \n",
       "19999    1078443168486             NaN  75.5  2021-02-19         NaN   \n",
       "\n",
       "      refund_reason package_size  buyer_shipment_price  \n",
       "0               NaN        SMALL                  0.99  \n",
       "1               NaN        SMALL                  0.99  \n",
       "2               NaN        LARGE                  5.49  \n",
       "3               NaN        SMALL                  0.99  \n",
       "4               NaN        SMALL                  0.99  \n",
       "...             ...          ...                   ...  \n",
       "19995           NaN       MEDIUM                  0.99  \n",
       "19996           NaN       MEDIUM                  0.99  \n",
       "19997           NaN       MEDIUM                  0.99  \n",
       "19998           NaN       MEDIUM                  0.99  \n",
       "19999           NaN        LARGE                  5.49  \n",
       "\n",
       "[20000 rows x 8 columns]"
      ]
     },
     "execution_count": 33,
     "metadata": {},
     "output_type": "execute_result"
    }
   ],
   "source": [
    "revenue_sent"
   ]
  },
  {
   "cell_type": "code",
   "execution_count": 34,
   "metadata": {},
   "outputs": [
    {
     "name": "stdout",
     "output_type": "stream",
     "text": [
      "<class 'pandas.core.frame.DataFrame'>\n",
      "RangeIndex: 20000 entries, 0 to 19999\n",
      "Data columns (total 16 columns):\n",
      " #   Column                      Non-Null Count  Dtype  \n",
      "---  ------                      --------------  -----  \n",
      " 0   transaction_date            20000 non-null  object \n",
      " 1   package_quantity            20000 non-null  int64  \n",
      " 2   country                     20000 non-null  object \n",
      " 3   invoice_number              0 non-null      float64\n",
      " 4   charge_classification_code  0 non-null      float64\n",
      " 5   currency                    20000 non-null  object \n",
      " 6   billed_weight               20000 non-null  float64\n",
      " 7   tracking_number             20000 non-null  int64  \n",
      " 8   charge_description          20000 non-null  object \n",
      " 9   from_country                20000 non-null  object \n",
      " 10  entered_weight              20000 non-null  float64\n",
      " 11  to_country                  20000 non-null  object \n",
      " 12  extra_costs                 20000 non-null  bool   \n",
      " 13  amount                      20000 non-null  float64\n",
      " 14  transaction_id              0 non-null      float64\n",
      " 15  package_size_code           20000 non-null  object \n",
      "dtypes: bool(1), float64(6), int64(2), object(7)\n",
      "memory usage: 2.3+ MB\n"
     ]
    }
   ],
   "source": [
    "invoice_sent.info()"
   ]
  },
  {
   "cell_type": "code",
   "execution_count": 35,
   "metadata": {},
   "outputs": [
    {
     "name": "stdout",
     "output_type": "stream",
     "text": [
      "<class 'pandas.core.frame.DataFrame'>\n",
      "RangeIndex: 20000 entries, 0 to 19999\n",
      "Data columns (total 8 columns):\n",
      " #   Column                Non-Null Count  Dtype  \n",
      "---  ------                --------------  -----  \n",
      " 0   tracking_number       20000 non-null  int64  \n",
      " 1   transaction_id        0 non-null      float64\n",
      " 2   gmv                   20000 non-null  float64\n",
      " 3   local_date            20000 non-null  object \n",
      " 4   refunded_at           372 non-null    object \n",
      " 5   refund_reason         372 non-null    object \n",
      " 6   package_size          20000 non-null  object \n",
      " 7   buyer_shipment_price  20000 non-null  float64\n",
      "dtypes: float64(3), int64(1), object(4)\n",
      "memory usage: 1.2+ MB\n"
     ]
    }
   ],
   "source": [
    "revenue_sent.info()"
   ]
  },
  {
   "cell_type": "code",
   "execution_count": 40,
   "metadata": {},
   "outputs": [
    {
     "name": "stdout",
     "output_type": "stream",
     "text": [
      "(20000, 16)\n",
      "(20000, 8)\n"
     ]
    }
   ],
   "source": [
    "print(invoice_sent.shape)\n",
    "print(revenue_sent.shape)"
   ]
  },
  {
   "cell_type": "code",
   "execution_count": null,
   "metadata": {},
   "outputs": [],
   "source": [
    "# Finding the number of null values in the dataset"
   ]
  },
  {
   "cell_type": "code",
   "execution_count": 42,
   "metadata": {},
   "outputs": [
    {
     "data": {
      "text/plain": [
       "transaction_date                  0\n",
       "package_quantity                  0\n",
       "country                           0\n",
       "invoice_number                20000\n",
       "charge_classification_code    20000\n",
       "currency                          0\n",
       "billed_weight                     0\n",
       "tracking_number                   0\n",
       "charge_description                0\n",
       "from_country                      0\n",
       "entered_weight                    0\n",
       "to_country                        0\n",
       "extra_costs                       0\n",
       "amount                            0\n",
       "transaction_id                20000\n",
       "package_size_code                 0\n",
       "dtype: int64"
      ]
     },
     "execution_count": 42,
     "metadata": {},
     "output_type": "execute_result"
    }
   ],
   "source": [
    "invoice_sent.isnull().sum()"
   ]
  },
  {
   "cell_type": "code",
   "execution_count": 43,
   "metadata": {},
   "outputs": [
    {
     "data": {
      "text/plain": [
       "tracking_number             0\n",
       "transaction_id          20000\n",
       "gmv                         0\n",
       "local_date                  0\n",
       "refunded_at             19628\n",
       "refund_reason           19628\n",
       "package_size                0\n",
       "buyer_shipment_price        0\n",
       "dtype: int64"
      ]
     },
     "execution_count": 43,
     "metadata": {},
     "output_type": "execute_result"
    }
   ],
   "source": [
    "revenue_sent.isnull().sum()"
   ]
  },
  {
   "cell_type": "code",
   "execution_count": null,
   "metadata": {},
   "outputs": [],
   "source": [
    "## 1)\tComment on accuracy or completeness of data\n",
    "\n",
    "# Completeness of data.\n",
    "# By using Python and its commands (pandas, info(), shape, isnull()), I was able to have a closer look to the dataset. The 'Invoice_sent' sheet consists of 20000\n",
    "# rows and 16 columns, whereas the 'Revenue_sent' sheet consists of the same number of rows and 8 columns. 'Invoice_sent' consists of thirteen out of sixteen columns with 100% filled values (no N/As) (20000/20000)\n",
    "# with no information missing, and three out of sixteen columns that are completely not-applicable (0/2000). Hence, we are not provided with the information about invoice_number, charge_classification_code\n",
    "# and transaction_id. Likewise, the dataset 'Revenue_sent' has 5/8 fully completed columns, no values about the transaction_id and 19628/20000 filled values about the\n",
    "# refunded_at and refund_reason. It appears that there is a perfect relationship between those two values,\n",
    "# as if there was no available information about the date the item was refunded, the reason of an item being refunded is unknown as well. "
   ]
  },
  {
   "cell_type": "code",
   "execution_count": 44,
   "metadata": {},
   "outputs": [],
   "source": [
    "revenue_sent['VAT_excluded'] = revenue_sent['buyer_shipment_price'] - (revenue_sent['buyer_shipment_price'] * 0.22)\n",
    "# Created a new column VAT_excluded that shows the shipping price charged to the buyer excluding VAT at 22% rate."
   ]
  },
  {
   "cell_type": "code",
   "execution_count": 45,
   "metadata": {},
   "outputs": [
    {
     "data": {
      "text/html": [
       "<div>\n",
       "<style scoped>\n",
       "    .dataframe tbody tr th:only-of-type {\n",
       "        vertical-align: middle;\n",
       "    }\n",
       "\n",
       "    .dataframe tbody tr th {\n",
       "        vertical-align: top;\n",
       "    }\n",
       "\n",
       "    .dataframe thead th {\n",
       "        text-align: right;\n",
       "    }\n",
       "</style>\n",
       "<table border=\"1\" class=\"dataframe\">\n",
       "  <thead>\n",
       "    <tr style=\"text-align: right;\">\n",
       "      <th></th>\n",
       "      <th>tracking_number</th>\n",
       "      <th>transaction_id</th>\n",
       "      <th>gmv</th>\n",
       "      <th>local_date</th>\n",
       "      <th>refunded_at</th>\n",
       "      <th>refund_reason</th>\n",
       "      <th>package_size</th>\n",
       "      <th>buyer_shipment_price</th>\n",
       "      <th>VAT_excluded</th>\n",
       "    </tr>\n",
       "  </thead>\n",
       "  <tbody>\n",
       "    <tr>\n",
       "      <th>0</th>\n",
       "      <td>1078440000106</td>\n",
       "      <td>NaN</td>\n",
       "      <td>12.5</td>\n",
       "      <td>2021-02-02</td>\n",
       "      <td>NaN</td>\n",
       "      <td>NaN</td>\n",
       "      <td>SMALL</td>\n",
       "      <td>0.99</td>\n",
       "      <td>0.7722</td>\n",
       "    </tr>\n",
       "    <tr>\n",
       "      <th>1</th>\n",
       "      <td>1078440000225</td>\n",
       "      <td>NaN</td>\n",
       "      <td>10.5</td>\n",
       "      <td>2021-02-22</td>\n",
       "      <td>NaN</td>\n",
       "      <td>NaN</td>\n",
       "      <td>SMALL</td>\n",
       "      <td>0.99</td>\n",
       "      <td>0.7722</td>\n",
       "    </tr>\n",
       "    <tr>\n",
       "      <th>2</th>\n",
       "      <td>1078440000284</td>\n",
       "      <td>NaN</td>\n",
       "      <td>45.5</td>\n",
       "      <td>2021-02-25</td>\n",
       "      <td>NaN</td>\n",
       "      <td>NaN</td>\n",
       "      <td>LARGE</td>\n",
       "      <td>5.49</td>\n",
       "      <td>4.2822</td>\n",
       "    </tr>\n",
       "    <tr>\n",
       "      <th>3</th>\n",
       "      <td>1078440000314</td>\n",
       "      <td>NaN</td>\n",
       "      <td>30.5</td>\n",
       "      <td>2021-02-12</td>\n",
       "      <td>NaN</td>\n",
       "      <td>NaN</td>\n",
       "      <td>SMALL</td>\n",
       "      <td>0.99</td>\n",
       "      <td>0.7722</td>\n",
       "    </tr>\n",
       "    <tr>\n",
       "      <th>4</th>\n",
       "      <td>1078440000400</td>\n",
       "      <td>NaN</td>\n",
       "      <td>12.5</td>\n",
       "      <td>2021-02-26</td>\n",
       "      <td>NaN</td>\n",
       "      <td>NaN</td>\n",
       "      <td>SMALL</td>\n",
       "      <td>0.99</td>\n",
       "      <td>0.7722</td>\n",
       "    </tr>\n",
       "    <tr>\n",
       "      <th>...</th>\n",
       "      <td>...</td>\n",
       "      <td>...</td>\n",
       "      <td>...</td>\n",
       "      <td>...</td>\n",
       "      <td>...</td>\n",
       "      <td>...</td>\n",
       "      <td>...</td>\n",
       "      <td>...</td>\n",
       "      <td>...</td>\n",
       "    </tr>\n",
       "    <tr>\n",
       "      <th>19995</th>\n",
       "      <td>1078443168103</td>\n",
       "      <td>NaN</td>\n",
       "      <td>10.5</td>\n",
       "      <td>2021-01-22</td>\n",
       "      <td>NaN</td>\n",
       "      <td>NaN</td>\n",
       "      <td>MEDIUM</td>\n",
       "      <td>0.99</td>\n",
       "      <td>0.7722</td>\n",
       "    </tr>\n",
       "    <tr>\n",
       "      <th>19996</th>\n",
       "      <td>1078443168222</td>\n",
       "      <td>NaN</td>\n",
       "      <td>10.5</td>\n",
       "      <td>2021-02-05</td>\n",
       "      <td>NaN</td>\n",
       "      <td>NaN</td>\n",
       "      <td>MEDIUM</td>\n",
       "      <td>0.99</td>\n",
       "      <td>0.7722</td>\n",
       "    </tr>\n",
       "    <tr>\n",
       "      <th>19997</th>\n",
       "      <td>1078443168222</td>\n",
       "      <td>NaN</td>\n",
       "      <td>10.5</td>\n",
       "      <td>2021-02-05</td>\n",
       "      <td>NaN</td>\n",
       "      <td>NaN</td>\n",
       "      <td>MEDIUM</td>\n",
       "      <td>0.99</td>\n",
       "      <td>0.7722</td>\n",
       "    </tr>\n",
       "    <tr>\n",
       "      <th>19998</th>\n",
       "      <td>1078443168367</td>\n",
       "      <td>NaN</td>\n",
       "      <td>25.5</td>\n",
       "      <td>2021-02-16</td>\n",
       "      <td>NaN</td>\n",
       "      <td>NaN</td>\n",
       "      <td>MEDIUM</td>\n",
       "      <td>0.99</td>\n",
       "      <td>0.7722</td>\n",
       "    </tr>\n",
       "    <tr>\n",
       "      <th>19999</th>\n",
       "      <td>1078443168486</td>\n",
       "      <td>NaN</td>\n",
       "      <td>75.5</td>\n",
       "      <td>2021-02-19</td>\n",
       "      <td>NaN</td>\n",
       "      <td>NaN</td>\n",
       "      <td>LARGE</td>\n",
       "      <td>5.49</td>\n",
       "      <td>4.2822</td>\n",
       "    </tr>\n",
       "  </tbody>\n",
       "</table>\n",
       "<p>20000 rows × 9 columns</p>\n",
       "</div>"
      ],
      "text/plain": [
       "       tracking_number  transaction_id   gmv  local_date refunded_at  \\\n",
       "0        1078440000106             NaN  12.5  2021-02-02         NaN   \n",
       "1        1078440000225             NaN  10.5  2021-02-22         NaN   \n",
       "2        1078440000284             NaN  45.5  2021-02-25         NaN   \n",
       "3        1078440000314             NaN  30.5  2021-02-12         NaN   \n",
       "4        1078440000400             NaN  12.5  2021-02-26         NaN   \n",
       "...                ...             ...   ...         ...         ...   \n",
       "19995    1078443168103             NaN  10.5  2021-01-22         NaN   \n",
       "19996    1078443168222             NaN  10.5  2021-02-05         NaN   \n",
       "19997    1078443168222             NaN  10.5  2021-02-05         NaN   \n",
       "19998    1078443168367             NaN  25.5  2021-02-16         NaN   \n",
       "19999    1078443168486             NaN  75.5  2021-02-19         NaN   \n",
       "\n",
       "      refund_reason package_size  buyer_shipment_price  VAT_excluded  \n",
       "0               NaN        SMALL                  0.99        0.7722  \n",
       "1               NaN        SMALL                  0.99        0.7722  \n",
       "2               NaN        LARGE                  5.49        4.2822  \n",
       "3               NaN        SMALL                  0.99        0.7722  \n",
       "4               NaN        SMALL                  0.99        0.7722  \n",
       "...             ...          ...                   ...           ...  \n",
       "19995           NaN       MEDIUM                  0.99        0.7722  \n",
       "19996           NaN       MEDIUM                  0.99        0.7722  \n",
       "19997           NaN       MEDIUM                  0.99        0.7722  \n",
       "19998           NaN       MEDIUM                  0.99        0.7722  \n",
       "19999           NaN        LARGE                  5.49        4.2822  \n",
       "\n",
       "[20000 rows x 9 columns]"
      ]
     },
     "execution_count": 45,
     "metadata": {},
     "output_type": "execute_result"
    }
   ],
   "source": [
    "revenue_sent"
   ]
  },
  {
   "cell_type": "code",
   "execution_count": 49,
   "metadata": {},
   "outputs": [
    {
     "data": {
      "text/html": [
       "<div>\n",
       "<style scoped>\n",
       "    .dataframe tbody tr th:only-of-type {\n",
       "        vertical-align: middle;\n",
       "    }\n",
       "\n",
       "    .dataframe tbody tr th {\n",
       "        vertical-align: top;\n",
       "    }\n",
       "\n",
       "    .dataframe thead th {\n",
       "        text-align: right;\n",
       "    }\n",
       "</style>\n",
       "<table border=\"1\" class=\"dataframe\">\n",
       "  <thead>\n",
       "    <tr style=\"text-align: right;\">\n",
       "      <th></th>\n",
       "      <th>transaction_date</th>\n",
       "      <th>package_quantity</th>\n",
       "      <th>country</th>\n",
       "      <th>invoice_number</th>\n",
       "      <th>charge_classification_code</th>\n",
       "      <th>currency</th>\n",
       "      <th>billed_weight</th>\n",
       "      <th>tracking_number</th>\n",
       "      <th>charge_description</th>\n",
       "      <th>from_country</th>\n",
       "      <th>entered_weight</th>\n",
       "      <th>to_country</th>\n",
       "      <th>extra_costs</th>\n",
       "      <th>amount</th>\n",
       "      <th>transaction_id</th>\n",
       "      <th>package_size_code</th>\n",
       "    </tr>\n",
       "  </thead>\n",
       "  <tbody>\n",
       "    <tr>\n",
       "      <th>0</th>\n",
       "      <td>2021-02-03</td>\n",
       "      <td>1</td>\n",
       "      <td>IT</td>\n",
       "      <td>NaN</td>\n",
       "      <td>NaN</td>\n",
       "      <td>EUR</td>\n",
       "      <td>0.5</td>\n",
       "      <td>1078440000106</td>\n",
       "      <td>TB Standard</td>\n",
       "      <td>IT</td>\n",
       "      <td>0.5</td>\n",
       "      <td>FR</td>\n",
       "      <td>False</td>\n",
       "      <td>3.69</td>\n",
       "      <td>NaN</td>\n",
       "      <td>SMALL</td>\n",
       "    </tr>\n",
       "    <tr>\n",
       "      <th>1</th>\n",
       "      <td>2021-02-23</td>\n",
       "      <td>1</td>\n",
       "      <td>IT</td>\n",
       "      <td>NaN</td>\n",
       "      <td>NaN</td>\n",
       "      <td>EUR</td>\n",
       "      <td>2.0</td>\n",
       "      <td>1078440000225</td>\n",
       "      <td>TB Standard</td>\n",
       "      <td>IT</td>\n",
       "      <td>0.5</td>\n",
       "      <td>FR</td>\n",
       "      <td>False</td>\n",
       "      <td>4.47</td>\n",
       "      <td>NaN</td>\n",
       "      <td>SMALL</td>\n",
       "    </tr>\n",
       "    <tr>\n",
       "      <th>2</th>\n",
       "      <td>2021-03-03</td>\n",
       "      <td>1</td>\n",
       "      <td>IT</td>\n",
       "      <td>NaN</td>\n",
       "      <td>NaN</td>\n",
       "      <td>EUR</td>\n",
       "      <td>6.5</td>\n",
       "      <td>1078440000284</td>\n",
       "      <td>TB Standard</td>\n",
       "      <td>IT</td>\n",
       "      <td>2.0</td>\n",
       "      <td>FR</td>\n",
       "      <td>False</td>\n",
       "      <td>6.99</td>\n",
       "      <td>NaN</td>\n",
       "      <td>LARGE</td>\n",
       "    </tr>\n",
       "    <tr>\n",
       "      <th>3</th>\n",
       "      <td>2021-02-15</td>\n",
       "      <td>1</td>\n",
       "      <td>IT</td>\n",
       "      <td>NaN</td>\n",
       "      <td>NaN</td>\n",
       "      <td>EUR</td>\n",
       "      <td>0.5</td>\n",
       "      <td>1078440000314</td>\n",
       "      <td>TB Standard</td>\n",
       "      <td>IT</td>\n",
       "      <td>0.5</td>\n",
       "      <td>FR</td>\n",
       "      <td>False</td>\n",
       "      <td>3.69</td>\n",
       "      <td>NaN</td>\n",
       "      <td>SMALL</td>\n",
       "    </tr>\n",
       "    <tr>\n",
       "      <th>4</th>\n",
       "      <td>2021-03-01</td>\n",
       "      <td>1</td>\n",
       "      <td>IT</td>\n",
       "      <td>NaN</td>\n",
       "      <td>NaN</td>\n",
       "      <td>EUR</td>\n",
       "      <td>0.5</td>\n",
       "      <td>1078440000400</td>\n",
       "      <td>TB Standard</td>\n",
       "      <td>IT</td>\n",
       "      <td>0.5</td>\n",
       "      <td>FR</td>\n",
       "      <td>False</td>\n",
       "      <td>3.69</td>\n",
       "      <td>NaN</td>\n",
       "      <td>SMALL</td>\n",
       "    </tr>\n",
       "    <tr>\n",
       "      <th>...</th>\n",
       "      <td>...</td>\n",
       "      <td>...</td>\n",
       "      <td>...</td>\n",
       "      <td>...</td>\n",
       "      <td>...</td>\n",
       "      <td>...</td>\n",
       "      <td>...</td>\n",
       "      <td>...</td>\n",
       "      <td>...</td>\n",
       "      <td>...</td>\n",
       "      <td>...</td>\n",
       "      <td>...</td>\n",
       "      <td>...</td>\n",
       "      <td>...</td>\n",
       "      <td>...</td>\n",
       "      <td>...</td>\n",
       "    </tr>\n",
       "    <tr>\n",
       "      <th>19995</th>\n",
       "      <td>2021-01-25</td>\n",
       "      <td>1</td>\n",
       "      <td>IT</td>\n",
       "      <td>NaN</td>\n",
       "      <td>NaN</td>\n",
       "      <td>EUR</td>\n",
       "      <td>1.0</td>\n",
       "      <td>1078443168103</td>\n",
       "      <td>Dom. Standard</td>\n",
       "      <td>IT</td>\n",
       "      <td>1.0</td>\n",
       "      <td>IT</td>\n",
       "      <td>False</td>\n",
       "      <td>3.61</td>\n",
       "      <td>NaN</td>\n",
       "      <td>MEDIUM</td>\n",
       "    </tr>\n",
       "    <tr>\n",
       "      <th>19996</th>\n",
       "      <td>2021-02-11</td>\n",
       "      <td>1</td>\n",
       "      <td>IT</td>\n",
       "      <td>NaN</td>\n",
       "      <td>NaN</td>\n",
       "      <td>EUR</td>\n",
       "      <td>3.5</td>\n",
       "      <td>1078443168222</td>\n",
       "      <td>TB Standard</td>\n",
       "      <td>IT</td>\n",
       "      <td>1.0</td>\n",
       "      <td>FR</td>\n",
       "      <td>False</td>\n",
       "      <td>5.82</td>\n",
       "      <td>NaN</td>\n",
       "      <td>MEDIUM</td>\n",
       "    </tr>\n",
       "    <tr>\n",
       "      <th>19997</th>\n",
       "      <td>2021-02-11</td>\n",
       "      <td>0</td>\n",
       "      <td>IT</td>\n",
       "      <td>NaN</td>\n",
       "      <td>NaN</td>\n",
       "      <td>EUR</td>\n",
       "      <td>0.0</td>\n",
       "      <td>1078443168222</td>\n",
       "      <td>Extended Area P/U Surcharge-Origin</td>\n",
       "      <td>IT</td>\n",
       "      <td>0.0</td>\n",
       "      <td>FR</td>\n",
       "      <td>True</td>\n",
       "      <td>5.66</td>\n",
       "      <td>NaN</td>\n",
       "      <td>MEDIUM</td>\n",
       "    </tr>\n",
       "    <tr>\n",
       "      <th>19998</th>\n",
       "      <td>2021-02-16</td>\n",
       "      <td>1</td>\n",
       "      <td>IT</td>\n",
       "      <td>NaN</td>\n",
       "      <td>NaN</td>\n",
       "      <td>EUR</td>\n",
       "      <td>2.0</td>\n",
       "      <td>1078443168367</td>\n",
       "      <td>TB Standard</td>\n",
       "      <td>IT</td>\n",
       "      <td>1.0</td>\n",
       "      <td>FR</td>\n",
       "      <td>False</td>\n",
       "      <td>4.47</td>\n",
       "      <td>NaN</td>\n",
       "      <td>MEDIUM</td>\n",
       "    </tr>\n",
       "    <tr>\n",
       "      <th>19999</th>\n",
       "      <td>2021-02-25</td>\n",
       "      <td>1</td>\n",
       "      <td>IT</td>\n",
       "      <td>NaN</td>\n",
       "      <td>NaN</td>\n",
       "      <td>EUR</td>\n",
       "      <td>4.0</td>\n",
       "      <td>1078443168486</td>\n",
       "      <td>TB Standard</td>\n",
       "      <td>IT</td>\n",
       "      <td>2.0</td>\n",
       "      <td>FR</td>\n",
       "      <td>False</td>\n",
       "      <td>5.19</td>\n",
       "      <td>NaN</td>\n",
       "      <td>LARGE</td>\n",
       "    </tr>\n",
       "  </tbody>\n",
       "</table>\n",
       "<p>20000 rows × 16 columns</p>\n",
       "</div>"
      ],
      "text/plain": [
       "      transaction_date  package_quantity country  invoice_number  \\\n",
       "0           2021-02-03                 1      IT             NaN   \n",
       "1           2021-02-23                 1      IT             NaN   \n",
       "2           2021-03-03                 1      IT             NaN   \n",
       "3           2021-02-15                 1      IT             NaN   \n",
       "4           2021-03-01                 1      IT             NaN   \n",
       "...                ...               ...     ...             ...   \n",
       "19995       2021-01-25                 1      IT             NaN   \n",
       "19996       2021-02-11                 1      IT             NaN   \n",
       "19997       2021-02-11                 0      IT             NaN   \n",
       "19998       2021-02-16                 1      IT             NaN   \n",
       "19999       2021-02-25                 1      IT             NaN   \n",
       "\n",
       "       charge_classification_code currency  billed_weight  tracking_number  \\\n",
       "0                             NaN      EUR            0.5    1078440000106   \n",
       "1                             NaN      EUR            2.0    1078440000225   \n",
       "2                             NaN      EUR            6.5    1078440000284   \n",
       "3                             NaN      EUR            0.5    1078440000314   \n",
       "4                             NaN      EUR            0.5    1078440000400   \n",
       "...                           ...      ...            ...              ...   \n",
       "19995                         NaN      EUR            1.0    1078443168103   \n",
       "19996                         NaN      EUR            3.5    1078443168222   \n",
       "19997                         NaN      EUR            0.0    1078443168222   \n",
       "19998                         NaN      EUR            2.0    1078443168367   \n",
       "19999                         NaN      EUR            4.0    1078443168486   \n",
       "\n",
       "                       charge_description from_country  entered_weight  \\\n",
       "0                             TB Standard           IT             0.5   \n",
       "1                             TB Standard           IT             0.5   \n",
       "2                             TB Standard           IT             2.0   \n",
       "3                             TB Standard           IT             0.5   \n",
       "4                             TB Standard           IT             0.5   \n",
       "...                                   ...          ...             ...   \n",
       "19995                       Dom. Standard           IT             1.0   \n",
       "19996                         TB Standard           IT             1.0   \n",
       "19997  Extended Area P/U Surcharge-Origin           IT             0.0   \n",
       "19998                         TB Standard           IT             1.0   \n",
       "19999                         TB Standard           IT             2.0   \n",
       "\n",
       "      to_country  extra_costs  amount  transaction_id package_size_code  \n",
       "0             FR        False    3.69             NaN             SMALL  \n",
       "1             FR        False    4.47             NaN             SMALL  \n",
       "2             FR        False    6.99             NaN             LARGE  \n",
       "3             FR        False    3.69             NaN             SMALL  \n",
       "4             FR        False    3.69             NaN             SMALL  \n",
       "...          ...          ...     ...             ...               ...  \n",
       "19995         IT        False    3.61             NaN            MEDIUM  \n",
       "19996         FR        False    5.82             NaN            MEDIUM  \n",
       "19997         FR         True    5.66             NaN            MEDIUM  \n",
       "19998         FR        False    4.47             NaN            MEDIUM  \n",
       "19999         FR        False    5.19             NaN             LARGE  \n",
       "\n",
       "[20000 rows x 16 columns]"
      ]
     },
     "execution_count": 49,
     "metadata": {},
     "output_type": "execute_result"
    }
   ],
   "source": [
    "invoice_sent"
   ]
  },
  {
   "cell_type": "code",
   "execution_count": 46,
   "metadata": {},
   "outputs": [],
   "source": [
    "invoice_sent.to_excel('invoicesent.xlsx')"
   ]
  },
  {
   "cell_type": "code",
   "execution_count": 48,
   "metadata": {},
   "outputs": [],
   "source": [
    "revenue_sent.to_excel('revenuesent.xlsx')"
   ]
  },
  {
   "cell_type": "markdown",
   "metadata": {},
   "source": [
    "## 4) Calculate revenue, cost and gross profit per package size"
   ]
  },
  {
   "cell_type": "markdown",
   "metadata": {},
   "source": [
    "### Revenue"
   ]
  },
  {
   "cell_type": "code",
   "execution_count": 78,
   "metadata": {},
   "outputs": [
    {
     "data": {
      "text/plain": [
       "array(['SMALL', 'LARGE', 'MEDIUM', 'HEAVY_LARGE', 'HEAVY_SMALL',\n",
       "       'HEAVY_MEDIUM'], dtype=object)"
      ]
     },
     "execution_count": 78,
     "metadata": {},
     "output_type": "execute_result"
    }
   ],
   "source": [
    "revenue_sent['package_size'].unique()"
   ]
  },
  {
   "cell_type": "code",
   "execution_count": 316,
   "metadata": {},
   "outputs": [
    {
     "data": {
      "text/plain": [
       "MEDIUM          8816\n",
       "SMALL           8597\n",
       "LARGE           2473\n",
       "HEAVY_SMALL       96\n",
       "HEAVY_LARGE       10\n",
       "HEAVY_MEDIUM       8\n",
       "Name: package_size, dtype: int64"
      ]
     },
     "execution_count": 316,
     "metadata": {},
     "output_type": "execute_result"
    }
   ],
   "source": [
    "revenue_sent['package_size'].value_counts()"
   ]
  },
  {
   "cell_type": "code",
   "execution_count": null,
   "metadata": {},
   "outputs": [],
   "source": []
  },
  {
   "cell_type": "code",
   "execution_count": null,
   "metadata": {},
   "outputs": [],
   "source": [
    "# 8597 small items, 8816 medium items, 2473 large items, 10 heavy large items, 96 heavy small items, 8 heavy medium items."
   ]
  },
  {
   "cell_type": "code",
   "execution_count": 323,
   "metadata": {},
   "outputs": [
    {
     "name": "stdout",
     "output_type": "stream",
     "text": [
      "7508.513999999999\n",
      "7879.5365999999985\n",
      "10184.865600000001\n",
      "489.40319999999997\n",
      "54.8496\n",
      "99.7776\n"
     ]
    }
   ],
   "source": [
    "# Revenue per category\n",
    "print(revenue_sent_small['VAT_excluded'].mean() * 8597) \n",
    "print(revenue_sent_medium['VAT_excluded'].mean() * 8816) \n",
    "print(revenue_sent_large['VAT_excluded'].mean() * 2473) \n",
    "print(revenue_sent_heavy_small['VAT_excluded'].mean() * 96) \n",
    "print(revenue_sent_heavy_medium['VAT_excluded'].mean() * 8) \n",
    "print(revenue_sent_heavy_large['VAT_excluded'].mean() * 10)\n"
   ]
  },
  {
   "cell_type": "markdown",
   "metadata": {},
   "source": [
    "### Cost"
   ]
  },
  {
   "cell_type": "code",
   "execution_count": 115,
   "metadata": {},
   "outputs": [],
   "source": [
    "invoice_sent_small = invoice_sent[invoice_sent['package_size_code'] == 'SMALL']"
   ]
  },
  {
   "cell_type": "code",
   "execution_count": 116,
   "metadata": {},
   "outputs": [],
   "source": [
    "invoice_sent_medium = invoice_sent[invoice_sent['package_size_code'] == 'MEDIUM']"
   ]
  },
  {
   "cell_type": "code",
   "execution_count": 117,
   "metadata": {},
   "outputs": [],
   "source": [
    "invoice_sent_large = invoice_sent[invoice_sent['package_size_code'] == 'LARGE']"
   ]
  },
  {
   "cell_type": "code",
   "execution_count": 118,
   "metadata": {},
   "outputs": [],
   "source": [
    "invoice_sent_heavy_small = invoice_sent[invoice_sent['package_size_code'] == 'HEAVY_SMALL']"
   ]
  },
  {
   "cell_type": "code",
   "execution_count": 119,
   "metadata": {},
   "outputs": [],
   "source": [
    "invoice_sent_heavy_medium = invoice_sent[invoice_sent['package_size_code'] == 'HEAVY_MEDIUM']"
   ]
  },
  {
   "cell_type": "code",
   "execution_count": 120,
   "metadata": {},
   "outputs": [],
   "source": [
    "invoice_sent_heavy_large = invoice_sent[invoice_sent['package_size_code'] == 'HEAVY_LARGE']"
   ]
  },
  {
   "cell_type": "code",
   "execution_count": 186,
   "metadata": {},
   "outputs": [
    {
     "name": "stdout",
     "output_type": "stream",
     "text": [
      "5.0510505\n",
      "4.770726997789926\n",
      "5.045323275862069\n",
      "5.894395471087748\n",
      "7.911145833333333\n",
      "7.86125\n",
      "12.829999999999998\n"
     ]
    }
   ],
   "source": [
    "# average amount the carrier is charging Vinted / VAT excluded per package\n",
    "print(invoice_sent['amount'].mean())\n",
    "print(invoice_sent_small['amount'].mean())\n",
    "print(invoice_sent_medium['amount'].mean())\n",
    "print(invoice_sent_large['amount'].mean())\n",
    "print(invoice_sent_heavy_small['amount'].mean())\n",
    "print(invoice_sent_heavy_medium['amount'].mean())\n",
    "print(invoice_sent_heavy_large['amount'].mean())\n"
   ]
  },
  {
   "cell_type": "code",
   "execution_count": 279,
   "metadata": {},
   "outputs": [
    {
     "name": "stdout",
     "output_type": "stream",
     "text": [
      "41013.939999999995\n",
      "44479.57\n",
      "14576.84\n",
      "759.47\n",
      "62.89\n",
      "128.29999999999998\n"
     ]
    }
   ],
   "source": [
    "print(invoice_sent_small['amount'].sum())\n",
    "print(invoice_sent_medium['amount'].sum())\n",
    "print(invoice_sent_large['amount'].sum())\n",
    "print(invoice_sent_heavy_small['amount'].sum())\n",
    "print(invoice_sent_heavy_medium['amount'].sum())\n",
    "print(invoice_sent_heavy_large['amount'].sum())"
   ]
  },
  {
   "cell_type": "code",
   "execution_count": null,
   "metadata": {},
   "outputs": [],
   "source": []
  },
  {
   "cell_type": "code",
   "execution_count": null,
   "metadata": {},
   "outputs": [],
   "source": []
  },
  {
   "cell_type": "code",
   "execution_count": 229,
   "metadata": {},
   "outputs": [
    {
     "name": "stdout",
     "output_type": "stream",
     "text": [
      "101021.01\n"
     ]
    }
   ],
   "source": [
    "print(invoice_sent['amount'].sum())"
   ]
  },
  {
   "cell_type": "code",
   "execution_count": 126,
   "metadata": {},
   "outputs": [],
   "source": [
    "revenue_sent['item_price'] = revenue_sent['gmv'] - revenue_sent['VAT_excluded']"
   ]
  },
  {
   "cell_type": "code",
   "execution_count": 130,
   "metadata": {},
   "outputs": [],
   "source": [
    "naujas = pandas.read_excel('bendras.xlsx')"
   ]
  },
  {
   "cell_type": "code",
   "execution_count": 137,
   "metadata": {},
   "outputs": [],
   "source": [
    "naujas['cost'] = naujas['amount'] - naujas['VAT_excluded']"
   ]
  },
  {
   "cell_type": "code",
   "execution_count": 143,
   "metadata": {},
   "outputs": [],
   "source": [
    "cost_small = naujas[naujas['package_size'] == 'SMALL']\n",
    "cost_medium = naujas[naujas['package_size'] == 'MEDIUM']\n",
    "cost_large = naujas[naujas['package_size'] == 'LARGE']\n",
    "cost_heavy_small = naujas[naujas['package_size'] == 'HEAVY_SMALL']\n",
    "cost_heavy_medium = naujas[naujas['package_size'] == 'HEAVY_MEDIUM']\n",
    "cost_heavy_large = naujas[naujas['package_size'] == 'HEAVY_LARGE']"
   ]
  },
  {
   "cell_type": "code",
   "execution_count": 190,
   "metadata": {},
   "outputs": [],
   "source": [
    "# Average cost per package size "
   ]
  },
  {
   "cell_type": "code",
   "execution_count": 144,
   "metadata": {},
   "outputs": [
    {
     "name": "stdout",
     "output_type": "stream",
     "text": [
      "3.8973393044085145\n",
      "4.1515464382940115\n",
      "1.7759702385766276\n",
      "2.813195833333333\n",
      "1.0050499999999998\n",
      "2.8522399999999997\n"
     ]
    }
   ],
   "source": [
    "print(cost_small['cost'].mean())\n",
    "print(cost_medium['cost'].mean())\n",
    "print(cost_large['cost'].mean())\n",
    "print(cost_heavy_small['cost'].mean())\n",
    "print(cost_heavy_medium['cost'].mean())\n",
    "print(cost_heavy_large['cost'].mean())"
   ]
  },
  {
   "cell_type": "code",
   "execution_count": 195,
   "metadata": {},
   "outputs": [
    {
     "name": "stdout",
     "output_type": "stream",
     "text": [
      "74804.0634\n"
     ]
    }
   ],
   "source": [
    "print(naujas['cost'].sum())"
   ]
  },
  {
   "cell_type": "code",
   "execution_count": null,
   "metadata": {},
   "outputs": [],
   "source": [
    "# Total costs per package size"
   ]
  },
  {
   "cell_type": "code",
   "execution_count": 192,
   "metadata": {},
   "outputs": [
    {
     "name": "stdout",
     "output_type": "stream",
     "text": [
      "33505.426\n",
      "36600.03340000001\n",
      "4391.9744\n",
      "270.06679999999994\n",
      "8.040399999999998\n",
      "28.522399999999998\n"
     ]
    }
   ],
   "source": [
    "print(cost_small['cost'].sum())\n",
    "print(cost_medium['cost'].sum())\n",
    "print(cost_large['cost'].sum())\n",
    "print(cost_heavy_small['cost'].sum())\n",
    "print(cost_heavy_medium['cost'].sum())\n",
    "print(cost_heavy_large['cost'].sum())"
   ]
  },
  {
   "cell_type": "code",
   "execution_count": null,
   "metadata": {},
   "outputs": [],
   "source": [
    "naujas['profit'] = naujas[''] - naujas['VAT_excluded']"
   ]
  },
  {
   "cell_type": "code",
   "execution_count": 206,
   "metadata": {},
   "outputs": [
    {
     "name": "stdout",
     "output_type": "stream",
     "text": [
      "7508.513999999999\n",
      "7879.5365999999985\n",
      "10184.865600000001\n",
      "489.40319999999997\n",
      "54.8496\n",
      "99.77759999999999\n"
     ]
    }
   ],
   "source": [
    "print(revenue_sent_small['VAT_excluded'].sum()) #revenue of small packages (antras budas skaiciuoti)\n",
    "print(revenue_sent_medium['VAT_excluded'].sum())\n",
    "print(revenue_sent_large['VAT_excluded'].sum())\n",
    "print(revenue_sent_heavy_small['VAT_excluded'].sum())\n",
    "print(revenue_sent_heavy_medium['VAT_excluded'].sum())\n",
    "print(revenue_sent_heavy_large['VAT_excluded'].sum())"
   ]
  },
  {
   "cell_type": "markdown",
   "metadata": {},
   "source": [
    "#### GMV per package size"
   ]
  },
  {
   "cell_type": "code",
   "execution_count": 204,
   "metadata": {},
   "outputs": [
    {
     "name": "stdout",
     "output_type": "stream",
     "text": [
      "167691.99000000002\n",
      "222847.58\n",
      "117358.14\n",
      "5404.549999999999\n",
      "312.0\n",
      "515.0\n"
     ]
    }
   ],
   "source": [
    "print(cost_small['gmv'].sum())\n",
    "print(cost_medium['gmv'].sum())\n",
    "print(cost_large['gmv'].sum())\n",
    "print(cost_heavy_small['gmv'].sum())\n",
    "print(cost_heavy_medium['gmv'].sum())\n",
    "print(cost_heavy_large['gmv'].sum())"
   ]
  },
  {
   "cell_type": "markdown",
   "metadata": {},
   "source": [
    "### Profit"
   ]
  },
  {
   "cell_type": "code",
   "execution_count": 210,
   "metadata": {},
   "outputs": [],
   "source": [
    "naujas.to_excel('naujas.xlsx')"
   ]
  },
  {
   "cell_type": "code",
   "execution_count": 234,
   "metadata": {},
   "outputs": [],
   "source": [
    "naujas['pelnas'] = naujas['gmv'] - naujas['item_bought_price'] - naujas['cost']"
   ]
  },
  {
   "cell_type": "code",
   "execution_count": 237,
   "metadata": {},
   "outputs": [],
   "source": [
    "PELNAS_SMALL = naujas[naujas['package_size'] == 'SMALL']\n",
    "PELNAS_MEDIUM = naujas[naujas['package_size'] == 'MEDIUM']\n",
    "PELNAS_LARGE = naujas[naujas['package_size'] == 'LARGE']\n",
    "PELNAS_HEAVY_SMALL = naujas[naujas['package_size'] == 'HEAVY_SMALL']\n",
    "PELNAS_HEAVY_MEDIUM = naujas[naujas['package_size'] == 'HEAVY_MEDIUM']\n",
    "PELNAS_HEAVY_LARGE = naujas[naujas['package_size'] == 'HEAVY_LARGE']\n"
   ]
  },
  {
   "cell_type": "code",
   "execution_count": 239,
   "metadata": {},
   "outputs": [
    {
     "name": "stdout",
     "output_type": "stream",
     "text": [
      "-25996.912\n",
      "-28720.4968\n",
      "5792.891200000001\n",
      "219.33640000000008\n",
      "46.80920000000002\n",
      "71.25519999999999\n"
     ]
    }
   ],
   "source": [
    "print(PELNAS_SMALL['pelnas'].sum())\n",
    "print(PELNAS_MEDIUM['pelnas'].sum())\n",
    "print(PELNAS_LARGE['pelnas'].sum())\n",
    "print(PELNAS_HEAVY_SMALL['pelnas'].sum())\n",
    "print(PELNAS_HEAVY_MEDIUM['pelnas'].sum())\n",
    "print(PELNAS_HEAVY_LARGE['pelnas'].sum())\n"
   ]
  },
  {
   "cell_type": "code",
   "execution_count": 241,
   "metadata": {},
   "outputs": [
    {
     "data": {
      "text/plain": [
       "-48587.1168"
      ]
     },
     "execution_count": 241,
     "metadata": {},
     "output_type": "execute_result"
    }
   ],
   "source": [
    "naujas['pelnas'].sum()"
   ]
  },
  {
   "cell_type": "markdown",
   "metadata": {},
   "source": [
    "## Item price (GMV-VAT excluded)"
   ]
  },
  {
   "cell_type": "code",
   "execution_count": 230,
   "metadata": {},
   "outputs": [],
   "source": [
    "revenue_sent['item_bought_price'] = revenue_sent['gmv'] - revenue_sent['VAT_excluded']"
   ]
  },
  {
   "cell_type": "code",
   "execution_count": 295,
   "metadata": {},
   "outputs": [
    {
     "data": {
      "text/plain": [
       "24.395615669999998"
      ]
     },
     "execution_count": 295,
     "metadata": {},
     "output_type": "execute_result"
    }
   ],
   "source": [
    "naujas['item bought price'].mean()"
   ]
  },
  {
   "cell_type": "code",
   "execution_count": 296,
   "metadata": {},
   "outputs": [],
   "source": [
    "item_sold_price_small = naujas[naujas['package_size'] == 'SMALL']\n",
    "item_sold_price_medium = naujas[naujas['package_size'] == 'MEDIUM']\n",
    "item_sold_price_large = naujas[naujas['package_size'] == 'LARGE']\n",
    "item_sold_price_heavy_small = naujas[naujas['package_size'] == 'HEAVY_SMALL']\n",
    "item_sold_price_heavy_medium = naujas[naujas['package_size'] == 'HEAVY_MEDIUM']\n",
    "item_sold_price_heavy_large = naujas[naujas['package_size'] == 'HEAVY_LARGE']\n"
   ]
  },
  {
   "cell_type": "code",
   "execution_count": 313,
   "metadata": {},
   "outputs": [
    {
     "name": "stdout",
     "output_type": "stream",
     "text": [
      "160183.476\n",
      "214968.04340000002\n",
      "107173.27440000001\n",
      "4915.1467999999995\n",
      "257.1504\n",
      "415.22240000000005\n"
     ]
    }
   ],
   "source": [
    "print(item_sold_price_small['item_sold_price'].sum())\n",
    "print(item_sold_price_medium['item_sold_price'].sum())\n",
    "print(item_sold_price_large['item_sold_price'].sum())\n",
    "print(item_sold_price_heavy_small['item_sold_price'].sum())\n",
    "print(item_sold_price_heavy_medium['item_sold_price'].sum())\n",
    "print(item_sold_price_heavy_large['item_sold_price'].sum())"
   ]
  },
  {
   "cell_type": "code",
   "execution_count": 293,
   "metadata": {},
   "outputs": [
    {
     "name": "stdout",
     "output_type": "stream",
     "text": [
      "18.63248528556473\n",
      "24.383852472776773\n",
      "43.33735317428225\n",
      "51.19944583333333\n",
      "32.1438\n",
      "41.522240000000004\n"
     ]
    }
   ],
   "source": [
    "print(item_sold_price_small['item_sold_price'].mean()sum())\n",
    "print(item_sold_price_medium['item_sold_price'].mean())\n",
    "print(item_sold_price_large['item_sold_price'].mean())\n",
    "print(item_sold_price_heavy_small['item_sold_price'].mean())\n",
    "print(item_sold_price_heavy_medium['item_sold_price'].mean())\n",
    "print(item_sold_price_heavy_large['item_sold_price'].mean())"
   ]
  },
  {
   "cell_type": "code",
   "execution_count": 312,
   "metadata": {},
   "outputs": [
    {
     "name": "stdout",
     "output_type": "stream",
     "text": [
      "18.63248528556473\n"
     ]
    }
   ],
   "source": [
    "print(item_bought_price_small['item_bought_price'].mean())"
   ]
  },
  {
   "cell_type": "code",
   "execution_count": null,
   "metadata": {},
   "outputs": [],
   "source": []
  },
  {
   "cell_type": "code",
   "execution_count": null,
   "metadata": {},
   "outputs": [],
   "source": []
  },
  {
   "cell_type": "code",
   "execution_count": null,
   "metadata": {},
   "outputs": [],
   "source": []
  },
  {
   "cell_type": "code",
   "execution_count": null,
   "metadata": {},
   "outputs": [],
   "source": []
  },
  {
   "cell_type": "code",
   "execution_count": null,
   "metadata": {},
   "outputs": [],
   "source": [
    "print(item_bought_price)"
   ]
  },
  {
   "cell_type": "code",
   "execution_count": 256,
   "metadata": {},
   "outputs": [],
   "source": [
    "naujas['pelnas1'] = naujas['gmv'] - naujas['item_bought_price'] - naujas['amount']"
   ]
  },
  {
   "cell_type": "code",
   "execution_count": 258,
   "metadata": {},
   "outputs": [],
   "source": [
    "PELNAS_SMALL_1= naujas[naujas['package_size'] == 'SMALL']\n",
    "PELNAS_MEDIUM_1= naujas[naujas['package_size'] == 'MEDIUM']\n",
    "PELNAS_LARGE_1 = naujas[naujas['package_size'] == 'LARGE']\n",
    "PELNAS_HEAVY_SMALL_1 = naujas[naujas['package_size'] == 'HEAVY_SMALL']\n",
    "PELNAS_HEAVY_MEDIUM_1 = naujas[naujas['package_size'] == 'HEAVY_MEDIUM']\n",
    "PELNAS_HEAVY_LARGE_1 = naujas[naujas['package_size'] == 'HEAVY_LARGE']"
   ]
  },
  {
   "cell_type": "code",
   "execution_count": 259,
   "metadata": {},
   "outputs": [
    {
     "name": "stdout",
     "output_type": "stream",
     "text": [
      "-33505.426\n",
      "-36600.03340000001\n",
      "-4391.9744\n",
      "-270.06679999999994\n",
      "-8.040399999999991\n",
      "-28.52240000000001\n"
     ]
    }
   ],
   "source": [
    "print(PELNAS_SMALL_1['pelnas1'].sum())\n",
    "print(PELNAS_MEDIUM_1['pelnas1'].sum())\n",
    "print(PELNAS_LARGE_1['pelnas1'].sum())\n",
    "print(PELNAS_HEAVY_SMALL_1['pelnas1'].sum())\n",
    "print(PELNAS_HEAVY_MEDIUM_1['pelnas1'].sum())\n",
    "print(PELNAS_HEAVY_LARGE_1['pelnas1'].sum())"
   ]
  },
  {
   "cell_type": "code",
   "execution_count": 260,
   "metadata": {},
   "outputs": [
    {
     "data": {
      "text/plain": [
       "-74804.0634"
      ]
     },
     "execution_count": 260,
     "metadata": {},
     "output_type": "execute_result"
    }
   ],
   "source": [
    "naujas['pelnas1'].sum()"
   ]
  },
  {
   "cell_type": "code",
   "execution_count": 264,
   "metadata": {},
   "outputs": [
    {
     "data": {
      "text/plain": [
       "24.395615669999998"
      ]
     },
     "execution_count": 264,
     "metadata": {},
     "output_type": "execute_result"
    }
   ],
   "source": [
    "naujas['item_bought_price'].mean()"
   ]
  },
  {
   "cell_type": "code",
   "execution_count": 277,
   "metadata": {},
   "outputs": [
    {
     "data": {
      "text/html": [
       "<div>\n",
       "<style scoped>\n",
       "    .dataframe tbody tr th:only-of-type {\n",
       "        vertical-align: middle;\n",
       "    }\n",
       "\n",
       "    .dataframe tbody tr th {\n",
       "        vertical-align: top;\n",
       "    }\n",
       "\n",
       "    .dataframe thead th {\n",
       "        text-align: right;\n",
       "    }\n",
       "</style>\n",
       "<table border=\"1\" class=\"dataframe\">\n",
       "  <thead>\n",
       "    <tr style=\"text-align: right;\">\n",
       "      <th></th>\n",
       "      <th>transaction_date</th>\n",
       "      <th>package_quantity</th>\n",
       "      <th>country</th>\n",
       "      <th>invoice_number</th>\n",
       "      <th>charge_classification_code</th>\n",
       "      <th>currency</th>\n",
       "      <th>billed_weight</th>\n",
       "      <th>tracking_number</th>\n",
       "      <th>charge_description</th>\n",
       "      <th>from_country</th>\n",
       "      <th>entered_weight</th>\n",
       "      <th>to_country</th>\n",
       "      <th>extra_costs</th>\n",
       "      <th>amount</th>\n",
       "      <th>transaction_id</th>\n",
       "      <th>package_size_code</th>\n",
       "    </tr>\n",
       "  </thead>\n",
       "  <tbody>\n",
       "    <tr>\n",
       "      <th>0</th>\n",
       "      <td>2021-02-03</td>\n",
       "      <td>1</td>\n",
       "      <td>IT</td>\n",
       "      <td>NaN</td>\n",
       "      <td>NaN</td>\n",
       "      <td>EUR</td>\n",
       "      <td>0.5</td>\n",
       "      <td>1078440000106</td>\n",
       "      <td>TB Standard</td>\n",
       "      <td>IT</td>\n",
       "      <td>0.5</td>\n",
       "      <td>FR</td>\n",
       "      <td>False</td>\n",
       "      <td>3.69</td>\n",
       "      <td>NaN</td>\n",
       "      <td>SMALL</td>\n",
       "    </tr>\n",
       "    <tr>\n",
       "      <th>1</th>\n",
       "      <td>2021-02-23</td>\n",
       "      <td>1</td>\n",
       "      <td>IT</td>\n",
       "      <td>NaN</td>\n",
       "      <td>NaN</td>\n",
       "      <td>EUR</td>\n",
       "      <td>2.0</td>\n",
       "      <td>1078440000225</td>\n",
       "      <td>TB Standard</td>\n",
       "      <td>IT</td>\n",
       "      <td>0.5</td>\n",
       "      <td>FR</td>\n",
       "      <td>False</td>\n",
       "      <td>4.47</td>\n",
       "      <td>NaN</td>\n",
       "      <td>SMALL</td>\n",
       "    </tr>\n",
       "    <tr>\n",
       "      <th>2</th>\n",
       "      <td>2021-03-03</td>\n",
       "      <td>1</td>\n",
       "      <td>IT</td>\n",
       "      <td>NaN</td>\n",
       "      <td>NaN</td>\n",
       "      <td>EUR</td>\n",
       "      <td>6.5</td>\n",
       "      <td>1078440000284</td>\n",
       "      <td>TB Standard</td>\n",
       "      <td>IT</td>\n",
       "      <td>2.0</td>\n",
       "      <td>FR</td>\n",
       "      <td>False</td>\n",
       "      <td>6.99</td>\n",
       "      <td>NaN</td>\n",
       "      <td>LARGE</td>\n",
       "    </tr>\n",
       "    <tr>\n",
       "      <th>3</th>\n",
       "      <td>2021-02-15</td>\n",
       "      <td>1</td>\n",
       "      <td>IT</td>\n",
       "      <td>NaN</td>\n",
       "      <td>NaN</td>\n",
       "      <td>EUR</td>\n",
       "      <td>0.5</td>\n",
       "      <td>1078440000314</td>\n",
       "      <td>TB Standard</td>\n",
       "      <td>IT</td>\n",
       "      <td>0.5</td>\n",
       "      <td>FR</td>\n",
       "      <td>False</td>\n",
       "      <td>3.69</td>\n",
       "      <td>NaN</td>\n",
       "      <td>SMALL</td>\n",
       "    </tr>\n",
       "    <tr>\n",
       "      <th>4</th>\n",
       "      <td>2021-03-01</td>\n",
       "      <td>1</td>\n",
       "      <td>IT</td>\n",
       "      <td>NaN</td>\n",
       "      <td>NaN</td>\n",
       "      <td>EUR</td>\n",
       "      <td>0.5</td>\n",
       "      <td>1078440000400</td>\n",
       "      <td>TB Standard</td>\n",
       "      <td>IT</td>\n",
       "      <td>0.5</td>\n",
       "      <td>FR</td>\n",
       "      <td>False</td>\n",
       "      <td>3.69</td>\n",
       "      <td>NaN</td>\n",
       "      <td>SMALL</td>\n",
       "    </tr>\n",
       "    <tr>\n",
       "      <th>...</th>\n",
       "      <td>...</td>\n",
       "      <td>...</td>\n",
       "      <td>...</td>\n",
       "      <td>...</td>\n",
       "      <td>...</td>\n",
       "      <td>...</td>\n",
       "      <td>...</td>\n",
       "      <td>...</td>\n",
       "      <td>...</td>\n",
       "      <td>...</td>\n",
       "      <td>...</td>\n",
       "      <td>...</td>\n",
       "      <td>...</td>\n",
       "      <td>...</td>\n",
       "      <td>...</td>\n",
       "      <td>...</td>\n",
       "    </tr>\n",
       "    <tr>\n",
       "      <th>19995</th>\n",
       "      <td>2021-01-25</td>\n",
       "      <td>1</td>\n",
       "      <td>IT</td>\n",
       "      <td>NaN</td>\n",
       "      <td>NaN</td>\n",
       "      <td>EUR</td>\n",
       "      <td>1.0</td>\n",
       "      <td>1078443168103</td>\n",
       "      <td>Dom. Standard</td>\n",
       "      <td>IT</td>\n",
       "      <td>1.0</td>\n",
       "      <td>IT</td>\n",
       "      <td>False</td>\n",
       "      <td>3.61</td>\n",
       "      <td>NaN</td>\n",
       "      <td>MEDIUM</td>\n",
       "    </tr>\n",
       "    <tr>\n",
       "      <th>19996</th>\n",
       "      <td>2021-02-11</td>\n",
       "      <td>1</td>\n",
       "      <td>IT</td>\n",
       "      <td>NaN</td>\n",
       "      <td>NaN</td>\n",
       "      <td>EUR</td>\n",
       "      <td>3.5</td>\n",
       "      <td>1078443168222</td>\n",
       "      <td>TB Standard</td>\n",
       "      <td>IT</td>\n",
       "      <td>1.0</td>\n",
       "      <td>FR</td>\n",
       "      <td>False</td>\n",
       "      <td>5.82</td>\n",
       "      <td>NaN</td>\n",
       "      <td>MEDIUM</td>\n",
       "    </tr>\n",
       "    <tr>\n",
       "      <th>19997</th>\n",
       "      <td>2021-02-11</td>\n",
       "      <td>0</td>\n",
       "      <td>IT</td>\n",
       "      <td>NaN</td>\n",
       "      <td>NaN</td>\n",
       "      <td>EUR</td>\n",
       "      <td>0.0</td>\n",
       "      <td>1078443168222</td>\n",
       "      <td>Extended Area P/U Surcharge-Origin</td>\n",
       "      <td>IT</td>\n",
       "      <td>0.0</td>\n",
       "      <td>FR</td>\n",
       "      <td>True</td>\n",
       "      <td>5.66</td>\n",
       "      <td>NaN</td>\n",
       "      <td>MEDIUM</td>\n",
       "    </tr>\n",
       "    <tr>\n",
       "      <th>19998</th>\n",
       "      <td>2021-02-16</td>\n",
       "      <td>1</td>\n",
       "      <td>IT</td>\n",
       "      <td>NaN</td>\n",
       "      <td>NaN</td>\n",
       "      <td>EUR</td>\n",
       "      <td>2.0</td>\n",
       "      <td>1078443168367</td>\n",
       "      <td>TB Standard</td>\n",
       "      <td>IT</td>\n",
       "      <td>1.0</td>\n",
       "      <td>FR</td>\n",
       "      <td>False</td>\n",
       "      <td>4.47</td>\n",
       "      <td>NaN</td>\n",
       "      <td>MEDIUM</td>\n",
       "    </tr>\n",
       "    <tr>\n",
       "      <th>19999</th>\n",
       "      <td>2021-02-25</td>\n",
       "      <td>1</td>\n",
       "      <td>IT</td>\n",
       "      <td>NaN</td>\n",
       "      <td>NaN</td>\n",
       "      <td>EUR</td>\n",
       "      <td>4.0</td>\n",
       "      <td>1078443168486</td>\n",
       "      <td>TB Standard</td>\n",
       "      <td>IT</td>\n",
       "      <td>2.0</td>\n",
       "      <td>FR</td>\n",
       "      <td>False</td>\n",
       "      <td>5.19</td>\n",
       "      <td>NaN</td>\n",
       "      <td>LARGE</td>\n",
       "    </tr>\n",
       "  </tbody>\n",
       "</table>\n",
       "<p>20000 rows × 16 columns</p>\n",
       "</div>"
      ],
      "text/plain": [
       "      transaction_date  package_quantity country  invoice_number  \\\n",
       "0           2021-02-03                 1      IT             NaN   \n",
       "1           2021-02-23                 1      IT             NaN   \n",
       "2           2021-03-03                 1      IT             NaN   \n",
       "3           2021-02-15                 1      IT             NaN   \n",
       "4           2021-03-01                 1      IT             NaN   \n",
       "...                ...               ...     ...             ...   \n",
       "19995       2021-01-25                 1      IT             NaN   \n",
       "19996       2021-02-11                 1      IT             NaN   \n",
       "19997       2021-02-11                 0      IT             NaN   \n",
       "19998       2021-02-16                 1      IT             NaN   \n",
       "19999       2021-02-25                 1      IT             NaN   \n",
       "\n",
       "       charge_classification_code currency  billed_weight  tracking_number  \\\n",
       "0                             NaN      EUR            0.5    1078440000106   \n",
       "1                             NaN      EUR            2.0    1078440000225   \n",
       "2                             NaN      EUR            6.5    1078440000284   \n",
       "3                             NaN      EUR            0.5    1078440000314   \n",
       "4                             NaN      EUR            0.5    1078440000400   \n",
       "...                           ...      ...            ...              ...   \n",
       "19995                         NaN      EUR            1.0    1078443168103   \n",
       "19996                         NaN      EUR            3.5    1078443168222   \n",
       "19997                         NaN      EUR            0.0    1078443168222   \n",
       "19998                         NaN      EUR            2.0    1078443168367   \n",
       "19999                         NaN      EUR            4.0    1078443168486   \n",
       "\n",
       "                       charge_description from_country  entered_weight  \\\n",
       "0                             TB Standard           IT             0.5   \n",
       "1                             TB Standard           IT             0.5   \n",
       "2                             TB Standard           IT             2.0   \n",
       "3                             TB Standard           IT             0.5   \n",
       "4                             TB Standard           IT             0.5   \n",
       "...                                   ...          ...             ...   \n",
       "19995                       Dom. Standard           IT             1.0   \n",
       "19996                         TB Standard           IT             1.0   \n",
       "19997  Extended Area P/U Surcharge-Origin           IT             0.0   \n",
       "19998                         TB Standard           IT             1.0   \n",
       "19999                         TB Standard           IT             2.0   \n",
       "\n",
       "      to_country  extra_costs  amount  transaction_id package_size_code  \n",
       "0             FR        False    3.69             NaN             SMALL  \n",
       "1             FR        False    4.47             NaN             SMALL  \n",
       "2             FR        False    6.99             NaN             LARGE  \n",
       "3             FR        False    3.69             NaN             SMALL  \n",
       "4             FR        False    3.69             NaN             SMALL  \n",
       "...          ...          ...     ...             ...               ...  \n",
       "19995         IT        False    3.61             NaN            MEDIUM  \n",
       "19996         FR        False    5.82             NaN            MEDIUM  \n",
       "19997         FR         True    5.66             NaN            MEDIUM  \n",
       "19998         FR        False    4.47             NaN            MEDIUM  \n",
       "19999         FR        False    5.19             NaN             LARGE  \n",
       "\n",
       "[20000 rows x 16 columns]"
      ]
     },
     "execution_count": 277,
     "metadata": {},
     "output_type": "execute_result"
    }
   ],
   "source": [
    "invoice_sent"
   ]
  },
  {
   "cell_type": "code",
   "execution_count": null,
   "metadata": {},
   "outputs": [],
   "source": []
  },
  {
   "cell_type": "code",
   "execution_count": 276,
   "metadata": {},
   "outputs": [
    {
     "data": {
      "text/html": [
       "<div>\n",
       "<style scoped>\n",
       "    .dataframe tbody tr th:only-of-type {\n",
       "        vertical-align: middle;\n",
       "    }\n",
       "\n",
       "    .dataframe tbody tr th {\n",
       "        vertical-align: top;\n",
       "    }\n",
       "\n",
       "    .dataframe thead th {\n",
       "        text-align: right;\n",
       "    }\n",
       "</style>\n",
       "<table border=\"1\" class=\"dataframe\">\n",
       "  <thead>\n",
       "    <tr style=\"text-align: right;\">\n",
       "      <th></th>\n",
       "      <th>transaction_date</th>\n",
       "      <th>package_quantity</th>\n",
       "      <th>country</th>\n",
       "      <th>invoice_number</th>\n",
       "      <th>charge_classification_code</th>\n",
       "      <th>currency</th>\n",
       "      <th>billed_weight</th>\n",
       "      <th>tracking_number</th>\n",
       "      <th>charge_description</th>\n",
       "      <th>from_country</th>\n",
       "      <th>...</th>\n",
       "      <th>refund_reason</th>\n",
       "      <th>package_size</th>\n",
       "      <th>buyer_shipment_price</th>\n",
       "      <th>VAT_excluded</th>\n",
       "      <th>item bought price</th>\n",
       "      <th>cost</th>\n",
       "      <th>profit</th>\n",
       "      <th>item_bought_price</th>\n",
       "      <th>pelnas</th>\n",
       "      <th>pelnas1</th>\n",
       "    </tr>\n",
       "  </thead>\n",
       "  <tbody>\n",
       "    <tr>\n",
       "      <th>0</th>\n",
       "      <td>2021-02-03</td>\n",
       "      <td>1</td>\n",
       "      <td>IT</td>\n",
       "      <td>NaN</td>\n",
       "      <td>NaN</td>\n",
       "      <td>EUR</td>\n",
       "      <td>0.5</td>\n",
       "      <td>1078440000106</td>\n",
       "      <td>TB Standard</td>\n",
       "      <td>IT</td>\n",
       "      <td>...</td>\n",
       "      <td>NaN</td>\n",
       "      <td>SMALL</td>\n",
       "      <td>0.99</td>\n",
       "      <td>0.7722</td>\n",
       "      <td>11.7278</td>\n",
       "      <td>2.9178</td>\n",
       "      <td>8.81</td>\n",
       "      <td>11.7278</td>\n",
       "      <td>-2.1456</td>\n",
       "      <td>-2.9178</td>\n",
       "    </tr>\n",
       "    <tr>\n",
       "      <th>1</th>\n",
       "      <td>2021-02-23</td>\n",
       "      <td>1</td>\n",
       "      <td>IT</td>\n",
       "      <td>NaN</td>\n",
       "      <td>NaN</td>\n",
       "      <td>EUR</td>\n",
       "      <td>2.0</td>\n",
       "      <td>1078440000225</td>\n",
       "      <td>TB Standard</td>\n",
       "      <td>IT</td>\n",
       "      <td>...</td>\n",
       "      <td>NaN</td>\n",
       "      <td>SMALL</td>\n",
       "      <td>0.99</td>\n",
       "      <td>0.7722</td>\n",
       "      <td>9.7278</td>\n",
       "      <td>3.6978</td>\n",
       "      <td>6.03</td>\n",
       "      <td>9.7278</td>\n",
       "      <td>-2.9256</td>\n",
       "      <td>-3.6978</td>\n",
       "    </tr>\n",
       "    <tr>\n",
       "      <th>2</th>\n",
       "      <td>2021-03-03</td>\n",
       "      <td>1</td>\n",
       "      <td>IT</td>\n",
       "      <td>NaN</td>\n",
       "      <td>NaN</td>\n",
       "      <td>EUR</td>\n",
       "      <td>6.5</td>\n",
       "      <td>1078440000284</td>\n",
       "      <td>TB Standard</td>\n",
       "      <td>IT</td>\n",
       "      <td>...</td>\n",
       "      <td>NaN</td>\n",
       "      <td>LARGE</td>\n",
       "      <td>5.49</td>\n",
       "      <td>4.2822</td>\n",
       "      <td>41.2178</td>\n",
       "      <td>2.7078</td>\n",
       "      <td>38.51</td>\n",
       "      <td>41.2178</td>\n",
       "      <td>1.5744</td>\n",
       "      <td>-2.7078</td>\n",
       "    </tr>\n",
       "    <tr>\n",
       "      <th>3</th>\n",
       "      <td>2021-02-15</td>\n",
       "      <td>1</td>\n",
       "      <td>IT</td>\n",
       "      <td>NaN</td>\n",
       "      <td>NaN</td>\n",
       "      <td>EUR</td>\n",
       "      <td>0.5</td>\n",
       "      <td>1078440000314</td>\n",
       "      <td>TB Standard</td>\n",
       "      <td>IT</td>\n",
       "      <td>...</td>\n",
       "      <td>NaN</td>\n",
       "      <td>SMALL</td>\n",
       "      <td>0.99</td>\n",
       "      <td>0.7722</td>\n",
       "      <td>29.7278</td>\n",
       "      <td>2.9178</td>\n",
       "      <td>26.81</td>\n",
       "      <td>29.7278</td>\n",
       "      <td>-2.1456</td>\n",
       "      <td>-2.9178</td>\n",
       "    </tr>\n",
       "    <tr>\n",
       "      <th>4</th>\n",
       "      <td>2021-03-01</td>\n",
       "      <td>1</td>\n",
       "      <td>IT</td>\n",
       "      <td>NaN</td>\n",
       "      <td>NaN</td>\n",
       "      <td>EUR</td>\n",
       "      <td>0.5</td>\n",
       "      <td>1078440000400</td>\n",
       "      <td>TB Standard</td>\n",
       "      <td>IT</td>\n",
       "      <td>...</td>\n",
       "      <td>NaN</td>\n",
       "      <td>SMALL</td>\n",
       "      <td>0.99</td>\n",
       "      <td>0.7722</td>\n",
       "      <td>11.7278</td>\n",
       "      <td>2.9178</td>\n",
       "      <td>8.81</td>\n",
       "      <td>11.7278</td>\n",
       "      <td>-2.1456</td>\n",
       "      <td>-2.9178</td>\n",
       "    </tr>\n",
       "    <tr>\n",
       "      <th>...</th>\n",
       "      <td>...</td>\n",
       "      <td>...</td>\n",
       "      <td>...</td>\n",
       "      <td>...</td>\n",
       "      <td>...</td>\n",
       "      <td>...</td>\n",
       "      <td>...</td>\n",
       "      <td>...</td>\n",
       "      <td>...</td>\n",
       "      <td>...</td>\n",
       "      <td>...</td>\n",
       "      <td>...</td>\n",
       "      <td>...</td>\n",
       "      <td>...</td>\n",
       "      <td>...</td>\n",
       "      <td>...</td>\n",
       "      <td>...</td>\n",
       "      <td>...</td>\n",
       "      <td>...</td>\n",
       "      <td>...</td>\n",
       "      <td>...</td>\n",
       "    </tr>\n",
       "    <tr>\n",
       "      <th>19995</th>\n",
       "      <td>2021-01-25</td>\n",
       "      <td>1</td>\n",
       "      <td>IT</td>\n",
       "      <td>NaN</td>\n",
       "      <td>NaN</td>\n",
       "      <td>EUR</td>\n",
       "      <td>1.0</td>\n",
       "      <td>1078443168103</td>\n",
       "      <td>Dom. Standard</td>\n",
       "      <td>IT</td>\n",
       "      <td>...</td>\n",
       "      <td>NaN</td>\n",
       "      <td>MEDIUM</td>\n",
       "      <td>0.99</td>\n",
       "      <td>0.7722</td>\n",
       "      <td>9.7278</td>\n",
       "      <td>2.8378</td>\n",
       "      <td>6.89</td>\n",
       "      <td>9.7278</td>\n",
       "      <td>-2.0656</td>\n",
       "      <td>-2.8378</td>\n",
       "    </tr>\n",
       "    <tr>\n",
       "      <th>19996</th>\n",
       "      <td>2021-02-11</td>\n",
       "      <td>1</td>\n",
       "      <td>IT</td>\n",
       "      <td>NaN</td>\n",
       "      <td>NaN</td>\n",
       "      <td>EUR</td>\n",
       "      <td>3.5</td>\n",
       "      <td>1078443168222</td>\n",
       "      <td>TB Standard</td>\n",
       "      <td>IT</td>\n",
       "      <td>...</td>\n",
       "      <td>NaN</td>\n",
       "      <td>MEDIUM</td>\n",
       "      <td>0.99</td>\n",
       "      <td>0.7722</td>\n",
       "      <td>9.7278</td>\n",
       "      <td>5.0478</td>\n",
       "      <td>4.68</td>\n",
       "      <td>9.7278</td>\n",
       "      <td>-4.2756</td>\n",
       "      <td>-5.0478</td>\n",
       "    </tr>\n",
       "    <tr>\n",
       "      <th>19997</th>\n",
       "      <td>2021-02-11</td>\n",
       "      <td>0</td>\n",
       "      <td>IT</td>\n",
       "      <td>NaN</td>\n",
       "      <td>NaN</td>\n",
       "      <td>EUR</td>\n",
       "      <td>0.0</td>\n",
       "      <td>1078443168222</td>\n",
       "      <td>Extended Area P/U Surcharge-Origin</td>\n",
       "      <td>IT</td>\n",
       "      <td>...</td>\n",
       "      <td>NaN</td>\n",
       "      <td>MEDIUM</td>\n",
       "      <td>0.99</td>\n",
       "      <td>0.7722</td>\n",
       "      <td>9.7278</td>\n",
       "      <td>4.8878</td>\n",
       "      <td>4.84</td>\n",
       "      <td>9.7278</td>\n",
       "      <td>-4.1156</td>\n",
       "      <td>-4.8878</td>\n",
       "    </tr>\n",
       "    <tr>\n",
       "      <th>19998</th>\n",
       "      <td>2021-02-16</td>\n",
       "      <td>1</td>\n",
       "      <td>IT</td>\n",
       "      <td>NaN</td>\n",
       "      <td>NaN</td>\n",
       "      <td>EUR</td>\n",
       "      <td>2.0</td>\n",
       "      <td>1078443168367</td>\n",
       "      <td>TB Standard</td>\n",
       "      <td>IT</td>\n",
       "      <td>...</td>\n",
       "      <td>NaN</td>\n",
       "      <td>MEDIUM</td>\n",
       "      <td>0.99</td>\n",
       "      <td>0.7722</td>\n",
       "      <td>24.7278</td>\n",
       "      <td>3.6978</td>\n",
       "      <td>21.03</td>\n",
       "      <td>24.7278</td>\n",
       "      <td>-2.9256</td>\n",
       "      <td>-3.6978</td>\n",
       "    </tr>\n",
       "    <tr>\n",
       "      <th>19999</th>\n",
       "      <td>2021-02-25</td>\n",
       "      <td>1</td>\n",
       "      <td>IT</td>\n",
       "      <td>NaN</td>\n",
       "      <td>NaN</td>\n",
       "      <td>EUR</td>\n",
       "      <td>4.0</td>\n",
       "      <td>1078443168486</td>\n",
       "      <td>TB Standard</td>\n",
       "      <td>IT</td>\n",
       "      <td>...</td>\n",
       "      <td>NaN</td>\n",
       "      <td>LARGE</td>\n",
       "      <td>5.49</td>\n",
       "      <td>4.2822</td>\n",
       "      <td>71.2178</td>\n",
       "      <td>0.9078</td>\n",
       "      <td>70.31</td>\n",
       "      <td>71.2178</td>\n",
       "      <td>3.3744</td>\n",
       "      <td>-0.9078</td>\n",
       "    </tr>\n",
       "  </tbody>\n",
       "</table>\n",
       "<p>20000 rows × 31 columns</p>\n",
       "</div>"
      ],
      "text/plain": [
       "      transaction_date  package_quantity country  invoice_number  \\\n",
       "0           2021-02-03                 1      IT             NaN   \n",
       "1           2021-02-23                 1      IT             NaN   \n",
       "2           2021-03-03                 1      IT             NaN   \n",
       "3           2021-02-15                 1      IT             NaN   \n",
       "4           2021-03-01                 1      IT             NaN   \n",
       "...                ...               ...     ...             ...   \n",
       "19995       2021-01-25                 1      IT             NaN   \n",
       "19996       2021-02-11                 1      IT             NaN   \n",
       "19997       2021-02-11                 0      IT             NaN   \n",
       "19998       2021-02-16                 1      IT             NaN   \n",
       "19999       2021-02-25                 1      IT             NaN   \n",
       "\n",
       "       charge_classification_code currency  billed_weight  tracking_number  \\\n",
       "0                             NaN      EUR            0.5    1078440000106   \n",
       "1                             NaN      EUR            2.0    1078440000225   \n",
       "2                             NaN      EUR            6.5    1078440000284   \n",
       "3                             NaN      EUR            0.5    1078440000314   \n",
       "4                             NaN      EUR            0.5    1078440000400   \n",
       "...                           ...      ...            ...              ...   \n",
       "19995                         NaN      EUR            1.0    1078443168103   \n",
       "19996                         NaN      EUR            3.5    1078443168222   \n",
       "19997                         NaN      EUR            0.0    1078443168222   \n",
       "19998                         NaN      EUR            2.0    1078443168367   \n",
       "19999                         NaN      EUR            4.0    1078443168486   \n",
       "\n",
       "                       charge_description from_country  ...  refund_reason  \\\n",
       "0                             TB Standard           IT  ...            NaN   \n",
       "1                             TB Standard           IT  ...            NaN   \n",
       "2                             TB Standard           IT  ...            NaN   \n",
       "3                             TB Standard           IT  ...            NaN   \n",
       "4                             TB Standard           IT  ...            NaN   \n",
       "...                                   ...          ...  ...            ...   \n",
       "19995                       Dom. Standard           IT  ...            NaN   \n",
       "19996                         TB Standard           IT  ...            NaN   \n",
       "19997  Extended Area P/U Surcharge-Origin           IT  ...            NaN   \n",
       "19998                         TB Standard           IT  ...            NaN   \n",
       "19999                         TB Standard           IT  ...            NaN   \n",
       "\n",
       "      package_size  buyer_shipment_price  VAT_excluded  item bought price  \\\n",
       "0            SMALL                  0.99        0.7722            11.7278   \n",
       "1            SMALL                  0.99        0.7722             9.7278   \n",
       "2            LARGE                  5.49        4.2822            41.2178   \n",
       "3            SMALL                  0.99        0.7722            29.7278   \n",
       "4            SMALL                  0.99        0.7722            11.7278   \n",
       "...            ...                   ...           ...                ...   \n",
       "19995       MEDIUM                  0.99        0.7722             9.7278   \n",
       "19996       MEDIUM                  0.99        0.7722             9.7278   \n",
       "19997       MEDIUM                  0.99        0.7722             9.7278   \n",
       "19998       MEDIUM                  0.99        0.7722            24.7278   \n",
       "19999        LARGE                  5.49        4.2822            71.2178   \n",
       "\n",
       "         cost  profit  item_bought_price  pelnas pelnas1  \n",
       "0      2.9178    8.81            11.7278 -2.1456 -2.9178  \n",
       "1      3.6978    6.03             9.7278 -2.9256 -3.6978  \n",
       "2      2.7078   38.51            41.2178  1.5744 -2.7078  \n",
       "3      2.9178   26.81            29.7278 -2.1456 -2.9178  \n",
       "4      2.9178    8.81            11.7278 -2.1456 -2.9178  \n",
       "...       ...     ...                ...     ...     ...  \n",
       "19995  2.8378    6.89             9.7278 -2.0656 -2.8378  \n",
       "19996  5.0478    4.68             9.7278 -4.2756 -5.0478  \n",
       "19997  4.8878    4.84             9.7278 -4.1156 -4.8878  \n",
       "19998  3.6978   21.03            24.7278 -2.9256 -3.6978  \n",
       "19999  0.9078   70.31            71.2178  3.3744 -0.9078  \n",
       "\n",
       "[20000 rows x 31 columns]"
      ]
     },
     "execution_count": 276,
     "metadata": {},
     "output_type": "execute_result"
    }
   ],
   "source": [
    "naujas"
   ]
  },
  {
   "cell_type": "code",
   "execution_count": 280,
   "metadata": {},
   "outputs": [
    {
     "data": {
      "text/plain": [
       "0.880675"
      ]
     },
     "execution_count": 280,
     "metadata": {},
     "output_type": "execute_result"
    }
   ],
   "source": [
    "naujas['entered_weight'].mean()"
   ]
  },
  {
   "cell_type": "code",
   "execution_count": 288,
   "metadata": {},
   "outputs": [
    {
     "data": {
      "text/plain": [
       "1.426475"
      ]
     },
     "execution_count": 288,
     "metadata": {},
     "output_type": "execute_result"
    }
   ],
   "source": [
    "naujas['billed_weight'].mean()"
   ]
  },
  {
   "cell_type": "code",
   "execution_count": 289,
   "metadata": {},
   "outputs": [
    {
     "data": {
      "text/plain": [
       "1.6197518948533796"
      ]
     },
     "execution_count": 289,
     "metadata": {},
     "output_type": "execute_result"
    }
   ],
   "source": [
    "['billed_weight'].mean() / ['entered_weight'].mean()"
   ]
  },
  {
   "cell_type": "code",
   "execution_count": 281,
   "metadata": {},
   "outputs": [],
   "source": [
    "avg_entered_weight_small= naujas[naujas['package_size'] == 'SMALL']\n",
    "avg_entered_weight_medium= naujas[naujas['package_size'] == 'MEDIUM']\n",
    "avg_entered_weight_large = naujas[naujas['package_size'] == 'LARGE']\n",
    "avg_entered_weight_heavy_small = naujas[naujas['package_size'] == 'HEAVY_SMALL']\n",
    "avg_entered_weight_heavy_medium = naujas[naujas['package_size'] == 'HEAVY_MEDIUM']\n",
    "avg_entered_weight_heavy_large = naujas[naujas['package_size'] == 'HEAVY_LARGE']"
   ]
  },
  {
   "cell_type": "code",
   "execution_count": 283,
   "metadata": {},
   "outputs": [
    {
     "name": "stdout",
     "output_type": "stream",
     "text": [
      "0.47429335814819124\n",
      "0.941923774954628\n",
      "1.8730287100687424\n",
      "4.583333333333333\n",
      "7.5\n",
      "10.0\n"
     ]
    }
   ],
   "source": [
    "print(avg_entered_weight_small['entered_weight'].mean())\n",
    "print(avg_entered_weight_medium['entered_weight'].mean())\n",
    "print(avg_entered_weight_large['entered_weight'].mean())\n",
    "print(avg_entered_weight_heavy_small['entered_weight'].mean())\n",
    "print(avg_entered_weight_heavy_medium['entered_weight'].mean())\n",
    "print(avg_entered_weight_heavy_large['entered_weight'].mean())"
   ]
  },
  {
   "cell_type": "code",
   "execution_count": 286,
   "metadata": {},
   "outputs": [],
   "source": [
    "avg_billed_weight_small= naujas[naujas['package_size'] == 'SMALL']\n",
    "avg_billed_weight_medium= naujas[naujas['package_size'] == 'MEDIUM']\n",
    "avg_billed_weight_large = naujas[naujas['package_size'] == 'LARGE']\n",
    "avg_billed_weight_heavy_small = naujas[naujas['package_size'] == 'HEAVY_SMALL']\n",
    "avg_billed_weight_heavy_medium = naujas[naujas['package_size'] == 'HEAVY_MEDIUM']\n",
    "avg_billed_weight_heavy_large = naujas[naujas['package_size'] == 'HEAVY_LARGE']"
   ]
  },
  {
   "cell_type": "code",
   "execution_count": 287,
   "metadata": {},
   "outputs": [
    {
     "name": "stdout",
     "output_type": "stream",
     "text": [
      "0.7354891241130627\n",
      "1.5687386569872959\n",
      "3.113424989890821\n",
      "5.223958333333333\n",
      "8.8125\n",
      "10.5\n"
     ]
    }
   ],
   "source": [
    "print(avg_billed_weight_small['billed_weight'].mean())\n",
    "print(avg_billed_weight_medium['billed_weight'].mean())\n",
    "print(avg_billed_weight_large['billed_weight'].mean())\n",
    "print(avg_billed_weight_heavy_small['billed_weight'].mean())\n",
    "print(avg_billed_weight_heavy_medium['billed_weight'].mean())\n",
    "print(avg_billed_weight_heavy_large['billed_weight'].mean())"
   ]
  },
  {
   "cell_type": "code",
   "execution_count": 290,
   "metadata": {},
   "outputs": [
    {
     "data": {
      "text/plain": [
       "1.31084733"
      ]
     },
     "execution_count": 290,
     "metadata": {},
     "output_type": "execute_result"
    }
   ],
   "source": [
    "naujas['VAT_excluded'].mean()"
   ]
  },
  {
   "cell_type": "code",
   "execution_count": null,
   "metadata": {},
   "outputs": [],
   "source": [
    "naujas['']"
   ]
  },
  {
   "cell_type": "code",
   "execution_count": null,
   "metadata": {},
   "outputs": [],
   "source": [
    "grouped = naujas.groupby(['item_bought_price'])[['', 'price']].mean()\n",
    "grouped"
   ]
  },
  {
   "cell_type": "markdown",
   "metadata": {},
   "source": [
    "Test\n"
   ]
  },
  {
   "cell_type": "code",
   "execution_count": 297,
   "metadata": {},
   "outputs": [],
   "source": [
    "import numpy as np"
   ]
  },
  {
   "cell_type": "code",
   "execution_count": 298,
   "metadata": {},
   "outputs": [],
   "source": [
    "import seaborn as sns"
   ]
  },
  {
   "cell_type": "code",
   "execution_count": 299,
   "metadata": {},
   "outputs": [],
   "source": [
    "import matplotlib.pyplot as plt"
   ]
  },
  {
   "cell_type": "code",
   "execution_count": 305,
   "metadata": {},
   "outputs": [
    {
     "data": {
      "text/plain": [
       "<AxesSubplot:xlabel='VAT_excluded', ylabel='item_bought_price'>"
      ]
     },
     "execution_count": 305,
     "metadata": {},
     "output_type": "execute_result"
    },
    {
     "data": {
      "image/png": "[encoded data removed]",
      "text/plain": [
       "<Figure size 432x288 with 1 Axes>"
      ]
     },
     "metadata": {
      "needs_background": "light"
     },
     "output_type": "display_data"
    }
   ],
   "source": [
    "sns.regplot(data=naujas, x='VAT_excluded', y='item_bought_price', scatter_kws={\"s\": 2}, line_kws={'color': 'blue'})"
   ]
  },
  {
   "cell_type": "code",
   "execution_count": 307,
   "metadata": {},
   "outputs": [
    {
     "data": {
      "text/plain": [
       "0.21944671928088144"
      ]
     },
     "execution_count": 307,
     "metadata": {},
     "output_type": "execute_result"
    }
   ],
   "source": [
    "naujas['amount'].corr(naujas[''])"
   ]
  },
  {
   "cell_type": "code",
   "execution_count": null,
   "metadata": {},
   "outputs": [],
   "source": []
  },
  {
   "cell_type": "code",
   "execution_count": null,
   "metadata": {},
   "outputs": [],
   "source": []
  },
  {
   "cell_type": "code",
   "execution_count": null,
   "metadata": {},
   "outputs": [],
   "source": []
  },
  {
   "cell_type": "code",
   "execution_count": null,
   "metadata": {},
   "outputs": [],
   "source": []
  },
  {
   "cell_type": "code",
   "execution_count": 303,
   "metadata": {},
   "outputs": [
    {
     "data": {
      "text/plain": [
       "1.0"
      ]
     },
     "execution_count": 303,
     "metadata": {},
     "output_type": "execute_result"
    }
   ],
   "source": [
    "naujas[''].corr(naujas['VAT_excluded'])"
   ]
  },
  {
   "cell_type": "code",
   "execution_count": null,
   "metadata": {},
   "outputs": [],
   "source": [
    "grouped = naujas.groupby(['Director'])['Revenue_millions'].sum().sort_values(ascending=False)\n",
    "grouped"
   ]
  },
  {
   "cell_type": "code",
   "execution_count": null,
   "metadata": {},
   "outputs": [],
   "source": []
  },
  {
   "cell_type": "code",
   "execution_count": null,
   "metadata": {},
   "outputs": [],
   "source": []
  },
  {
   "cell_type": "code",
   "execution_count": null,
   "metadata": {},
   "outputs": [],
   "source": []
  },
  {
   "cell_type": "code",
   "execution_count": null,
   "metadata": {},
   "outputs": [],
   "source": []
  },
  {
   "cell_type": "code",
   "execution_count": null,
   "metadata": {},
   "outputs": [],
   "source": []
  },
  {
   "cell_type": "code",
   "execution_count": null,
   "metadata": {},
   "outputs": [],
   "source": []
  }
 ],
 "metadata": {
  "kernelspec": {
   "display_name": "Python 3.10.2 64-bit",
   "language": "python",
   "name": "python3"
  },
  "language_info": {
   "codemirror_mode": {
    "name": "ipython",
    "version": 3
   },
   "file_extension": ".py",
   "mimetype": "text/x-python",
   "name": "python",
   "nbconvert_exporter": "python",
   "pygments_lexer": "ipython3",
   "version": "3.10.2"
  },
  "orig_nbformat": 4,
  "vscode": {
   "interpreter": {
    "hash": "aee8b7b246df8f9039afb4144a1f6fd8d2ca17a180786b69acc140d282b71a49"
   }
  }
 },
 "nbformat": 4,
 "nbformat_minor": 2
}
