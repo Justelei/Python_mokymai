{
 "cells": [
  {
   "cell_type": "code",
   "execution_count": 2,
   "metadata": {},
   "outputs": [],
   "source": [
    "import pandas"
   ]
  },
  {
   "cell_type": "code",
   "execution_count": 3,
   "metadata": {},
   "outputs": [],
   "source": [
    "invoice_sent = pandas.read_excel('homework.xlsx')"
   ]
  },
  {
   "cell_type": "code",
   "execution_count": 4,
   "metadata": {},
   "outputs": [],
   "source": [
    "invoice_sent.to_csv('homework.csv')"
   ]
  },
  {
   "cell_type": "code",
   "execution_count": 5,
   "metadata": {},
   "outputs": [
    {
     "name": "stdout",
     "output_type": "stream",
     "text": [
      "<class 'pandas.core.frame.DataFrame'>\n",
      "RangeIndex: 20000 entries, 0 to 19999\n",
      "Data columns (total 16 columns):\n",
      " #   Column                      Non-Null Count  Dtype  \n",
      "---  ------                      --------------  -----  \n",
      " 0   transaction_date            20000 non-null  object \n",
      " 1   package_quantity            20000 non-null  int64  \n",
      " 2   country                     20000 non-null  object \n",
      " 3   invoice_number              0 non-null      float64\n",
      " 4   charge_classification_code  0 non-null      float64\n",
      " 5   currency                    20000 non-null  object \n",
      " 6   billed_weight               20000 non-null  float64\n",
      " 7   tracking_number             20000 non-null  int64  \n",
      " 8   charge_description          20000 non-null  object \n",
      " 9   from_country                20000 non-null  object \n",
      " 10  entered_weight              20000 non-null  float64\n",
      " 11  to_country                  20000 non-null  object \n",
      " 12  extra_costs                 20000 non-null  bool   \n",
      " 13  amount                      20000 non-null  float64\n",
      " 14  transaction_id              0 non-null      float64\n",
      " 15  package_size_code           20000 non-null  object \n",
      "dtypes: bool(1), float64(6), int64(2), object(7)\n",
      "memory usage: 2.3+ MB\n"
     ]
    }
   ],
   "source": [
    "invoice_sent.info()"
   ]
  },
  {
   "cell_type": "code",
   "execution_count": 6,
   "metadata": {},
   "outputs": [],
   "source": [
    "revenue_sent = pandas.read_excel('homework.xlsx', sheet_name='Revenue_sent')"
   ]
  },
  {
   "cell_type": "code",
   "execution_count": 7,
   "metadata": {},
   "outputs": [],
   "source": [
    "revenue_sent.to_csv('homework.csv')"
   ]
  },
  {
   "cell_type": "code",
   "execution_count": 8,
   "metadata": {},
   "outputs": [
    {
     "name": "stdout",
     "output_type": "stream",
     "text": [
      "<class 'pandas.core.frame.DataFrame'>\n",
      "RangeIndex: 20000 entries, 0 to 19999\n",
      "Data columns (total 16 columns):\n",
      " #   Column                      Non-Null Count  Dtype  \n",
      "---  ------                      --------------  -----  \n",
      " 0   transaction_date            20000 non-null  object \n",
      " 1   package_quantity            20000 non-null  int64  \n",
      " 2   country                     20000 non-null  object \n",
      " 3   invoice_number              0 non-null      float64\n",
      " 4   charge_classification_code  0 non-null      float64\n",
      " 5   currency                    20000 non-null  object \n",
      " 6   billed_weight               20000 non-null  float64\n",
      " 7   tracking_number             20000 non-null  int64  \n",
      " 8   charge_description          20000 non-null  object \n",
      " 9   from_country                20000 non-null  object \n",
      " 10  entered_weight              20000 non-null  float64\n",
      " 11  to_country                  20000 non-null  object \n",
      " 12  extra_costs                 20000 non-null  bool   \n",
      " 13  amount                      20000 non-null  float64\n",
      " 14  transaction_id              0 non-null      float64\n",
      " 15  package_size_code           20000 non-null  object \n",
      "dtypes: bool(1), float64(6), int64(2), object(7)\n",
      "memory usage: 2.3+ MB\n"
     ]
    }
   ],
   "source": [
    "invoice_sent.info()"
   ]
  },
  {
   "cell_type": "code",
   "execution_count": 9,
   "metadata": {},
   "outputs": [
    {
     "name": "stdout",
     "output_type": "stream",
     "text": [
      "<class 'pandas.core.frame.DataFrame'>\n",
      "RangeIndex: 20000 entries, 0 to 19999\n",
      "Data columns (total 8 columns):\n",
      " #   Column                Non-Null Count  Dtype  \n",
      "---  ------                --------------  -----  \n",
      " 0   tracking_number       20000 non-null  int64  \n",
      " 1   transaction_id        0 non-null      float64\n",
      " 2   gmv                   20000 non-null  float64\n",
      " 3   local_date            20000 non-null  object \n",
      " 4   refunded_at           372 non-null    object \n",
      " 5   refund_reason         372 non-null    object \n",
      " 6   package_size          20000 non-null  object \n",
      " 7   buyer_shipment_price  20000 non-null  float64\n",
      "dtypes: float64(3), int64(1), object(4)\n",
      "memory usage: 1.2+ MB\n"
     ]
    }
   ],
   "source": [
    "revenue_sent.info()"
   ]
  },
  {
   "cell_type": "code",
   "execution_count": 10,
   "metadata": {},
   "outputs": [
    {
     "name": "stdout",
     "output_type": "stream",
     "text": [
      "(20000, 16)\n",
      "(20000, 8)\n"
     ]
    }
   ],
   "source": [
    "print(invoice_sent.shape)\n",
    "print(revenue_sent.shape)"
   ]
  },
  {
   "cell_type": "code",
   "execution_count": 11,
   "metadata": {},
   "outputs": [],
   "source": [
    "# Finding the number of null values in the dataset"
   ]
  },
  {
   "cell_type": "code",
   "execution_count": 12,
   "metadata": {},
   "outputs": [
    {
     "data": {
      "text/plain": [
       "transaction_date                  0\n",
       "package_quantity                  0\n",
       "country                           0\n",
       "invoice_number                20000\n",
       "charge_classification_code    20000\n",
       "currency                          0\n",
       "billed_weight                     0\n",
       "tracking_number                   0\n",
       "charge_description                0\n",
       "from_country                      0\n",
       "entered_weight                    0\n",
       "to_country                        0\n",
       "extra_costs                       0\n",
       "amount                            0\n",
       "transaction_id                20000\n",
       "package_size_code                 0\n",
       "dtype: int64"
      ]
     },
     "execution_count": 12,
     "metadata": {},
     "output_type": "execute_result"
    }
   ],
   "source": [
    "invoice_sent.isnull().sum()"
   ]
  },
  {
   "cell_type": "code",
   "execution_count": 13,
   "metadata": {},
   "outputs": [
    {
     "data": {
      "text/plain": [
       "tracking_number             0\n",
       "transaction_id          20000\n",
       "gmv                         0\n",
       "local_date                  0\n",
       "refunded_at             19628\n",
       "refund_reason           19628\n",
       "package_size                0\n",
       "buyer_shipment_price        0\n",
       "dtype: int64"
      ]
     },
     "execution_count": 13,
     "metadata": {},
     "output_type": "execute_result"
    }
   ],
   "source": [
    "revenue_sent.isnull().sum()"
   ]
  },
  {
   "cell_type": "code",
   "execution_count": 14,
   "metadata": {},
   "outputs": [],
   "source": [
    "## 1)\tComment on accuracy or completeness of data\n",
    "\n",
    "# Completeness of data.\n",
    "# By using Python and its commands (pandas, info(), shape, isnull()), I was able to have a closer look to the dataset. The 'Invoice_sent' sheet consists of 20000\n",
    "# rows and 16 columns, whereas the 'Revenue_sent' sheet consists of the same number of rows and 8 columns. 'Invoice_sent' consists of thirteen out of sixteen columns with 100% filled values (no N/As) (20000/20000)\n",
    "# with no information missing, and three out of sixteen columns that are completely not-applicable (0/2000). Hence, we are not provided with the information about invoice_number, charge_classification_code\n",
    "# and transaction_id. Likewise, the dataset 'Revenue_sent' has 5/8 fully completed columns, no values about the transaction_id and 19628/20000 filled values about the\n",
    "# refunded_at and refund_reason. It appears that there is a perfect relationship between those two values,\n",
    "# as if there was no available information about the date the item was refunded, the reason of an item being refunded is unknown as well. "
   ]
  },
  {
   "cell_type": "code",
   "execution_count": 15,
   "metadata": {},
   "outputs": [],
   "source": [
    "revenue_sent['VAT_excluded'] = revenue_sent['buyer_shipment_price'] - (revenue_sent['buyer_shipment_price'] * 0.22)\n",
    "# Created a new column VAT_excluded that shows the shipping price charged to the buyer excluding VAT at 22% rate."
   ]
  },
  {
   "cell_type": "code",
   "execution_count": 16,
   "metadata": {},
   "outputs": [],
   "source": [
    "invoice_sent.to_excel('invoicesent.xlsx')"
   ]
  },
  {
   "cell_type": "code",
   "execution_count": 17,
   "metadata": {},
   "outputs": [],
   "source": [
    "revenue_sent.to_excel('revenuesent.xlsx')"
   ]
  },
  {
   "cell_type": "code",
   "execution_count": 47,
   "metadata": {},
   "outputs": [],
   "source": [
    "dataset = pandas.read_excel('bendras.xlsx')"
   ]
  },
  {
   "cell_type": "code",
   "execution_count": 48,
   "metadata": {},
   "outputs": [],
   "source": [
    "dataset.to_excel('naujas.xlsx')"
   ]
  },
  {
   "cell_type": "code",
   "execution_count": 54,
   "metadata": {},
   "outputs": [],
   "source": [
    "dataset['item_sold_price'] = dataset['gmv'] - dataset['VAT_excluded']"
   ]
  },
  {
   "cell_type": "code",
   "execution_count": 55,
   "metadata": {},
   "outputs": [],
   "source": [
    "item_sold_price_small = dataset[dataset['package_size'] == 'SMALL']\n",
    "item_sold_price_medium = dataset[dataset['package_size'] == 'MEDIUM']\n",
    "item_sold_price_large = dataset[dataset['package_size'] == 'LARGE']\n",
    "item_sold_price_heavy_small = dataset[dataset['package_size'] == 'HEAVY_SMALL']\n",
    "item_sold_price_heavy_medium = dataset[dataset['package_size'] == 'HEAVY_MEDIUM']\n",
    "item_sold_price_heavy_large = dataset[dataset['package_size'] == 'HEAVY_LARGE']"
   ]
  },
  {
   "cell_type": "code",
   "execution_count": 56,
   "metadata": {},
   "outputs": [
    {
     "name": "stdout",
     "output_type": "stream",
     "text": [
      "160183.476\n",
      "214968.04340000002\n",
      "107173.27440000001\n",
      "4915.1467999999995\n",
      "257.1504\n",
      "415.22240000000005\n"
     ]
    }
   ],
   "source": [
    "print(item_sold_price_small['item_sold_price'].sum())\n",
    "print(item_sold_price_medium['item_sold_price'].sum())\n",
    "print(item_sold_price_large['item_sold_price'].sum())\n",
    "print(item_sold_price_heavy_small['item_sold_price'].sum())\n",
    "print(item_sold_price_heavy_medium['item_sold_price'].sum())\n",
    "print(item_sold_price_heavy_large['item_sold_price'].sum())"
   ]
  },
  {
   "cell_type": "code",
   "execution_count": 57,
   "metadata": {},
   "outputs": [
    {
     "name": "stdout",
     "output_type": "stream",
     "text": [
      "18.63248528556473\n",
      "24.383852472776773\n",
      "43.33735317428225\n",
      "51.19944583333333\n",
      "32.1438\n",
      "41.522240000000004\n"
     ]
    }
   ],
   "source": [
    "print(item_sold_price_small['item_sold_price'].mean())\n",
    "print(item_sold_price_medium['item_sold_price'].mean())\n",
    "print(item_sold_price_large['item_sold_price'].mean())\n",
    "print(item_sold_price_heavy_small['item_sold_price'].mean())\n",
    "print(item_sold_price_heavy_medium['item_sold_price'].mean())\n",
    "print(item_sold_price_heavy_large['item_sold_price'].mean())"
   ]
  },
  {
   "cell_type": "code",
   "execution_count": 58,
   "metadata": {},
   "outputs": [],
   "source": [
    "avg_entered_weight_small= dataset[dataset['package_size'] == 'SMALL']\n",
    "avg_entered_weight_medium= dataset[dataset['package_size'] == 'MEDIUM']\n",
    "avg_entered_weight_large = dataset[dataset['package_size'] == 'LARGE']\n",
    "avg_entered_weight_heavy_small = dataset[dataset['package_size'] == 'HEAVY_SMALL']\n",
    "avg_entered_weight_heavy_medium = dataset[dataset['package_size'] == 'HEAVY_MEDIUM']\n",
    "avg_entered_weight_heavy_large = dataset[dataset['package_size'] == 'HEAVY_LARGE']"
   ]
  },
  {
   "cell_type": "code",
   "execution_count": 59,
   "metadata": {},
   "outputs": [
    {
     "name": "stdout",
     "output_type": "stream",
     "text": [
      "0.47429335814819124\n",
      "0.941923774954628\n",
      "1.8730287100687424\n",
      "4.583333333333333\n",
      "7.5\n",
      "10.0\n"
     ]
    }
   ],
   "source": [
    "print(avg_entered_weight_small['entered_weight'].mean())\n",
    "print(avg_entered_weight_medium['entered_weight'].mean())\n",
    "print(avg_entered_weight_large['entered_weight'].mean())\n",
    "print(avg_entered_weight_heavy_small['entered_weight'].mean())\n",
    "print(avg_entered_weight_heavy_medium['entered_weight'].mean())\n",
    "print(avg_entered_weight_heavy_large['entered_weight'].mean())"
   ]
  },
  {
   "cell_type": "code",
   "execution_count": 60,
   "metadata": {},
   "outputs": [],
   "source": [
    "avg_billed_weight_small= dataset[dataset['package_size'] == 'SMALL']\n",
    "avg_billed_weight_medium= dataset[dataset['package_size'] == 'MEDIUM']\n",
    "avg_billed_weight_large = dataset[dataset['package_size'] == 'LARGE']\n",
    "avg_billed_weight_heavy_small = dataset[dataset['package_size'] == 'HEAVY_SMALL']\n",
    "avg_billed_weight_heavy_medium = dataset[dataset['package_size'] == 'HEAVY_MEDIUM']\n",
    "avg_billed_weight_heavy_large = dataset[dataset['package_size'] == 'HEAVY_LARGE']"
   ]
  },
  {
   "cell_type": "code",
   "execution_count": 61,
   "metadata": {},
   "outputs": [
    {
     "name": "stdout",
     "output_type": "stream",
     "text": [
      "0.7354891241130627\n",
      "1.5687386569872959\n",
      "3.113424989890821\n",
      "5.223958333333333\n",
      "8.8125\n",
      "10.5\n"
     ]
    }
   ],
   "source": [
    "print(avg_billed_weight_small['billed_weight'].mean())\n",
    "print(avg_billed_weight_medium['billed_weight'].mean())\n",
    "print(avg_billed_weight_large['billed_weight'].mean())\n",
    "print(avg_billed_weight_heavy_small['billed_weight'].mean())\n",
    "print(avg_billed_weight_heavy_medium['billed_weight'].mean())\n",
    "print(avg_billed_weight_heavy_large['billed_weight'].mean())"
   ]
  },
  {
   "cell_type": "markdown",
   "metadata": {},
   "source": [
    "## 4) Calculate revenue, cost and gross profit per package size"
   ]
  },
  {
   "cell_type": "markdown",
   "metadata": {},
   "source": [
    "## Costs"
   ]
  },
  {
   "cell_type": "code",
   "execution_count": 45,
   "metadata": {},
   "outputs": [
    {
     "data": {
      "text/plain": [
       "1.6197518948533796"
      ]
     },
     "execution_count": 45,
     "metadata": {},
     "output_type": "execute_result"
    }
   ],
   "source": [
    "invoice_sent['billed_weight'].mean() / invoice_sent['entered_weight'].mean()"
   ]
  },
  {
   "cell_type": "code",
   "execution_count": 18,
   "metadata": {},
   "outputs": [
    {
     "name": "stdout",
     "output_type": "stream",
     "text": [
      "2021-03-05\n",
      "2020-12-03\n"
     ]
    }
   ],
   "source": [
    "print(revenue_sent['local_date'].max())\n",
    "print(revenue_sent['local_date'].min())"
   ]
  },
  {
   "cell_type": "code",
   "execution_count": 30,
   "metadata": {},
   "outputs": [
    {
     "data": {
      "text/plain": [
       "array(['SMALL', 'LARGE', 'MEDIUM', 'HEAVY_LARGE', 'HEAVY_SMALL',\n",
       "       'HEAVY_MEDIUM'], dtype=object)"
      ]
     },
     "execution_count": 30,
     "metadata": {},
     "output_type": "execute_result"
    }
   ],
   "source": [
    "revenue_sent['package_size'].unique()"
   ]
  },
  {
   "cell_type": "code",
   "execution_count": 29,
   "metadata": {},
   "outputs": [
    {
     "data": {
      "text/plain": [
       "MEDIUM          8816\n",
       "SMALL           8597\n",
       "LARGE           2473\n",
       "HEAVY_SMALL       96\n",
       "HEAVY_LARGE       10\n",
       "HEAVY_MEDIUM       8\n",
       "Name: package_size, dtype: int64"
      ]
     },
     "execution_count": 29,
     "metadata": {},
     "output_type": "execute_result"
    }
   ],
   "source": [
    "# The number of parcels per every category\n",
    "revenue_sent['package_size'].value_counts()\n",
    "# 8597 small items, 8816 medium items, 2473 large items, 10 heavy large items, 96 heavy small items, 8 heavy medium items."
   ]
  },
  {
   "cell_type": "code",
   "execution_count": 42,
   "metadata": {},
   "outputs": [],
   "source": [
    "invoice_sent_small = invoice_sent[invoice_sent['package_size_code'] == 'SMALL']\n",
    "invoice_sent_medium = invoice_sent[invoice_sent['package_size_code'] == 'MEDIUM']\n",
    "invoice_sent_large = invoice_sent[invoice_sent['package_size_code'] == 'LARGE']\n",
    "invoice_sent_heavy_small = invoice_sent[invoice_sent['package_size_code'] == 'HEAVY_SMALL']\n",
    "invoice_sent_heavy_medium = invoice_sent[invoice_sent['package_size_code'] == 'HEAVY_MEDIUM']\n",
    "invoice_sent_heavy_large = invoice_sent[invoice_sent['package_size_code'] == 'HEAVY_LARGE']"
   ]
  },
  {
   "cell_type": "code",
   "execution_count": 38,
   "metadata": {},
   "outputs": [
    {
     "name": "stdout",
     "output_type": "stream",
     "text": [
      "41013.939999999995\n",
      "44479.57\n",
      "14576.84\n",
      "759.47\n",
      "62.89\n",
      "128.29999999999998\n"
     ]
    }
   ],
   "source": [
    "# The total amount the carrier is charging Vinted per package size\n",
    "print(invoice_sent_small['amount'].sum())\n",
    "print(invoice_sent_medium['amount'].sum())\n",
    "print(invoice_sent_large['amount'].sum())\n",
    "print(invoice_sent_heavy_small['amount'].sum())\n",
    "print(invoice_sent_heavy_medium['amount'].sum())\n",
    "print(invoice_sent_heavy_large['amount'].sum())"
   ]
  },
  {
   "cell_type": "code",
   "execution_count": 39,
   "metadata": {},
   "outputs": [
    {
     "name": "stdout",
     "output_type": "stream",
     "text": [
      "5.0510505\n",
      "4.770726997789926\n",
      "5.045323275862069\n",
      "5.894395471087748\n",
      "7.911145833333333\n",
      "7.86125\n",
      "12.829999999999998\n"
     ]
    }
   ],
   "source": [
    "# Average amount the carrier is charging Vinted per package size\n",
    "print(invoice_sent['amount'].mean())\n",
    "print(invoice_sent_small['amount'].mean())\n",
    "print(invoice_sent_medium['amount'].mean())\n",
    "print(invoice_sent_large['amount'].mean())\n",
    "print(invoice_sent_heavy_small['amount'].mean())\n",
    "print(invoice_sent_heavy_medium['amount'].mean())\n",
    "print(invoice_sent_heavy_large['amount'].mean())\n"
   ]
  },
  {
   "cell_type": "markdown",
   "metadata": {},
   "source": [
    "## Revenue"
   ]
  },
  {
   "cell_type": "code",
   "execution_count": 41,
   "metadata": {},
   "outputs": [],
   "source": [
    "revenue_sent_small = revenue_sent[revenue_sent['package_size'] == 'SMALL']\n",
    "revenue_sent_medium = revenue_sent[revenue_sent['package_size'] == 'MEDIUM']\n",
    "revenue_sent_large = revenue_sent[revenue_sent['package_size'] == 'LARGE']\n",
    "revenue_sent_heavy_small = revenue_sent[revenue_sent['package_size'] == 'HEAVY_SMALL']\n",
    "revenue_sent_heavy_medium = revenue_sent[revenue_sent['package_size'] == 'HEAVY_MEDIUM']\n",
    "revenue_sent_heavy_large = revenue_sent[revenue_sent['package_size'] == 'HEAVY_LARGE']"
   ]
  },
  {
   "cell_type": "code",
   "execution_count": 44,
   "metadata": {},
   "outputs": [
    {
     "name": "stdout",
     "output_type": "stream",
     "text": [
      "7508.513999999999\n",
      "7879.5365999999985\n",
      "10184.865600000001\n",
      "489.40319999999997\n",
      "54.8496\n",
      "99.7776\n"
     ]
    }
   ],
   "source": [
    "# Revenue per category\n",
    "print(revenue_sent_small['VAT_excluded'].mean() * 8597) \n",
    "print(revenue_sent_medium['VAT_excluded'].mean() * 8816) \n",
    "print(revenue_sent_large['VAT_excluded'].mean() * 2473) \n",
    "print(revenue_sent_heavy_small['VAT_excluded'].mean() * 96) \n",
    "print(revenue_sent_heavy_medium['VAT_excluded'].mean() * 8) \n",
    "print(revenue_sent_heavy_large['VAT_excluded'].mean() * 10)"
   ]
  },
  {
   "cell_type": "markdown",
   "metadata": {},
   "source": [
    "## Cost"
   ]
  },
  {
   "cell_type": "code",
   "execution_count": 68,
   "metadata": {},
   "outputs": [],
   "source": [
    "revenue_sent['item_sold_proce'] = revenue_sent['gmv'] - revenue_sent['VAT_excluded']"
   ]
  },
  {
   "cell_type": "code",
   "execution_count": 69,
   "metadata": {},
   "outputs": [],
   "source": [
    "dataset['cost'] = dataset['amount'] - 0"
   ]
  },
  {
   "cell_type": "code",
   "execution_count": 70,
   "metadata": {},
   "outputs": [],
   "source": [
    "cost_small = dataset[dataset['package_size'] == 'SMALL']\n",
    "cost_medium = dataset[dataset['package_size'] == 'MEDIUM']\n",
    "cost_large = dataset[dataset['package_size'] == 'LARGE']\n",
    "cost_heavy_small = dataset[dataset['package_size'] == 'HEAVY_SMALL']\n",
    "cost_heavy_medium = dataset[dataset['package_size'] == 'HEAVY_MEDIUM']\n",
    "cost_heavy_large = dataset[dataset['package_size'] == 'HEAVY_LARGE']"
   ]
  },
  {
   "cell_type": "code",
   "execution_count": 71,
   "metadata": {},
   "outputs": [
    {
     "name": "stdout",
     "output_type": "stream",
     "text": [
      "4.770726997789926\n",
      "5.045323275862069\n",
      "5.894395471087748\n",
      "7.911145833333333\n",
      "7.86125\n",
      "12.829999999999998\n"
     ]
    }
   ],
   "source": [
    "# Average costs per package size\n",
    "print(cost_small['cost'].mean())\n",
    "print(cost_medium['cost'].mean())\n",
    "print(cost_large['cost'].mean())\n",
    "print(cost_heavy_small['cost'].mean())\n",
    "print(cost_heavy_medium['cost'].mean())\n",
    "print(cost_heavy_large['cost'].mean())"
   ]
  },
  {
   "cell_type": "code",
   "execution_count": 72,
   "metadata": {},
   "outputs": [
    {
     "name": "stdout",
     "output_type": "stream",
     "text": [
      "41013.939999999995\n",
      "44479.57\n",
      "14576.84\n",
      "759.47\n",
      "62.89\n",
      "128.29999999999998\n"
     ]
    }
   ],
   "source": [
    "# Total costs per package size\n",
    "print(cost_small['cost'].sum())\n",
    "print(cost_medium['cost'].sum())\n",
    "print(cost_large['cost'].sum())\n",
    "print(cost_heavy_small['cost'].sum())\n",
    "print(cost_heavy_medium['cost'].sum())\n",
    "print(cost_heavy_large['cost'].sum())"
   ]
  },
  {
   "cell_type": "markdown",
   "metadata": {},
   "source": [
    "#### GMV per package size"
   ]
  },
  {
   "cell_type": "code",
   "execution_count": 73,
   "metadata": {},
   "outputs": [
    {
     "name": "stdout",
     "output_type": "stream",
     "text": [
      "167691.99000000002\n",
      "222847.58\n",
      "117358.14\n",
      "5404.549999999999\n",
      "312.0\n",
      "515.0\n"
     ]
    }
   ],
   "source": [
    "print(cost_small['gmv'].sum())\n",
    "print(cost_medium['gmv'].sum())\n",
    "print(cost_large['gmv'].sum())\n",
    "print(cost_heavy_small['gmv'].sum())\n",
    "print(cost_heavy_medium['gmv'].sum())\n",
    "print(cost_heavy_large['gmv'].sum())"
   ]
  },
  {
   "cell_type": "markdown",
   "metadata": {},
   "source": [
    "# Profit"
   ]
  },
  {
   "cell_type": "code",
   "execution_count": 74,
   "metadata": {},
   "outputs": [],
   "source": [
    "dataset['cost'] = dataset['amount'] - 0"
   ]
  },
  {
   "cell_type": "code",
   "execution_count": 75,
   "metadata": {},
   "outputs": [],
   "source": [
    "dataset['item_sold_price'] = dataset['gmv'] - dataset['VAT_excluded']"
   ]
  },
  {
   "cell_type": "code",
   "execution_count": 76,
   "metadata": {},
   "outputs": [],
   "source": [
    "dataset['profit'] = dataset['gmv'] - dataset['item_sold_price'] - dataset['cost']"
   ]
  },
  {
   "cell_type": "code",
   "execution_count": 77,
   "metadata": {},
   "outputs": [],
   "source": [
    "profit_small= dataset[dataset['package_size'] == 'SMALL']\n",
    "profit_medium= dataset[dataset['package_size'] == 'MEDIUM']\n",
    "profit_large = dataset[dataset['package_size'] == 'LARGE']\n",
    "profit_heavy_small = dataset[dataset['package_size'] == 'HEAVY_SMALL']\n",
    "profit_heavy_medium = dataset[dataset['package_size'] == 'HEAVY_MEDIUM']\n",
    "profit_heavy_large = dataset[dataset['package_size'] == 'HEAVY_LARGE']"
   ]
  },
  {
   "cell_type": "code",
   "execution_count": 83,
   "metadata": {},
   "outputs": [
    {
     "name": "stdout",
     "output_type": "stream",
     "text": [
      "-33505.426\n",
      "-36600.03340000001\n",
      "-4391.9744\n",
      "-270.06679999999994\n",
      "-8.040399999999991\n",
      "-28.52240000000001\n"
     ]
    }
   ],
   "source": [
    "# Gross profit per package size\n",
    "print(profit_small['profit'].sum())\n",
    "print(profit_medium['profit'].sum())\n",
    "print(profit_large['profit'].sum())\n",
    "print(profit_heavy_small['profit'].sum())\n",
    "print(profit_heavy_medium['profit'].sum())\n",
    "print(profit_heavy_large['profit'].sum())"
   ]
  },
  {
   "cell_type": "code",
   "execution_count": 79,
   "metadata": {},
   "outputs": [
    {
     "data": {
      "text/plain": [
       "-74804.0634"
      ]
     },
     "execution_count": 79,
     "metadata": {},
     "output_type": "execute_result"
    }
   ],
   "source": [
    "dataset['profit'].sum()"
   ]
  },
  {
   "cell_type": "code",
   "execution_count": 80,
   "metadata": {},
   "outputs": [
    {
     "data": {
      "text/plain": [
       "26216.946600000003"
      ]
     },
     "execution_count": 80,
     "metadata": {},
     "output_type": "execute_result"
    }
   ],
   "source": [
    "dataset['VAT_excluded'].sum()"
   ]
  },
  {
   "cell_type": "code",
   "execution_count": 81,
   "metadata": {},
   "outputs": [
    {
     "data": {
      "text/plain": [
       "101021.01"
      ]
     },
     "execution_count": 81,
     "metadata": {},
     "output_type": "execute_result"
    }
   ],
   "source": [
    "dataset['amount'].sum()"
   ]
  },
  {
   "cell_type": "code",
   "execution_count": 84,
   "metadata": {},
   "outputs": [
    {
     "name": "stdout",
     "output_type": "stream",
     "text": [
      "-3.8973393044085145\n",
      "-4.1515464382940115\n",
      "-1.7759702385766276\n",
      "-2.813195833333333\n",
      "-1.0050499999999989\n",
      "-2.852240000000001\n"
     ]
    }
   ],
   "source": [
    "# Average profit per package size\n",
    "print(profit_small['profit'].mean())\n",
    "print(profit_medium['profit'].mean())\n",
    "print(profit_large['profit'].mean())\n",
    "print(profit_heavy_small['profit'].mean())\n",
    "print(profit_heavy_medium['profit'].mean())\n",
    "print(profit_heavy_large['profit'].mean())"
   ]
  }
 ],
 "metadata": {
  "kernelspec": {
   "display_name": "Python 3.10.2 64-bit",
   "language": "python",
   "name": "python3"
  },
  "language_info": {
   "codemirror_mode": {
    "name": "ipython",
    "version": 3
   },
   "file_extension": ".py",
   "mimetype": "text/x-python",
   "name": "python",
   "nbconvert_exporter": "python",
   "pygments_lexer": "ipython3",
   "version": "3.10.2"
  },
  "orig_nbformat": 4,
  "vscode": {
   "interpreter": {
    "hash": "aee8b7b246df8f9039afb4144a1f6fd8d2ca17a180786b69acc140d282b71a49"
   }
  }
 },
 "nbformat": 4,
 "nbformat_minor": 2
}
