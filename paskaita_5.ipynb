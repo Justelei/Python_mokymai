{
 "cells": [
  {
   "cell_type": "markdown",
   "metadata": {},
   "source": [
    "# Skirtingu tipu klaidos"
   ]
  },
  {
   "cell_type": "code",
   "execution_count": null,
   "metadata": {},
   "outputs": [],
   "source": [
    "# 1. SyntaxError\n",
    "# 2. IndexError - bandymas pasiekti neegzistuojanti indeksa\n",
    "# 3. ModuleNotFoundError - kai bandome importuoti neegzistuojanti, neirasyta moduli\n",
    "# 4. KeyError - kai kreipiames i raktazodi, kurio nera\n",
    "# 5. ImportError - kai bandome importuoti neegzistuojancia funkcija\n",
    "# 6. StopIteration - kai next() funkcija perzengia iteruojamus duomenis\n",
    "# 7. TypeError - kai bandome atlikti veiksmus su netinkamu duomenu tipu\n",
    "# 8. ValueError - kai funkcijos argumentas yra netinkamo tipo\n",
    "# 9. NameError - kai objektas nerandamas"
   ]
  },
  {
   "cell_type": "code",
   "execution_count": null,
   "metadata": {},
   "outputs": [],
   "source": [
    "import math"
   ]
  },
  {
   "cell_type": "code",
   "execution_count": 1,
   "metadata": {},
   "outputs": [
    {
     "ename": "ImportError",
     "evalue": "cannot import name 'cude' from 'math' (unknown location)",
     "output_type": "error",
     "traceback": [
      "\u001b[1;31m---------------------------------------------------------------------------\u001b[0m",
      "\u001b[1;31mImportError\u001b[0m                               Traceback (most recent call last)",
      "\u001b[1;32mc:\\Users\\laima\\Desktop\\Python_mokymai\\Python_mokymai\\paskaita_5.ipynb Cell 4'\u001b[0m in \u001b[0;36m<module>\u001b[1;34m\u001b[0m\n\u001b[1;32m----> <a href='vscode-notebook-cell:/c%3A/Users/laima/Desktop/Python_mokymai/Python_mokymai/paskaita_5.ipynb#ch0000003?line=0'>1</a>\u001b[0m \u001b[39mfrom\u001b[39;00m \u001b[39mmath\u001b[39;00m \u001b[39mimport\u001b[39;00m sin,cos, cude\n",
      "\u001b[1;31mImportError\u001b[0m: cannot import name 'cude' from 'math' (unknown location)"
     ]
    }
   ],
   "source": [
    "from math import sin,cos, cude"
   ]
  },
  {
   "cell_type": "code",
   "execution_count": 2,
   "metadata": {},
   "outputs": [
    {
     "ename": "TypeError",
     "evalue": "can only concatenate str (not \"int\") to str",
     "output_type": "error",
     "traceback": [
      "\u001b[1;31m---------------------------------------------------------------------------\u001b[0m",
      "\u001b[1;31mTypeError\u001b[0m                                 Traceback (most recent call last)",
      "\u001b[1;32mc:\\Users\\laima\\Desktop\\Python_mokymai\\Python_mokymai\\paskaita_5.ipynb Cell 5'\u001b[0m in \u001b[0;36m<module>\u001b[1;34m\u001b[0m\n\u001b[1;32m----> <a href='vscode-notebook-cell:/c%3A/Users/laima/Desktop/Python_mokymai/Python_mokymai/paskaita_5.ipynb#ch0000004?line=0'>1</a>\u001b[0m \u001b[39m'\u001b[39;49m\u001b[39m2\u001b[39;49m\u001b[39m'\u001b[39;49m \u001b[39m+\u001b[39;49m \u001b[39m2\u001b[39;49m\n",
      "\u001b[1;31mTypeError\u001b[0m: can only concatenate str (not \"int\") to str"
     ]
    }
   ],
   "source": [
    "'2' + 2"
   ]
  },
  {
   "cell_type": "code",
   "execution_count": 3,
   "metadata": {},
   "outputs": [
    {
     "ename": "ValueError",
     "evalue": "invalid literal for int() with base 10: 'a'",
     "output_type": "error",
     "traceback": [
      "\u001b[1;31m---------------------------------------------------------------------------\u001b[0m",
      "\u001b[1;31mValueError\u001b[0m                                Traceback (most recent call last)",
      "\u001b[1;32mc:\\Users\\laima\\Desktop\\Python_mokymai\\Python_mokymai\\paskaita_5.ipynb Cell 6'\u001b[0m in \u001b[0;36m<module>\u001b[1;34m\u001b[0m\n\u001b[1;32m----> <a href='vscode-notebook-cell:/c%3A/Users/laima/Desktop/Python_mokymai/Python_mokymai/paskaita_5.ipynb#ch0000005?line=0'>1</a>\u001b[0m \u001b[39mint\u001b[39;49m(\u001b[39m'\u001b[39;49m\u001b[39ma\u001b[39;49m\u001b[39m'\u001b[39;49m)\n",
      "\u001b[1;31mValueError\u001b[0m: invalid literal for int() with base 10: 'a'"
     ]
    }
   ],
   "source": [
    "int('a')"
   ]
  },
  {
   "cell_type": "code",
   "execution_count": 4,
   "metadata": {},
   "outputs": [
    {
     "ename": "NameError",
     "evalue": "name 'mano_vardas' is not defined",
     "output_type": "error",
     "traceback": [
      "\u001b[1;31m---------------------------------------------------------------------------\u001b[0m",
      "\u001b[1;31mNameError\u001b[0m                                 Traceback (most recent call last)",
      "\u001b[1;32mc:\\Users\\laima\\Desktop\\Python_mokymai\\Python_mokymai\\paskaita_5.ipynb Cell 7'\u001b[0m in \u001b[0;36m<module>\u001b[1;34m\u001b[0m\n\u001b[1;32m----> <a href='vscode-notebook-cell:/c%3A/Users/laima/Desktop/Python_mokymai/Python_mokymai/paskaita_5.ipynb#ch0000006?line=0'>1</a>\u001b[0m \u001b[39mprint\u001b[39m(mano_vardas)\n",
      "\u001b[1;31mNameError\u001b[0m: name 'mano_vardas' is not defined"
     ]
    }
   ],
   "source": [
    "print(mano_vardas)"
   ]
  },
  {
   "cell_type": "code",
   "execution_count": 5,
   "metadata": {},
   "outputs": [],
   "source": [
    "# Klaidos sukelimas: raise ir klaidos pavadinimas\n",
    "\n",
    "def add_2 (a, b):\n",
    "    if not isinstance(a, int): # jei a kintamasis nera skaicius\n",
    "        raise ValueError('Kintamojo a reiksme netinkama, turi buti sveikasis skaicius')\n",
    "    if not isinstance(b, int): # jei a kintamasis nera skaicius\n",
    "        raise ValueError('Kintamojo b reiksme netinkama, turi buti sveikasis skaicius')\n",
    "    return a + b"
   ]
  },
  {
   "cell_type": "code",
   "execution_count": 6,
   "metadata": {},
   "outputs": [
    {
     "data": {
      "text/plain": [
       "7"
      ]
     },
     "execution_count": 6,
     "metadata": {},
     "output_type": "execute_result"
    }
   ],
   "source": [
    "print(add_2(2,5))"
   ]
  },
  {
   "cell_type": "code",
   "execution_count": 13,
   "metadata": {},
   "outputs": [
    {
     "ename": "ValueError",
     "evalue": "Kintamojo b reiksme netinkama, turi buti sveikasis skaicius",
     "output_type": "error",
     "traceback": [
      "\u001b[1;31m---------------------------------------------------------------------------\u001b[0m",
      "\u001b[1;31mValueError\u001b[0m                                Traceback (most recent call last)",
      "\u001b[1;32mc:\\Users\\laima\\Desktop\\Python_mokymai\\Python_mokymai\\paskaita_5.ipynb Cell 10'\u001b[0m in \u001b[0;36m<module>\u001b[1;34m\u001b[0m\n\u001b[1;32m----> <a href='vscode-notebook-cell:/c%3A/Users/laima/Desktop/Python_mokymai/Python_mokymai/paskaita_5.ipynb#ch0000009?line=0'>1</a>\u001b[0m \u001b[39mprint\u001b[39m(add_2(\u001b[39m5\u001b[39;49m,\u001b[39m'\u001b[39;49m\u001b[39m7\u001b[39;49m\u001b[39m'\u001b[39;49m))\n",
      "\u001b[1;32mc:\\Users\\laima\\Desktop\\Python_mokymai\\Python_mokymai\\paskaita_5.ipynb Cell 8'\u001b[0m in \u001b[0;36madd_2\u001b[1;34m(a, b)\u001b[0m\n\u001b[0;32m      <a href='vscode-notebook-cell:/c%3A/Users/laima/Desktop/Python_mokymai/Python_mokymai/paskaita_5.ipynb#ch0000007?line=4'>5</a>\u001b[0m     \u001b[39mraise\u001b[39;00m \u001b[39mValueError\u001b[39;00m(\u001b[39m'\u001b[39m\u001b[39mKintamojo a reiksme netinkama, turi buti sveikasis skaicius\u001b[39m\u001b[39m'\u001b[39m)\n\u001b[0;32m      <a href='vscode-notebook-cell:/c%3A/Users/laima/Desktop/Python_mokymai/Python_mokymai/paskaita_5.ipynb#ch0000007?line=5'>6</a>\u001b[0m \u001b[39mif\u001b[39;00m \u001b[39mnot\u001b[39;00m \u001b[39misinstance\u001b[39m(b, \u001b[39mint\u001b[39m): \u001b[39m# jei a kintamasis nera skaicius\u001b[39;00m\n\u001b[1;32m----> <a href='vscode-notebook-cell:/c%3A/Users/laima/Desktop/Python_mokymai/Python_mokymai/paskaita_5.ipynb#ch0000007?line=6'>7</a>\u001b[0m     \u001b[39mraise\u001b[39;00m \u001b[39mValueError\u001b[39;00m(\u001b[39m'\u001b[39m\u001b[39mKintamojo b reiksme netinkama, turi buti sveikasis skaicius\u001b[39m\u001b[39m'\u001b[39m)\n\u001b[0;32m      <a href='vscode-notebook-cell:/c%3A/Users/laima/Desktop/Python_mokymai/Python_mokymai/paskaita_5.ipynb#ch0000007?line=7'>8</a>\u001b[0m \u001b[39mreturn\u001b[39;00m a \u001b[39m+\u001b[39m b\n",
      "\u001b[1;31mValueError\u001b[0m: Kintamojo b reiksme netinkama, turi buti sveikasis skaicius"
     ]
    }
   ],
   "source": [
    "print(add_2(5,'7'))"
   ]
  },
  {
   "cell_type": "markdown",
   "metadata": {},
   "source": [
    "# Python errors / exceptions"
   ]
  },
  {
   "cell_type": "markdown",
   "metadata": {},
   "source": [
    "#### Try/except"
   ]
  },
  {
   "cell_type": "code",
   "execution_count": 15,
   "metadata": {},
   "outputs": [
    {
     "name": "stdout",
     "output_type": "stream",
     "text": [
      "try pradzia\n",
      "32\n",
      "try pabaiga\n",
      "po try/except\n"
     ]
    }
   ],
   "source": [
    "# Pythone egzistuoja klaidos, kai rasome neteisinga koda, bandome padalinti string is skaiciaus ar skaiciu is nulio ir tt.\n",
    "# Kai Python skaito koda nuo virsaus i apacia, sutikes klaida kodas sustoja ir toliau nebera vykdomas\n",
    "# Tam, kad galetume valdyti ir kontroliuoti klaidas naudojame try/except/finally\n",
    "# SVARBU! try/except reiketu vengti naudoti. Jei imanoma, problema pirmiausiai reikia sutvarkyti kitais budas.\n",
    "# Try/except turetu buti paskutinis variantas.\n",
    "\n",
    "try:\n",
    "    print('try pradzia')\n",
    "    x = 32\n",
    "    print(x)\n",
    "    print('try pabaiga')\n",
    "except Exception:\n",
    "    print('Except dalis')\n",
    "\n",
    "print('po try/except')   # kode klaidu nera, atspausdina viska, tik ne except dali nes jokia klaida neivyko)"
   ]
  },
  {
   "cell_type": "code",
   "execution_count": 21,
   "metadata": {},
   "outputs": [
    {
     "name": "stdout",
     "output_type": "stream",
     "text": [
      "try pradzia\n",
      "Except dalis\n",
      "po try/except\n"
     ]
    }
   ],
   "source": [
    "try:\n",
    "    # z = 5/0 pagauna sita klaida i, nebetikrina apatinio kodo ir persoka i except\n",
    "    print('try pradzia')\n",
    "    x = 32\n",
    "    y = '6' + 32\n",
    "    print(x)\n",
    "    print('try pabaiga')\n",
    "except Exception:\n",
    "    print('Except dalis')\n",
    "\n",
    "print('po try/except') #klaidos neismete, atspausdino try pradzia, o tada iskart except dalis ir pabaiga, kai gaunam klaida, except ja pagauna,\n",
    "# vietoj to kad ismestu klaida ir sustabdytu visa koda, persoka i except vieta"
   ]
  },
  {
   "cell_type": "code",
   "execution_count": 18,
   "metadata": {},
   "outputs": [],
   "source": [
    "# Exception - apima daug klaidu, jei nors viena is tu klaidu gaunama, except ja pagaus ir neleis sustoti  musu kodui"
   ]
  },
  {
   "cell_type": "code",
   "execution_count": 26,
   "metadata": {},
   "outputs": [
    {
     "name": "stdout",
     "output_type": "stream",
     "text": [
      "try pradzia\n",
      "TypeError except dalis\n",
      "can only concatenate str (not \"int\") to str\n",
      "po try/except\n"
     ]
    }
   ],
   "source": [
    "try:\n",
    "    #z = 5 / 0\n",
    "    print('try pradzia')\n",
    "    x = 32\n",
    "    y = '6' + 32  # cia ivyko klaida\n",
    "    print(x)\n",
    "    print('try pabaiga')\n",
    "except ZeroDivisionError as e:\n",
    "    print('ZeroDivisionError except dalis')\n",
    "    print(e)\n",
    "except TypeError as e: # ivykdo sia dali\n",
    "    print('TypeError except dalis')\n",
    "    print(e) #atspausdina klaida, zinute to type errpr\n",
    "\n",
    "print('po try/except')"
   ]
  },
  {
   "cell_type": "code",
   "execution_count": 27,
   "metadata": {},
   "outputs": [],
   "source": [
    "k = 0\n",
    "\n",
    "if k == 0:\n",
    "    k = 0.0000000000000001\n",
    "\n",
    "z = 5 / k"
   ]
  },
  {
   "cell_type": "code",
   "execution_count": 28,
   "metadata": {},
   "outputs": [
    {
     "name": "stdout",
     "output_type": "stream",
     "text": [
      "5e+16\n"
     ]
    }
   ],
   "source": [
    "print(z)"
   ]
  },
  {
   "cell_type": "code",
   "execution_count": 32,
   "metadata": {},
   "outputs": [
    {
     "name": "stdout",
     "output_type": "stream",
     "text": [
      "16\n"
     ]
    }
   ],
   "source": [
    "a = '6'\n",
    "if not isinstance(a, int):\n",
    "    a = int(a)\n",
    "\n",
    "y = a + 10\n",
    "print(y)"
   ]
  },
  {
   "cell_type": "code",
   "execution_count": 36,
   "metadata": {},
   "outputs": [
    {
     "name": "stdout",
     "output_type": "stream",
     "text": [
      "try pradzia\n",
      "TypeError except dalis\n",
      "Traceback (most recent call last):\n",
      "  File \"C:\\Users\\laima\\AppData\\Local\\Temp\\ipykernel_1192\\3433879169.py\", line 7, in <module>\n",
      "    y = '6' + 32  # cia ivyko klaida\n",
      "TypeError: can only concatenate str (not \"int\") to str\n",
      "\n",
      "po visko\n"
     ]
    }
   ],
   "source": [
    "import traceback\n",
    "\n",
    "try:\n",
    "    #z = 5 / 0\n",
    "    print('try pradzia')\n",
    "    x = 32\n",
    "    y = '6' + 32  # cia ivyko klaida\n",
    "    print(x)\n",
    "    print('try pabaiga')\n",
    "except ZeroDivisionError as e:\n",
    "    print('ZeroDivisionError except dalis')\n",
    "    print(traceback.format_exc())\n",
    "    #print(e)\n",
    "except TypeError as e: # ivykdo sia dali\n",
    "    print('TypeError except dalis')\n",
    "    print(traceback.format_exc()) # suformuoja kur ivyko klaida, teksta\n",
    "    #traceback.print_exc()\n",
    "    #print(e) #atspausdina klaida, zinute to type errpr\n",
    "\n",
    "print('po visko')"
   ]
  },
  {
   "cell_type": "markdown",
   "metadata": {},
   "source": [
    "# Working with files\n",
    "os - operating system"
   ]
  },
  {
   "cell_type": "code",
   "execution_count": 37,
   "metadata": {},
   "outputs": [],
   "source": [
    "# 1. Norint dirbti su failais per Python, vienas paprasciausiu moduliu yra os, tam kad ji naudotume turime ji importuoti parasant import os kodo pradzioje\n",
    "# 2. os paketas yra skirtas narsyti kompiuretio sistemoje, pasiekti norimas direktorijas, kurti naujus, istrinti, failus ir tt"
   ]
  },
  {
   "cell_type": "markdown",
   "metadata": {},
   "source": [
    "#### Relative vs. Absolute path"
   ]
  },
  {
   "cell_type": "code",
   "execution_count": null,
   "metadata": {},
   "outputs": [],
   "source": [
    "# kaip yra narsoma programiskai per kompiuteri, viskas vyksta per kelius"
   ]
  },
  {
   "cell_type": "markdown",
   "metadata": {},
   "source": [
    "#### os metodas"
   ]
  },
  {
   "cell_type": "code",
   "execution_count": 38,
   "metadata": {},
   "outputs": [],
   "source": [
    "import os"
   ]
  },
  {
   "cell_type": "code",
   "execution_count": 39,
   "metadata": {},
   "outputs": [
    {
     "data": {
      "text/plain": [
       "'c:\\\\Users\\\\laima\\\\Desktop\\\\Python_mokymai\\\\Python_mokymai'"
      ]
     },
     "execution_count": 39,
     "metadata": {},
     "output_type": "execute_result"
    }
   ],
   "source": [
    "os.getcwd() # kur siuo metu esam"
   ]
  },
  {
   "cell_type": "code",
   "execution_count": 41,
   "metadata": {},
   "outputs": [
    {
     "data": {
      "text/plain": [
       "['.git',\n",
       " '.gitignore',\n",
       " '3pask.ipynb',\n",
       " 'paskaita_1.ipynb',\n",
       " 'Paskaita_2.ipynb',\n",
       " 'paskaita_2_new.ipynb',\n",
       " 'paskaita_3.ipynb',\n",
       " 'paskaita_3_nd.ipynb',\n",
       " 'paskaita_3_new.ipynb',\n",
       " 'paskaita_4.ipynb',\n",
       " 'paskaita_4_new.ipynb',\n",
       " 'paskaita_5.ipynb',\n",
       " 'paskaita_6.ipynb',\n",
       " 'paskaita_7.ipynb',\n",
       " 'README.md',\n",
       " 'test.ipynb',\n",
       " 'testasss.ipynb',\n",
       " 'winemag-data.csv']"
      ]
     },
     "execution_count": 41,
     "metadata": {},
     "output_type": "execute_result"
    }
   ],
   "source": [
    "os.listdir() #kas egzistuoja dabartiniame aplanke"
   ]
  },
  {
   "cell_type": "code",
   "execution_count": 42,
   "metadata": {},
   "outputs": [
    {
     "data": {
      "text/plain": [
       "['COMMIT_EDITMSG',\n",
       " 'config',\n",
       " 'description',\n",
       " 'HEAD',\n",
       " 'hooks',\n",
       " 'index',\n",
       " 'info',\n",
       " 'logs',\n",
       " 'objects',\n",
       " 'packed-refs',\n",
       " 'refs']"
      ]
     },
     "execution_count": 42,
     "metadata": {},
     "output_type": "execute_result"
    }
   ],
   "source": [
    "os.listdir('.git') # kas git viduje"
   ]
  },
  {
   "cell_type": "code",
   "execution_count": 43,
   "metadata": {},
   "outputs": [
    {
     "data": {
      "text/plain": [
       "['.git',\n",
       " '.gitignore',\n",
       " '.vscode',\n",
       " 'paskaita_1.ipynb',\n",
       " 'Paskaita_2.ipynb',\n",
       " 'paskaita_2_new.ipynb',\n",
       " 'paskaita_3.ipynb',\n",
       " 'Paskaita_3_new.ipynb',\n",
       " 'paskaita_4.ipynb',\n",
       " 'Python_mokymai',\n",
       " 'README.md',\n",
       " 'TEST.txt']"
      ]
     },
     "execution_count": 43,
     "metadata": {},
     "output_type": "execute_result"
    }
   ],
   "source": [
    "os.listdir('c:\\\\Users\\\\laima\\\\Desktop\\\\Python_mokymai')"
   ]
  },
  {
   "cell_type": "code",
   "execution_count": 44,
   "metadata": {},
   "outputs": [],
   "source": [
    "os.chdir('../') # galima pasikeisti savo esama pozicija, grizo vienu auksciau"
   ]
  },
  {
   "cell_type": "code",
   "execution_count": 45,
   "metadata": {},
   "outputs": [
    {
     "data": {
      "text/plain": [
       "'c:\\\\Users\\\\laima\\\\Desktop\\\\Python_mokymai'"
      ]
     },
     "execution_count": 45,
     "metadata": {},
     "output_type": "execute_result"
    }
   ],
   "source": [
    "os.getcwd()"
   ]
  },
  {
   "cell_type": "code",
   "execution_count": 48,
   "metadata": {},
   "outputs": [
    {
     "data": {
      "text/plain": [
       "'c:\\\\Users\\\\laima\\\\Desktop\\\\Python_mokymai\\\\Python_mokymai'"
      ]
     },
     "execution_count": 48,
     "metadata": {},
     "output_type": "execute_result"
    }
   ],
   "source": [
    "os.chdir('c:\\\\Users\\\\laima\\\\Desktop\\\\Python_mokymai\\\\Python_mokymai')\n",
    "os.getcwd()\n",
    "\n",
    "# grizta kur buvom"
   ]
  },
  {
   "cell_type": "markdown",
   "metadata": {},
   "source": [
    "#### os methods"
   ]
  },
  {
   "cell_type": "code",
   "execution_count": 56,
   "metadata": {},
   "outputs": [],
   "source": [
    "os.makedirs('a/b/c/d') "
   ]
  },
  {
   "cell_type": "code",
   "execution_count": 57,
   "metadata": {},
   "outputs": [],
   "source": [
    "os.removedirs('a/b/c/d') #i stryne folders bet tik tuscius\n"
   ]
  },
  {
   "cell_type": "code",
   "execution_count": 64,
   "metadata": {},
   "outputs": [
    {
     "name": "stdout",
     "output_type": "stream",
     "text": [
      "testinis dokumentas\n",
      "3455\n",
      "Hello world\n"
     ]
    },
    {
     "ename": "ValueError",
     "evalue": "I/O operation on closed file.",
     "output_type": "error",
     "traceback": [
      "\u001b[1;31m---------------------------------------------------------------------------\u001b[0m",
      "\u001b[1;31mValueError\u001b[0m                                Traceback (most recent call last)",
      "\u001b[1;32mc:\\Users\\laima\\Desktop\\Python_mokymai\\Python_mokymai\\paskaita_5.ipynb Cell 37'\u001b[0m in \u001b[0;36m<module>\u001b[1;34m\u001b[0m\n\u001b[0;32m      <a href='vscode-notebook-cell:/c%3A/Users/laima/Desktop/Python_mokymai/Python_mokymai/paskaita_5.ipynb#ch0000040?line=2'>3</a>\u001b[0m \u001b[39mwith\u001b[39;00m \u001b[39mopen\u001b[39m(\u001b[39m'\u001b[39m\u001b[39mtest.txt\u001b[39m\u001b[39m'\u001b[39m, \u001b[39m'\u001b[39m\u001b[39mr\u001b[39m\u001b[39m'\u001b[39m) \u001b[39mas\u001b[39;00m file_read:\n\u001b[0;32m      <a href='vscode-notebook-cell:/c%3A/Users/laima/Desktop/Python_mokymai/Python_mokymai/paskaita_5.ipynb#ch0000040?line=3'>4</a>\u001b[0m     \u001b[39mprint\u001b[39m(file_read\u001b[39m.\u001b[39mread())\n\u001b[1;32m----> <a href='vscode-notebook-cell:/c%3A/Users/laima/Desktop/Python_mokymai/Python_mokymai/paskaita_5.ipynb#ch0000040?line=5'>6</a>\u001b[0m file_read\u001b[39m.\u001b[39;49mread()\n",
      "\u001b[1;31mValueError\u001b[0m: I/O operation on closed file."
     ]
    }
   ],
   "source": [
    "# dokumentu skaitymas\n",
    "\n",
    "with open('test.txt', 'r') as file_read:\n",
    "    print(file_read.read())\n",
    "\n",
    "#file_read.read() indikuoja kad baigem darba su dokumentu ir ji uzdarem , negalim daugiau skaityt"
   ]
  },
  {
   "cell_type": "code",
   "execution_count": 68,
   "metadata": {},
   "outputs": [],
   "source": [
    "# dokumentu rasymas\n",
    "\n",
    "cities = ['Vilnius', 'Kaunas', 'Klaipeda']\n",
    "with open('test_write.txt', 'w') as file_write:\n",
    "    for city in cities:\n",
    "        file_write.write(city + '\\n')"
   ]
  },
  {
   "cell_type": "code",
   "execution_count": null,
   "metadata": {},
   "outputs": [],
   "source": []
  }
 ],
 "metadata": {
  "interpreter": {
   "hash": "c1079bb051ce826b2586e8a117626216eeafca56017ae30fdaacad9a7d00cd2c"
  },
  "kernelspec": {
   "display_name": "Python 3.10.2 64-bit",
   "language": "python",
   "name": "python3"
  },
  "language_info": {
   "codemirror_mode": {
    "name": "ipython",
    "version": 3
   },
   "file_extension": ".py",
   "mimetype": "text/x-python",
   "name": "python",
   "nbconvert_exporter": "python",
   "pygments_lexer": "ipython3",
   "version": "3.10.2"
  },
  "orig_nbformat": 4
 },
 "nbformat": 4,
 "nbformat_minor": 2
}
