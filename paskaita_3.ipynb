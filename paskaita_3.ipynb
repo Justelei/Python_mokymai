{
 "cells": [
  {
   "cell_type": "code",
   "execution_count": 1,
   "metadata": {},
   "outputs": [
    {
     "name": "stdout",
     "output_type": "stream",
     "text": [
      "PYTHON MAKES ME REALLY REALLY HAPPY!\n",
      "PyThOn makes me really really happy!\n"
     ]
    }
   ],
   "source": [
    "text = \"Python makes me really really happy!\"\n",
    "print(text.upper())\n",
    "print(text.replace('Python', 'PyThOn'))"
   ]
  },
  {
   "cell_type": "code",
   "execution_count": 10,
   "metadata": {},
   "outputs": [
    {
     "ename": "SyntaxError",
     "evalue": "'(' was never closed (4244360399.py, line 8)",
     "output_type": "error",
     "traceback": [
      "\u001b[1;36m  Input \u001b[1;32mIn [10]\u001b[1;36m\u001b[0m\n\u001b[1;33m    print(text[text.index(#word_to_find):text.index(word_to_find)+len(word_to_find)])\u001b[0m\n\u001b[1;37m                         ^\u001b[0m\n\u001b[1;31mSyntaxError\u001b[0m\u001b[1;31m:\u001b[0m '(' was never closed\n"
     ]
    }
   ],
   "source": [
    "text = \"Hello World, I am happy to learn Python\"\n",
    "print(text.index(\"happy\")) #paklausti del print , duoda same ats su juo ir be jo\n",
    "print(text[18:33])\n",
    "print(text[text.index('happy'):text.index('happy')+len('happy')])\n",
    "\n",
    "print(text[text.index('to'):text.index('to')+len('to')])\n",
    "\n",
    "print(text[text.index(#word_to_find):text.index(word_to_find)+len(word_to_find)])\n",
    "\n",
    "print(len(text))"
   ]
  },
  {
   "cell_type": "markdown",
   "metadata": {},
   "source": [
    "# Homework2"
   ]
  },
  {
   "cell_type": "code",
   "execution_count": 19,
   "metadata": {},
   "outputs": [
    {
     "name": "stdout",
     "output_type": "stream",
     "text": [
      "1983-05-25\n",
      "2022-02-21 18:55:24.993755\n"
     ]
    },
    {
     "ename": "TypeError",
     "evalue": "unsupported operand type(s) for -: 'datetime.datetime' and 'datetime.date'",
     "output_type": "error",
     "traceback": [
      "\u001b[1;31m---------------------------------------------------------------------------\u001b[0m",
      "\u001b[1;31mTypeError\u001b[0m                                 Traceback (most recent call last)",
      "\u001b[1;32mc:\\Users\\laima\\Desktop\\Python_mokymai\\paskaita_3.ipynb Cell 4'\u001b[0m in \u001b[0;36m<module>\u001b[1;34m\u001b[0m\n\u001b[0;32m      <a href='vscode-notebook-cell:/c%3A/Users/laima/Desktop/Python_mokymai/paskaita_3.ipynb#ch0000002?line=7'>8</a>\u001b[0m today \u001b[39m=\u001b[39m datetime\u001b[39m.\u001b[39mtoday()\n\u001b[0;32m      <a href='vscode-notebook-cell:/c%3A/Users/laima/Desktop/Python_mokymai/paskaita_3.ipynb#ch0000002?line=8'>9</a>\u001b[0m \u001b[39mprint\u001b[39m(today)\n\u001b[1;32m---> <a href='vscode-notebook-cell:/c%3A/Users/laima/Desktop/Python_mokymai/paskaita_3.ipynb#ch0000002?line=9'>10</a>\u001b[0m \u001b[39mprint\u001b[39m(\u001b[39mf\u001b[39m\u001b[39m'\u001b[39m\u001b[39mDienu skaicius nuo gimtadienio: \u001b[39m\u001b[39m{\u001b[39;00m(today \u001b[39m-\u001b[39m birthday)\u001b[39m.\u001b[39mdays\u001b[39m}\u001b[39;00m\u001b[39m'\u001b[39m)\n",
      "\u001b[1;31mTypeError\u001b[0m: unsupported operand type(s) for -: 'datetime.datetime' and 'datetime.date'"
     ]
    }
   ],
   "source": [
    "# Kiek dienu praejo nuo jusu gimimo dienos?\n",
    "\n",
    "import datetime\n",
    "from datetime import date, datetime\n",
    "\n",
    "birthday = date(1983, 5, 25)\n",
    "print(birthday)\n",
    "today = datetime.today()\n",
    "print(today)\n",
    "print(f'Dienu skaicius nuo gimtadienio: {(today - birthday).days}')"
   ]
  },
  {
   "cell_type": "code",
   "execution_count": 27,
   "metadata": {},
   "outputs": [
    {
     "name": "stdout",
     "output_type": "stream",
     "text": [
      "(1, 5846, 3, 74, 4, 68, 4, 8, 7, 4)\n",
      "(1, 5846, 3, 74, 4, 68, 4, 8, 7)\n",
      "(1, 3, 4, 4, 7, 8, 68, 74, 5846)\n",
      "2\n",
      "5846\n",
      "5846\n"
     ]
    }
   ],
   "source": [
    "my_tuple = (1, 5846, 3, 74) + (4, 68, 4, 8, 7, 4)\n",
    "print(my_tuple)\n",
    "my_tuple = my_tuple[:-1]\n",
    "print(my_tuple)\n",
    "my_tuple = tuple(sorted(my_tuple))\n",
    "print(my_tuple)\n",
    "print(my_tuple.count(4))\n",
    "print(my_tuple[-1])\n",
    "print(max(my_tuple))"
   ]
  },
  {
   "cell_type": "markdown",
   "metadata": {},
   "source": [
    "# 3 paskaita"
   ]
  },
  {
   "cell_type": "code",
   "execution_count": 29,
   "metadata": {},
   "outputs": [],
   "source": [
    "cities = ['Vilnius','Kaunas','Siauliai','Marijampole','Panevezys','Panevezys']\n"
   ]
  },
  {
   "cell_type": "code",
   "execution_count": 32,
   "metadata": {},
   "outputs": [
    {
     "name": "stdout",
     "output_type": "stream",
     "text": [
      "Sveikiname Vilnius su kazkokia svente\n",
      "pradedam sekancia ciklo iteracija\n",
      "Sveikiname Kaunas su kazkokia svente\n",
      "pradedam sekancia ciklo iteracija\n",
      "Sveikiname Siauliai su kazkokia svente\n",
      "pradedam sekancia ciklo iteracija\n",
      "Sveikiname Marijampole su kazkokia svente\n",
      "pradedam sekancia ciklo iteracija\n",
      "Sveikiname Panevezys su kazkokia svente\n",
      "pradedam sekancia ciklo iteracija\n",
      "Sveikiname Panevezys su kazkokia svente\n",
      "pradedam sekancia ciklo iteracija\n",
      "po ciklo\n"
     ]
    }
   ],
   "source": [
    "for city in cities:\n",
    "    print(f'Sveikiname {city} su kazkokia svente')\n",
    "    print('pradedam sekancia ciklo iteracija')\n",
    "print('po ciklo')"
   ]
  },
  {
   "cell_type": "code",
   "execution_count": 34,
   "metadata": {},
   "outputs": [
    {
     "name": "stdout",
     "output_type": "stream",
     "text": [
      "1\n",
      "2\n",
      "3\n",
      "4\n",
      "5\n",
      "6\n",
      "7\n",
      "8\n",
      "9\n",
      "10\n"
     ]
    }
   ],
   "source": [
    "for number in range(1,11):\n",
    "    print(number)"
   ]
  },
  {
   "cell_type": "code",
   "execution_count": 36,
   "metadata": {},
   "outputs": [
    {
     "name": "stdout",
     "output_type": "stream",
     "text": [
      "1275\n"
     ]
    }
   ],
   "source": [
    "suma = 0\n",
    "for number in range(1,51):\n",
    "    suma += number\n",
    "print(suma)"
   ]
  },
  {
   "cell_type": "code",
   "execution_count": 39,
   "metadata": {},
   "outputs": [
    {
     "name": "stdout",
     "output_type": "stream",
     "text": [
      "6\n",
      "6*1 = 6\n",
      "6*2 = 12\n",
      "6*3 = 18\n",
      "6*4 = 24\n",
      "6*5 = 30\n",
      "6*6 = 36\n",
      "6*7 = 42\n",
      "6*8 = 48\n",
      "6*9 = 54\n",
      "6*10 = 60\n"
     ]
    }
   ],
   "source": [
    "input_number = int(input(\"Iveskite skaiciu:\"))\n",
    "print(input_number)\n",
    "\n",
    "for number in range(1,11):\n",
    "    print(f'{input_number}*{number} = {input_number * number}')"
   ]
  },
  {
   "cell_type": "code",
   "execution_count": 47,
   "metadata": {},
   "outputs": [
    {
     "name": "stdout",
     "output_type": "stream",
     "text": [
      "[('Pirmadienis', 10), ('Pirmadienis', 11), ('Pirmadienis', 12), ('Pirmadienis', 13), ('Pirmadienis', 14), ('Pirmadienis', 15), ('Pirmadienis', 16), ('Pirmadienis', 17), ('Pirmadienis', 18), ('Pirmadienis', 19), ('Antradienis', 10), ('Antradienis', 11), ('Antradienis', 12), ('Antradienis', 13), ('Antradienis', 14), ('Antradienis', 15), ('Antradienis', 16), ('Antradienis', 17), ('Antradienis', 18), ('Antradienis', 19), ('Treciadienis', 10), ('Treciadienis', 11), ('Treciadienis', 12), ('Treciadienis', 13), ('Treciadienis', 14), ('Treciadienis', 15), ('Treciadienis', 16), ('Treciadienis', 17), ('Treciadienis', 18), ('Treciadienis', 19), ('Ketvirtadienis', 10), ('Ketvirtadienis', 11), ('Ketvirtadienis', 12), ('Ketvirtadienis', 13), ('Ketvirtadienis', 14), ('Ketvirtadienis', 15), ('Ketvirtadienis', 16), ('Ketvirtadienis', 17), ('Ketvirtadienis', 18), ('Ketvirtadienis', 19), ('Penktadienis', 10), ('Penktadienis', 11), ('Penktadienis', 12), ('Penktadienis', 13), ('Penktadienis', 14), ('Penktadienis', 15), ('Penktadienis', 16), ('Penktadienis', 17), ('Penktadienis', 18), ('Penktadienis', 19), ('Sestadienis', 10), ('Sestadienis', 11), ('Sestadienis', 12), ('Sestadienis', 13), ('Sestadienis', 14), ('Sestadienis', 15), ('Sestadienis', 16), ('Sestadienis', 17), ('Sestadienis', 18), ('Sestadienis', 19), ('Sekmadienis', 10), ('Sekmadienis', 11), ('Sekmadienis', 12), ('Sekmadienis', 13), ('Sekmadienis', 14), ('Sekmadienis', 15), ('Sekmadienis', 16), ('Sekmadienis', 17), ('Sekmadienis', 18), ('Sekmadienis', 19)]\n"
     ]
    }
   ],
   "source": [
    "dienos = ('Pirmadienis', 'Antradienis', 'Treciadienis', 'Ketvirtadienis', 'Penktadienis', 'Sestadienis', 'Sekmadienis')\n",
    "valandos = [10, 11, 12, 13, 14, 15, 16, 17, 18, 19]\n",
    "\n",
    "kombinacijos = []\n",
    "for diena in dienos:\n",
    "    for valanda in valandos:\n",
    "        kombinacijos.append((diena,valanda))\n",
    "        #print ('antras ciklas',diena,valanda)\n",
    "    #print(diena,valanda)\n",
    "print(kombinacijos)"
   ]
  },
  {
   "cell_type": "markdown",
   "metadata": {},
   "source": [
    "# If salyga"
   ]
  },
  {
   "cell_type": "code",
   "execution_count": 53,
   "metadata": {},
   "outputs": [
    {
     "name": "stdout",
     "output_type": "stream",
     "text": [
      "x yra daugiau uz du\n",
      "po if salygos\n"
     ]
    }
   ],
   "source": [
    "x = 5\n",
    "if x > 2:\n",
    "    print('x yra daugiau uz du')\n",
    "print('po if salygos')"
   ]
  },
  {
   "cell_type": "code",
   "execution_count": 58,
   "metadata": {},
   "outputs": [
    {
     "name": "stdout",
     "output_type": "stream",
     "text": [
      "x yra daugiau uz du\n"
     ]
    }
   ],
   "source": [
    "x=10\n",
    "if x>2:\n",
    "    print ('x yra daugiau uz du')\n",
    "else:\n",
    "    print('x nera daugiau uz du')"
   ]
  },
  {
   "cell_type": "code",
   "execution_count": 64,
   "metadata": {},
   "outputs": [
    {
     "name": "stdout",
     "output_type": "stream",
     "text": [
      "atitinka antra elif salyga\n",
      "po if salygos\n"
     ]
    }
   ],
   "source": [
    "x = 0\n",
    "y = 38\n",
    "\n",
    "if x>10:\n",
    "    print('if salyga atitinka')\n",
    "elif x>0 and y>10:\n",
    "    print('atitinka elif salyga')\n",
    "elif x>-5 and y>30:\n",
    "    print('atitinka antra elif salyga')\n",
    "else:\n",
    "    print('else salyga')\n",
    "\n",
    "print('po if salygos')"
   ]
  },
  {
   "cell_type": "code",
   "execution_count": 69,
   "metadata": {},
   "outputs": [
    {
     "name": "stdout",
     "output_type": "stream",
     "text": [
      "3\n",
      "6\n",
      "9\n",
      "12\n",
      "15\n",
      "18\n"
     ]
    }
   ],
   "source": [
    "for number in range(1,21):\n",
    "    if number % 3==0:\n",
    "        print(number)"
   ]
  },
  {
   "cell_type": "code",
   "execution_count": 72,
   "metadata": {},
   "outputs": [
    {
     "name": "stdout",
     "output_type": "stream",
     "text": [
      "650\n"
     ]
    }
   ],
   "source": [
    "suma = 0\n",
    "for number in range (1,51):\n",
    "    if (suma + number) % 2 == 0:\n",
    "        suma += number\n",
    "    #print(suma)\n",
    "print(suma)"
   ]
  },
  {
   "cell_type": "code",
   "execution_count": 80,
   "metadata": {},
   "outputs": [
    {
     "name": "stdout",
     "output_type": "stream",
     "text": [
      "6\n",
      "skaicius pakeltas kvadratu yra lyginis\n"
     ]
    }
   ],
   "source": [
    "input_number = int(input('Iveskite skaiciu'))\n",
    "print(input_number)\n",
    "\n",
    "for number in range (1,11):\n",
    "    if (input_number ** 2) % 2 != 0:\n",
    "         print(f'{input_number} * {number} = {input_number * number}')\n",
    "else:\n",
    "    print('skaicius pakeltas kvadratu yra lyginis')"
   ]
  },
  {
   "cell_type": "markdown",
   "metadata": {},
   "source": [
    "# None"
   ]
  },
  {
   "cell_type": "code",
   "execution_count": 82,
   "metadata": {},
   "outputs": [
    {
     "name": "stdout",
     "output_type": "stream",
     "text": [
      "None\n",
      "<class 'NoneType'>\n"
     ]
    }
   ],
   "source": [
    "niekas = None\n",
    "print(niekas)\n",
    "print(type(niekas))"
   ]
  },
  {
   "cell_type": "code",
   "execution_count": 85,
   "metadata": {},
   "outputs": [],
   "source": [
    "user_name = ' '\n",
    "name = input('Irasykite varda')\n",
    "if user_name:\n",
    "    "
   ]
  },
  {
   "cell_type": "code",
   "execution_count": 84,
   "metadata": {},
   "outputs": [
    {
     "name": "stdout",
     "output_type": "stream",
     "text": [
      "\n"
     ]
    }
   ],
   "source": [
    "print(name)"
   ]
  },
  {
   "cell_type": "markdown",
   "metadata": {},
   "source": [
    "# List comprehension"
   ]
  },
  {
   "cell_type": "code",
   "execution_count": 87,
   "metadata": {},
   "outputs": [
    {
     "name": "stdout",
     "output_type": "stream",
     "text": [
      "[3, 6, 9, 12, 15, 18]\n"
     ]
    }
   ],
   "source": [
    "numbers = list(range(1,21))\n",
    "dividible_by_3 = []\n",
    "for number in numbers:\n",
    "    if number % 3 == 0:\n",
    "        dividible_by_3.append(number)\n",
    "        #print(number)\n",
    "print(dividible_by_3)"
   ]
  },
  {
   "cell_type": "code",
   "execution_count": 93,
   "metadata": {},
   "outputs": [
    {
     "name": "stdout",
     "output_type": "stream",
     "text": [
      "[1, 2, 3, 4, 5, 6, 7, 8, 9, 10, 11, 12, 13, 14, 15, 16, 17, 18, 19, 20]\n",
      "[0.5, 1.0, 1.5, 2.0, 2.5, 3.0, 3.5, 4.0, 4.5, 5.0, 5.5, 6.0, 6.5, 7.0, 7.5, 8.0, 8.5, 9.0, 9.5, 10.0]\n",
      "[3, 6, 9, 12, 15, 18]\n"
     ]
    }
   ],
   "source": [
    "print(numbers)\n",
    "dividible_by_3 = [number/2 for number in numbers]\n",
    "print (dividible_by_3)\n",
    "dividible_by_3 = [number for number in numbers if number % 3 == 0]\n",
    "print (dividible_by_3)"
   ]
  },
  {
   "cell_type": "markdown",
   "metadata": {},
   "source": [
    "# Dictionary"
   ]
  },
  {
   "cell_type": "code",
   "execution_count": 94,
   "metadata": {},
   "outputs": [],
   "source": [
    "my_dictionary = {\n",
    "    'name':'Justina',\n",
    "    'surname': 'Leisyte',\n",
    "    'age':24,\n",
    "    'hobbies':['tennis','football','games']\n",
    "}"
   ]
  },
  {
   "cell_type": "code",
   "execution_count": 96,
   "metadata": {},
   "outputs": [
    {
     "name": "stdout",
     "output_type": "stream",
     "text": [
      "{'name': 'Justina', 'surname': 'Leisyte', 'age': 24, 'hobbies': ['tennis', 'football', 'games']}\n",
      "<class 'dict'>\n"
     ]
    }
   ],
   "source": [
    "print(my_dictionary)\n",
    "print(type(my_dictionary))"
   ]
  },
  {
   "cell_type": "code",
   "execution_count": 98,
   "metadata": {},
   "outputs": [
    {
     "name": "stdout",
     "output_type": "stream",
     "text": [
      "Justina\n",
      "['tennis', 'football', 'games']\n"
     ]
    }
   ],
   "source": [
    "print(my_dictionary['name'])\n",
    "print(my_dictionary['hobbies'])"
   ]
  },
  {
   "cell_type": "code",
   "execution_count": 100,
   "metadata": {},
   "outputs": [
    {
     "name": "stdout",
     "output_type": "stream",
     "text": [
      "{'name': 'Justina', 'surname': 'Leisyte', 'age': 25, 'hobbies': ['tennis', 'football', 'games']}\n"
     ]
    }
   ],
   "source": [
    "my_dictionary['age'] = 25\n",
    "print(my_dictionary)"
   ]
  },
  {
   "cell_type": "code",
   "execution_count": 103,
   "metadata": {},
   "outputs": [
    {
     "name": "stdout",
     "output_type": "stream",
     "text": [
      "{'name': 'Justina', 'surname': 'Leisyte', 'age': 25, 'hobbies': ['tennis', 'football', 'games'], 'city': 'Vilnius'}\n",
      "5\n"
     ]
    }
   ],
   "source": [
    "my_dictionary['city'] = 'Vilnius'\n",
    "print(my_dictionary)\n",
    "print(len(my_dictionary))"
   ]
  },
  {
   "cell_type": "markdown",
   "metadata": {},
   "source": [
    "#### Dictionary is mutable"
   ]
  },
  {
   "cell_type": "code",
   "execution_count": null,
   "metadata": {},
   "outputs": [],
   "source": [
    "my_dictionary.copy()"
   ]
  },
  {
   "cell_type": "code",
   "execution_count": 107,
   "metadata": {},
   "outputs": [
    {
     "name": "stdout",
     "output_type": "stream",
     "text": [
      "Vilnius\n"
     ]
    }
   ],
   "source": [
    "print(my_dictionary.get('city'))"
   ]
  },
  {
   "cell_type": "code",
   "execution_count": 109,
   "metadata": {},
   "outputs": [
    {
     "ename": "KeyError",
     "evalue": "'car'",
     "output_type": "error",
     "traceback": [
      "\u001b[1;31m---------------------------------------------------------------------------\u001b[0m",
      "\u001b[1;31mKeyError\u001b[0m                                  Traceback (most recent call last)",
      "\u001b[1;32mc:\\Users\\laima\\Desktop\\Python_mokymai\\paskaita_3.ipynb Cell 36'\u001b[0m in \u001b[0;36m<module>\u001b[1;34m\u001b[0m\n\u001b[1;32m----> <a href='vscode-notebook-cell:/c%3A/Users/laima/Desktop/Python_mokymai/paskaita_3.ipynb#ch0000039?line=0'>1</a>\u001b[0m \u001b[39mprint\u001b[39m(my_dictionary[\u001b[39m'\u001b[39;49m\u001b[39mcar\u001b[39;49m\u001b[39m'\u001b[39;49m])\n",
      "\u001b[1;31mKeyError\u001b[0m: 'car'"
     ]
    }
   ],
   "source": [
    "print(my_dictionary['car'])"
   ]
  },
  {
   "cell_type": "code",
   "execution_count": 112,
   "metadata": {},
   "outputs": [
    {
     "name": "stdout",
     "output_type": "stream",
     "text": [
      "None\n",
      "No car\n"
     ]
    }
   ],
   "source": [
    "print(my_dictionary.get('car'))\n",
    "print(my_dictionary.get('car','No car'))"
   ]
  },
  {
   "cell_type": "code",
   "execution_count": 116,
   "metadata": {},
   "outputs": [
    {
     "name": "stdout",
     "output_type": "stream",
     "text": [
      "{'name': 'Justina', 'surname': 'Leisyte', 'age': 25, 'hobbies': ['tennis', 'football', 'games'], 'city': 'Vilnius', 10: 'desimt'}\n",
      "desimt\n",
      "{'name': 'Justina', 'surname': 'Leisyte', 'age': 25, 'hobbies': ['tennis', 'football', 'games'], 'city': 'Vilnius'}\n"
     ]
    }
   ],
   "source": [
    "my_dictionary[10] = 'desimt'\n",
    "print(my_dictionary)\n",
    "print (my_dictionary.pop(10))\n",
    "print(my_dictionary)"
   ]
  },
  {
   "cell_type": "code",
   "execution_count": 117,
   "metadata": {},
   "outputs": [
    {
     "name": "stdout",
     "output_type": "stream",
     "text": [
      "{'name': 'Justina', 'surname': 'Leisyte', 'age': 25, 'hobbies': ['tennis', 'football', 'games'], 'city': 'Vilnius', None: 'niekas'}\n",
      "{'name': 'Justina', 'surname': 'Leisyte', 'age': 25, 'hobbies': ['tennis', 'football', 'games'], 'city': 'Vilnius'}\n",
      "None niekas\n"
     ]
    }
   ],
   "source": [
    "my_dictionary[None] = 'niekas'\n",
    "print(my_dictionary)\n",
    "key, value = my_dictionary.popitem()\n",
    "print(my_dictionary)\n",
    "print(key,value)\n"
   ]
  },
  {
   "cell_type": "code",
   "execution_count": 127,
   "metadata": {},
   "outputs": [],
   "source": [
    "new_dictionary = {\n",
    "    'name':'Darius',\n",
    "    'age':26,\n",
    "    'hobbies':{'tennis','games'}\n",
    "}\n",
    "\n",
    "my_dictionary.update(new_dictionary)"
   ]
  },
  {
   "cell_type": "code",
   "execution_count": 129,
   "metadata": {},
   "outputs": [
    {
     "name": "stdout",
     "output_type": "stream",
     "text": [
      "{'name': 'Darius', 'surname': 'Leisyte', 'age': 26, 'hobbies': {'tennis', 'games'}, 'city': 'Vilnius'}\n"
     ]
    }
   ],
   "source": [
    "print(my_dictionary)"
   ]
  },
  {
   "cell_type": "code",
   "execution_count": 133,
   "metadata": {},
   "outputs": [
    {
     "name": "stdout",
     "output_type": "stream",
     "text": [
      "name\n",
      "surname\n",
      "age\n",
      "hobbies\n",
      "city\n"
     ]
    }
   ],
   "source": [
    "for key in my_dictionary.keys():\n",
    "    print(key)\n"
   ]
  },
  {
   "cell_type": "code",
   "execution_count": 134,
   "metadata": {},
   "outputs": [
    {
     "name": "stdout",
     "output_type": "stream",
     "text": [
      "Darius\n",
      "Leisyte\n",
      "26\n",
      "{'tennis', 'games'}\n",
      "Vilnius\n"
     ]
    }
   ],
   "source": [
    "for value in my_dictionary.values():\n",
    "    print (value)"
   ]
  },
  {
   "cell_type": "code",
   "execution_count": 136,
   "metadata": {},
   "outputs": [
    {
     "name": "stdout",
     "output_type": "stream",
     "text": [
      "key name has a value of Darius\n",
      "key surname has a value of Leisyte\n",
      "key age has a value of 26\n",
      "key hobbies has a value of {'tennis', 'games'}\n",
      "key city has a value of Vilnius\n"
     ]
    }
   ],
   "source": [
    "for k, v in my_dictionary.items(): #k - key, v - value\n",
    "    print(f'key {k} has a value of {v}')"
   ]
  },
  {
   "cell_type": "code",
   "execution_count": 142,
   "metadata": {},
   "outputs": [],
   "source": [
    "car = {\n",
    "    \"brand\":\"Ford\",\n",
    "    \"model\":\"Mustang\",\n",
    "    \"year\":1964\n",
    "}"
   ]
  },
  {
   "cell_type": "code",
   "execution_count": 143,
   "metadata": {},
   "outputs": [
    {
     "name": "stdout",
     "output_type": "stream",
     "text": [
      "Ford\n",
      "3\n",
      "{'brand': 'Ford', 'model': 'Mustang', 'year': 2022}\n"
     ]
    }
   ],
   "source": [
    "print(car['brand'])\n",
    "print(len(car))\n",
    "car['year'] = 2022\n",
    "print(car)"
   ]
  },
  {
   "cell_type": "code",
   "execution_count": 144,
   "metadata": {},
   "outputs": [
    {
     "name": "stdout",
     "output_type": "stream",
     "text": [
      "{'brand': 'Ford', 'model': 'Mustang', 'year': 2022, 'color': 'red', 'used': True}\n"
     ]
    }
   ],
   "source": [
    "car[\"color\"] = \"red\"\n",
    "car[\"used\"] = True\n",
    "print(car)"
   ]
  },
  {
   "cell_type": "code",
   "execution_count": 147,
   "metadata": {},
   "outputs": [
    {
     "name": "stdout",
     "output_type": "stream",
     "text": [
      "{'brand': 'Ford', 'model': 'Mustang', 'year': 2022, 'color': 'red', 'used': True}\n"
     ]
    }
   ],
   "source": [
    "car.update({'color':'red','used': True})\n",
    "print(car)"
   ]
  },
  {
   "cell_type": "code",
   "execution_count": 149,
   "metadata": {},
   "outputs": [
    {
     "name": "stdout",
     "output_type": "stream",
     "text": [
      "{'year': None, 'color': 'red', 'used': True}\n"
     ]
    }
   ],
   "source": [
    "car = {\n",
    "    \"brand\" : \"Ford\",\n",
    "    \"year\" : 1992,\n",
    "    \"color\" : \"red\",\n",
    "    \"used\" : True\n",
    "}\n",
    "\n",
    "car.pop('brand')\n",
    "car['year'] = None\n",
    "print(car)\n"
   ]
  },
  {
   "cell_type": "code",
   "execution_count": null,
   "metadata": {},
   "outputs": [],
   "source": []
  }
 ],
 "metadata": {
  "interpreter": {
   "hash": "c1079bb051ce826b2586e8a117626216eeafca56017ae30fdaacad9a7d00cd2c"
  },
  "kernelspec": {
   "display_name": "Python 3.10.2 64-bit",
   "language": "python",
   "name": "python3"
  },
  "language_info": {
   "codemirror_mode": {
    "name": "ipython",
    "version": 3
   },
   "file_extension": ".py",
   "mimetype": "text/x-python",
   "name": "python",
   "nbconvert_exporter": "python",
   "pygments_lexer": "ipython3",
   "version": "3.10.2"
  },
  "orig_nbformat": 4
 },
 "nbformat": 4,
 "nbformat_minor": 2
}
