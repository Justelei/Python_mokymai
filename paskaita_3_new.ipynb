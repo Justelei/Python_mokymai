{
 "cells": [
  {
   "cell_type": "markdown",
   "metadata": {},
   "source": [
    "# Homework1"
   ]
  },
  {
   "cell_type": "code",
   "execution_count": 6,
   "metadata": {},
   "outputs": [
    {
     "name": "stdout",
     "output_type": "stream",
     "text": [
      "My name is Juste Leisyte\n",
      "My name is Juste Leisyte\n"
     ]
    }
   ],
   "source": [
    "# 1. Atspausdinkite savo varda ir pavarde viena print() funkcija.\n",
    "# Panaudokite du kintamuosius, panaudokite viengubas ir dvigubas kabutes.\n",
    "\n",
    "name = 'Juste'\n",
    "surname = \"Leisyte\"\n",
    "print(f'My name is {name} {surname}')\n",
    "print('My name is', name, surname)"
   ]
  },
  {
   "cell_type": "code",
   "execution_count": 8,
   "metadata": {},
   "outputs": [
    {
     "name": "stdout",
     "output_type": "stream",
     "text": [
      "PYTHON MAKES ME REALLY REALLY HAPPY!\n",
      "PyThOn makes me really really happy!\n"
     ]
    }
   ],
   "source": [
    "# 2. Is stringo \"Python makes me really really happy!\"\n",
    "# I ekrana isveskite stringa tik didziosiomis raidemis;\n",
    "# Pakeiskite zodi Python i PyThOn naudodami replace()\n",
    "\n",
    "text = \"Python makes me really really happy!\"\n",
    "print(text.upper())\n",
    "print(text.replace('Python', 'PyThOn'))"
   ]
  },
  {
   "cell_type": "code",
   "execution_count": 25,
   "metadata": {},
   "outputs": [
    {
     "name": "stdout",
     "output_type": "stream",
     "text": [
      "18\n",
      "happy \n",
      "happy \n",
      "happy\n",
      "to\n",
      "40\n"
     ]
    }
   ],
   "source": [
    "# 3. Is stringo 'Hello World, I am happy to learn Python!'\n",
    "# Atspausdinkite 'happy' naudodami slice funckija. Naudokite .index('happy'), len('happy');\n",
    "# Atspausdinkite 'to' naudodami slice sintakse;\n",
    "# Koks sio string ilgis?\n",
    "\n",
    "text_1 = \"Hello World, I am happy to learn Python!\"\n",
    "word_to_find = 'to'\n",
    "\n",
    "print(text_1.index('happy'))\n",
    "print(text_1[18:24])\n",
    "print(text_1[ text_1.index('happy') : 24 ])\n",
    "print(text_1[ text_1.index('happy') : text_1.index('happy')+len('happy')])\n",
    "\n",
    "print(text_1[ text_1.index(word_to_find) : text_1.index(word_to_find) + len(word_to_find)])\n",
    "\n",
    "print(len(text_1))"
   ]
  },
  {
   "cell_type": "code",
   "execution_count": null,
   "metadata": {},
   "outputs": [],
   "source": []
  }
 ],
 "metadata": {
  "interpreter": {
   "hash": "c1079bb051ce826b2586e8a117626216eeafca56017ae30fdaacad9a7d00cd2c"
  },
  "kernelspec": {
   "display_name": "Python 3.10.2 64-bit",
   "language": "python",
   "name": "python3"
  },
  "language_info": {
   "codemirror_mode": {
    "name": "ipython",
    "version": 3
   },
   "file_extension": ".py",
   "mimetype": "text/x-python",
   "name": "python",
   "nbconvert_exporter": "python",
   "pygments_lexer": "ipython3",
   "version": "3.10.2"
  },
  "orig_nbformat": 4
 },
 "nbformat": 4,
 "nbformat_minor": 2
}
