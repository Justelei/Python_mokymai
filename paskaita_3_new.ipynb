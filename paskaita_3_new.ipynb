{
 "cells": [
  {
   "cell_type": "markdown",
   "metadata": {},
   "source": [
    "# Homework1"
   ]
  },
  {
   "cell_type": "code",
   "execution_count": 6,
   "metadata": {},
   "outputs": [
    {
     "name": "stdout",
     "output_type": "stream",
     "text": [
      "My name is Juste Leisyte\n",
      "My name is Juste Leisyte\n"
     ]
    }
   ],
   "source": [
    "# 1. Atspausdinkite savo varda ir pavarde viena print() funkcija.\n",
    "# Panaudokite du kintamuosius, panaudokite viengubas ir dvigubas kabutes.\n",
    "\n",
    "name = 'Juste'\n",
    "surname = \"Leisyte\"\n",
    "print(f'My name is {name} {surname}')\n",
    "print('My name is', name, surname)"
   ]
  },
  {
   "cell_type": "code",
   "execution_count": 8,
   "metadata": {},
   "outputs": [
    {
     "name": "stdout",
     "output_type": "stream",
     "text": [
      "PYTHON MAKES ME REALLY REALLY HAPPY!\n",
      "PyThOn makes me really really happy!\n"
     ]
    }
   ],
   "source": [
    "# 2. Is stringo \"Python makes me really really happy!\"\n",
    "# I ekrana isveskite stringa tik didziosiomis raidemis;\n",
    "# Pakeiskite zodi Python i PyThOn naudodami replace()\n",
    "\n",
    "text = \"Python makes me really really happy!\"\n",
    "print(text.upper())\n",
    "print(text.replace('Python', 'PyThOn'))"
   ]
  },
  {
   "cell_type": "code",
   "execution_count": 25,
   "metadata": {},
   "outputs": [
    {
     "name": "stdout",
     "output_type": "stream",
     "text": [
      "18\n",
      "happy \n",
      "happy \n",
      "happy\n",
      "to\n",
      "40\n"
     ]
    }
   ],
   "source": [
    "# 3. Is stringo 'Hello World, I am happy to learn Python!'\n",
    "# Atspausdinkite 'happy' naudodami slice funckija. Naudokite .index('happy'), len('happy');\n",
    "# Atspausdinkite 'to' naudodami slice sintakse;\n",
    "# Koks sio string ilgis?\n",
    "\n",
    "text_1 = \"Hello World, I am happy to learn Python!\"\n",
    "word_to_find = 'to'\n",
    "\n",
    "print(text_1.index('happy'))\n",
    "print(text_1[18:24])\n",
    "print(text_1[ text_1.index('happy') : 24 ])\n",
    "print(text_1[ text_1.index('happy') : text_1.index('happy')+len('happy')])\n",
    "\n",
    "print(text_1[ text_1.index(word_to_find) : text_1.index(word_to_find) + len(word_to_find)])\n",
    "\n",
    "print(len(text_1))"
   ]
  },
  {
   "cell_type": "markdown",
   "metadata": {},
   "source": [
    "# Homework 2"
   ]
  },
  {
   "cell_type": "code",
   "execution_count": 34,
   "metadata": {},
   "outputs": [
    {
     "name": "stdout",
     "output_type": "stream",
     "text": [
      "150 km/hours\n",
      "1314000 km/year\n",
      "108000 km/months\n",
      "3600 km/days\n",
      "0.041666666666666664 km/seconds\n",
      "valandu:  2560.0\n",
      "metu:  0.2922374429223744\n",
      "menesiu:  3.5555555555555554\n",
      "dienu:  106.66666666666667\n",
      "sekundziu:  9216000.0\n"
     ]
    }
   ],
   "source": [
    "# 1. Jeigu noretume nuvaziuoti iki menulio (384000km) automobiliu, kurio greitis\n",
    "# 150km/h, kiek valandu, metu, menesiu, dienu, sekundziu tai uztruktu?\n",
    "\n",
    "dist_moon = 384000 #km\n",
    "car_speed_h = 150 #km/h\n",
    "\n",
    "car_speed_y = car_speed_h * 24 * 365\n",
    "car_speed_m = car_speed_h * 24 * 30\n",
    "car_speed_d = car_speed_h * 24\n",
    "car_speed_s = car_speed_h / 60 / 60\n",
    "\n",
    "print(car_speed_h, 'km/hours')\n",
    "print(car_speed_y, 'km/year')\n",
    "print(car_speed_m, 'km/months')\n",
    "print(car_speed_d, 'km/days')\n",
    "print(car_speed_s, 'km/seconds')\n",
    "\n",
    "print('valandu: ', dist_moon / car_speed_h)\n",
    "print('metu: ', dist_moon / car_speed_y)\n",
    "print('menesiu: ', dist_moon / car_speed_m)\n",
    "print('dienu: ', dist_moon / car_speed_d)\n",
    "print('sekundziu: ', dist_moon / car_speed_s)"
   ]
  },
  {
   "cell_type": "code",
   "execution_count": 62,
   "metadata": {},
   "outputs": [
    {
     "name": "stdout",
     "output_type": "stream",
     "text": [
      "1997-05-27\n",
      "2022-02-23\n",
      "Dienu skaicius nuo gimtadienio: 9038\n"
     ]
    }
   ],
   "source": [
    "# 2. Kiek dienu praejo nuo jusu gimimo dienos?\n",
    "\n",
    "# import datetime\n",
    "from datetime import date\n",
    "\n",
    "birthday = date(1997, 5, 27)\n",
    "print(birthday)\n",
    "today = date.today()\n",
    "print(today)\n",
    "\n",
    "print(f'Dienu skaicius nuo gimtadienio: {(today - birthday).days}')\n"
   ]
  },
  {
   "cell_type": "code",
   "execution_count": 72,
   "metadata": {},
   "outputs": [
    {
     "name": "stdout",
     "output_type": "stream",
     "text": [
      "1964-02-23\n",
      "2022-02-23\n",
      "Dienu skaicius nuo gimtadienio: 21185\n"
     ]
    }
   ],
   "source": [
    "birthday_1 = date(1964, 2, 23)\n",
    "print(birthday_1)\n",
    "today = date.today()\n",
    "print(today)\n",
    "skirtumas_1 = (today - birthday_1)\n",
    "print(f'Dienu skaicius nuo gimtadienio: {skirtumas_1.days}')"
   ]
  },
  {
   "cell_type": "code",
   "execution_count": 81,
   "metadata": {},
   "outputs": [
    {
     "name": "stdout",
     "output_type": "stream",
     "text": [
      "(2, 5, 464, 43, 645, 5, 3)\n",
      "(2, 5, 464, 43, 645, 5)\n",
      "(2, 5, 5, 43, 464, 645)\n",
      "2\n",
      "645\n",
      "645\n"
     ]
    }
   ],
   "source": [
    "# 3. Sudeti du tuple, isimti paskutini nari is sudeto tuple, isrikiuoti tuple, suskaiciuoti kiek yra kokios nors reiksmes ivesciu tuple, rasti didziausia reiksme\n",
    "\n",
    "my_tuple = (2, 5, 464) + (43, 645, 5, 3)\n",
    "print(my_tuple)\n",
    "my_tuple = my_tuple[:-1]\n",
    "print(my_tuple)\n",
    "my_tuple = tuple(sorted(my_tuple))\n",
    "print(my_tuple)\n",
    "\n",
    "print(my_tuple.count(5))\n",
    "print(my_tuple[-1]) \n",
    "print(max(my_tuple))"
   ]
  },
  {
   "cell_type": "code",
   "execution_count": null,
   "metadata": {},
   "outputs": [],
   "source": []
  }
 ],
 "metadata": {
  "interpreter": {
   "hash": "c1079bb051ce826b2586e8a117626216eeafca56017ae30fdaacad9a7d00cd2c"
  },
  "kernelspec": {
   "display_name": "Python 3.10.2 64-bit",
   "language": "python",
   "name": "python3"
  },
  "language_info": {
   "codemirror_mode": {
    "name": "ipython",
    "version": 3
   },
   "file_extension": ".py",
   "mimetype": "text/x-python",
   "name": "python",
   "nbconvert_exporter": "python",
   "pygments_lexer": "ipython3",
   "version": "3.10.2"
  },
  "orig_nbformat": 4
 },
 "nbformat": 4,
 "nbformat_minor": 2
}
