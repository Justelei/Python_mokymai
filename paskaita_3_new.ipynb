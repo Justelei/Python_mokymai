{
 "cells": [
  {
   "cell_type": "markdown",
   "metadata": {},
   "source": [
    "# Homework1"
   ]
  },
  {
   "cell_type": "code",
   "execution_count": 6,
   "metadata": {},
   "outputs": [
    {
     "name": "stdout",
     "output_type": "stream",
     "text": [
      "My name is Juste Leisyte\n",
      "My name is Juste Leisyte\n"
     ]
    }
   ],
   "source": [
    "# 1. Atspausdinkite savo varda ir pavarde viena print() funkcija.\n",
    "# Panaudokite du kintamuosius, panaudokite viengubas ir dvigubas kabutes.\n",
    "\n",
    "name = 'Juste'\n",
    "surname = \"Leisyte\"\n",
    "print(f'My name is {name} {surname}')\n",
    "print('My name is', name, surname)"
   ]
  },
  {
   "cell_type": "code",
   "execution_count": 8,
   "metadata": {},
   "outputs": [
    {
     "name": "stdout",
     "output_type": "stream",
     "text": [
      "PYTHON MAKES ME REALLY REALLY HAPPY!\n",
      "PyThOn makes me really really happy!\n"
     ]
    }
   ],
   "source": [
    "# 2. Is stringo \"Python makes me really really happy!\"\n",
    "# I ekrana isveskite stringa tik didziosiomis raidemis;\n",
    "# Pakeiskite zodi Python i PyThOn naudodami replace()\n",
    "\n",
    "text = \"Python makes me really really happy!\"\n",
    "print(text.upper())\n",
    "print(text.replace('Python', 'PyThOn'))"
   ]
  },
  {
   "cell_type": "code",
   "execution_count": 25,
   "metadata": {},
   "outputs": [
    {
     "name": "stdout",
     "output_type": "stream",
     "text": [
      "18\n",
      "happy \n",
      "happy \n",
      "happy\n",
      "to\n",
      "40\n"
     ]
    }
   ],
   "source": [
    "# 3. Is stringo 'Hello World, I am happy to learn Python!'\n",
    "# Atspausdinkite 'happy' naudodami slice funckija. Naudokite .index('happy'), len('happy');\n",
    "# Atspausdinkite 'to' naudodami slice sintakse;\n",
    "# Koks sio string ilgis?\n",
    "\n",
    "text_1 = \"Hello World, I am happy to learn Python!\"\n",
    "word_to_find = 'to'\n",
    "\n",
    "print(text_1.index('happy'))\n",
    "print(text_1[18:24])\n",
    "print(text_1[ text_1.index('happy') : 24 ])\n",
    "print(text_1[ text_1.index('happy') : text_1.index('happy')+len('happy')])\n",
    "\n",
    "print(text_1[ text_1.index(word_to_find) : text_1.index(word_to_find) + len(word_to_find)])\n",
    "\n",
    "print(len(text_1))"
   ]
  },
  {
   "cell_type": "markdown",
   "metadata": {},
   "source": [
    "# Homework 2"
   ]
  },
  {
   "cell_type": "code",
   "execution_count": 34,
   "metadata": {},
   "outputs": [
    {
     "name": "stdout",
     "output_type": "stream",
     "text": [
      "150 km/hours\n",
      "1314000 km/year\n",
      "108000 km/months\n",
      "3600 km/days\n",
      "0.041666666666666664 km/seconds\n",
      "valandu:  2560.0\n",
      "metu:  0.2922374429223744\n",
      "menesiu:  3.5555555555555554\n",
      "dienu:  106.66666666666667\n",
      "sekundziu:  9216000.0\n"
     ]
    }
   ],
   "source": [
    "# 1. Jeigu noretume nuvaziuoti iki menulio (384000km) automobiliu, kurio greitis\n",
    "# 150km/h, kiek valandu, metu, menesiu, dienu, sekundziu tai uztruktu?\n",
    "\n",
    "dist_moon = 384000 #km\n",
    "car_speed_h = 150 #km/h\n",
    "\n",
    "car_speed_y = car_speed_h * 24 * 365\n",
    "car_speed_m = car_speed_h * 24 * 30\n",
    "car_speed_d = car_speed_h * 24\n",
    "car_speed_s = car_speed_h / 60 / 60\n",
    "\n",
    "print(car_speed_h, 'km/hours')\n",
    "print(car_speed_y, 'km/year')\n",
    "print(car_speed_m, 'km/months')\n",
    "print(car_speed_d, 'km/days')\n",
    "print(car_speed_s, 'km/seconds')\n",
    "\n",
    "print('valandu: ', dist_moon / car_speed_h)\n",
    "print('metu: ', dist_moon / car_speed_y)\n",
    "print('menesiu: ', dist_moon / car_speed_m)\n",
    "print('dienu: ', dist_moon / car_speed_d)\n",
    "print('sekundziu: ', dist_moon / car_speed_s)"
   ]
  },
  {
   "cell_type": "code",
   "execution_count": 62,
   "metadata": {},
   "outputs": [
    {
     "name": "stdout",
     "output_type": "stream",
     "text": [
      "1997-05-27\n",
      "2022-02-23\n",
      "Dienu skaicius nuo gimtadienio: 9038\n"
     ]
    }
   ],
   "source": [
    "# 2. Kiek dienu praejo nuo jusu gimimo dienos?\n",
    "\n",
    "# import datetime\n",
    "from datetime import date\n",
    "\n",
    "birthday = date(1997, 5, 27)\n",
    "print(birthday)\n",
    "today = date.today()\n",
    "print(today)\n",
    "\n",
    "print(f'Dienu skaicius nuo gimtadienio: {(today - birthday).days}')\n"
   ]
  },
  {
   "cell_type": "code",
   "execution_count": 72,
   "metadata": {},
   "outputs": [
    {
     "name": "stdout",
     "output_type": "stream",
     "text": [
      "1964-02-23\n",
      "2022-02-23\n",
      "Dienu skaicius nuo gimtadienio: 21185\n"
     ]
    }
   ],
   "source": [
    "birthday_1 = date(1964, 2, 23)\n",
    "print(birthday_1)\n",
    "today = date.today()\n",
    "print(today)\n",
    "skirtumas_1 = (today - birthday_1)\n",
    "print(f'Dienu skaicius nuo gimtadienio: {skirtumas_1.days}')"
   ]
  },
  {
   "cell_type": "code",
   "execution_count": 81,
   "metadata": {},
   "outputs": [
    {
     "name": "stdout",
     "output_type": "stream",
     "text": [
      "(2, 5, 464, 43, 645, 5, 3)\n",
      "(2, 5, 464, 43, 645, 5)\n",
      "(2, 5, 5, 43, 464, 645)\n",
      "2\n",
      "645\n",
      "645\n"
     ]
    }
   ],
   "source": [
    "# 3. Sudeti du tuple, isimti paskutini nari is sudeto tuple, isrikiuoti tuple, suskaiciuoti kiek yra kokios nors reiksmes ivesciu tuple, rasti didziausia reiksme\n",
    "\n",
    "my_tuple = (2, 5, 464) + (43, 645, 5, 3)\n",
    "print(my_tuple)\n",
    "my_tuple = my_tuple[:-1]\n",
    "print(my_tuple)\n",
    "my_tuple = tuple(sorted(my_tuple))\n",
    "print(my_tuple)\n",
    "\n",
    "print(my_tuple.count(5))\n",
    "print(my_tuple[-1]) \n",
    "print(max(my_tuple))"
   ]
  },
  {
   "cell_type": "markdown",
   "metadata": {},
   "source": [
    "# Range"
   ]
  },
  {
   "cell_type": "code",
   "execution_count": 86,
   "metadata": {},
   "outputs": [
    {
     "name": "stdout",
     "output_type": "stream",
     "text": [
      "range(4, 95, 2)\n",
      "[4, 6, 8, 10, 12, 14, 16, 18, 20, 22, 24, 26, 28, 30, 32, 34, 36, 38, 40, 42, 44, 46, 48, 50, 52, 54, 56, 58, 60, 62, 64, 66, 68, 70, 72, 74, 76, 78, 80, 82, 84, 86, 88, 90, 92, 94]\n"
     ]
    }
   ],
   "source": [
    "numbers = range(4,95,2)\n",
    "print(numbers)\n",
    "\n",
    "print(list(numbers))"
   ]
  },
  {
   "cell_type": "code",
   "execution_count": 88,
   "metadata": {},
   "outputs": [
    {
     "name": "stdout",
     "output_type": "stream",
     "text": [
      "[4, 11, 18, 25, 32, 39, 46, 53, 60, 67, 74, 81, 88, 95, 102, 109, 116, 123, 130, 137, 144, 151, 158, 165, 172, 179, 186, 193, 200, 207, 214, 221, 228, 235, 242, 249, 256, 263, 270, 277, 284, 291, 298, 305, 312, 319, 326, 333, 340, 347, 354, 361, 368, 375, 382, 389, 396, 403, 410, 417, 424, 431, 438, 445, 452]\n"
     ]
    }
   ],
   "source": [
    "print(list(range(4,456,7)))"
   ]
  },
  {
   "cell_type": "markdown",
   "metadata": {},
   "source": [
    "# For loop"
   ]
  },
  {
   "cell_type": "code",
   "execution_count": 94,
   "metadata": {},
   "outputs": [
    {
     "name": "stdout",
     "output_type": "stream",
     "text": [
      "[3, 5, 7, 9]\n",
      "ciklas prasidejo\n",
      "3\n",
      "ciklas prasidejo\n",
      "5\n",
      "ciklas prasidejo\n",
      "7\n",
      "ciklas prasidejo\n",
      "9\n",
      "pabaiga\n"
     ]
    }
   ],
   "source": [
    "print(list(range(3,11,2)))\n",
    "for number in range(3,11,2):\n",
    "    print('ciklas prasidejo')\n",
    "    print(number)\n",
    "print('pabaiga')"
   ]
  },
  {
   "cell_type": "code",
   "execution_count": 96,
   "metadata": {},
   "outputs": [
    {
     "name": "stdout",
     "output_type": "stream",
     "text": [
      "Vilnius\n",
      "Kaunas\n",
      "Klaipeda\n"
     ]
    }
   ],
   "source": [
    "miestai = ['Vilnius', 'Kaunas', 'Klaipeda']\n",
    "\n",
    "for miestas in miestai:\n",
    "    print(miestas)"
   ]
  },
  {
   "cell_type": "code",
   "execution_count": 103,
   "metadata": {},
   "outputs": [
    {
     "name": "stdout",
     "output_type": "stream",
     "text": [
      "Radau Vilniu!\n",
      "Kaunas\n",
      "Klaipeda\n"
     ]
    }
   ],
   "source": [
    "miestai = ['Vilnius', 'Kaunas', 'Klaipeda']\n",
    "for miestas in miestai:\n",
    "    if miestas == 'Vilnius':\n",
    "        print('Radau Vilniu!')\n",
    "    else:\n",
    "        print(miestas)"
   ]
  },
  {
   "cell_type": "code",
   "execution_count": 107,
   "metadata": {},
   "outputs": [
    {
     "name": "stdout",
     "output_type": "stream",
     "text": [
      "Sveikiname Vilnius su kazkokia svente\n",
      "pradedam sekancia ciklo iteracija\n",
      "Sveikiname Kaunas su kazkokia svente\n",
      "pradedam sekancia ciklo iteracija\n",
      "Sveikiname Siauliai su kazkokia svente\n",
      "pradedam sekancia ciklo iteracija\n",
      "Sveikiname Marijampole su kazkokia svente\n",
      "pradedam sekancia ciklo iteracija\n",
      "Sveikiname Panevezys su kazkokia svente\n",
      "pradedam sekancia ciklo iteracija\n",
      "Sveikiname Panevezys su kazkokia svente\n",
      "pradedam sekancia ciklo iteracija\n",
      "po ciklo\n"
     ]
    }
   ],
   "source": [
    "cities = ['Vilnius', 'Kaunas', 'Siauliai', 'Marijampole', 'Panevezys', 'Panevezys']\n",
    "\n",
    "for city in cities:\n",
    "    print(f'Sveikiname {city} su kazkokia svente')\n",
    "    print('pradedam sekancia ciklo iteracija')\n",
    "print('po ciklo')"
   ]
  },
  {
   "cell_type": "markdown",
   "metadata": {},
   "source": [
    "# For loop uzduotys"
   ]
  },
  {
   "cell_type": "code",
   "execution_count": 118,
   "metadata": {},
   "outputs": [
    {
     "name": "stdout",
     "output_type": "stream",
     "text": [
      "1\n",
      "2\n",
      "3\n",
      "4\n",
      "5\n",
      "6\n",
      "7\n",
      "8\n",
      "9\n",
      "10\n"
     ]
    }
   ],
   "source": [
    "# 1. Atspausdinkite pirmus 10 imtinai skaiciu naudodami for loop\n",
    "\n",
    "for skaicius in range(1,11):\n",
    "    print (skaicius)"
   ]
  },
  {
   "cell_type": "code",
   "execution_count": 131,
   "metadata": {},
   "outputs": [
    {
     "name": "stdout",
     "output_type": "stream",
     "text": [
      "1275\n"
     ]
    }
   ],
   "source": [
    "# 2. Gaukite suma pirmu 50 skaiciu imtinai\n",
    "\n",
    "suma=0 #tarpine verte, kuri kinta kiekvieno ciklo metu\n",
    "for number in range(1,51):\n",
    "    suma += number\n",
    "    #print(suma)\n",
    "print(suma)"
   ]
  },
  {
   "cell_type": "code",
   "execution_count": 137,
   "metadata": {},
   "outputs": [
    {
     "name": "stdout",
     "output_type": "stream",
     "text": [
      "6\n",
      "6 * 1 = 6\n",
      "6 * 2 = 12\n",
      "6 * 3 = 18\n",
      "6 * 4 = 24\n",
      "6 * 5 = 30\n",
      "6 * 6 = 36\n",
      "6 * 7 = 42\n",
      "6 * 8 = 48\n",
      "6 * 9 = 54\n",
      "6 * 10 = 60\n"
     ]
    }
   ],
   "source": [
    "# 1. Input. Leiskite pasirinkti skaiciu, atspausdinkite jo saundauga nuo 1 iki 10 imtinai.\n",
    "\n",
    "input_number = int(input('Iveskite skaiciu: '))\n",
    "print(input_number)\n",
    "\n",
    "for number in range(1,11):\n",
    "    print(f'{input_number} * {number} = {input_number * number}')\n"
   ]
  },
  {
   "cell_type": "code",
   "execution_count": 139,
   "metadata": {},
   "outputs": [],
   "source": [
    "# Gaukite visas imanomas kombinacijas is siu sarasu, irasykite jas i lista\n",
    "\n",
    "dienos = ['Pirmadienis', 'Antradienis', 'Treciadienis', 'Ketvirtadienis', 'Penktadienis', 'Sestadienis', 'Sekmadienis']\n",
    "valandos = [10, 11, 12, 13, 14, 15, 16, 17, 18, 19]"
   ]
  },
  {
   "cell_type": "code",
   "execution_count": 147,
   "metadata": {},
   "outputs": [
    {
     "name": "stdout",
     "output_type": "stream",
     "text": [
      "[('Pirmadienis', 10), ('Pirmadienis', 11), ('Pirmadienis', 12), ('Pirmadienis', 13), ('Pirmadienis', 14), ('Pirmadienis', 15), ('Pirmadienis', 16), ('Pirmadienis', 17), ('Pirmadienis', 18), ('Pirmadienis', 19), ('Antradienis', 10), ('Antradienis', 11), ('Antradienis', 12), ('Antradienis', 13), ('Antradienis', 14), ('Antradienis', 15), ('Antradienis', 16), ('Antradienis', 17), ('Antradienis', 18), ('Antradienis', 19), ('Treciadienis', 10), ('Treciadienis', 11), ('Treciadienis', 12), ('Treciadienis', 13), ('Treciadienis', 14), ('Treciadienis', 15), ('Treciadienis', 16), ('Treciadienis', 17), ('Treciadienis', 18), ('Treciadienis', 19), ('Ketvirtadienis', 10), ('Ketvirtadienis', 11), ('Ketvirtadienis', 12), ('Ketvirtadienis', 13), ('Ketvirtadienis', 14), ('Ketvirtadienis', 15), ('Ketvirtadienis', 16), ('Ketvirtadienis', 17), ('Ketvirtadienis', 18), ('Ketvirtadienis', 19), ('Penktadienis', 10), ('Penktadienis', 11), ('Penktadienis', 12), ('Penktadienis', 13), ('Penktadienis', 14), ('Penktadienis', 15), ('Penktadienis', 16), ('Penktadienis', 17), ('Penktadienis', 18), ('Penktadienis', 19), ('Sestadienis', 10), ('Sestadienis', 11), ('Sestadienis', 12), ('Sestadienis', 13), ('Sestadienis', 14), ('Sestadienis', 15), ('Sestadienis', 16), ('Sestadienis', 17), ('Sestadienis', 18), ('Sestadienis', 19), ('Sekmadienis', 10), ('Sekmadienis', 11), ('Sekmadienis', 12), ('Sekmadienis', 13), ('Sekmadienis', 14), ('Sekmadienis', 15), ('Sekmadienis', 16), ('Sekmadienis', 17), ('Sekmadienis', 18), ('Sekmadienis', 19)]\n"
     ]
    }
   ],
   "source": [
    "kombinacijos = []\n",
    "for diena in dienos:\n",
    "    for valanda in valandos:\n",
    "        kombinacijos.append((diena, valanda)) # i tuscia lista idetos visos kombinacijos \n",
    "        #print(diena, valanda)\n",
    "print(kombinacijos)"
   ]
  },
  {
   "cell_type": "markdown",
   "metadata": {},
   "source": [
    "# If deklaracija"
   ]
  },
  {
   "cell_type": "code",
   "execution_count": 157,
   "metadata": {},
   "outputs": [
    {
     "name": "stdout",
     "output_type": "stream",
     "text": [
      "po if salygos\n"
     ]
    }
   ],
   "source": [
    "# Vienas if\n",
    "\n",
    "x = 0\n",
    "\n",
    "if x > 2:\n",
    "    print('x yra daygiau uz du') # jei tiesa atliekamas sitas veiksmas TIK JEI ATITINKA SALYGA\n",
    "print('po if salygos') # visada atspausdina"
   ]
  },
  {
   "cell_type": "code",
   "execution_count": 161,
   "metadata": {},
   "outputs": [
    {
     "name": "stdout",
     "output_type": "stream",
     "text": [
      "x yra daugiau uz du\n"
     ]
    }
   ],
   "source": [
    "# ELSE # arba viena arba kita, niekada abieju nedaro\n",
    "\n",
    "x=4\n",
    "\n",
    "if x > 2:\n",
    "    print ('x yra daugiau uz du')\n",
    "else:\n",
    "    print('x nera daugiau uz du')\n",
    "\n"
   ]
  },
  {
   "cell_type": "code",
   "execution_count": 173,
   "metadata": {},
   "outputs": [
    {
     "name": "stdout",
     "output_type": "stream",
     "text": [
      "atitinka elif salyga\n",
      "po if salygos\n"
     ]
    }
   ],
   "source": [
    "# ELIF \n",
    "\n",
    "# du kintamieji # aktyvuosis tik viena salyga\n",
    "\n",
    "x = 5\n",
    "y = 38\n",
    "\n",
    "if x > 10: #sitos neatitinka\n",
    "    print('if atitinka')\n",
    "elif x > 0 and y > 12: # jei tenkina sita i kitas salygas neziuri /atitinka sita dali\n",
    "    print('atitinka elif salyga') # tad paleidzia sita komanda ir i kitas neziuri\n",
    "elif x > -5 and y > 30:\n",
    "    print('atitinka antra elif salyga')\n",
    "else:\n",
    "    print('else salyga')\n",
    "\n",
    "print('po if salygos')"
   ]
  },
  {
   "cell_type": "markdown",
   "metadata": {},
   "source": [
    "# If uzduotys"
   ]
  },
  {
   "cell_type": "code",
   "execution_count": 185,
   "metadata": {},
   "outputs": [
    {
     "name": "stdout",
     "output_type": "stream",
     "text": [
      "3 dalinas is 3 be liekanos\n",
      "6 dalinas is 3 be liekanos\n",
      "9 dalinas is 3 be liekanos\n",
      "12 dalinas is 3 be liekanos\n",
      "15 dalinas is 3 be liekanos\n",
      "18 dalinas is 3 be liekanos\n"
     ]
    }
   ],
   "source": [
    "# 1. Atspausdinkite pirmus 20 skaiciu, jeigu jis dalinasi is 3 be liekanos naudodami for loop ir if\n",
    "\n",
    "for number in range(1,21): # gaunam skaicius tuos\n",
    "    if number % 3 == 0: #tikrinam, kurie is judalinasi is triju\n",
    "        print(f'{number} dalinas is 3 be liekanos')\n",
    "\n",
    "    "
   ]
  },
  {
   "cell_type": "code",
   "execution_count": 194,
   "metadata": {},
   "outputs": [
    {
     "name": "stdout",
     "output_type": "stream",
     "text": [
      "650\n"
     ]
    }
   ],
   "source": [
    "# 2. Gaukite suma pirmu 50 skaiciu imtinai, tik tada, jei nauja einama suma bus lygine\n",
    "\n",
    "suma=0 #tarpine verte, kuri kinta kiekvieno ciklo metu\n",
    "for number in range(1,51):\n",
    "    if (suma + number) % 2 == 0: # != nelygu\n",
    "        suma += number\n",
    "        #print(suma)\n",
    "print(suma)\n"
   ]
  },
  {
   "cell_type": "code",
   "execution_count": 224,
   "metadata": {},
   "outputs": [
    {
     "name": "stdout",
     "output_type": "stream",
     "text": [
      "5\n",
      "5 * 1 = 5 \n",
      "5 * 2 = 10 \n",
      "5 * 3 = 15 \n",
      "5 * 4 = 20 \n",
      "5 * 5 = 25 \n",
      "5 * 6 = 30 \n",
      "5 * 7 = 35 \n",
      "5 * 8 = 40 \n",
      "5 * 9 = 45 \n",
      "5 * 10 = 50 \n"
     ]
    }
   ],
   "source": [
    "# 3. Leiskite pasirinkti skaiciu, atspausdinkite jo sandauga nuo 1 iki 10 tik tada, jei pasirinktas skaicius pakeltas kvadratu yra nelyginis\n",
    "\n",
    "input_number = int(input('Iveskite skaiciu'))\n",
    "print(input_number)\n",
    "\n",
    "if (input_number ** 2) % 2 !=0:\n",
    "    for number in range(1,11):\n",
    "        print(f'{input_number} * {number} = {input_number * number} ')\n",
    "else:\n",
    "        print('skaicius pakeltas kvadratu yra lyginis')"
   ]
  },
  {
   "cell_type": "code",
   "execution_count": 234,
   "metadata": {},
   "outputs": [
    {
     "name": "stdout",
     "output_type": "stream",
     "text": [
      "[('Pirmadienis', 12), ('Pirmadienis', 13), ('Pirmadienis', 14), ('Pirmadienis', 15), ('Pirmadienis', 16), ('Pirmadienis', 17), ('Treciadienis', 12), ('Treciadienis', 13), ('Treciadienis', 14), ('Treciadienis', 15), ('Treciadienis', 16), ('Treciadienis', 17)]\n"
     ]
    }
   ],
   "source": [
    "# 3. Gaukite visas imanomas kombinacijas is siu sarasu tik tada, jei diena\n",
    "# yra arba pirmadienis arba treciadienis, o valandos yra nuo 12 iki 17, irasykite jas i lista\n",
    "\n",
    "dienos = ['Pirmadienis', 'Antradienis', 'Treciadienis', 'Ketvirtadienis', 'Penktadienis', 'Sestadienis', 'Sekmadienis']\n",
    "valandos = [10, 11, 12, 13, 14, 15, 16, 17, 18, 19]\n",
    "\n",
    "darbo_dienos = ['Pirmadienis', 'Treciadienis']\n",
    "darbo_valandos = list(range(12,18))\n",
    "kombinacijos =[]\n",
    "for diena in dienos:\n",
    "    # if diena == 'Pirmadienis' or diena == 'Treciadienis':\n",
    "    if diena in darbo_dienos:\n",
    "        for valanda in valandos:\n",
    "            if valanda in darbo_valandos:\n",
    "                kombinacijos.append((diena, valanda))\n",
    "print(kombinacijos)\n"
   ]
  },
  {
   "cell_type": "markdown",
   "metadata": {},
   "source": [
    "# None"
   ]
  },
  {
   "cell_type": "code",
   "execution_count": 236,
   "metadata": {},
   "outputs": [],
   "source": [
    "# none - tuo metu jokios reiksmes nera priskirta kintamajam\n",
    "# duonenu apie kintamaji nera\n",
    "# galimybe tikrinti ar jau atsirado informacija ar dar ne\n"
   ]
  },
  {
   "cell_type": "code",
   "execution_count": 239,
   "metadata": {},
   "outputs": [
    {
     "name": "stdout",
     "output_type": "stream",
     "text": [
      "None\n",
      "<class 'NoneType'>\n"
     ]
    }
   ],
   "source": [
    "niekas = None\n",
    "print(niekas)\n",
    "print(type(niekas))"
   ]
  },
  {
   "cell_type": "code",
   "execution_count": null,
   "metadata": {},
   "outputs": [],
   "source": []
  }
 ],
 "metadata": {
  "interpreter": {
   "hash": "c1079bb051ce826b2586e8a117626216eeafca56017ae30fdaacad9a7d00cd2c"
  },
  "kernelspec": {
   "display_name": "Python 3.10.2 64-bit",
   "language": "python",
   "name": "python3"
  },
  "language_info": {
   "codemirror_mode": {
    "name": "ipython",
    "version": 3
   },
   "file_extension": ".py",
   "mimetype": "text/x-python",
   "name": "python",
   "nbconvert_exporter": "python",
   "pygments_lexer": "ipython3",
   "version": "3.10.2"
  },
  "orig_nbformat": 4
 },
 "nbformat": 4,
 "nbformat_minor": 2
}
