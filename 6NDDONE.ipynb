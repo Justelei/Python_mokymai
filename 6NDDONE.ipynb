{
 "cells": [
  {
   "cell_type": "code",
   "execution_count": 2,
   "metadata": {},
   "outputs": [],
   "source": [
    "import numpy as np"
   ]
  },
  {
   "cell_type": "code",
   "execution_count": 4,
   "metadata": {},
   "outputs": [
    {
     "name": "stdout",
     "output_type": "stream",
     "text": [
      "[[5 4 3]\n",
      " [3 2 1]\n",
      " [1 0 6]\n",
      " [6 5 4]]\n"
     ]
    }
   ],
   "source": [
    "# 1. Sukurkite toki ndarray ir issaugokite kintamajame arr:\n",
    "\n",
    "arr = np.array ([\n",
    "    [5,4,3],\n",
    "    [3,2,1],\n",
    "    [1,0,6],\n",
    "    [6,5,4]\n",
    "]\n",
    ")\n",
    "\n",
    "print(arr)"
   ]
  },
  {
   "cell_type": "code",
   "execution_count": 6,
   "metadata": {},
   "outputs": [
    {
     "name": "stdout",
     "output_type": "stream",
     "text": [
      "(4, 3)\n"
     ]
    }
   ],
   "source": [
    "# 2. Kiek dimensiju turi arr? Kokios jos?\n",
    "\n",
    "print(arr.shape)\n",
    "\n",
    "# Arr turi dvi dimensijas, 4 * 3 (keturios eilutes ir 3 stulpeliai)"
   ]
  },
  {
   "cell_type": "code",
   "execution_count": 14,
   "metadata": {},
   "outputs": [
    {
     "name": "stdout",
     "output_type": "stream",
     "text": [
      "0\n"
     ]
    }
   ],
   "source": [
    "# 3. Atspausdinkite 3-ios eilutes antraji nari\n",
    "\n",
    "print(arr[2,1])"
   ]
  },
  {
   "cell_type": "code",
   "execution_count": 13,
   "metadata": {},
   "outputs": [
    {
     "name": "stdout",
     "output_type": "stream",
     "text": [
      "[3 2]\n"
     ]
    }
   ],
   "source": [
    "# 4. Atspausdinkite 2-os eilutes pirma ir antra narius\n",
    "\n",
    "print(arr[1, 0:2])"
   ]
  },
  {
   "cell_type": "code",
   "execution_count": 12,
   "metadata": {},
   "outputs": [
    {
     "name": "stdout",
     "output_type": "stream",
     "text": [
      "[[0 6]\n",
      " [5 4]]\n"
     ]
    }
   ],
   "source": [
    "# 5. Atspausdinkite 3-ios ir 4 eiluciu antra ir trecia narius (t.y. is viso 4 skaicius is desiniojo apatinio kampo)\n",
    "\n",
    "print(arr[2:, 1:])"
   ]
  },
  {
   "cell_type": "code",
   "execution_count": 23,
   "metadata": {},
   "outputs": [
    {
     "name": "stdout",
     "output_type": "stream",
     "text": [
      "[[5 4 3]\n",
      " [3 2 1]\n",
      " [1 0 6]\n",
      " [6 5 4]]\n",
      "(4, 3)\n",
      "[[5 4]\n",
      " [3 3]\n",
      " [2 1]\n",
      " [1 0]\n",
      " [6 6]\n",
      " [5 4]]\n",
      "(6, 2)\n"
     ]
    }
   ],
   "source": [
    "# 6. Naudodami reshape() metoda pakeiskite arr taip, kad jo dimensija butu (6,2)\n",
    "\n",
    "print(arr)\n",
    "print(arr.shape)\n",
    "\n",
    "\n",
    "new_dimension = arr.reshape(6,2)\n",
    "print(new_dimension)\n",
    "print(new_dimension.shape)"
   ]
  },
  {
   "cell_type": "code",
   "execution_count": 30,
   "metadata": {},
   "outputs": [
    {
     "name": "stdout",
     "output_type": "stream",
     "text": [
      "[[5 4]\n",
      " [3 3]\n",
      " [2 1]\n",
      " [1 0]\n",
      " [6 6]\n",
      " [5 4]]\n",
      "(6, 2)\n",
      "\n",
      "\n",
      "[[5 3 2 1 6 5]\n",
      " [4 3 1 0 6 4]]\n",
      "(2, 6)\n"
     ]
    }
   ],
   "source": [
    "# 7. Transponuokite arr (po transponavimo shape turi buti 2,6)\n",
    "\n",
    "print(new_dimension)\n",
    "print(new_dimension.shape)\n",
    "\n",
    "print('\\n')\n",
    "\n",
    "Tr = new_dimension.T\n",
    "print(Tr)\n",
    "print(Tr.shape)"
   ]
  },
  {
   "cell_type": "code",
   "execution_count": 38,
   "metadata": {},
   "outputs": [
    {
     "name": "stdout",
     "output_type": "stream",
     "text": [
      "[[5 3 2 1 6 5]\n",
      " [4 3 1 0 6 4]]\n",
      "\n",
      "\n",
      "[[ 10  -6 -14 -22  18  10]\n",
      " [  2  -6 -22 -30  18   2]]\n"
     ]
    }
   ],
   "source": [
    "# 8. Padauginkite visus sio array skaicius is 8 ir atimkite is visu 30, issaugokite kintamajame arr_2\n",
    "\n",
    "print(Tr)\n",
    "print('\\n')\n",
    "arr_2 = ((Tr * 8) - 30)\n",
    "print(arr_2)"
   ]
  },
  {
   "cell_type": "code",
   "execution_count": 57,
   "metadata": {},
   "outputs": [
    {
     "name": "stdout",
     "output_type": "stream",
     "text": [
      "[ -6 -14 -22  -6 -22 -30]\n"
     ]
    }
   ],
   "source": [
    "# 9. Priskirkite visus neigiamus arr_2 narius kintamajam arr_2_neg\n",
    "#print(arr_2)\n",
    "\n",
    "arr_2_neg = arr_2[arr_2 < 0]\n",
    "print(arr_2_neg)\n",
    "\n"
   ]
  },
  {
   "cell_type": "code",
   "execution_count": 65,
   "metadata": {},
   "outputs": [
    {
     "name": "stdout",
     "output_type": "stream",
     "text": [
      "7318080\n"
     ]
    }
   ],
   "source": [
    "# 10. Atspausdinkite arr_2_neg nariu suma ir sandauga\n",
    "\n",
    "mult = 1\n",
    "for number in arr_2_neg:\n",
    "    mult *= number\n",
    "print(mult)"
   ]
  },
  {
   "cell_type": "code",
   "execution_count": 96,
   "metadata": {},
   "outputs": [
    {
     "name": "stdout",
     "output_type": "stream",
     "text": [
      "[-30 -22 -22 -14  -6  -6]\n",
      "\n",
      "\n",
      "[-30 -22 -22 -14  -6  -6]\n",
      "\n",
      "\n",
      "-18.0\n"
     ]
    }
   ],
   "source": [
    "# 11. Atspausdinkite arr_2_neg mediana\n",
    "\n",
    "print(arr_2_neg)\n",
    "print('\\n')\n",
    "arr_2_neg.sort()\n",
    "print(arr_2_neg)\n",
    "print('\\n')\n",
    "arr_index_2 = arr_2_neg[2]\n",
    "arr_index_3 = arr_2_neg[3]\n",
    "median = ((arr_index_2 + arr_index_3) / 2)\n",
    "print(median)"
   ]
  },
  {
   "cell_type": "code",
   "execution_count": null,
   "metadata": {},
   "outputs": [],
   "source": []
  }
 ],
 "metadata": {
  "interpreter": {
   "hash": "c1079bb051ce826b2586e8a117626216eeafca56017ae30fdaacad9a7d00cd2c"
  },
  "kernelspec": {
   "display_name": "Python 3.10.2 64-bit",
   "language": "python",
   "name": "python3"
  },
  "language_info": {
   "codemirror_mode": {
    "name": "ipython",
    "version": 3
   },
   "file_extension": ".py",
   "mimetype": "text/x-python",
   "name": "python",
   "nbconvert_exporter": "python",
   "pygments_lexer": "ipython3",
   "version": "3.10.2"
  },
  "orig_nbformat": 4
 },
 "nbformat": 4,
 "nbformat_minor": 2
}
