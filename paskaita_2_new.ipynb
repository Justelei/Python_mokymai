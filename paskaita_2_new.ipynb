{
 "cells": [
  {
   "cell_type": "code",
   "execution_count": 1,
   "metadata": {},
   "outputs": [
    {
     "name": "stdout",
     "output_type": "stream",
     "text": [
      "52\n",
      "42\n",
      "235\n",
      "9.4\n",
      "229345007\n",
      "8\n",
      "9\n",
      "2\n",
      "1\n",
      "0\n",
      "4 % 5 : 4\n",
      "6 % 5 : 1\n"
     ]
    }
   ],
   "source": [
    "number = 47\n",
    "print(number + 5)\n",
    "print(number - 5)\n",
    "print(number * 5)\n",
    "print(number / 5)\n",
    "print(number ** 5) # kelimas kvadratu\n",
    "print(2 ** 3) \n",
    "print(number // 5) # sveikoji dalis\n",
    "print(number % 5) # likutine dalis\n",
    "print(3 % 2) # likutine dalis\n",
    "print(6 % 2) # likutine dalis\n",
    "print('4 % 5 :', 4 % 5) # likutine dalis\n",
    "print('6 % 5 :', 6 % 5) # likutine dalis\n"
   ]
  },
  {
   "cell_type": "code",
   "execution_count": 5,
   "metadata": {},
   "outputs": [
    {
     "name": "stdout",
     "output_type": "stream",
     "text": [
      "<class 'int'>\n",
      "<class 'float'>\n",
      "<class 'float'>\n"
     ]
    }
   ],
   "source": [
    "print(type(420))\n",
    "print(type(420.))\n",
    "print(type(420.5))\n",
    "\n"
   ]
  },
  {
   "cell_type": "code",
   "execution_count": 10,
   "metadata": {},
   "outputs": [
    {
     "name": "stdout",
     "output_type": "stream",
     "text": [
      "5\n",
      "11\n",
      "18\n"
     ]
    }
   ],
   "source": [
    "suma = 0\n",
    "# akumuliuoti skaiciu suma\n",
    "suma = suma + 5\n",
    "print(suma)\n",
    "suma = suma + 6\n",
    "print (suma)\n",
    "suma += 7\n",
    "print(suma)"
   ]
  },
  {
   "cell_type": "code",
   "execution_count": 17,
   "metadata": {},
   "outputs": [
    {
     "name": "stdout",
     "output_type": "stream",
     "text": [
      "10\n",
      "45.0\n",
      "2025.0\n"
     ]
    }
   ],
   "source": [
    "sandauga = 1\n",
    "sandauga *= 10\n",
    "print(sandauga)\n",
    "sandauga *= 4.5\n",
    "print(sandauga)\n",
    "sandauga **= 2\n",
    "print(sandauga)\n"
   ]
  },
  {
   "cell_type": "markdown",
   "metadata": {},
   "source": [
    "# Int, float uzduotys"
   ]
  },
  {
   "cell_type": "code",
   "execution_count": 25,
   "metadata": {},
   "outputs": [
    {
     "name": "stdout",
     "output_type": "stream",
     "text": [
      "28\n",
      "22\n",
      "75\n",
      "1\n",
      "8.333333333333334\n"
     ]
    }
   ],
   "source": [
    "# Deklaruokite du int tipo kintamuosius.\n",
    "# Apskaiciuokite dvieju int suma, skirtuma, sandauga, liekana, padalinkite viena skaiciu is kito.\n",
    "\n",
    "number_1 = 25\n",
    "number_2 = 3\n",
    "\n",
    "print(number_1 + number_2)\n",
    "print(number_1 - number_2)\n",
    "print(number_1 * number_2)\n",
    "print(number_1 % number_2)\n",
    "print(number_1 / number_2)"
   ]
  },
  {
   "cell_type": "code",
   "execution_count": 29,
   "metadata": {},
   "outputs": [
    {
     "name": "stdout",
     "output_type": "stream",
     "text": [
      "29.4\n",
      "21.0\n",
      "105.84\n",
      "dalybos liekana: 4.199999999999998\n",
      "sveikoji dalis dalybos: 5.0\n",
      "6.0\n"
     ]
    }
   ],
   "source": [
    "# Deklaruokite du float tipo kintamuosius.\n",
    "# Apskaiciuokite dvieju float suma, skirtuma, sandauga, liekana, padalinkite viena skaiciu is kito.\n",
    "\n",
    "n_1 = 25.2\n",
    "n_2 = 4.2\n",
    "\n",
    "print(n_1 + n_2)\n",
    "print(n_1 - n_2)\n",
    "print(n_1 * n_2)\n",
    "print('dalybos liekana:', n_1 % n_2)\n",
    "print('sveikoji dalis dalybos:', n_1 // n_2)\n",
    "print(n_1 / n_2)\n"
   ]
  },
  {
   "cell_type": "code",
   "execution_count": 33,
   "metadata": {},
   "outputs": [
    {
     "name": "stdout",
     "output_type": "stream",
     "text": [
      "Atstumas iki saules yra 390.625 kartu didesnis nei iki menulio\n"
     ]
    }
   ],
   "source": [
    "# Atstumas iki menulio yra apie 384,000 km, o iki saules 150,000,000, kiek kartu atstumas iki saules yra didesnis nei iki menulio?\n",
    "dist_moon = 384000\n",
    "dist_sun = 150000000\n",
    "print(f'Atstumas iki saules yra {dist_sun/dist_moon} kartu didesnis nei iki menulio')\n"
   ]
  },
  {
   "cell_type": "code",
   "execution_count": 36,
   "metadata": {},
   "outputs": [
    {
     "name": "stdout",
     "output_type": "stream",
     "text": [
      "Valandu: 2560.0\n"
     ]
    }
   ],
   "source": [
    "# Jeigu noretume nuvaziuoti iki menulio automobiliu, kurio greitis 150km/h, kiek valandu, metu, menesiu, dienu, sekundziu tai uztruktu?\n",
    "\n",
    "car_speed = 150\n",
    "dist_moon = 384000\n",
    "print('Valandu:', (dist_moon/car_speed))"
   ]
  },
  {
   "cell_type": "markdown",
   "metadata": {},
   "source": [
    "# Boolean deklaracija"
   ]
  },
  {
   "cell_type": "code",
   "execution_count": null,
   "metadata": {},
   "outputs": [],
   "source": [
    "# gali buti tik true (1) arba false (0) fgdfgfdgdf"
   ]
  },
  {
   "cell_type": "code",
   "execution_count": 39,
   "metadata": {},
   "outputs": [
    {
     "name": "stdout",
     "output_type": "stream",
     "text": [
      "<class 'bool'>\n",
      "True\n"
     ]
    }
   ],
   "source": [
    "loginis_kintamasis = True\n",
    "print(type(loginis_kintamasis))\n",
    "print(loginis_kintamasis)"
   ]
  },
  {
   "cell_type": "code",
   "execution_count": 40,
   "metadata": {},
   "outputs": [
    {
     "name": "stdout",
     "output_type": "stream",
     "text": [
      "1\n",
      "0\n"
     ]
    }
   ],
   "source": [
    "print (int(loginis_kintamasis))\n",
    "print(int(False)) # keicia false i skaiciu"
   ]
  },
  {
   "cell_type": "code",
   "execution_count": 41,
   "metadata": {},
   "outputs": [
    {
     "name": "stdout",
     "output_type": "stream",
     "text": [
      "True\n",
      "False\n",
      "False\n",
      "True\n",
      "True\n",
      "50 == number:  True\n",
      "100 == number:  False\n",
      "100 != number:  True\n",
      "90 != number:  True\n",
      "50 != number:  False\n"
     ]
    }
   ],
   "source": [
    "number = 50\n",
    "print(10 > 5)\n",
    "print (10 < 5)\n",
    "print (10 < 10)\n",
    "print (10 <= 10)\n",
    "print (10 >= 10)\n",
    "print ('50 == number: ', 50 == number) # = - priskiria verte, == - palygina\n",
    "print ('100 == number: ', 100 == number)\n",
    "\n",
    "print ('100 != number: ', 100 != number) # != nera lygus\n",
    "print ('90 != number: ', 90 != number) # != nera lygus\n",
    "print ('50 != number: ', 50 != number) # != nera lygus"
   ]
  },
  {
   "cell_type": "code",
   "execution_count": 42,
   "metadata": {},
   "outputs": [
    {
     "name": "stdout",
     "output_type": "stream",
     "text": [
      "True\n",
      "False\n",
      "True\n",
      "bool(tekstas):  True\n",
      "bool():  False\n",
      "bool(' ') : True\n"
     ]
    }
   ],
   "source": [
    "# galima keisti skaiciu i logine verte\n",
    "\n",
    "print(bool(1654))\n",
    "print(bool(0)) # skaiciu vercia atgal i logini kintamaji\n",
    "print(bool(-1)) # viskas kas ne nulis bus true\n",
    "\n",
    "print(\"bool(tekstas): \", bool('tekstas')) # galima ir teksta keisti i logini kintamaji\n",
    "print(\"bool(): \", bool(''))\n",
    "print(\"bool(' ') :\", bool(' '))"
   ]
  },
  {
   "cell_type": "code",
   "execution_count": 43,
   "metadata": {},
   "outputs": [
    {
     "name": "stdout",
     "output_type": "stream",
     "text": [
      "10 < 5 : False\n",
      "10 > 8 : True\n",
      "10 < 5 and 10 > 8: False\n",
      "10 < 50 and 10 > 8: True\n"
     ]
    }
   ],
   "source": [
    "# galime lyginti kelias salygas\n",
    "# and salygoje is abieju pusiu turi veikti\n",
    "\n",
    "print('10 < 5 :', 10 < 5)\n",
    "print('10 > 8 :', 10 > 8)\n",
    "print('10 < 5 and 10 > 8:', 10 < 5 and 10 > 8) # is abieju pusiu turi buti tiesos kad butu tiesa\n",
    "\n",
    "print('10 < 50 and 10 > 8:', 10 < 50 and 10 > 8)"
   ]
  },
  {
   "cell_type": "code",
   "execution_count": 44,
   "metadata": {},
   "outputs": [
    {
     "name": "stdout",
     "output_type": "stream",
     "text": [
      "10 < 5 or 10 > 8: True\n",
      "10 < 50 or 10 > 8: True\n"
     ]
    }
   ],
   "source": [
    "# or salygoje bent vienas is abieju turi but true, reikia bent vieno\n",
    "\n",
    "print('10 < 5 or 10 > 8:', 10 < 5 or 10 > 8)\n",
    "print('10 < 50 or 10 > 8:', 10 < 50 or 10 > 8)"
   ]
  },
  {
   "cell_type": "code",
   "execution_count": 45,
   "metadata": {},
   "outputs": [
    {
     "name": "stdout",
     "output_type": "stream",
     "text": [
      "True\n",
      "False\n",
      "True\n"
     ]
    }
   ],
   "source": [
    "# not - duoda priesinga atsakyma\n",
    "\n",
    "print(not 5 > 10)\n",
    "print(not True)\n",
    "print(not False)"
   ]
  },
  {
   "cell_type": "code",
   "execution_count": 47,
   "metadata": {},
   "outputs": [
    {
     "name": "stdout",
     "output_type": "stream",
     "text": [
      "True\n",
      "False\n",
      "True\n",
      "False\n",
      "True\n"
     ]
    }
   ],
   "source": [
    "print ('Vilnius' in 'Vilnius, Kaunas')\n",
    "print ('Klaipeda' in 'Vilnius, Kaunas')\n",
    "print ('s' in 'Vilnius, Kaunas')\n",
    "print ('kaunas' in 'Vilnius, Kaunas')\n",
    "print('Kaunas' in 'Vilnius, Kaunas')"
   ]
  },
  {
   "cell_type": "code",
   "execution_count": 48,
   "metadata": {},
   "outputs": [
    {
     "name": "stdout",
     "output_type": "stream",
     "text": [
      "True\n",
      "True\n"
     ]
    }
   ],
   "source": [
    "print(True == 1)\n",
    "print(False == 0)"
   ]
  },
  {
   "cell_type": "markdown",
   "metadata": {},
   "source": [
    "# Boolean uzduotys"
   ]
  },
  {
   "cell_type": "code",
   "execution_count": 49,
   "metadata": {},
   "outputs": [
    {
     "name": "stdout",
     "output_type": "stream",
     "text": [
      "True\n",
      "True\n",
      "True\n",
      "True\n",
      "True\n",
      "True\n"
     ]
    }
   ],
   "source": [
    "# 1. Deklaruokite True reiksme 5 skirtingais budais\n",
    "\n",
    "print(bool(-3))\n",
    "print(not 1 > 2)\n",
    "print(5 < 7)\n",
    "print(1 == 1)\n",
    "print(not 's' in 'Lova' and 2>1)\n",
    "print(not 's' in 'Lova')"
   ]
  },
  {
   "cell_type": "code",
   "execution_count": 50,
   "metadata": {},
   "outputs": [
    {
     "name": "stdout",
     "output_type": "stream",
     "text": [
      "False\n",
      "False\n",
      "False\n",
      "False\n",
      "False\n",
      "False\n",
      "False\n"
     ]
    }
   ],
   "source": [
    "# 2. Deklaruokite False reiksme 5 skirtingais budais\n",
    "print(0 == 1)\n",
    "print (2 > 10)\n",
    "print (not 10 > 2)\n",
    "print ('d' in 'abc')\n",
    "print(bool(0))\n",
    "print ('s' in 'Lova')\n",
    "print (not 's' in 'Lova' and 2 > 10)"
   ]
  },
  {
   "cell_type": "code",
   "execution_count": 51,
   "metadata": {},
   "outputs": [
    {
     "name": "stdout",
     "output_type": "stream",
     "text": [
      "True\n"
     ]
    }
   ],
   "source": [
    "print(str(True)) # keicia logini kintamaji i teksta"
   ]
  },
  {
   "cell_type": "code",
   "execution_count": 52,
   "metadata": {},
   "outputs": [
    {
     "name": "stdout",
     "output_type": "stream",
     "text": [
      "-1.0999999999999996\n"
     ]
    }
   ],
   "source": [
    "float_1 = 2.2\n",
    "float_2 = 3.3\n",
    "print(float_1-float_2)"
   ]
  },
  {
   "cell_type": "code",
   "execution_count": null,
   "metadata": {},
   "outputs": [],
   "source": []
  }
 ],
 "metadata": {
  "interpreter": {
   "hash": "c1079bb051ce826b2586e8a117626216eeafca56017ae30fdaacad9a7d00cd2c"
  },
  "kernelspec": {
   "display_name": "Python 3.10.2 64-bit",
   "language": "python",
   "name": "python3"
  },
  "language_info": {
   "codemirror_mode": {
    "name": "ipython",
    "version": 3
   },
   "file_extension": ".py",
   "mimetype": "text/x-python",
   "name": "python",
   "nbconvert_exporter": "python",
   "pygments_lexer": "ipython3",
   "version": "3.10.2"
  },
  "orig_nbformat": 4
 },
 "nbformat": 4,
 "nbformat_minor": 2
}
