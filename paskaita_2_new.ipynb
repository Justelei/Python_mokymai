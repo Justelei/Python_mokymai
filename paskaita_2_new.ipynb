{
 "cells": [
  {
   "cell_type": "code",
   "execution_count": 1,
   "metadata": {},
   "outputs": [
    {
     "name": "stdout",
     "output_type": "stream",
     "text": [
      "52\n",
      "42\n",
      "235\n",
      "9.4\n",
      "229345007\n",
      "8\n",
      "9\n",
      "2\n",
      "1\n",
      "0\n",
      "4 % 5 : 4\n",
      "6 % 5 : 1\n"
     ]
    }
   ],
   "source": [
    "number = 47\n",
    "print(number + 5)\n",
    "print(number - 5)\n",
    "print(number * 5)\n",
    "print(number / 5)\n",
    "print(number ** 5) # kelimas kvadratu\n",
    "print(2 ** 3) \n",
    "print(number // 5) # sveikoji dalis\n",
    "print(number % 5) # likutine dalis\n",
    "print(3 % 2) # likutine dalis\n",
    "print(6 % 2) # likutine dalis\n",
    "print('4 % 5 :', 4 % 5) # likutine dalis\n",
    "print('6 % 5 :', 6 % 5) # likutine dalis\n"
   ]
  },
  {
   "cell_type": "code",
   "execution_count": 5,
   "metadata": {},
   "outputs": [
    {
     "name": "stdout",
     "output_type": "stream",
     "text": [
      "<class 'int'>\n",
      "<class 'float'>\n",
      "<class 'float'>\n"
     ]
    }
   ],
   "source": [
    "print(type(420))\n",
    "print(type(420.))\n",
    "print(type(420.5))\n",
    "\n"
   ]
  },
  {
   "cell_type": "code",
   "execution_count": 10,
   "metadata": {},
   "outputs": [
    {
     "name": "stdout",
     "output_type": "stream",
     "text": [
      "5\n",
      "11\n",
      "18\n"
     ]
    }
   ],
   "source": [
    "suma = 0\n",
    "# akumuliuoti skaiciu suma\n",
    "suma = suma + 5\n",
    "print(suma)\n",
    "suma = suma + 6\n",
    "print (suma)\n",
    "suma += 7\n",
    "print(suma)"
   ]
  },
  {
   "cell_type": "code",
   "execution_count": 17,
   "metadata": {},
   "outputs": [
    {
     "name": "stdout",
     "output_type": "stream",
     "text": [
      "10\n",
      "45.0\n",
      "2025.0\n"
     ]
    }
   ],
   "source": [
    "sandauga = 1\n",
    "sandauga *= 10\n",
    "print(sandauga)\n",
    "sandauga *= 4.5\n",
    "print(sandauga)\n",
    "sandauga **= 2\n",
    "print(sandauga)\n"
   ]
  },
  {
   "cell_type": "markdown",
   "metadata": {},
   "source": [
    "# Int, float uzduotys"
   ]
  },
  {
   "cell_type": "code",
   "execution_count": 25,
   "metadata": {},
   "outputs": [
    {
     "name": "stdout",
     "output_type": "stream",
     "text": [
      "28\n",
      "22\n",
      "75\n",
      "1\n",
      "8.333333333333334\n"
     ]
    }
   ],
   "source": [
    "# Deklaruokite du int tipo kintamuosius.\n",
    "# Apskaiciuokite dvieju int suma, skirtuma, sandauga, liekana, padalinkite viena skaiciu is kito.\n",
    "\n",
    "number_1 = 25\n",
    "number_2 = 3\n",
    "\n",
    "print(number_1 + number_2)\n",
    "print(number_1 - number_2)\n",
    "print(number_1 * number_2)\n",
    "print(number_1 % number_2)\n",
    "print(number_1 / number_2)"
   ]
  },
  {
   "cell_type": "code",
   "execution_count": 29,
   "metadata": {},
   "outputs": [
    {
     "name": "stdout",
     "output_type": "stream",
     "text": [
      "29.4\n",
      "21.0\n",
      "105.84\n",
      "dalybos liekana: 4.199999999999998\n",
      "sveikoji dalis dalybos: 5.0\n",
      "6.0\n"
     ]
    }
   ],
   "source": [
    "# Deklaruokite du float tipo kintamuosius.\n",
    "# Apskaiciuokite dvieju float suma, skirtuma, sandauga, liekana, padalinkite viena skaiciu is kito.\n",
    "\n",
    "n_1 = 25.2\n",
    "n_2 = 4.2\n",
    "\n",
    "print(n_1 + n_2)\n",
    "print(n_1 - n_2)\n",
    "print(n_1 * n_2)\n",
    "print('dalybos liekana:', n_1 % n_2)\n",
    "print('sveikoji dalis dalybos:', n_1 // n_2)\n",
    "print(n_1 / n_2)\n"
   ]
  },
  {
   "cell_type": "code",
   "execution_count": 33,
   "metadata": {},
   "outputs": [
    {
     "name": "stdout",
     "output_type": "stream",
     "text": [
      "Atstumas iki saules yra 390.625 kartu didesnis nei iki menulio\n"
     ]
    }
   ],
   "source": [
    "# Atstumas iki menulio yra apie 384,000 km, o iki saules 150,000,000, kiek kartu atstumas iki saules yra didesnis nei iki menulio?\n",
    "dist_moon = 384000\n",
    "dist_sun = 150000000\n",
    "print(f'Atstumas iki saules yra {dist_sun/dist_moon} kartu didesnis nei iki menulio')\n"
   ]
  },
  {
   "cell_type": "code",
   "execution_count": 36,
   "metadata": {},
   "outputs": [
    {
     "name": "stdout",
     "output_type": "stream",
     "text": [
      "Valandu: 2560.0\n"
     ]
    }
   ],
   "source": [
    "# Jeigu noretume nuvaziuoti iki menulio automobiliu, kurio greitis 150km/h, kiek valandu, metu, menesiu, dienu, sekundziu tai uztruktu?\n",
    "\n",
    "car_speed = 150\n",
    "dist_moon = 384000\n",
    "print('Valandu:', (dist_moon/car_speed))"
   ]
  },
  {
   "cell_type": "markdown",
   "metadata": {},
   "source": [
    "# Boolean deklaracija"
   ]
  },
  {
   "cell_type": "code",
   "execution_count": null,
   "metadata": {},
   "outputs": [],
   "source": [
    "# gali buti tik true (1) arba false (0) fgdfgfdgdf"
   ]
  },
  {
   "cell_type": "code",
   "execution_count": 39,
   "metadata": {},
   "outputs": [
    {
     "name": "stdout",
     "output_type": "stream",
     "text": [
      "<class 'bool'>\n",
      "True\n"
     ]
    }
   ],
   "source": [
    "loginis_kintamasis = True\n",
    "print(type(loginis_kintamasis))\n",
    "print(loginis_kintamasis)"
   ]
  },
  {
   "cell_type": "code",
   "execution_count": null,
   "metadata": {},
   "outputs": [],
   "source": []
  },
  {
   "cell_type": "code",
   "execution_count": null,
   "metadata": {},
   "outputs": [],
   "source": []
  }
 ],
 "metadata": {
  "interpreter": {
   "hash": "c1079bb051ce826b2586e8a117626216eeafca56017ae30fdaacad9a7d00cd2c"
  },
  "kernelspec": {
   "display_name": "Python 3.10.2 64-bit",
   "language": "python",
   "name": "python3"
  },
  "language_info": {
   "codemirror_mode": {
    "name": "ipython",
    "version": 3
   },
   "file_extension": ".py",
   "mimetype": "text/x-python",
   "name": "python",
   "nbconvert_exporter": "python",
   "pygments_lexer": "ipython3",
   "version": "3.10.2"
  },
  "orig_nbformat": 4
 },
 "nbformat": 4,
 "nbformat_minor": 2
}
