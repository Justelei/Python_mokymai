{
 "cells": [
  {
   "cell_type": "code",
   "execution_count": 1,
   "metadata": {},
   "outputs": [
    {
     "name": "stdout",
     "output_type": "stream",
     "text": [
      "52\n",
      "42\n",
      "235\n",
      "9.4\n",
      "229345007\n",
      "8\n",
      "9\n",
      "2\n",
      "1\n",
      "0\n",
      "4 % 5 : 4\n",
      "6 % 5 : 1\n"
     ]
    }
   ],
   "source": [
    "number = 47\n",
    "print(number + 5)\n",
    "print(number - 5)\n",
    "print(number * 5)\n",
    "print(number / 5)\n",
    "print(number ** 5) # kelimas kvadratu\n",
    "print(2 ** 3) \n",
    "print(number // 5) # sveikoji dalis\n",
    "print(number % 5) # likutine dalis\n",
    "print(3 % 2) # likutine dalis\n",
    "print(6 % 2) # likutine dalis\n",
    "print('4 % 5 :', 4 % 5) # likutine dalis\n",
    "print('6 % 5 :', 6 % 5) # likutine dalis\n"
   ]
  },
  {
   "cell_type": "code",
   "execution_count": 5,
   "metadata": {},
   "outputs": [
    {
     "name": "stdout",
     "output_type": "stream",
     "text": [
      "<class 'int'>\n",
      "<class 'float'>\n",
      "<class 'float'>\n"
     ]
    }
   ],
   "source": [
    "print(type(420))\n",
    "print(type(420.))\n",
    "print(type(420.5))\n",
    "\n"
   ]
  },
  {
   "cell_type": "code",
   "execution_count": 10,
   "metadata": {},
   "outputs": [
    {
     "name": "stdout",
     "output_type": "stream",
     "text": [
      "5\n",
      "11\n",
      "18\n"
     ]
    }
   ],
   "source": [
    "suma = 0\n",
    "# akumuliuoti skaiciu suma\n",
    "suma = suma + 5\n",
    "print(suma)\n",
    "suma = suma + 6\n",
    "print (suma)\n",
    "suma += 7\n",
    "print(suma)"
   ]
  },
  {
   "cell_type": "code",
   "execution_count": 17,
   "metadata": {},
   "outputs": [
    {
     "name": "stdout",
     "output_type": "stream",
     "text": [
      "10\n",
      "45.0\n",
      "2025.0\n"
     ]
    }
   ],
   "source": [
    "sandauga = 1\n",
    "sandauga *= 10\n",
    "print(sandauga)\n",
    "sandauga *= 4.5\n",
    "print(sandauga)\n",
    "sandauga **= 2\n",
    "print(sandauga)\n"
   ]
  },
  {
   "cell_type": "markdown",
   "metadata": {},
   "source": [
    "# Int, float uzduotys"
   ]
  },
  {
   "cell_type": "code",
   "execution_count": 25,
   "metadata": {},
   "outputs": [
    {
     "name": "stdout",
     "output_type": "stream",
     "text": [
      "28\n",
      "22\n",
      "75\n",
      "1\n",
      "8.333333333333334\n"
     ]
    }
   ],
   "source": [
    "# Deklaruokite du int tipo kintamuosius.\n",
    "# Apskaiciuokite dvieju int suma, skirtuma, sandauga, liekana, padalinkite viena skaiciu is kito.\n",
    "\n",
    "number_1 = 25\n",
    "number_2 = 3\n",
    "\n",
    "print(number_1 + number_2)\n",
    "print(number_1 - number_2)\n",
    "print(number_1 * number_2)\n",
    "print(number_1 % number_2)\n",
    "print(number_1 / number_2)"
   ]
  },
  {
   "cell_type": "code",
   "execution_count": 29,
   "metadata": {},
   "outputs": [
    {
     "name": "stdout",
     "output_type": "stream",
     "text": [
      "29.4\n",
      "21.0\n",
      "105.84\n",
      "dalybos liekana: 4.199999999999998\n",
      "sveikoji dalis dalybos: 5.0\n",
      "6.0\n"
     ]
    }
   ],
   "source": [
    "# Deklaruokite du float tipo kintamuosius.\n",
    "# Apskaiciuokite dvieju float suma, skirtuma, sandauga, liekana, padalinkite viena skaiciu is kito.\n",
    "\n",
    "n_1 = 25.2\n",
    "n_2 = 4.2\n",
    "\n",
    "print(n_1 + n_2)\n",
    "print(n_1 - n_2)\n",
    "print(n_1 * n_2)\n",
    "print('dalybos liekana:', n_1 % n_2)\n",
    "print('sveikoji dalis dalybos:', n_1 // n_2)\n",
    "print(n_1 / n_2)\n"
   ]
  },
  {
   "cell_type": "code",
   "execution_count": 33,
   "metadata": {},
   "outputs": [
    {
     "name": "stdout",
     "output_type": "stream",
     "text": [
      "Atstumas iki saules yra 390.625 kartu didesnis nei iki menulio\n"
     ]
    }
   ],
   "source": [
    "# Atstumas iki menulio yra apie 384,000 km, o iki saules 150,000,000, kiek kartu atstumas iki saules yra didesnis nei iki menulio?\n",
    "dist_moon = 384000\n",
    "dist_sun = 150000000\n",
    "print(f'Atstumas iki saules yra {dist_sun/dist_moon} kartu didesnis nei iki menulio')\n"
   ]
  },
  {
   "cell_type": "code",
   "execution_count": 36,
   "metadata": {},
   "outputs": [
    {
     "name": "stdout",
     "output_type": "stream",
     "text": [
      "Valandu: 2560.0\n"
     ]
    }
   ],
   "source": [
    "# Jeigu noretume nuvaziuoti iki menulio automobiliu, kurio greitis 150km/h, kiek valandu, metu, menesiu, dienu, sekundziu tai uztruktu?\n",
    "\n",
    "car_speed = 150\n",
    "dist_moon = 384000\n",
    "print('Valandu:', (dist_moon/car_speed))"
   ]
  },
  {
   "cell_type": "markdown",
   "metadata": {},
   "source": [
    "# Boolean deklaracija"
   ]
  },
  {
   "cell_type": "code",
   "execution_count": null,
   "metadata": {},
   "outputs": [],
   "source": [
    "# gali buti tik true (1) arba false (0) fgdfgfdgdf"
   ]
  },
  {
   "cell_type": "code",
   "execution_count": 39,
   "metadata": {},
   "outputs": [
    {
     "name": "stdout",
     "output_type": "stream",
     "text": [
      "<class 'bool'>\n",
      "True\n"
     ]
    }
   ],
   "source": [
    "loginis_kintamasis = True\n",
    "print(type(loginis_kintamasis))\n",
    "print(loginis_kintamasis)"
   ]
  },
  {
   "cell_type": "code",
   "execution_count": 40,
   "metadata": {},
   "outputs": [
    {
     "name": "stdout",
     "output_type": "stream",
     "text": [
      "1\n",
      "0\n"
     ]
    }
   ],
   "source": [
    "print (int(loginis_kintamasis))\n",
    "print(int(False)) # keicia false i skaiciu"
   ]
  },
  {
   "cell_type": "code",
   "execution_count": 41,
   "metadata": {},
   "outputs": [
    {
     "name": "stdout",
     "output_type": "stream",
     "text": [
      "True\n",
      "False\n",
      "False\n",
      "True\n",
      "True\n",
      "50 == number:  True\n",
      "100 == number:  False\n",
      "100 != number:  True\n",
      "90 != number:  True\n",
      "50 != number:  False\n"
     ]
    }
   ],
   "source": [
    "number = 50\n",
    "print(10 > 5)\n",
    "print (10 < 5)\n",
    "print (10 < 10)\n",
    "print (10 <= 10)\n",
    "print (10 >= 10)\n",
    "print ('50 == number: ', 50 == number) # = - priskiria verte, == - palygina\n",
    "print ('100 == number: ', 100 == number)\n",
    "\n",
    "print ('100 != number: ', 100 != number) # != nera lygus\n",
    "print ('90 != number: ', 90 != number) # != nera lygus\n",
    "print ('50 != number: ', 50 != number) # != nera lygus"
   ]
  },
  {
   "cell_type": "code",
   "execution_count": 42,
   "metadata": {},
   "outputs": [
    {
     "name": "stdout",
     "output_type": "stream",
     "text": [
      "True\n",
      "False\n",
      "True\n",
      "bool(tekstas):  True\n",
      "bool():  False\n",
      "bool(' ') : True\n"
     ]
    }
   ],
   "source": [
    "# galima keisti skaiciu i logine verte\n",
    "\n",
    "print(bool(1654))\n",
    "print(bool(0)) # skaiciu vercia atgal i logini kintamaji\n",
    "print(bool(-1)) # viskas kas ne nulis bus true\n",
    "\n",
    "print(\"bool(tekstas): \", bool('tekstas')) # galima ir teksta keisti i logini kintamaji\n",
    "print(\"bool(): \", bool(''))\n",
    "print(\"bool(' ') :\", bool(' '))"
   ]
  },
  {
   "cell_type": "code",
   "execution_count": 43,
   "metadata": {},
   "outputs": [
    {
     "name": "stdout",
     "output_type": "stream",
     "text": [
      "10 < 5 : False\n",
      "10 > 8 : True\n",
      "10 < 5 and 10 > 8: False\n",
      "10 < 50 and 10 > 8: True\n"
     ]
    }
   ],
   "source": [
    "# galime lyginti kelias salygas\n",
    "# and salygoje is abieju pusiu turi veikti\n",
    "\n",
    "print('10 < 5 :', 10 < 5)\n",
    "print('10 > 8 :', 10 > 8)\n",
    "print('10 < 5 and 10 > 8:', 10 < 5 and 10 > 8) # is abieju pusiu turi buti tiesos kad butu tiesa\n",
    "\n",
    "print('10 < 50 and 10 > 8:', 10 < 50 and 10 > 8)"
   ]
  },
  {
   "cell_type": "code",
   "execution_count": 44,
   "metadata": {},
   "outputs": [
    {
     "name": "stdout",
     "output_type": "stream",
     "text": [
      "10 < 5 or 10 > 8: True\n",
      "10 < 50 or 10 > 8: True\n"
     ]
    }
   ],
   "source": [
    "# or salygoje bent vienas is abieju turi but true, reikia bent vieno\n",
    "\n",
    "print('10 < 5 or 10 > 8:', 10 < 5 or 10 > 8)\n",
    "print('10 < 50 or 10 > 8:', 10 < 50 or 10 > 8)"
   ]
  },
  {
   "cell_type": "code",
   "execution_count": 45,
   "metadata": {},
   "outputs": [
    {
     "name": "stdout",
     "output_type": "stream",
     "text": [
      "True\n",
      "False\n",
      "True\n"
     ]
    }
   ],
   "source": [
    "# not - duoda priesinga atsakyma\n",
    "\n",
    "print(not 5 > 10)\n",
    "print(not True)\n",
    "print(not False)"
   ]
  },
  {
   "cell_type": "code",
   "execution_count": 47,
   "metadata": {},
   "outputs": [
    {
     "name": "stdout",
     "output_type": "stream",
     "text": [
      "True\n",
      "False\n",
      "True\n",
      "False\n",
      "True\n"
     ]
    }
   ],
   "source": [
    "print ('Vilnius' in 'Vilnius, Kaunas')\n",
    "print ('Klaipeda' in 'Vilnius, Kaunas')\n",
    "print ('s' in 'Vilnius, Kaunas')\n",
    "print ('kaunas' in 'Vilnius, Kaunas')\n",
    "print('Kaunas' in 'Vilnius, Kaunas')"
   ]
  },
  {
   "cell_type": "code",
   "execution_count": 48,
   "metadata": {},
   "outputs": [
    {
     "name": "stdout",
     "output_type": "stream",
     "text": [
      "True\n",
      "True\n"
     ]
    }
   ],
   "source": [
    "print(True == 1)\n",
    "print(False == 0)"
   ]
  },
  {
   "cell_type": "markdown",
   "metadata": {},
   "source": [
    "# Boolean uzduotys"
   ]
  },
  {
   "cell_type": "code",
   "execution_count": 49,
   "metadata": {},
   "outputs": [
    {
     "name": "stdout",
     "output_type": "stream",
     "text": [
      "True\n",
      "True\n",
      "True\n",
      "True\n",
      "True\n",
      "True\n"
     ]
    }
   ],
   "source": [
    "# 1. Deklaruokite True reiksme 5 skirtingais budais\n",
    "\n",
    "print(bool(-3))\n",
    "print(not 1 > 2)\n",
    "print(5 < 7)\n",
    "print(1 == 1)\n",
    "print(not 's' in 'Lova' and 2>1)\n",
    "print(not 's' in 'Lova')"
   ]
  },
  {
   "cell_type": "code",
   "execution_count": 50,
   "metadata": {},
   "outputs": [
    {
     "name": "stdout",
     "output_type": "stream",
     "text": [
      "False\n",
      "False\n",
      "False\n",
      "False\n",
      "False\n",
      "False\n",
      "False\n"
     ]
    }
   ],
   "source": [
    "# 2. Deklaruokite False reiksme 5 skirtingais budais\n",
    "print(0 == 1)\n",
    "print (2 > 10)\n",
    "print (not 10 > 2)\n",
    "print ('d' in 'abc')\n",
    "print(bool(0))\n",
    "print ('s' in 'Lova')\n",
    "print (not 's' in 'Lova' and 2 > 10)"
   ]
  },
  {
   "cell_type": "code",
   "execution_count": 51,
   "metadata": {},
   "outputs": [
    {
     "name": "stdout",
     "output_type": "stream",
     "text": [
      "True\n"
     ]
    }
   ],
   "source": [
    "print(str(True)) # keicia logini kintamaji i teksta"
   ]
  },
  {
   "cell_type": "code",
   "execution_count": 52,
   "metadata": {},
   "outputs": [
    {
     "name": "stdout",
     "output_type": "stream",
     "text": [
      "-1.0999999999999996\n"
     ]
    }
   ],
   "source": [
    "float_1 = 2.2\n",
    "float_2 = 3.3\n",
    "print(float_1-float_2)"
   ]
  },
  {
   "cell_type": "markdown",
   "metadata": {},
   "source": [
    "# List"
   ]
  },
  {
   "cell_type": "code",
   "execution_count": 1,
   "metadata": {},
   "outputs": [],
   "source": [
    "cities = ['Vilnius', 'Kaunas', 'Klaipeda']"
   ]
  },
  {
   "cell_type": "code",
   "execution_count": 5,
   "metadata": {},
   "outputs": [
    {
     "name": "stdout",
     "output_type": "stream",
     "text": [
      "<class 'list'>\n",
      "<class 'list'>\n",
      "Vilnius\n",
      "Klaipeda\n",
      "['Kaunas', 'Klaipeda']\n"
     ]
    }
   ],
   "source": [
    "print(type(cities))\n",
    "print(type([]))\n",
    "print(cities[0])\n",
    "print(cities[-1])\n",
    "#slicing\n",
    "print(cities[1:])"
   ]
  },
  {
   "cell_type": "code",
   "execution_count": 8,
   "metadata": {},
   "outputs": [
    {
     "name": "stdout",
     "output_type": "stream",
     "text": [
      "['Vilnius', 'Kaunas', 'Siauliai']\n"
     ]
    }
   ],
   "source": [
    "cities[-1] = 'Siauliai' #perraso verte\n",
    "print(cities)"
   ]
  },
  {
   "cell_type": "code",
   "execution_count": 18,
   "metadata": {},
   "outputs": [
    {
     "name": "stdout",
     "output_type": "stream",
     "text": [
      "['Vilnius', 'Kaunas', 'Siauliai', 'Panevezys', 'Marijampole', 'Panevezys']\n"
     ]
    }
   ],
   "source": [
    "cities.append('Marijampole')\n",
    "cities.append('Panevezys') #prideda kiekviena karta paleidus\n",
    "print(cities)"
   ]
  },
  {
   "cell_type": "code",
   "execution_count": 19,
   "metadata": {},
   "outputs": [
    {
     "name": "stdout",
     "output_type": "stream",
     "text": [
      "['Vilnius', 'Kaunas', 'Siauliai', 'Marijampole', 'Panevezys']\n"
     ]
    }
   ],
   "source": [
    "cities.remove('Panevezys') #panaikina pirma pasikartojancia verte\n",
    "print(cities)"
   ]
  },
  {
   "cell_type": "code",
   "execution_count": 27,
   "metadata": {},
   "outputs": [
    {
     "name": "stdout",
     "output_type": "stream",
     "text": [
      "['Vilnius', 'Kaunas', 'Siauliai', 'Marijampole', 'Panevezys', 'New York', 'London', 'Marijampole', 'Panevezys']\n",
      "['Vilnius', 'Kaunas', 'Siauliai', 'Marijampole', 'Panevezys', 'New York', 'London', 'Marijampole']\n"
     ]
    },
    {
     "data": {
      "text/plain": [
       "'Marijampole'"
      ]
     },
     "execution_count": 27,
     "metadata": {},
     "output_type": "execute_result"
    }
   ],
   "source": [
    "cities.append('Marijampole')\n",
    "cities.append('Panevezys')\n",
    "print(cities)\n",
    "cities.pop() #jei niekas nenurodyta, pasalina paskutine verte is saraso, remove pirma\n",
    "print(cities)\n",
    "cities.pop()\n",
    "\n",
    "#append po viena verte prideda, nepatogu, jei reikia daug, tam reik naujo listo ir EXTEND"
   ]
  },
  {
   "cell_type": "code",
   "execution_count": 47,
   "metadata": {},
   "outputs": [
    {
     "name": "stdout",
     "output_type": "stream",
     "text": [
      "['Vilnius', 'Kaunas', 'Siauliai', 'Marijampole', 'Panevezys']\n",
      "po extend\n",
      "7 ['Vilnius', 'Kaunas', 'Siauliai', 'Marijampole', 'Panevezys', 'New York', 'London']\n",
      "po append\n",
      "6 ['Vilnius', 'Kaunas', 'Siauliai', 'Marijampole', 'Panevezys', ['New York', 'London']]\n"
     ]
    },
    {
     "data": {
      "text/plain": [
       "['New York', 'London']"
      ]
     },
     "execution_count": 47,
     "metadata": {},
     "output_type": "execute_result"
    }
   ],
   "source": [
    "cities = ['Vilnius', 'Kaunas', 'Siauliai', 'Marijampole', 'Panevezys']\n",
    "print(cities)\n",
    "new_cities = ['New York', 'London']\n",
    "cities.extend(new_cities)\n",
    "print('po extend')\n",
    "print(len(cities), cities)\n",
    "cities.pop()\n",
    "cities.pop()\n",
    "cities.append(new_cities)\n",
    "print('po append')\n",
    "print(len(cities), cities)\n",
    "cities.pop()\n"
   ]
  },
  {
   "cell_type": "code",
   "execution_count": 48,
   "metadata": {},
   "outputs": [
    {
     "name": "stdout",
     "output_type": "stream",
     "text": [
      "[]\n"
     ]
    }
   ],
   "source": [
    "cities.clear()\n",
    "print(cities)"
   ]
  },
  {
   "cell_type": "code",
   "execution_count": 61,
   "metadata": {},
   "outputs": [
    {
     "name": "stdout",
     "output_type": "stream",
     "text": [
      "2\n",
      "0\n",
      "1\n"
     ]
    }
   ],
   "source": [
    "cities = ['Vilnius', 'Kaunas', 'Siauliai', 'Marijampole', 'Panevezys', 'Panevezys']\n",
    "print(cities.count('Panevezys'))\n",
    "print(cities.count('Pan')) #fja ziuri i nari, o ne i vidu, nors ir kartojasi PAN 2k\n",
    "print(cities.count('Vilnius'))"
   ]
  },
  {
   "cell_type": "code",
   "execution_count": 58,
   "metadata": {},
   "outputs": [
    {
     "name": "stdout",
     "output_type": "stream",
     "text": [
      "4\n"
     ]
    },
    {
     "ename": "ValueError",
     "evalue": "'Klaipeda' is not in list",
     "output_type": "error",
     "traceback": [
      "\u001b[1;31m---------------------------------------------------------------------------\u001b[0m",
      "\u001b[1;31mValueError\u001b[0m                                Traceback (most recent call last)",
      "\u001b[1;32mc:\\Users\\laima\\Desktop\\Python_mokymai\\paskaita_2_new.ipynb Cell 36'\u001b[0m in \u001b[0;36m<module>\u001b[1;34m\u001b[0m\n\u001b[0;32m      <a href='vscode-notebook-cell:/c%3A/Users/laima/Desktop/Python_mokymai/paskaita_2_new.ipynb#ch0000039?line=0'>1</a>\u001b[0m \u001b[39mprint\u001b[39m(cities\u001b[39m.\u001b[39mindex(\u001b[39m'\u001b[39m\u001b[39mPanevezys\u001b[39m\u001b[39m'\u001b[39m)) \u001b[39m#grazina 1a indeksa vertes kuria norim surast\u001b[39;00m\n\u001b[1;32m----> <a href='vscode-notebook-cell:/c%3A/Users/laima/Desktop/Python_mokymai/paskaita_2_new.ipynb#ch0000039?line=1'>2</a>\u001b[0m \u001b[39mprint\u001b[39m(cities\u001b[39m.\u001b[39;49mindex(\u001b[39m'\u001b[39;49m\u001b[39mKlaipeda\u001b[39;49m\u001b[39m'\u001b[39;49m))\n",
      "\u001b[1;31mValueError\u001b[0m: 'Klaipeda' is not in list"
     ]
    }
   ],
   "source": [
    "print(cities.index('Panevezys')) #grazina 1a indeksa vertes kuria norim surast\n",
    "print(cities.index('Klaipeda')) #negrazina nes nera KLPD liste"
   ]
  },
  {
   "cell_type": "code",
   "execution_count": 71,
   "metadata": {},
   "outputs": [
    {
     "name": "stdout",
     "output_type": "stream",
     "text": [
      "['Vilnius', 'Kaunas', 'Klaipeda', 'Siauliai', 'Marijampole', 'Panevezys', 'Panevezys']\n"
     ]
    }
   ],
   "source": [
    "cities.clear()\n",
    "cities = ['Vilnius', 'Kaunas', 'Siauliai', 'Marijampole', 'Panevezys', 'Panevezys']\n",
    "cities.insert(2, 'Klaipeda')\n",
    "print(cities)"
   ]
  },
  {
   "cell_type": "code",
   "execution_count": 74,
   "metadata": {},
   "outputs": [
    {
     "name": "stdout",
     "output_type": "stream",
     "text": [
      "['Panevezys', 'Panevezys', 'Marijampole', 'Siauliai', 'Klaipeda', 'Kaunas', 'Vilnius']\n",
      "['Panevezys', 'Panevezys', 'Marijampole', 'Siauliai', 'Klaipeda', 'Kaunas', 'Vilnius']\n"
     ]
    }
   ],
   "source": [
    "cities.reverse()\n",
    "print(cities)\n",
    "print(cities)"
   ]
  },
  {
   "cell_type": "code",
   "execution_count": 75,
   "metadata": {},
   "outputs": [
    {
     "name": "stdout",
     "output_type": "stream",
     "text": [
      "['Panevezys', 'Panevezys', 'Marijampole', 'Siauliai', 'Klaipeda', 'Kaunas', 'Vilnius']\n"
     ]
    }
   ],
   "source": [
    "print(cities) # apkeite ir taip liko, reiktu vel reversint"
   ]
  },
  {
   "cell_type": "code",
   "execution_count": 76,
   "metadata": {},
   "outputs": [
    {
     "name": "stdout",
     "output_type": "stream",
     "text": [
      "['Vilnius', 'Kaunas', 'Klaipeda', 'Siauliai', 'Marijampole', 'Panevezys', 'Panevezys']\n",
      "['Panevezys', 'Panevezys', 'Marijampole', 'Siauliai', 'Klaipeda', 'Kaunas', 'Vilnius']\n"
     ]
    }
   ],
   "source": [
    "print(cities[::-1]) # nuo pradzios iki galo , -1 apsuka sarasa / \n",
    "print(cities) # bet neperraso"
   ]
  },
  {
   "cell_type": "code",
   "execution_count": 77,
   "metadata": {},
   "outputs": [],
   "source": [
    "numbers = [5614, 984, 479987, 3453, 1, 2, 14, 0, 111]"
   ]
  },
  {
   "cell_type": "code",
   "execution_count": 80,
   "metadata": {},
   "outputs": [
    {
     "name": "stdout",
     "output_type": "stream",
     "text": [
      "[0, 1, 2, 14, 111, 984, 3453, 5614, 479987]\n",
      "[479987, 5614, 3453, 984, 111, 14, 2, 1, 0]\n"
     ]
    }
   ],
   "source": [
    "numbers.sort() #didejimo\n",
    "print(numbers)\n",
    "numbers.sort(reverse=True) #mazejimo\n",
    "print(numbers)"
   ]
  },
  {
   "cell_type": "code",
   "execution_count": 88,
   "metadata": {},
   "outputs": [
    {
     "name": "stdout",
     "output_type": "stream",
     "text": [
      "False\n",
      "True\n",
      "True\n",
      "True\n",
      "False\n"
     ]
    }
   ],
   "source": [
    "print(bool( [] )) #jei keiciam tuscia sarasa i logine verte, gaunam false\n",
    "print(bool( [5] ))\n",
    "print(bool( [False, 0, ''] )) #jei kazkas yra sarase, tampa true, neziuri kas viduje logine verte\n",
    "print('Vilnius' in cities)\n",
    "print('Berlin' in cities)\n",
    "\n",
    "# tuscias arba 0 - false, ne tuscias arba ne nulinis - true"
   ]
  },
  {
   "cell_type": "code",
   "execution_count": 92,
   "metadata": {},
   "outputs": [
    {
     "name": "stdout",
     "output_type": "stream",
     "text": [
      "[1, 3, 58, 'A', False]\n"
     ]
    }
   ],
   "source": [
    "my_list = [1,3, 58] + ['A', False]\n",
    "print(my_list)\n",
    "# my_list = [1,3, 58] - ['A', False]"
   ]
  },
  {
   "cell_type": "code",
   "execution_count": 93,
   "metadata": {},
   "outputs": [
    {
     "name": "stdout",
     "output_type": "stream",
     "text": [
      "['first', 3, 58, 'first', 3, 58, 'first', 3, 58, 'first', 3, 58, 'first', 3, 58, 'first', 3, 58, 'first', 3, 58, 'first', 3, 58, 'first', 3, 58, 'first', 3, 58, 'first', 3, 58, 'first', 3, 58, 'first', 3, 58, 'first', 3, 58, 'first', 3, 58, 'first', 3, 58, 'first', 3, 58, 'first', 3, 58, 'first', 3, 58, 'first', 3, 58, 'first', 3, 58, 'first', 3, 58, 'first', 3, 58, 'first', 3, 58, 'first', 3, 58, 'first', 3, 58, 'first', 3, 58, 'first', 3, 58, 'first', 3, 58, 'first', 3, 58, 'first', 3, 58, 'first', 3, 58, 'first', 3, 58, 'first', 3, 58, 'first', 3, 58, 'first', 3, 58, 'first', 3, 58, 'first', 3, 58, 'first', 3, 58, 'first', 3, 58, 'first', 3, 58, 'first', 3, 58, 'first', 3, 58, 'first', 3, 58, 'first', 3, 58, 'first', 3, 58, 'first', 3, 58, 'first', 3, 58, 'first', 3, 58, 'first', 3, 58]\n"
     ]
    }
   ],
   "source": [
    "my_list = ['first',3,58] * 50\n",
    "print(my_list)"
   ]
  },
  {
   "cell_type": "markdown",
   "metadata": {},
   "source": [
    "# Mutable vs. Immutable variables"
   ]
  },
  {
   "cell_type": "code",
   "execution_count": 98,
   "metadata": {},
   "outputs": [
    {
     "name": "stdout",
     "output_type": "stream",
     "text": [
      "2012099838352\n",
      "2012099838352\n",
      "number_1: 6\n",
      "number_2: 13\n",
      "id number_1: 2012099838352\n",
      "id number_2: 2012099838576\n"
     ]
    }
   ],
   "source": [
    "# Immutable \n",
    "number_1 = 6\n",
    "number_2 = number_1\n",
    "print(id(number_1))\n",
    "print(id(number_2))\n",
    "number_2 = 13\n",
    "print ('number_1:', number_1)\n",
    "print('number_2:', number_2)\n",
    "print('id number_1:', id(number_1))\n",
    "print('id number_2:', id(number_2))"
   ]
  },
  {
   "cell_type": "code",
   "execution_count": 100,
   "metadata": {},
   "outputs": [
    {
     "name": "stdout",
     "output_type": "stream",
     "text": [
      "2010067337152\n",
      "2010067337152\n",
      "numbers_1: [1, 5, 10, 13]\n",
      "numbers_2: [1, 5, 10, 13]\n",
      "2010067337152\n",
      "2010067337152\n"
     ]
    }
   ],
   "source": [
    "# Mutable\n",
    "\n",
    "numbers_1 = [1,5,10]\n",
    "numbers_2 = numbers_1\n",
    "print(id(numbers_1))\n",
    "print(id(numbers_2))\n",
    "numbers_2.append(13)\n",
    "print('numbers_1:', (numbers_1))\n",
    "print('numbers_2:', (numbers_2))\n",
    "print(id(numbers_1))\n",
    "print(id(numbers_2))"
   ]
  },
  {
   "cell_type": "code",
   "execution_count": 101,
   "metadata": {},
   "outputs": [
    {
     "name": "stdout",
     "output_type": "stream",
     "text": [
      "2010067333056\n",
      "2010067328384\n",
      "numbers_1: [1, 5, 10]\n",
      "numbers_2: [1, 5, 10, 13]\n",
      "2010067333056\n",
      "2010067328384\n"
     ]
    }
   ],
   "source": [
    "# fix 1 for mutable variables\n",
    "\n",
    "numbers_1 = [1,5,10]\n",
    "numbers_2 = numbers_1.copy()\n",
    "print(id(numbers_1))\n",
    "print(id(numbers_2))\n",
    "numbers_2.append(13)\n",
    "print('numbers_1:', (numbers_1))\n",
    "print('numbers_2:', (numbers_2))\n",
    "print(id(numbers_1))\n",
    "print(id(numbers_2))\n"
   ]
  },
  {
   "cell_type": "code",
   "execution_count": 103,
   "metadata": {},
   "outputs": [
    {
     "name": "stdout",
     "output_type": "stream",
     "text": [
      "2010067244992\n",
      "2010067243648\n",
      "2010067248256\n",
      "2010067248256\n",
      "numbers_1: [1, 5, [10, 20, 13]]\n",
      "numbers_2: [1, 5, [10, 20, 13]]\n",
      "2010067244992\n",
      "2010067243648\n"
     ]
    }
   ],
   "source": [
    "numbers_1 = [1,5,[10, 20]] \n",
    "numbers_2 = numbers_1.copy() #will fail\n",
    "print(id(numbers_1))\n",
    "print(id(numbers_2))\n",
    "print(id(numbers_1[2]))\n",
    "print(id(numbers_2[2]))\n",
    "numbers_2[2].append(13)\n",
    "print('numbers_1:', (numbers_1))\n",
    "print('numbers_2:', (numbers_2))\n",
    "print(id(numbers_1))\n",
    "print(id(numbers_2))"
   ]
  },
  {
   "cell_type": "code",
   "execution_count": 104,
   "metadata": {},
   "outputs": [
    {
     "name": "stdout",
     "output_type": "stream",
     "text": [
      "2010067244672\n",
      "2010067374976\n",
      "2010067245504\n",
      "2010067337152\n",
      "numbers_1: [1, 5, [10, 20]]\n",
      "numbers_2: [1, 5, [10, 20, 13]]\n",
      "2010067244672\n",
      "2010067374976\n"
     ]
    }
   ],
   "source": [
    "# Best fix for mutable variables\n",
    "\n",
    "import copy\n",
    "numbers_1 = [1,5,[10, 20]] \n",
    "numbers_2 = copy.deepcopy(numbers_1)\n",
    "print(id(numbers_1))\n",
    "print(id(numbers_2))\n",
    "print(id(numbers_1[2]))\n",
    "print(id(numbers_2[2]))\n",
    "numbers_2[2].append(13)\n",
    "print('numbers_1:', (numbers_1))\n",
    "print('numbers_2:', (numbers_2))\n",
    "print(id(numbers_1))\n",
    "print(id(numbers_2))"
   ]
  },
  {
   "cell_type": "markdown",
   "metadata": {},
   "source": [
    "# List uzduotys"
   ]
  },
  {
   "cell_type": "code",
   "execution_count": 114,
   "metadata": {},
   "outputs": [
    {
     "name": "stdout",
     "output_type": "stream",
     "text": [
      "[1, 32, 434]\n",
      "3\n",
      "[1, 32, 434, 43535]\n"
     ]
    }
   ],
   "source": [
    "# 1. Deklaruoti list tipo duomeni, gauti jo ilgi, prideti nauja elementa.\n",
    "\n",
    "my_list1 = [1, 32, 434]\n",
    "print(my_list1)\n",
    "print(len(my_list1))\n",
    "my_list1.append(43535)\n",
    "print(my_list1)"
   ]
  },
  {
   "cell_type": "code",
   "execution_count": 112,
   "metadata": {},
   "outputs": [
    {
     "name": "stdout",
     "output_type": "stream",
     "text": [
      "[1, 32, 434, 43535]\n",
      "True\n"
     ]
    }
   ],
   "source": [
    "# 2. Patikrinti, ar elementas yra jusu sarase.\n",
    "\n",
    "print(my_list1)\n",
    "print(1 in my_list1)"
   ]
  },
  {
   "cell_type": "code",
   "execution_count": 133,
   "metadata": {},
   "outputs": [
    {
     "name": "stdout",
     "output_type": "stream",
     "text": [
      "[1, 5, 3, 9, 4, 7, 9, 9]\n",
      "[1, 5, 3, 9, 4, 7, 9]\n",
      "[1, 3, 4, 5, 7, 9, 9]\n",
      "2\n"
     ]
    }
   ],
   "source": [
    "# 3. Sudeti du listus, isimti paskutini nari is sudeto listo, isrikuoti lista, suskaiciuoti kiek yra kokios nors reiksmes ivesciu liste.\n",
    "\n",
    "list_1 = [1,5,3,9] + [4,7,9,9]\n",
    "print(list_1)\n",
    "list_1.pop()\n",
    "print(list_1)\n",
    "list_1.sort()\n",
    "print(list_1)\n",
    "print(list_1.count(9))"
   ]
  },
  {
   "cell_type": "code",
   "execution_count": 139,
   "metadata": {},
   "outputs": [
    {
     "name": "stdout",
     "output_type": "stream",
     "text": [
      "[1, [[5416, 3], 521, 4], 54]\n",
      "[[5416, 3], 521, 4]\n",
      "[5416, 3]\n",
      "3\n"
     ]
    }
   ],
   "source": [
    "my_list_2 = [1,[[5416,3],521,4], 54]\n",
    "print(my_list_2)\n",
    "print(my_list_2[1])\n",
    "print(my_list_2[1][0])\n",
    "print(my_list_2[1][0][1])"
   ]
  },
  {
   "cell_type": "markdown",
   "metadata": {},
   "source": [
    "# Tuple"
   ]
  },
  {
   "cell_type": "code",
   "execution_count": null,
   "metadata": {},
   "outputs": [],
   "source": [
    "# Nuo list tuple skiriasi tuo, kad elementai negali kisti, negalime ideti nauju elementu, negalime\n",
    "# isimti elementu.\n",
    "\n",
    "# Tuple duomenu formatas turi sekos parametrus, tai reiskia, kad\n",
    "# galime skaidyti tuple duomenis, pvz is saraso ('item1', 'item2', 'item3') nuskaityti 1 reiksme, pasilikti tik paskutine ir tt\n",
    "\n",
    "# Tuple tipo duomenys turi du metodus skirtus tuple - count() ir index()\n",
    "# galime naudoti ir list skirtas funkcijas, taciau ne visas, kadangi tuple yra nekintantis (len, in)\n"
   ]
  },
  {
   "cell_type": "code",
   "execution_count": 154,
   "metadata": {},
   "outputs": [
    {
     "name": "stdout",
     "output_type": "stream",
     "text": [
      "(1, 2, 3)\n",
      "2\n",
      "(1, 2)\n"
     ]
    }
   ],
   "source": [
    "my_tuple = (1,2,3)\n",
    "print(my_tuple)\n",
    "print(my_tuple[1])\n",
    "print(my_tuple[:2])"
   ]
  },
  {
   "cell_type": "code",
   "execution_count": 155,
   "metadata": {},
   "outputs": [
    {
     "name": "stdout",
     "output_type": "stream",
     "text": [
      "1\n",
      "2\n"
     ]
    }
   ],
   "source": [
    "print(my_tuple.count(3))\n",
    "print(my_tuple.index(3))"
   ]
  },
  {
   "cell_type": "code",
   "execution_count": 146,
   "metadata": {},
   "outputs": [],
   "source": [
    "# negalime perrasineti reiksmiu\n",
    "\n",
    "# my_tuple[2] = 5"
   ]
  },
  {
   "cell_type": "code",
   "execution_count": 156,
   "metadata": {},
   "outputs": [
    {
     "name": "stdout",
     "output_type": "stream",
     "text": [
      "(1, 2, 3, 5, 10)\n"
     ]
    }
   ],
   "source": [
    "my_tuple = my_tuple + (5,10) #perraso tsg\n",
    "print(my_tuple) "
   ]
  },
  {
   "cell_type": "code",
   "execution_count": 158,
   "metadata": {},
   "outputs": [],
   "source": [
    "#my_tuple.append(5)"
   ]
  },
  {
   "cell_type": "code",
   "execution_count": 160,
   "metadata": {},
   "outputs": [
    {
     "name": "stdout",
     "output_type": "stream",
     "text": [
      "(1, 4, 4, 5, 5, 5)\n",
      "True\n"
     ]
    }
   ],
   "source": [
    "combined = (1,4,4) + (5,5,5)\n",
    "print(combined)\n",
    "print(5 in combined)\n"
   ]
  },
  {
   "cell_type": "code",
   "execution_count": 162,
   "metadata": {},
   "outputs": [
    {
     "name": "stdout",
     "output_type": "stream",
     "text": [
      "(1, 5, [4, 8])\n",
      "(1, 5, [4, 8, 100])\n"
     ]
    }
   ],
   "source": [
    "# Budas apeiti draugima daryti pakeitimus , idedam lista, o liste galima keist\n",
    "my_tuple2 = (1,5,[4,8])\n",
    "print(my_tuple2)\n",
    "my_tuple2[2].append(100)\n",
    "print(my_tuple2)"
   ]
  },
  {
   "cell_type": "markdown",
   "metadata": {},
   "source": [
    "# Tuple uzduotys"
   ]
  },
  {
   "cell_type": "code",
   "execution_count": 163,
   "metadata": {},
   "outputs": [],
   "source": [
    "# 1. Isvekite 8\n",
    "\n",
    "my_tuple_1 = (1,2,['3',4,5],[6,[7,(8)]])"
   ]
  },
  {
   "cell_type": "code",
   "execution_count": 170,
   "metadata": {},
   "outputs": [
    {
     "name": "stdout",
     "output_type": "stream",
     "text": [
      "[6, [7, 8]]\n",
      "[7, 8]\n",
      "8\n",
      "8\n"
     ]
    }
   ],
   "source": [
    "print(my_tuple_1[3])\n",
    "print(my_tuple_1[3][1])\n",
    "print(my_tuple_1[3][1][1])\n",
    "\n",
    "print(my_tuple_1[-1][-1][-1])"
   ]
  },
  {
   "cell_type": "code",
   "execution_count": 179,
   "metadata": {},
   "outputs": [
    {
     "name": "stdout",
     "output_type": "stream",
     "text": [
      "(11, [222, 33], 44, 55)\n",
      "(11, [222, 22], 44, 55)\n"
     ]
    }
   ],
   "source": [
    "# 2. Pakeiskite reiksme\n",
    "\n",
    "tuple1 = (11,[222,33],44,55)\n",
    "print(tuple1)\n",
    "tuple1[1][-1]=22\n",
    "print(tuple1)"
   ]
  },
  {
   "cell_type": "code",
   "execution_count": 183,
   "metadata": {},
   "outputs": [
    {
     "name": "stdout",
     "output_type": "stream",
     "text": [
      "[11, [222, 33], 44, 55]\n",
      "(11, [222, 22], 44, 55)\n",
      "<class 'tuple'>\n"
     ]
    }
   ],
   "source": [
    "# 2 budas\n",
    "\n",
    "tuple1 = (11,[222,33],44,55)\n",
    "tmp_list = list(tuple1)\n",
    "print(tmp_list)\n",
    "tmp_list[1]=[222, 22]\n",
    "tuple1 = tuple(tmp_list)\n",
    "print(tuple1)\n",
    "print(type(tuple1))"
   ]
  },
  {
   "cell_type": "markdown",
   "metadata": {},
   "source": [
    "#  Range'as"
   ]
  },
  {
   "cell_type": "code",
   "execution_count": 193,
   "metadata": {},
   "outputs": [
    {
     "name": "stdout",
     "output_type": "stream",
     "text": [
      "<class 'range'>\n",
      "range(54, 158, 3)\n",
      "[54, 57, 60, 63, 66, 69, 72, 75, 78, 81, 84, 87, 90, 93, 96, 99, 102, 105, 108, 111, 114, 117, 120, 123, 126, 129, 132, 135, 138, 141, 144, 147, 150, 153, 156]\n"
     ]
    }
   ],
   "source": [
    "my_numbers = range(54,158,3)\n",
    "print(type(my_numbers))\n",
    "print(my_numbers)\n",
    "print(list(my_numbers)) #jei norim paciu skaiciu, reikia pakeisti tipa i lista"
   ]
  },
  {
   "cell_type": "code",
   "execution_count": 194,
   "metadata": {},
   "outputs": [
    {
     "name": "stdout",
     "output_type": "stream",
     "text": [
      "[54, 47, 40, 33, 26, 19, 12, 5, -2, -9, -16, -23, -30, -37, -44, -51, -58, -65, -72, -79, -86, -93, -100, -107, -114, -121, -128, -135, -142, -149, -156]\n"
     ]
    }
   ],
   "source": [
    "print(list(range(54,-158,-7)))"
   ]
  },
  {
   "cell_type": "code",
   "execution_count": 196,
   "metadata": {},
   "outputs": [
    {
     "name": "stdout",
     "output_type": "stream",
     "text": [
      "[20, 22, 24, 26, 28, 30, 32, 34, 36, 38, 40, 42, 44, 46, 48, 50, 52, 54, 56, 58, 60, 62, 64, 66, 68, 70, 72, 74, 76, 78, 80]\n"
     ]
    }
   ],
   "source": [
    "print(list(range(20,81,2)))"
   ]
  },
  {
   "cell_type": "markdown",
   "metadata": {},
   "source": [
    "# Loopas\n"
   ]
  },
  {
   "cell_type": "code",
   "execution_count": 197,
   "metadata": {},
   "outputs": [
    {
     "data": {
      "text/plain": [
       "['Panevezys',\n",
       " 'Panevezys',\n",
       " 'Marijampole',\n",
       " 'Siauliai',\n",
       " 'Klaipeda',\n",
       " 'Kaunas',\n",
       " 'Vilnius']"
      ]
     },
     "execution_count": 197,
     "metadata": {},
     "output_type": "execute_result"
    }
   ],
   "source": [
    "cities"
   ]
  },
  {
   "cell_type": "code",
   "execution_count": 203,
   "metadata": {},
   "outputs": [
    {
     "name": "stdout",
     "output_type": "stream",
     "text": [
      "[3, 5, 7, 9]\n",
      "ciklas prasidejo\n",
      "3\n",
      "ciklas prasidejo\n",
      "5\n",
      "ciklas prasidejo\n",
      "7\n",
      "ciklas prasidejo\n",
      "9\n",
      "pabaiga\n"
     ]
    }
   ],
   "source": [
    "print(list(range(3,11,2)))\n",
    "for number in range (3,11,2):\n",
    "    print('ciklas prasidejo')\n",
    "    print(number)\n",
    "print('pabaiga')"
   ]
  },
  {
   "cell_type": "code",
   "execution_count": null,
   "metadata": {},
   "outputs": [],
   "source": []
  }
 ],
 "metadata": {
  "interpreter": {
   "hash": "c1079bb051ce826b2586e8a117626216eeafca56017ae30fdaacad9a7d00cd2c"
  },
  "kernelspec": {
   "display_name": "Python 3.10.2 64-bit",
   "language": "python",
   "name": "python3"
  },
  "language_info": {
   "codemirror_mode": {
    "name": "ipython",
    "version": 3
   },
   "file_extension": ".py",
   "mimetype": "text/x-python",
   "name": "python",
   "nbconvert_exporter": "python",
   "pygments_lexer": "ipython3",
   "version": "3.10.2"
  },
  "orig_nbformat": 4
 },
 "nbformat": 4,
 "nbformat_minor": 2
}
