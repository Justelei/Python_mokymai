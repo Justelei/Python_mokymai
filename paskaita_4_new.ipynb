{
 "cells": [
  {
   "cell_type": "markdown",
   "metadata": {},
   "source": [
    "# Set deklaracija"
   ]
  },
  {
   "cell_type": "code",
   "execution_count": 1,
   "metadata": {},
   "outputs": [],
   "source": [
    "# Neturi sekos parametru (nera index)\n",
    "# sete gali buti tik unikalios reiksmes, negali kartotis tas pats pavadinimas, skaiciai\n",
    "# negalima skaidyti set duomenu\n",
    "# funkcijos kuriomis galima naudoti set tipo duomeni len(), in, add, remove, update, discard\n",
    "# {}"
   ]
  },
  {
   "cell_type": "code",
   "execution_count": 3,
   "metadata": {},
   "outputs": [
    {
     "name": "stdout",
     "output_type": "stream",
     "text": [
      "{1, 2, 3, 4, 5}\n"
     ]
    }
   ],
   "source": [
    "my_set = {1,2,3,4,5,5,5,5} # atfiltruoja pasikartojancias reiksmes , tai atspausdina tik viena 5\n",
    "print(my_set)"
   ]
  },
  {
   "cell_type": "code",
   "execution_count": 4,
   "metadata": {},
   "outputs": [
    {
     "ename": "TypeError",
     "evalue": "'set' object is not subscriptable",
     "output_type": "error",
     "traceback": [
      "\u001b[1;31m---------------------------------------------------------------------------\u001b[0m",
      "\u001b[1;31mTypeError\u001b[0m                                 Traceback (most recent call last)",
      "\u001b[1;32mc:\\Users\\laima\\Desktop\\Python_mokymai\\Python_mokymai\\paskaita_4_new.ipynb Cell 4'\u001b[0m in \u001b[0;36m<module>\u001b[1;34m\u001b[0m\n\u001b[1;32m----> <a href='vscode-notebook-cell:/c%3A/Users/laima/Desktop/Python_mokymai/Python_mokymai/paskaita_4_new.ipynb#ch0000003?line=0'>1</a>\u001b[0m my_set[\u001b[39m0\u001b[39;49m]\n",
      "\u001b[1;31mTypeError\u001b[0m: 'set' object is not subscriptable"
     ]
    }
   ],
   "source": [
    "my_set[0] # setai neturi indeksu"
   ]
  },
  {
   "cell_type": "code",
   "execution_count": 8,
   "metadata": {},
   "outputs": [
    {
     "name": "stdout",
     "output_type": "stream",
     "text": [
      "{1, 2, 3, 4, 5, 10, -5}\n"
     ]
    }
   ],
   "source": [
    "my_set.add(10) # prideda nari\n",
    "my_set.add(-5)\n",
    "print(my_set)"
   ]
  },
  {
   "cell_type": "code",
   "execution_count": null,
   "metadata": {},
   "outputs": [],
   "source": [
    "# Set is a mutable variable\n",
    "my_set.copy() # naudoti sita jei reik kopijos, kad pilnai nukopijuotu, o ne duotu ta pati atvaizda"
   ]
  },
  {
   "cell_type": "code",
   "execution_count": 12,
   "metadata": {},
   "outputs": [
    {
     "name": "stdout",
     "output_type": "stream",
     "text": [
      "{1, 2, 3, 4, 5, 100, 10, -5}\n",
      "{2, 3, 4, 5, 100, 10, -5}\n"
     ]
    }
   ],
   "source": [
    "my_set.add(100)\n",
    "print(my_set)\n",
    "my_set.pop()\n",
    "print(my_set)"
   ]
  },
  {
   "cell_type": "code",
   "execution_count": 13,
   "metadata": {},
   "outputs": [
    {
     "name": "stdout",
     "output_type": "stream",
     "text": [
      "{2, 3, 4, 5, 100, 10, -5}\n",
      "{2, 3, 4, 5, 10, -5}\n"
     ]
    }
   ],
   "source": [
    "my_set.add(100)\n",
    "print(my_set)\n",
    "my_set.remove(100)\n",
    "print(my_set)"
   ]
  },
  {
   "cell_type": "code",
   "execution_count": 15,
   "metadata": {},
   "outputs": [
    {
     "name": "stdout",
     "output_type": "stream",
     "text": [
      "{2, 3, 4, 5, 10, 34, 43, 243, -5}\n"
     ]
    }
   ],
   "source": [
    "my_set.update([243,43,4,34])\n",
    "print(my_set)"
   ]
  },
  {
   "cell_type": "code",
   "execution_count": 18,
   "metadata": {},
   "outputs": [
    {
     "name": "stdout",
     "output_type": "stream",
     "text": [
      "False\n",
      "True\n"
     ]
    }
   ],
   "source": [
    "print(9 in my_set)\n",
    "print(2 in my_set)"
   ]
  },
  {
   "cell_type": "code",
   "execution_count": 30,
   "metadata": {},
   "outputs": [
    {
     "name": "stdout",
     "output_type": "stream",
     "text": [
      "{8, 1, 2}\n",
      "{5, 6}\n",
      "{1, 2, 4, 5, 6, 7, 8, 10, 11}\n"
     ]
    }
   ],
   "source": [
    "my_set_1 = {1,2,5,6,8}\n",
    "my_set_2 = {4,5,6,7,10,11}\n",
    "\n",
    "# du setai, galima aiskintis, ar turi kazka bendro, ar skiriasi ir tt, kazkokius palyginimus\n",
    "\n",
    "print(my_set_1.difference(my_set_2))\n",
    "print(my_set_1.intersection(my_set_2)) # kas bendro\n",
    "print(my_set_1.union(my_set_2)) # bendras rezultatas, bet reiksmes nesikartoja"
   ]
  },
  {
   "cell_type": "code",
   "execution_count": null,
   "metadata": {},
   "outputs": [],
   "source": []
  }
 ],
 "metadata": {
  "interpreter": {
   "hash": "c1079bb051ce826b2586e8a117626216eeafca56017ae30fdaacad9a7d00cd2c"
  },
  "kernelspec": {
   "display_name": "Python 3.10.2 64-bit",
   "language": "python",
   "name": "python3"
  },
  "language_info": {
   "codemirror_mode": {
    "name": "ipython",
    "version": 3
   },
   "file_extension": ".py",
   "mimetype": "text/x-python",
   "name": "python",
   "nbconvert_exporter": "python",
   "pygments_lexer": "ipython3",
   "version": "3.10.2"
  },
  "orig_nbformat": 4
 },
 "nbformat": 4,
 "nbformat_minor": 2
}
