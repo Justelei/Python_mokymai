{
 "cells": [
  {
   "cell_type": "markdown",
   "metadata": {},
   "source": [
    "# Set deklaracija"
   ]
  },
  {
   "cell_type": "code",
   "execution_count": 1,
   "metadata": {},
   "outputs": [],
   "source": [
    "# Neturi sekos parametru (nera index)\n",
    "# sete gali buti tik unikalios reiksmes, negali kartotis tas pats pavadinimas, skaiciai\n",
    "# negalima skaidyti set duomenu\n",
    "# funkcijos kuriomis galima naudoti set tipo duomeni len(), in, add, remove, update, discard\n",
    "# {}"
   ]
  },
  {
   "cell_type": "code",
   "execution_count": 3,
   "metadata": {},
   "outputs": [
    {
     "name": "stdout",
     "output_type": "stream",
     "text": [
      "{1, 2, 3, 4, 5}\n"
     ]
    }
   ],
   "source": [
    "my_set = {1,2,3,4,5,5,5,5} # atfiltruoja pasikartojancias reiksmes , tai atspausdina tik viena 5\n",
    "print(my_set)"
   ]
  },
  {
   "cell_type": "code",
   "execution_count": 4,
   "metadata": {},
   "outputs": [
    {
     "ename": "TypeError",
     "evalue": "'set' object is not subscriptable",
     "output_type": "error",
     "traceback": [
      "\u001b[1;31m---------------------------------------------------------------------------\u001b[0m",
      "\u001b[1;31mTypeError\u001b[0m                                 Traceback (most recent call last)",
      "\u001b[1;32mc:\\Users\\laima\\Desktop\\Python_mokymai\\Python_mokymai\\paskaita_4_new.ipynb Cell 4'\u001b[0m in \u001b[0;36m<module>\u001b[1;34m\u001b[0m\n\u001b[1;32m----> <a href='vscode-notebook-cell:/c%3A/Users/laima/Desktop/Python_mokymai/Python_mokymai/paskaita_4_new.ipynb#ch0000003?line=0'>1</a>\u001b[0m my_set[\u001b[39m0\u001b[39;49m]\n",
      "\u001b[1;31mTypeError\u001b[0m: 'set' object is not subscriptable"
     ]
    }
   ],
   "source": [
    "my_set[0] # setai neturi indeksu"
   ]
  },
  {
   "cell_type": "code",
   "execution_count": 8,
   "metadata": {},
   "outputs": [
    {
     "name": "stdout",
     "output_type": "stream",
     "text": [
      "{1, 2, 3, 4, 5, 10, -5}\n"
     ]
    }
   ],
   "source": [
    "my_set.add(10) # prideda nari\n",
    "my_set.add(-5)\n",
    "print(my_set)"
   ]
  },
  {
   "cell_type": "code",
   "execution_count": null,
   "metadata": {},
   "outputs": [],
   "source": [
    "# Set is a mutable variable\n",
    "my_set.copy() # naudoti sita jei reik kopijos, kad pilnai nukopijuotu, o ne duotu ta pati atvaizda"
   ]
  },
  {
   "cell_type": "code",
   "execution_count": 12,
   "metadata": {},
   "outputs": [
    {
     "name": "stdout",
     "output_type": "stream",
     "text": [
      "{1, 2, 3, 4, 5, 100, 10, -5}\n",
      "{2, 3, 4, 5, 100, 10, -5}\n"
     ]
    }
   ],
   "source": [
    "my_set.add(100)\n",
    "print(my_set)\n",
    "my_set.pop()\n",
    "print(my_set)"
   ]
  },
  {
   "cell_type": "code",
   "execution_count": 13,
   "metadata": {},
   "outputs": [
    {
     "name": "stdout",
     "output_type": "stream",
     "text": [
      "{2, 3, 4, 5, 100, 10, -5}\n",
      "{2, 3, 4, 5, 10, -5}\n"
     ]
    }
   ],
   "source": [
    "my_set.add(100)\n",
    "print(my_set)\n",
    "my_set.remove(100)\n",
    "print(my_set)"
   ]
  },
  {
   "cell_type": "code",
   "execution_count": 15,
   "metadata": {},
   "outputs": [
    {
     "name": "stdout",
     "output_type": "stream",
     "text": [
      "{2, 3, 4, 5, 10, 34, 43, 243, -5}\n"
     ]
    }
   ],
   "source": [
    "my_set.update([243,43,4,34])\n",
    "print(my_set)"
   ]
  },
  {
   "cell_type": "code",
   "execution_count": 18,
   "metadata": {},
   "outputs": [
    {
     "name": "stdout",
     "output_type": "stream",
     "text": [
      "False\n",
      "True\n"
     ]
    }
   ],
   "source": [
    "print(9 in my_set)\n",
    "print(2 in my_set)"
   ]
  },
  {
   "cell_type": "code",
   "execution_count": 30,
   "metadata": {},
   "outputs": [
    {
     "name": "stdout",
     "output_type": "stream",
     "text": [
      "{8, 1, 2}\n",
      "{5, 6}\n",
      "{1, 2, 4, 5, 6, 7, 8, 10, 11}\n"
     ]
    }
   ],
   "source": [
    "my_set_1 = {1,2,5,6,8}\n",
    "my_set_2 = {4,5,6,7,10,11}\n",
    "\n",
    "# du setai, galima aiskintis, ar turi kazka bendro, ar skiriasi ir tt, kazkokius palyginimus\n",
    "\n",
    "print(my_set_1.difference(my_set_2))\n",
    "print(my_set_1.intersection(my_set_2)) # kas bendro\n",
    "print(my_set_1.union(my_set_2)) # bendras rezultatas, bet reiksmes nesikartoja"
   ]
  },
  {
   "cell_type": "code",
   "execution_count": 35,
   "metadata": {},
   "outputs": [
    {
     "name": "stdout",
     "output_type": "stream",
     "text": [
      "True\n",
      "True\n",
      "False\n",
      "False\n"
     ]
    }
   ],
   "source": [
    "my_set_1 = {5,6}\n",
    "my_set_2 = {4,5,6,7,10,11}\n",
    "\n",
    "print(my_set_1.issubset(my_set_2)) #visi 1 seto nariai yra antro seto nariai del to true\n",
    "print(my_set_2.issuperset(my_set_1)) # ar didesniame sete yra tas mazesnis\n",
    "\n",
    "my_set_1 = {5,6,15}\n",
    "print(my_set_1.issubset(my_set_2)) #ne visi nariai yra 2 seto dalis tai false\n",
    "print(my_set_2.issuperset(my_set_1))"
   ]
  },
  {
   "cell_type": "markdown",
   "metadata": {},
   "source": [
    "# Set uzduotys"
   ]
  },
  {
   "cell_type": "code",
   "execution_count": 41,
   "metadata": {},
   "outputs": [
    {
     "name": "stdout",
     "output_type": "stream",
     "text": [
      "{('nauja reiksme', 5), 'banana', 'cherry', 'apple'}\n"
     ]
    }
   ],
   "source": [
    "# 1. Pridekite reiksme\n",
    "\n",
    "fruits = {'apple', 'banana', 'cherry'}\n",
    "fruits.add(('nauja reiksme',5))\n",
    "print(fruits)"
   ]
  },
  {
   "cell_type": "code",
   "execution_count": 45,
   "metadata": {},
   "outputs": [
    {
     "name": "stdout",
     "output_type": "stream",
     "text": [
      "{'banana', 'cherry'}\n",
      "{'banana', 'watermelon', 'cherry'}\n"
     ]
    }
   ],
   "source": [
    "# 2. Pakeiskite reiksme\n",
    "\n",
    "fruits = {'apple', 'banana', 'cherry'} #pakeisti apple i watermelon\n",
    "\n",
    "fruits.remove('apple')\n",
    "print(fruits)\n",
    "fruits.add('watermelon')\n",
    "print(fruits)"
   ]
  },
  {
   "cell_type": "code",
   "execution_count": 59,
   "metadata": {},
   "outputs": [
    {
     "name": "stdout",
     "output_type": "stream",
     "text": [
      "{'banana', 'cherry', 'apple'}\n",
      "{'banana', 'watermelon', 'cherry', 'apple'}\n",
      "{'lime', 'orange', 'cherry', 'watermelon', 'pineapple', 'banana', 'mango', 'pear', 'apple'}\n",
      "{'lime', 'orange', 'cherry', 'watermelon', 'pineapple', 'banana', 'mango', 'pear'}\n",
      "8\n",
      "8\n"
     ]
    }
   ],
   "source": [
    "fruits = {'apple', 'banana', 'cherry'}\n",
    "print(fruits)\n",
    "fruits.add('watermelon')\n",
    "print(fruits)\n",
    "fruits.update( ['pear', 'mango', 'lime', 'pineapple', 'orange'] )\n",
    "print(fruits)\n",
    "fruits.discard('apple')\n",
    "print(fruits)\n",
    "print(len(fruits))\n",
    "fruits.add('watermelon') # jei pridedam, kas egzistuoja, tai niekas nepasikeicia\n",
    "print(len(fruits))\n"
   ]
  },
  {
   "cell_type": "markdown",
   "metadata": {},
   "source": [
    "# Functions"
   ]
  },
  {
   "cell_type": "code",
   "execution_count": null,
   "metadata": {},
   "outputs": [],
   "source": [
    "# funkcijos yra naudingos tuo, kad gali priimti argumentus ir ta pati koda pritaikyti skirtingiems duomenims tiek kartu kiek reikia ir kada reikia\n",
    "# funkcijos kodas nera vykdomas iki kol ji yra iskvieciama\n",
    "# funkcija desineje priima argumenta ir ji atspausdina, tai reiskia, kad funkcijos yra universalios,\n",
    "# galime iskviesti f-ja kas karta nurodydami skirtinga argumenta ar kelis argumentus\n",
    "# argumentais gali buti bet kokie duomenu tipai, taip pat funkcija gali priimti kita funkcija kaip argumenta\n",
    "\n",
    "# tai leidzia tai ka mes jau esame sukure panaudoti ir vel, taip plesti visas galimybes ir greiciau atlikti dalykus"
   ]
  },
  {
   "cell_type": "code",
   "execution_count": 66,
   "metadata": {},
   "outputs": [],
   "source": [
    "def mano_funkcija(): #funkcija, kuri neturi argumentu\n",
    "    print('hello world') # funkcijos aprasymas, kol kas dar nepaleista, del to nk nemeta"
   ]
  },
  {
   "cell_type": "code",
   "execution_count": 63,
   "metadata": {},
   "outputs": [
    {
     "name": "stdout",
     "output_type": "stream",
     "text": [
      "hello world\n",
      "hello world\n",
      "hello world\n"
     ]
    }
   ],
   "source": [
    "mano_funkcija() # dabar jau paleista\n",
    "mano_funkcija()\n",
    "mano_funkcija()"
   ]
  },
  {
   "cell_type": "code",
   "execution_count": 70,
   "metadata": {},
   "outputs": [],
   "source": [
    "def mano_funkcija_2 (name): # funkcija priema viena argumenta name\n",
    "    print(f'Hello {name}, how is your day?')"
   ]
  },
  {
   "cell_type": "code",
   "execution_count": 73,
   "metadata": {},
   "outputs": [
    {
     "name": "stdout",
     "output_type": "stream",
     "text": [
      "Hello Tomas, how is your day?\n",
      "Hello Helena, how is your day?\n",
      "Hello Ernesta, how is your day?\n"
     ]
    }
   ],
   "source": [
    "mano_funkcija_2('Tomas')\n",
    "mano_funkcija_2('Helena')\n",
    "mano_funkcija_2('Ernesta')"
   ]
  },
  {
   "cell_type": "code",
   "execution_count": 74,
   "metadata": {},
   "outputs": [],
   "source": [
    "def substract(num_1, num_2):\n",
    "    print(num_1 - num_2)"
   ]
  },
  {
   "cell_type": "code",
   "execution_count": 77,
   "metadata": {},
   "outputs": [
    {
     "name": "stdout",
     "output_type": "stream",
     "text": [
      "7\n",
      "7\n",
      "-7\n"
     ]
    }
   ],
   "source": [
    "substract(12,5) # poziciniai argumentai, pagal pozicija suteikiamos reiksmes. 12 nueina i num_1, o 5 nueina i num_2.\n",
    "\n",
    "# butina nurodyti, jei nenurodyta jokie argumentai, mes klaida\n",
    "\n",
    "substract(num_1 = 12, num_2 = 5) # galima nurodyti, kuris skaicius kokiam argumentui turi priklausyti\n",
    "substract(num_2 = 12, num_1 = 5) # galima apkeisti  num_1 - num_2 vis tiek galios\n",
    "\n",
    "#privalomi argumentai, pagal pozicija yra priskiriami\n"
   ]
  },
  {
   "cell_type": "code",
   "execution_count": null,
   "metadata": {},
   "outputs": [],
   "source": []
  }
 ],
 "metadata": {
  "interpreter": {
   "hash": "c1079bb051ce826b2586e8a117626216eeafca56017ae30fdaacad9a7d00cd2c"
  },
  "kernelspec": {
   "display_name": "Python 3.10.2 64-bit",
   "language": "python",
   "name": "python3"
  },
  "language_info": {
   "codemirror_mode": {
    "name": "ipython",
    "version": 3
   },
   "file_extension": ".py",
   "mimetype": "text/x-python",
   "name": "python",
   "nbconvert_exporter": "python",
   "pygments_lexer": "ipython3",
   "version": "3.10.2"
  },
  "orig_nbformat": 4
 },
 "nbformat": 4,
 "nbformat_minor": 2
}
