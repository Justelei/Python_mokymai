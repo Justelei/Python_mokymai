{
 "cells": [
  {
   "cell_type": "code",
   "execution_count": 21,
   "metadata": {},
   "outputs": [],
   "source": [
    "import this"
   ]
  },
  {
   "cell_type": "code",
   "execution_count": 22,
   "metadata": {},
   "outputs": [],
   "source": [
    "#Kintamieji"
   ]
  },
  {
   "cell_type": "code",
   "execution_count": 5,
   "metadata": {},
   "outputs": [
    {
     "name": "stdout",
     "output_type": "stream",
     "text": [
      "Juste\n",
      "Hello world\n",
      "Hello world! My name is Juste\n"
     ]
    }
   ],
   "source": [
    "mano_vardas = \"Juste\"\n",
    "print(mano_vardas)\n",
    "print(\"Hello world\")\n",
    "print(\"Hello world!\", \"My name is\", mano_vardas)"
   ]
  },
  {
   "cell_type": "code",
   "execution_count": 24,
   "metadata": {},
   "outputs": [],
   "source": [
    "mano_vardas = \"Jonas\""
   ]
  },
  {
   "cell_type": "code",
   "execution_count": 25,
   "metadata": {},
   "outputs": [
    {
     "name": "stdout",
     "output_type": "stream",
     "text": [
      "<class 'int'>\n",
      "<class 'float'>\n"
     ]
    }
   ],
   "source": [
    "type(mano_vardas)\n",
    "type(5)\n",
    "print(type(5))\n",
    "print(type(5.2))"
   ]
  },
  {
   "cell_type": "code",
   "execution_count": 2,
   "metadata": {},
   "outputs": [],
   "source": [
    "x=5"
   ]
  },
  {
   "cell_type": "code",
   "execution_count": 3,
   "metadata": {},
   "outputs": [
    {
     "name": "stdout",
     "output_type": "stream",
     "text": [
      "5\n"
     ]
    }
   ],
   "source": [
    "print (x)"
   ]
  },
  {
   "cell_type": "code",
   "execution_count": 4,
   "metadata": {},
   "outputs": [
    {
     "name": "stdout",
     "output_type": "stream",
     "text": [
      "5\n",
      "10\n"
     ]
    }
   ],
   "source": [
    "print(abs(-5))\n",
    "print(abs(10))"
   ]
  },
  {
   "cell_type": "code",
   "execution_count": null,
   "metadata": {},
   "outputs": [],
   "source": [
    "# print = 'printas' # cia yra komentaras\n",
    "# print('Sveiki') # Ctrl + /"
   ]
  },
  {
   "cell_type": "code",
   "execution_count": 6,
   "metadata": {},
   "outputs": [
    {
     "data": {
      "text/plain": [
       "'a'"
      ]
     },
     "execution_count": 6,
     "metadata": {},
     "output_type": "execute_result"
    }
   ],
   "source": [
    "\"Sveikas pasauli\"[5] #skaicius 5 grazina penkta indeksa, s=0, a=5."
   ]
  },
  {
   "cell_type": "code",
   "execution_count": 9,
   "metadata": {},
   "outputs": [
    {
     "data": {
      "text/plain": [
       "15"
      ]
     },
     "execution_count": 9,
     "metadata": {},
     "output_type": "execute_result"
    }
   ],
   "source": [
    "kintamasis = \"Justina Leisyte\"\n",
    "len(kintamasis)"
   ]
  },
  {
   "cell_type": "code",
   "execution_count": 10,
   "metadata": {},
   "outputs": [
    {
     "data": {
      "text/plain": [
       "22"
      ]
     },
     "execution_count": 10,
     "metadata": {},
     "output_type": "execute_result"
    }
   ],
   "source": [
    "kintamasis = \"Labai ilgas ir grazus albumas\"\n",
    "kintamasis.find (\"albumas\")"
   ]
  },
  {
   "cell_type": "code",
   "execution_count": 28,
   "metadata": {},
   "outputs": [
    {
     "name": "stdout",
     "output_type": "stream",
     "text": [
      "hello world!\n",
      "don't come back\n",
      "this is a text with \" in the middle\n",
      "don't come back\n",
      "\n",
      "Kazkoks eiliuotas\n",
      "tekstas\n",
      "    Dar teksto\n",
      "\n"
     ]
    }
   ],
   "source": [
    "tekstas = 'hello world!'\n",
    "print(tekstas)\n",
    "tekstas_1 = \"don't come back\"\n",
    "print(tekstas_1)\n",
    "tekstas_2 = 'this is a text with \" in the middle'\n",
    "print(tekstas_2)\n",
    "tekstas_1 = 'don\\'t come back'\n",
    "print(tekstas_1)\n",
    "multiline_text = \"\"\"\n",
    "Kazkoks eiliuotas\n",
    "tekstas\n",
    "    Dar teksto\n",
    "\"\"\"\n",
    "print(multiline_text)"
   ]
  },
  {
   "cell_type": "code",
   "execution_count": 36,
   "metadata": {},
   "outputs": [
    {
     "name": "stdout",
     "output_type": "stream",
     "text": [
      "H\n",
      "l\n",
      "!\n",
      "d\n"
     ]
    }
   ],
   "source": [
    "text = \"Hello world!\"\n",
    "print (text[0])\n",
    "print (text[2])\n",
    "print (text[-1])\n",
    "print (text[-2])"
   ]
  },
  {
   "cell_type": "markdown",
   "metadata": {},
   "source": [
    "*italic*\n",
    "**bold**"
   ]
  },
  {
   "cell_type": "markdown",
   "metadata": {},
   "source": [
    "# Slicing"
   ]
  },
  {
   "cell_type": "code",
   "execution_count": 54,
   "metadata": {},
   "outputs": [
    {
     "name": "stdout",
     "output_type": "stream",
     "text": [
      "Hello world!\n",
      "text[0:5], Hello Hello\n",
      "text[0:6], Hello  Hello \n",
      "text[0:0],  \n",
      "text[6:9], wor\n",
      "text[6:3], \n",
      "text[6:3:-1], w o\n",
      "text[6:], world!\n",
      "text[6::2], wrd\n",
      "text[::3], Hlwl\n",
      "text[::-1], !dlrow olleH\n"
     ]
    }
   ],
   "source": [
    "print(text)\n",
    "# [start:end:step]--end is not included\n",
    "print('text[0:5],', text[0:5], text[:5])\n",
    "print('text[0:6],', text[0:6], text[:6])\n",
    "print('text[0:0],', text[0:0], text[:0])\n",
    "print('text[6:9],', text[6:9])\n",
    "print('text[6:3],', text[6:3])\n",
    "print('text[6:3:-1],', text[6:3:-1])\n",
    "print('text[6:],', text[6:])\n",
    "print('text[6::2],', text[6::2])\n",
    "print('text[::3],', text[::3])\n",
    "\n",
    "# reversing\n",
    "print('text[::-1],', text[::-1])"
   ]
  },
  {
   "cell_type": "code",
   "execution_count": 66,
   "metadata": {},
   "outputs": [
    {
     "name": "stdout",
     "output_type": "stream",
     "text": [
      "12\n",
      "Hello world!\n"
     ]
    }
   ],
   "source": [
    "print(len(text))\n",
    "print(text)"
   ]
  },
  {
   "cell_type": "code",
   "execution_count": 72,
   "metadata": {},
   "outputs": [
    {
     "name": "stdout",
     "output_type": "stream",
     "text": [
      "3\n",
      "hello world!\n",
      "hello world!\n",
      "hello world!\n"
     ]
    }
   ],
   "source": [
    "text = \"Hello world!\"\n",
    "print(text.count('l'))\n",
    "print(text.lower()) #Does not overwrite original data\n",
    "print(text)\n",
    "text = text.lower()\n",
    "print(text)"
   ]
  },
  {
   "cell_type": "code",
   "execution_count": 77,
   "metadata": {},
   "outputs": [
    {
     "name": "stdout",
     "output_type": "stream",
     "text": [
      "['hello', 'world!']\n",
      "['he', '', 'o wor', 'd!']\n",
      "hello tarpas world!\n",
      "hello world\n"
     ]
    }
   ],
   "source": [
    "print(text.split())\n",
    "print(text.split('l'))\n",
    "print(text.replace(' ', ' tarpas '))\n",
    "print(text.replace('!', ''))"
   ]
  },
  {
   "cell_type": "code",
   "execution_count": 64,
   "metadata": {},
   "outputs": [
    {
     "name": "stdout",
     "output_type": "stream",
     "text": [
      "True\n",
      "False\n"
     ]
    }
   ],
   "source": [
    "print(' '.isspace())\n",
    "print ('a'.isspace()) "
   ]
  },
  {
   "cell_type": "code",
   "execution_count": 78,
   "metadata": {},
   "outputs": [
    {
     "data": {
      "text/plain": [
       "'hello world!'"
      ]
     },
     "execution_count": 78,
     "metadata": {},
     "output_type": "execute_result"
    }
   ],
   "source": [
    "text"
   ]
  },
  {
   "cell_type": "code",
   "execution_count": 82,
   "metadata": {},
   "outputs": [
    {
     "name": "stdout",
     "output_type": "stream",
     "text": [
      "True\n",
      "False\n"
     ]
    }
   ],
   "source": [
    "print('world' in text)\n",
    "print('World' in text)"
   ]
  },
  {
   "cell_type": "code",
   "execution_count": 89,
   "metadata": {},
   "outputs": [
    {
     "name": "stdout",
     "output_type": "stream",
     "text": [
      "Hello world! My name is Juste , I like to play tennis\n",
      "Hello world! My name is Juste Leisyte, I like to play tennis\n",
      "Hello world! My name is Juste Leisyte, I like to play tennis. 5 + 2 is 7\n"
     ]
    }
   ],
   "source": [
    "mano_pavarde = \"Leisyte\"\n",
    "print(\"Hello world!\", \"My name is\", mano_vardas, \", I like to play tennis\")\n",
    "print(\"Hello world!\", \"My name is\", mano_vardas, mano_pavarde + \", I like to play tennis\")\n",
    "# f-string - format string\n",
    "print( f\"Hello world! My name is {mano_vardas} {mano_pavarde}, I like to play tennis. 5 + 2 is {5+2}\")"
   ]
  },
  {
   "cell_type": "code",
   "execution_count": 104,
   "metadata": {},
   "outputs": [
    {
     "name": "stdout",
     "output_type": "stream",
     "text": [
      "Hello world\n",
      "Hello Hello Hello Hello Hello Hello Hello Hello Hello Hello \n",
      "Helo 1\n"
     ]
    }
   ],
   "source": [
    "print(\"Hello \" + \"world\")\n",
    "# print(\"Hello \" - \"1\")\n",
    "print(\"Hello \" * 10)\n",
    "print(\"Helo \" + \"1\")"
   ]
  },
  {
   "cell_type": "markdown",
   "metadata": {},
   "source": [
    "# Integers"
   ]
  },
  {
   "cell_type": "code",
   "execution_count": 117,
   "metadata": {},
   "outputs": [
    {
     "name": "stdout",
     "output_type": "stream",
     "text": [
      "52\n",
      "42\n",
      "235\n",
      "9.4\n",
      "229345007\n",
      "8\n",
      "9\n",
      "2\n",
      "1\n",
      "0\n"
     ]
    }
   ],
   "source": [
    "number = 47\n",
    "print(number + 5)\n",
    "print(number - 5)\n",
    "print(number * 5)\n",
    "print(number / 5)\n",
    "print(number ** 5) # kelimas laipsniu\n",
    "print(2 ** 3)\n",
    "print(number // 5) # sveikaja dali\n",
    "print (number % 5) #likutine dalis\n",
    "print (3 % 2) #likutine dalis\n",
    "print (6 % 2) #leidzia nustatyti ar lyginis ar nelyginis, arba kai reikia kas antros reiksmes is turimu duomenu"
   ]
  },
  {
   "cell_type": "markdown",
   "metadata": {},
   "source": [
    "# Homework1"
   ]
  },
  {
   "cell_type": "code",
   "execution_count": 2,
   "metadata": {},
   "outputs": [
    {
     "name": "stdout",
     "output_type": "stream",
     "text": [
      "Juste Leisyte\n",
      "Hello, my name is Juste Leisyte, I'm 24 years old and I enjoy painting\n"
     ]
    }
   ],
   "source": [
    "#1\n",
    "\n",
    "my_name = 'Juste'\n",
    "my_surname = \"Leisyte\"\n",
    "print(my_name, my_surname)\n",
    "print(f\"Hello, my name is {my_name} {my_surname}, I'm {10+14} years old and I enjoy painting\")"
   ]
  },
  {
   "cell_type": "code",
   "execution_count": 7,
   "metadata": {},
   "outputs": [
    {
     "name": "stdout",
     "output_type": "stream",
     "text": [
      "PYTHON MAKES ME REALLY REALLY HAPPY!\n"
     ]
    }
   ],
   "source": [
    "#2\n",
    "sakinys = \"Python makes me really really happy!\"\n",
    "print(sakinys.upper())"
   ]
  },
  {
   "cell_type": "code",
   "execution_count": 13,
   "metadata": {},
   "outputs": [
    {
     "name": "stdout",
     "output_type": "stream",
     "text": [
      "PyThOn makes me really really happy!\n"
     ]
    }
   ],
   "source": [
    "print(sakinys.replace(\"t\",\"T\").replace(\"o\",\"O\"))"
   ]
  },
  {
   "cell_type": "code",
   "execution_count": 17,
   "metadata": {},
   "outputs": [
    {
     "data": {
      "text/plain": [
       "(18, 5)"
      ]
     },
     "execution_count": 17,
     "metadata": {},
     "output_type": "execute_result"
    }
   ],
   "source": [
    "#3\n",
    "sakinys_1 = \"Hello World, I am happy to learn Python!\"\n",
    "sakinys_1.index(\"happy\"), len(\"happy\")"
   ]
  },
  {
   "cell_type": "code",
   "execution_count": 20,
   "metadata": {},
   "outputs": [
    {
     "name": "stdout",
     "output_type": "stream",
     "text": [
      "sakinys_1[18:24]: happy \n"
     ]
    }
   ],
   "source": [
    "\n",
    "print('sakinys_1[18:24]:', sakinys_1[18:24])"
   ]
  },
  {
   "cell_type": "code",
   "execution_count": 24,
   "metadata": {},
   "outputs": [
    {
     "name": "stdout",
     "output_type": "stream",
     "text": [
      "to: to \n"
     ]
    }
   ],
   "source": [
    "sakinys_1.index('to'), len('to')\n",
    "print('to:',sakinys_1[24:27])"
   ]
  },
  {
   "cell_type": "code",
   "execution_count": 27,
   "metadata": {},
   "outputs": [
    {
     "data": {
      "text/plain": [
       "40"
      ]
     },
     "execution_count": 27,
     "metadata": {},
     "output_type": "execute_result"
    }
   ],
   "source": [
    "len(sakinys_1)"
   ]
  },
  {
   "cell_type": "code",
   "execution_count": null,
   "metadata": {},
   "outputs": [],
   "source": []
  }
 ],
 "metadata": {
  "interpreter": {
   "hash": "c1079bb051ce826b2586e8a117626216eeafca56017ae30fdaacad9a7d00cd2c"
  },
  "kernelspec": {
   "display_name": "Python 3.10.2 64-bit",
   "language": "python",
   "name": "python3"
  },
  "language_info": {
   "codemirror_mode": {
    "name": "ipython",
    "version": 3
   },
   "file_extension": ".py",
   "mimetype": "text/x-python",
   "name": "python",
   "nbconvert_exporter": "python",
   "pygments_lexer": "ipython3",
   "version": "3.10.2"
  },
  "orig_nbformat": 4
 },
 "nbformat": 4,
 "nbformat_minor": 2
}
