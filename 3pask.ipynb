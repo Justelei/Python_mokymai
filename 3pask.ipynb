{
 "cells": [
  {
   "cell_type": "code",
   "execution_count": 26,
   "metadata": {},
   "outputs": [
    {
     "name": "stdout",
     "output_type": "stream",
     "text": [
      "(2, 5, 464, 43, 645, 5, 3)\n",
      "(2, 5, 464, 43, 645, 5)\n",
      "(2, 5, 5, 43, 464, 645)\n",
      "2\n",
      "645\n"
     ]
    }
   ],
   "source": [
    "my_tuple = (2,5,464) + (43,645,5,3)\n",
    "print(my_tuple)\n",
    "my_tuple = my_tuple[:-1]\n",
    "print(my_tuple)\n",
    "my_tuple = tuple(sorted(my_tuple))\n",
    "print(my_tuple)\n",
    "print(my_tuple.count(5))\n",
    "print(my_tuple[-1])"
   ]
  },
  {
   "cell_type": "code",
   "execution_count": 29,
   "metadata": {},
   "outputs": [
    {
     "name": "stdout",
     "output_type": "stream",
     "text": [
      "range(4, 95, 2)\n",
      "[4, 6, 8, 10, 12, 14, 16, 18, 20, 22, 24, 26, 28, 30, 32, 34, 36, 38, 40, 42, 44, 46, 48, 50, 52, 54, 56, 58, 60, 62, 64, 66, 68, 70, 72, 74, 76, 78, 80, 82, 84, 86, 88, 90, 92, 94]\n"
     ]
    }
   ],
   "source": [
    "numbers = range(4,95,2)\n",
    "print(numbers)\n",
    "print(list(numbers))"
   ]
  },
  {
   "cell_type": "code",
   "execution_count": 31,
   "metadata": {},
   "outputs": [
    {
     "name": "stdout",
     "output_type": "stream",
     "text": [
      "[4, 11, 18, 25, 32, 39, 46, 53, 60, 67, 74, 81, 88, 95, 102, 109, 116, 123, 130, 137, 144, 151, 158, 165, 172, 179, 186, 193, 200, 207, 214, 221, 228, 235, 242, 249, 256, 263, 270, 277, 284, 291, 298, 305, 312, 319, 326, 333, 340, 347, 354, 361, 368, 375, 382, 389, 396, 403, 410, 417, 424, 431, 438, 445, 452]\n"
     ]
    }
   ],
   "source": [
    "print(list(range(4,456,7)))"
   ]
  },
  {
   "cell_type": "markdown",
   "metadata": {},
   "source": [
    "# For loop"
   ]
  },
  {
   "cell_type": "code",
   "execution_count": 34,
   "metadata": {},
   "outputs": [
    {
     "name": "stdout",
     "output_type": "stream",
     "text": [
      "[3, 5, 7, 9]\n",
      "ciklas prasidejo\n",
      "3\n",
      "ciklas prasidejo\n",
      "5\n",
      "ciklas prasidejo\n",
      "7\n",
      "ciklas prasidejo\n",
      "9\n",
      "pabaiga\n"
     ]
    }
   ],
   "source": [
    "print(list(range(3,11,2)))\n",
    "\n",
    "for number in range(3,11,2):\n",
    "    print('ciklas prasidejo')\n",
    "    print(number)\n",
    "print('pabaiga')"
   ]
  },
  {
   "cell_type": "code",
   "execution_count": 36,
   "metadata": {},
   "outputs": [
    {
     "name": "stdout",
     "output_type": "stream",
     "text": [
      "['Vilnius', 'Kaunas', 'Klaipeda']\n",
      "Vilnius\n",
      "Kaunas\n",
      "Klaipeda\n"
     ]
    }
   ],
   "source": [
    "miestai = ['Vilnius', 'Kaunas', 'Klaipeda']\n",
    "print(miestai)\n",
    "\n",
    "for miestas in miestai:\n",
    "    print (miestas)"
   ]
  },
  {
   "cell_type": "code",
   "execution_count": 40,
   "metadata": {},
   "outputs": [
    {
     "name": "stdout",
     "output_type": "stream",
     "text": [
      "1\n",
      "2\n",
      "3\n",
      "4\n",
      "5\n",
      "6\n",
      "7\n",
      "8\n",
      "9\n",
      "10\n"
     ]
    }
   ],
   "source": [
    "\n",
    "for number in range(1,11):\n",
    "    print(number)\n"
   ]
  },
  {
   "cell_type": "code",
   "execution_count": 49,
   "metadata": {},
   "outputs": [
    {
     "name": "stdout",
     "output_type": "stream",
     "text": [
      "1275\n"
     ]
    }
   ],
   "source": [
    "suma = 0\n",
    "for number in range(1,51):\n",
    "    suma += number\n",
    "    #print(suma)\n",
    "print(suma)"
   ]
  },
  {
   "cell_type": "code",
   "execution_count": 60,
   "metadata": {},
   "outputs": [
    {
     "name": "stdout",
     "output_type": "stream",
     "text": [
      "7\n"
     ]
    }
   ],
   "source": [
    "input_number = int(input('Iveskite skaiciu'))\n",
    "print(input_number)"
   ]
  },
  {
   "cell_type": "code",
   "execution_count": 61,
   "metadata": {},
   "outputs": [
    {
     "name": "stdout",
     "output_type": "stream",
     "text": [
      "7 * 1 = 7\n",
      "7 * 2 = 14\n",
      "7 * 3 = 21\n",
      "7 * 4 = 28\n",
      "7 * 5 = 35\n",
      "7 * 6 = 42\n",
      "7 * 7 = 49\n",
      "7 * 8 = 56\n",
      "7 * 9 = 63\n",
      "7 * 10 = 70\n"
     ]
    }
   ],
   "source": [
    "for number in range(1,11):\n",
    "    print(f'{input_number} * {number} = {input_number * number}')"
   ]
  },
  {
   "cell_type": "code",
   "execution_count": 62,
   "metadata": {},
   "outputs": [],
   "source": [
    "dienos = ['Pirmadienis', 'Antradienis', 'Treciadienis', 'Ketvirtadienis', 'Penktadienis', 'Sestadienis', 'Sekmadienis']"
   ]
  },
  {
   "cell_type": "code",
   "execution_count": 63,
   "metadata": {},
   "outputs": [],
   "source": [
    "valandos = [10,11,12,13,14,15,16,17,18,19]"
   ]
  },
  {
   "cell_type": "code",
   "execution_count": 74,
   "metadata": {},
   "outputs": [
    {
     "name": "stdout",
     "output_type": "stream",
     "text": [
      "[('Pirmadienis', 10), ('Pirmadienis', 11), ('Pirmadienis', 12), ('Pirmadienis', 13), ('Pirmadienis', 14), ('Pirmadienis', 15), ('Pirmadienis', 16), ('Pirmadienis', 17), ('Pirmadienis', 18), ('Pirmadienis', 19), ('Antradienis', 10), ('Antradienis', 11), ('Antradienis', 12), ('Antradienis', 13), ('Antradienis', 14), ('Antradienis', 15), ('Antradienis', 16), ('Antradienis', 17), ('Antradienis', 18), ('Antradienis', 19), ('Treciadienis', 10), ('Treciadienis', 11), ('Treciadienis', 12), ('Treciadienis', 13), ('Treciadienis', 14), ('Treciadienis', 15), ('Treciadienis', 16), ('Treciadienis', 17), ('Treciadienis', 18), ('Treciadienis', 19), ('Ketvirtadienis', 10), ('Ketvirtadienis', 11), ('Ketvirtadienis', 12), ('Ketvirtadienis', 13), ('Ketvirtadienis', 14), ('Ketvirtadienis', 15), ('Ketvirtadienis', 16), ('Ketvirtadienis', 17), ('Ketvirtadienis', 18), ('Ketvirtadienis', 19), ('Penktadienis', 10), ('Penktadienis', 11), ('Penktadienis', 12), ('Penktadienis', 13), ('Penktadienis', 14), ('Penktadienis', 15), ('Penktadienis', 16), ('Penktadienis', 17), ('Penktadienis', 18), ('Penktadienis', 19), ('Sestadienis', 10), ('Sestadienis', 11), ('Sestadienis', 12), ('Sestadienis', 13), ('Sestadienis', 14), ('Sestadienis', 15), ('Sestadienis', 16), ('Sestadienis', 17), ('Sestadienis', 18), ('Sestadienis', 19), ('Sekmadienis', 10), ('Sekmadienis', 11), ('Sekmadienis', 12), ('Sekmadienis', 13), ('Sekmadienis', 14), ('Sekmadienis', 15), ('Sekmadienis', 16), ('Sekmadienis', 17), ('Sekmadienis', 18), ('Sekmadienis', 19)]\n"
     ]
    }
   ],
   "source": [
    "kombinacijos = []\n",
    "for diena in dienos:\n",
    "    for valanda in valandos:\n",
    "        kombinacijos.append((diena, valanda))\n",
    "print(kombinacijos)"
   ]
  },
  {
   "cell_type": "code",
   "execution_count": 76,
   "metadata": {},
   "outputs": [
    {
     "name": "stdout",
     "output_type": "stream",
     "text": [
      "x yra daugiau uz du\n",
      "po salygos\n"
     ]
    }
   ],
   "source": [
    "x = 5\n",
    "if x>2:\n",
    "    print('x yra daugiau uz du') \n",
    "print('po salygos')"
   ]
  },
  {
   "cell_type": "code",
   "execution_count": 79,
   "metadata": {},
   "outputs": [
    {
     "name": "stdout",
     "output_type": "stream",
     "text": [
      "x nera daugiau uz du\n",
      "end\n"
     ]
    }
   ],
   "source": [
    "x=1\n",
    "if x>2:\n",
    "    print('x yra daugiau uz du')\n",
    "else:\n",
    "    print('x nera daugiau uz du')\n",
    "print('end')"
   ]
  },
  {
   "cell_type": "code",
   "execution_count": 98,
   "metadata": {},
   "outputs": [],
   "source": [
    "x = 9\n",
    "y = 11"
   ]
  },
  {
   "cell_type": "code",
   "execution_count": 99,
   "metadata": {},
   "outputs": [
    {
     "name": "stdout",
     "output_type": "stream",
     "text": [
      "else salyga\n",
      "po salygos\n"
     ]
    }
   ],
   "source": [
    "if x>10:\n",
    "    print('if atitinka')\n",
    "elif x>0 and y>12:\n",
    "    print('atitinka elif salyga')\n",
    "elif x>-5 and y>30:\n",
    "    print('atitinka antra elif salyga')\n",
    "else:\n",
    "    print('else salyga')\n",
    "print('po salygos')"
   ]
  },
  {
   "cell_type": "code",
   "execution_count": 103,
   "metadata": {},
   "outputs": [
    {
     "name": "stdout",
     "output_type": "stream",
     "text": [
      "3 dalinasi is 3 be liekanos\n",
      "6 dalinasi is 3 be liekanos\n",
      "9 dalinasi is 3 be liekanos\n",
      "12 dalinasi is 3 be liekanos\n",
      "15 dalinasi is 3 be liekanos\n",
      "18 dalinasi is 3 be liekanos\n",
      "end\n"
     ]
    }
   ],
   "source": [
    "for number in range(1,21):\n",
    "    #print(number)\n",
    "    if number % 3 == 0:\n",
    "        print(f'{number} dalinasi is 3 be liekanos')\n",
    "print('end')"
   ]
  },
  {
   "cell_type": "code",
   "execution_count": 107,
   "metadata": {},
   "outputs": [
    {
     "name": "stdout",
     "output_type": "stream",
     "text": [
      "1275\n"
     ]
    }
   ],
   "source": [
    "suma = 0\n",
    "for number in range (1,51):\n",
    "    suma += number\n",
    "print(suma)"
   ]
  },
  {
   "cell_type": "code",
   "execution_count": 114,
   "metadata": {},
   "outputs": [
    {
     "name": "stdout",
     "output_type": "stream",
     "text": [
      "650\n"
     ]
    }
   ],
   "source": [
    "suma = 0\n",
    "for number in range (1,51):\n",
    "    if (suma + number) % 2 == 0:\n",
    "        suma += number\n",
    "        #print(suma)\n",
    "print(suma)"
   ]
  },
  {
   "cell_type": "code",
   "execution_count": 138,
   "metadata": {},
   "outputs": [
    {
     "name": "stdout",
     "output_type": "stream",
     "text": [
      "4\n"
     ]
    }
   ],
   "source": [
    "input_number = int(input('Iveskites skaiciu'))\n",
    "print(input_number)"
   ]
  },
  {
   "cell_type": "code",
   "execution_count": 139,
   "metadata": {},
   "outputs": [
    {
     "name": "stdout",
     "output_type": "stream",
     "text": [
      "skaicius pakeltas kvadratu yra lyginis\n"
     ]
    }
   ],
   "source": [
    "if (input_number ** 2) % 2 != 0:\n",
    "    for number in range(1,11):\n",
    "        print(f'{number} * {input_number} = {number * input_number}')\n",
    "else:\n",
    "    print('skaicius pakeltas kvadratu yra lyginis')"
   ]
  },
  {
   "cell_type": "code",
   "execution_count": 156,
   "metadata": {},
   "outputs": [
    {
     "name": "stdout",
     "output_type": "stream",
     "text": [
      "[('Pirmadienis', 12), ('Pirmadienis', 13), ('Pirmadienis', 14), ('Pirmadienis', 15), ('Pirmadienis', 16), ('Pirmadienis', 17), ('Treciadienis', 12), ('Treciadienis', 13), ('Treciadienis', 14), ('Treciadienis', 15), ('Treciadienis', 16), ('Treciadienis', 17)]\n"
     ]
    }
   ],
   "source": [
    "dienos = ['Pirmadienis', 'Antradienis', 'Treciadienis', 'Ketvirtadienis', 'Penktadienis', 'Sestadienis', 'Sekmadienis']\n",
    "valandos = [10,11,12,13,14,15,16,17,18,19]\n",
    "\n",
    "darbo_dienos = ['Pirmadienis', 'Treciadienis']\n",
    "darbo_valandos = list(range(12,18))\n",
    "kombinacijos = []\n",
    "\n",
    "for diena in dienos:\n",
    "    if diena in darbo_dienos:\n",
    "        for valanda in darbo_valandos:\n",
    "            if valanda in darbo_valandos:\n",
    "                kombinacijos.append((diena,valanda))\n",
    "print(kombinacijos)"
   ]
  },
  {
   "cell_type": "code",
   "execution_count": 158,
   "metadata": {},
   "outputs": [
    {
     "name": "stdout",
     "output_type": "stream",
     "text": [
      "3 dalinasi is triju be liekanos\n",
      "6 dalinasi is triju be liekanos\n",
      "9 dalinasi is triju be liekanos\n",
      "12 dalinasi is triju be liekanos\n",
      "15 dalinasi is triju be liekanos\n",
      "18 dalinasi is triju be liekanos\n"
     ]
    }
   ],
   "source": [
    "for number in range(1,21):\n",
    "    if number % 3 == 0:\n",
    "        print(f'{number} dalinasi is triju be liekanos')"
   ]
  },
  {
   "cell_type": "code",
   "execution_count": 164,
   "metadata": {},
   "outputs": [
    {
     "name": "stdout",
     "output_type": "stream",
     "text": [
      "[3, 6, 9, 12, 15, 18]\n"
     ]
    }
   ],
   "source": [
    "numbers = list(range(1,21))\n",
    "dividible_by_3 = []\n",
    "\n",
    "for number in numbers:\n",
    "    if number % 3 == 0:\n",
    "        dividible_by_3.append(number)\n",
    "print(dividible_by_3)"
   ]
  },
  {
   "cell_type": "code",
   "execution_count": null,
   "metadata": {},
   "outputs": [],
   "source": []
  }
 ],
 "metadata": {
  "interpreter": {
   "hash": "c1079bb051ce826b2586e8a117626216eeafca56017ae30fdaacad9a7d00cd2c"
  },
  "kernelspec": {
   "display_name": "Python 3.10.2 64-bit",
   "language": "python",
   "name": "python3"
  },
  "language_info": {
   "codemirror_mode": {
    "name": "ipython",
    "version": 3
   },
   "file_extension": ".py",
   "mimetype": "text/x-python",
   "name": "python",
   "nbconvert_exporter": "python",
   "pygments_lexer": "ipython3",
   "version": "3.10.2"
  },
  "orig_nbformat": 4
 },
 "nbformat": 4,
 "nbformat_minor": 2
}
