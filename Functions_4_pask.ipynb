{
 "cells": [
  {
   "cell_type": "markdown",
   "metadata": {},
   "source": [
    "# Functions"
   ]
  },
  {
   "cell_type": "code",
   "execution_count": null,
   "metadata": {},
   "outputs": [],
   "source": [
    "# iskvieciame funkcija naudodami jos pavadinima, skliausteliuose argumentai"
   ]
  },
  {
   "cell_type": "code",
   "execution_count": 3,
   "metadata": {},
   "outputs": [],
   "source": [
    "def mano_funkcija():  # fja be argumentu\n",
    "    print('hello world')\n",
    "\n",
    "# funkcijos aprasymas, aprasem, ka ji turi daryti, bet jos nepaleidom"
   ]
  },
  {
   "cell_type": "code",
   "execution_count": 6,
   "metadata": {},
   "outputs": [
    {
     "name": "stdout",
     "output_type": "stream",
     "text": [
      "hello world\n",
      "hello world\n",
      "hello world\n"
     ]
    }
   ],
   "source": [
    "# funkcijos paleidimas\n",
    "\n",
    "mano_funkcija()\n",
    "mano_funkcija()\n",
    "mano_funkcija()"
   ]
  },
  {
   "cell_type": "code",
   "execution_count": null,
   "metadata": {},
   "outputs": [],
   "source": [
    "# apsirasome veiksmus (ka daryti) [3] ir po to galime naudoti kitur savo kode"
   ]
  },
  {
   "cell_type": "code",
   "execution_count": 7,
   "metadata": {},
   "outputs": [],
   "source": [
    "def mano_funkcija_2(name): # funkcija, kuri priema viena argumenta (privalomas - POSITIONAL ARGUMENTS)\n",
    "    print (f'Hello {name}, how is your day?')"
   ]
  },
  {
   "cell_type": "code",
   "execution_count": 8,
   "metadata": {},
   "outputs": [
    {
     "name": "stdout",
     "output_type": "stream",
     "text": [
      "Hello Tomas, how is your day?\n",
      "Hello Helena, how is your day?\n",
      "Hello Ernesta, how is your day?\n"
     ]
    }
   ],
   "source": [
    "# apsirasem funkcija, tai galime iskviesti\n",
    "\n",
    "mano_funkcija_2('Tomas')\n",
    "mano_funkcija_2('Helena')\n",
    "mano_funkcija_2('Ernesta')"
   ]
  },
  {
   "cell_type": "code",
   "execution_count": 9,
   "metadata": {},
   "outputs": [],
   "source": [
    "def substract (num_1, num_2):\n",
    "    print (num_1 - num_2)"
   ]
  },
  {
   "cell_type": "code",
   "execution_count": 11,
   "metadata": {},
   "outputs": [
    {
     "name": "stdout",
     "output_type": "stream",
     "text": [
      "7\n",
      "7\n",
      "-7\n"
     ]
    }
   ],
   "source": [
    "substract(12,5) # poziciniai argumentai, pagal pozicija suteikiamos reiksmes. 12 nueina i kintamaji num_1, o 5 nueina i num_2.\n",
    "\n",
    "# butina nurodyti, jei nenurodyta jokie argumentai, mes klaida\n",
    "substract(num_1 = 12, num_2 = 5) # galima nurodyti, kuris skaicius kokiam argumentui turi priklausyti\n",
    "substract(num_2 = 12, num_1 = 5) # galima apkeisti  num_1 - num_2 vis tiek galios\n",
    "\n",
    "\n",
    "\n",
    "#privalomi argumentai, pagal pozicija yra priskiriami\n",
    "\n"
   ]
  },
  {
   "cell_type": "code",
   "execution_count": 17,
   "metadata": {},
   "outputs": [],
   "source": [
    "def substract (num_1, num_2):\n",
    "    local_variable = 10\n",
    "    print (num_1 - num_2)\n",
    "    return num_1 - num_2\n",
    "    print('Niekada neatspausdins') # po return fja baigia savo darba"
   ]
  },
  {
   "cell_type": "code",
   "execution_count": 19,
   "metadata": {},
   "outputs": [
    {
     "name": "stdout",
     "output_type": "stream",
     "text": [
      "7\n",
      "7\n",
      "-7\n",
      "-7\n"
     ]
    },
    {
     "ename": "NameError",
     "evalue": "name 'local_variable' is not defined",
     "output_type": "error",
     "traceback": [
      "\u001b[1;31m---------------------------------------------------------------------------\u001b[0m",
      "\u001b[1;31mNameError\u001b[0m                                 Traceback (most recent call last)",
      "\u001b[1;32mc:\\Users\\laima\\Desktop\\Python_mokymai\\Python_mokymai\\Functions_4_pask.ipynb Cell 11'\u001b[0m in \u001b[0;36m<module>\u001b[1;34m\u001b[0m\n\u001b[0;32m      <a href='vscode-notebook-cell:/c%3A/Users/laima/Desktop/Python_mokymai/Python_mokymai/Functions_4_pask.ipynb#ch0000009?line=2'>3</a>\u001b[0m result \u001b[39m=\u001b[39m substract(num_2 \u001b[39m=\u001b[39m \u001b[39m12\u001b[39m, num_1 \u001b[39m=\u001b[39m \u001b[39m5\u001b[39m) \u001b[39m# funkcijos rezultata priskiria prie kintamojo result\u001b[39;00m\n\u001b[0;32m      <a href='vscode-notebook-cell:/c%3A/Users/laima/Desktop/Python_mokymai/Python_mokymai/Functions_4_pask.ipynb#ch0000009?line=3'>4</a>\u001b[0m \u001b[39mprint\u001b[39m(result)\n\u001b[1;32m----> <a href='vscode-notebook-cell:/c%3A/Users/laima/Desktop/Python_mokymai/Python_mokymai/Functions_4_pask.ipynb#ch0000009?line=4'>5</a>\u001b[0m \u001b[39mprint\u001b[39m(local_variable)\n",
      "\u001b[1;31mNameError\u001b[0m: name 'local_variable' is not defined"
     ]
    }
   ],
   "source": [
    "substract(12,5)\n",
    "substract(num_1 = 12, num_2 = 5)\n",
    "result = substract(num_2 = 12, num_1 = 5) # funkcijos rezultata priskiria prie kintamojo result\n",
    "print(result)\n",
    "print(local_variable) # kas vyksta fjoje, lieka ten. jeigu sukuriam kintamuosius fjoje, kai ji baigiai, jie sunaikinimi ir info is ju dingsta\n",
    "\n",
    "\n",
    "\n",
    "# reikia kad funkcija grazintu reiksme, tam yra return, po juo nurodom ka norim kad musu fja grazintu atgal kur buvo iskviesta jinai\n",
    "# return komanda grizta i vieta kur buvo jinai iskviesta\n",
    "# result yra kintamasis, kur issaugom ka gaunam is fjos substract(num_2 = 12, num_1 = 5)\n",
    "# issisaugo rezultata ir naudoja kur nori\n",
    "# fjos yra izoliuotos aplinkos\n"
   ]
  },
  {
   "cell_type": "markdown",
   "metadata": {},
   "source": [
    "#### return komanda grizta i vieta kur buvo jinai iskviesta"
   ]
  },
  {
   "cell_type": "markdown",
   "metadata": {},
   "source": [
    "##### funkcijos, kurios turi argumentus su numatytom reiksmem \n",
    "##### OPTIONAL ARGUMENTS"
   ]
  },
  {
   "cell_type": "code",
   "execution_count": 27,
   "metadata": {},
   "outputs": [],
   "source": [
    "def add_number(num_1, num_2=10): # num_1 - PRIVALOMAS, num_2 = 10 OPTIONAL ARGUMENT\n",
    "    return num_1 + num_2 # funkcijose print fjos nebenaudosim, naudosim return, kad grazintu ta rezultata ir tada ji atspausdinam"
   ]
  },
  {
   "cell_type": "code",
   "execution_count": 26,
   "metadata": {},
   "outputs": [
    {
     "name": "stdout",
     "output_type": "stream",
     "text": [
      "23\n",
      "13\n",
      "53\n"
     ]
    }
   ],
   "source": [
    "print(add_number(3, 20))\n",
    "print(add_number(3)) # jei nenurodom num_2, naudos numatyta reiksme, kuri yra 10\n",
    "print(add_number(3, 50)) # galima arba nenurodyti, arba savo prideti"
   ]
  },
  {
   "cell_type": "code",
   "execution_count": 28,
   "metadata": {},
   "outputs": [
    {
     "name": "stdout",
     "output_type": "stream",
     "text": [
      "a b 5 45 34554\n"
     ]
    }
   ],
   "source": [
    "print('a', 'b', 5, 45, 34554)"
   ]
  },
  {
   "cell_type": "code",
   "execution_count": 31,
   "metadata": {},
   "outputs": [],
   "source": [
    "def add_all_numbers(*args): # args talpina savyje daug argumentu, i si kintamaji idedamos visos tos reiksmes tuple formatu\n",
    "    print(args)\n",
    "    suma = 0\n",
    "    for number in args:\n",
    "        suma += number\n",
    "    return suma\n",
    "\n",
    "# kai kodas pasiekia return, jis iseina is funkcijos"
   ]
  },
  {
   "cell_type": "code",
   "execution_count": 33,
   "metadata": {},
   "outputs": [
    {
     "name": "stdout",
     "output_type": "stream",
     "text": [
      "(5, 6, 1, 20, -10)\n"
     ]
    },
    {
     "data": {
      "text/plain": [
       "22"
      ]
     },
     "execution_count": 33,
     "metadata": {},
     "output_type": "execute_result"
    }
   ],
   "source": [
    "add_all_numbers(5,6,1,20,-10)\n",
    "\n",
    "# iskvietem fja ir dave atsakymus to kas irasyta [31]"
   ]
  },
  {
   "cell_type": "code",
   "execution_count": 36,
   "metadata": {},
   "outputs": [],
   "source": [
    "def bad_function(arg_1, arg_2, arg_3):\n",
    "    if arg_1 > 5:\n",
    "        if arg_3 > 0:\n",
    "            return 10\n",
    "        else:\n",
    "            return 0\n",
    "    elif arg_2 < 0:\n",
    "        return 10\n",
    "    else:\n",
    "        return 100\n",
    "\n"
   ]
  },
  {
   "cell_type": "code",
   "execution_count": 37,
   "metadata": {},
   "outputs": [
    {
     "data": {
      "text/plain": [
       "10"
      ]
     },
     "execution_count": 37,
     "metadata": {},
     "output_type": "execute_result"
    }
   ],
   "source": [
    "bad_function(10,5,2)"
   ]
  },
  {
   "cell_type": "code",
   "execution_count": 39,
   "metadata": {},
   "outputs": [],
   "source": [
    "def better_function(arg_1, arg_2, arg_3): # kuo maziau if salygu\n",
    "    result = None # isivedam kintamaji, \n",
    "    if arg_1 > 5:\n",
    "        if arg_3 > 0:\n",
    "            result = 10\n",
    "        else:\n",
    "            result = 0\n",
    "    elif arg_2 < 0:\n",
    "        result = 10\n",
    "    else:\n",
    "        result = 100\n",
    "    print(arg_2)\n",
    "    print(result)\n",
    "    return result"
   ]
  },
  {
   "cell_type": "code",
   "execution_count": 40,
   "metadata": {},
   "outputs": [
    {
     "name": "stdout",
     "output_type": "stream",
     "text": [
      "5\n",
      "10\n"
     ]
    },
    {
     "data": {
      "text/plain": [
       "10"
      ]
     },
     "execution_count": 40,
     "metadata": {},
     "output_type": "execute_result"
    }
   ],
   "source": [
    "better_function(10,5,2)"
   ]
  },
  {
   "cell_type": "markdown",
   "metadata": {},
   "source": [
    "##### Kwargs"
   ]
  },
  {
   "cell_type": "code",
   "execution_count": 46,
   "metadata": {},
   "outputs": [],
   "source": [
    "def say_hello_2(name, num_1, num_2 = 10, **kwargs): # du privalomi argumentai, vienas neprivalomas ir **kwargs (keyword arguments)\n",
    "    print(f'hello {name}')\n",
    "    print(num_1 + num_2)\n",
    "    #print(kwargs)\n",
    "    for k,v in kwargs.items():\n",
    "        print(f'key {k} has a value of {v}')\n"
   ]
  },
  {
   "cell_type": "code",
   "execution_count": null,
   "metadata": {},
   "outputs": [],
   "source": [
    "# **kwargs - cia sutalpinsime visus naujus argumentus, kurie turi pavadinimus"
   ]
  },
  {
   "cell_type": "code",
   "execution_count": 42,
   "metadata": {},
   "outputs": [
    {
     "name": "stdout",
     "output_type": "stream",
     "text": [
      "hello Juste\n",
      "15\n",
      "{}\n"
     ]
    }
   ],
   "source": [
    "say_hello_2('Juste', 5)\n",
    "\n",
    "# atspausdinus print(kwargs) gauname tuscia, kadangi nepateikeme jokiu papildomu kwargs"
   ]
  },
  {
   "cell_type": "code",
   "execution_count": 49,
   "metadata": {},
   "outputs": [
    {
     "name": "stdout",
     "output_type": "stream",
     "text": [
      "hello Juste\n",
      "15\n",
      "key surname has a value of Leisyte\n",
      "key no has a value of ne\n"
     ]
    }
   ],
   "source": [
    "say_hello_2('Juste', 5, surname = 'Leisyte', no = 'ne')\n",
    "\n",
    "# kwargs info pakeiciama i dictionary, kur KEY = surname, o VALUE = Leisyte\n",
    "# no='ne' nuejo i kintamaji kwargs\n",
    "# no argumento nera, tai automatiskai nueina i kwargs"
   ]
  },
  {
   "cell_type": "code",
   "execution_count": 53,
   "metadata": {},
   "outputs": [],
   "source": [
    "def mano_funkcija_2(name):\n",
    "    \"\"\"\n",
    "    This function says hello to <name>, and asks how are they.\n",
    "    \"\"\"\n",
    "    # ^^^ Docstring, apraso, kaip funkcija veikia\n",
    "    print(f'Hello {name}, how is your day>')"
   ]
  },
  {
   "cell_type": "code",
   "execution_count": 54,
   "metadata": {},
   "outputs": [
    {
     "data": {
      "text/plain": [
       "<function __main__.mano_funkcija_2(name)>"
      ]
     },
     "execution_count": 54,
     "metadata": {},
     "output_type": "execute_result"
    }
   ],
   "source": [
    "mano_funkcija_2()"
   ]
  },
  {
   "cell_type": "code",
   "execution_count": null,
   "metadata": {},
   "outputs": [],
   "source": [
    "def dummy_function (\n",
    "    argument_1,\n",
    "    argument_2,\n",
    "    argument_3,\n",
    "    optional_argument = 10\n",
    "):\n",
    "    \"\"\"\n",
    "    dummy function\n",
    "    \"\"\"\n",
    "    return 0"
   ]
  },
  {
   "cell_type": "code",
   "execution_count": 55,
   "metadata": {},
   "outputs": [
    {
     "ename": "NameError",
     "evalue": "name 'bye' is not defined",
     "output_type": "error",
     "traceback": [
      "\u001b[1;31m---------------------------------------------------------------------------\u001b[0m",
      "\u001b[1;31mNameError\u001b[0m                                 Traceback (most recent call last)",
      "\u001b[1;32mc:\\Users\\laima\\Desktop\\Python_mokymai\\Python_mokymai\\Functions_4_pask.ipynb Cell 31'\u001b[0m in \u001b[0;36m<module>\u001b[1;34m\u001b[0m\n\u001b[1;32m----> <a href='vscode-notebook-cell:/c%3A/Users/laima/Desktop/Python_mokymai/Python_mokymai/Functions_4_pask.ipynb#ch0000033?line=0'>1</a>\u001b[0m bye()\n\u001b[0;32m      <a href='vscode-notebook-cell:/c%3A/Users/laima/Desktop/Python_mokymai/Python_mokymai/Functions_4_pask.ipynb#ch0000033?line=2'>3</a>\u001b[0m \u001b[39mdef\u001b[39;00m \u001b[39mbye\u001b[39m():\n\u001b[0;32m      <a href='vscode-notebook-cell:/c%3A/Users/laima/Desktop/Python_mokymai/Python_mokymai/Functions_4_pask.ipynb#ch0000033?line=3'>4</a>\u001b[0m     \u001b[39mprint\u001b[39m(\u001b[39m'\u001b[39m\u001b[39mbye\u001b[39m\u001b[39m'\u001b[39m)\n",
      "\u001b[1;31mNameError\u001b[0m: name 'bye' is not defined"
     ]
    }
   ],
   "source": [
    "bye()\n",
    "\n",
    "def bye():\n",
    "    print('bye')"
   ]
  },
  {
   "cell_type": "code",
   "execution_count": null,
   "metadata": {},
   "outputs": [],
   "source": [
    "# pirmiau definint, po to kviest"
   ]
  },
  {
   "cell_type": "code",
   "execution_count": 60,
   "metadata": {},
   "outputs": [
    {
     "name": "stdout",
     "output_type": "stream",
     "text": [
      "bye\n",
      "bye\n"
     ]
    }
   ],
   "source": [
    "\n",
    "def bye():\n",
    "    print('bye')\n",
    "\n",
    "bye()\n",
    "\n",
    "# galima perrasyti pavadinima\n",
    "\n",
    "new_bye = bye\n",
    "new_bye()\n"
   ]
  },
  {
   "cell_type": "markdown",
   "metadata": {},
   "source": [
    "# Funkcijos uzduotys"
   ]
  },
  {
   "cell_type": "code",
   "execution_count": 64,
   "metadata": {},
   "outputs": [],
   "source": [
    "# 1. Sukurti fja, kuri priima du skaicius, jei ju suma lygine, grazinti ju sandauga,\n",
    "# jeigu ne, padalinti skaicius viena is kito.\n",
    "\n",
    "def funkcija(x, y):\n",
    "    if (x + y) % 2 == 0:\n",
    "        return x * y\n",
    "    #else: #else dalis siuo atveju nera butina\n",
    "    return x / y # jei atitiks if salyga, grazins x * y ir toliau nebeis, jei neatitinka, pereis i return x / y"
   ]
  },
  {
   "cell_type": "code",
   "execution_count": 66,
   "metadata": {},
   "outputs": [
    {
     "name": "stdout",
     "output_type": "stream",
     "text": [
      "12\n",
      "2.0\n"
     ]
    }
   ],
   "source": [
    "print(funkcija(2,6))\n",
    "print(funkcija(10,5))"
   ]
  },
  {
   "cell_type": "code",
   "execution_count": 77,
   "metadata": {},
   "outputs": [
    {
     "name": "stdout",
     "output_type": "stream",
     "text": [
      "my name is Juste\n"
     ]
    }
   ],
   "source": [
    "# 2. Deklaruokite funkcija, kuri priima viena string tipo kintamaji, priskirkite funkcija naujam kintamajam\n",
    "# ir iskvieskite ja per naujaji kintamaji\n",
    "\n",
    "def my_func(vardas):\n",
    "    print(f'my name is {vardas}')\n",
    "\n",
    "new_func = my_func\n",
    "new_func ('Juste')"
   ]
  },
  {
   "cell_type": "code",
   "execution_count": 119,
   "metadata": {},
   "outputs": [],
   "source": [
    "# 3. Kiek skaiciu dalinasi nuo 1 iki 10 imtinai?\n",
    "\n",
    "def funkcija(*args):\n",
    "    print(args)\n",
    "    result_dict = {}\n",
    "    for number in range(1,11):\n",
    "        result_dict[number] = 0\n",
    "        # print(result_dict)\n",
    "        for arg in args:\n",
    "            if arg % number == 0:\n",
    "                result_dict[number] += 1\n",
    "\n",
    "\n",
    "    return result_dict\n",
    "                "
   ]
  },
  {
   "cell_type": "code",
   "execution_count": 120,
   "metadata": {},
   "outputs": [
    {
     "name": "stdout",
     "output_type": "stream",
     "text": [
      "(1, 2, 65, 30)\n"
     ]
    },
    {
     "data": {
      "text/plain": [
       "{1: 4, 2: 2, 3: 1, 4: 0, 5: 2, 6: 1, 7: 0, 8: 0, 9: 0, 10: 1}"
      ]
     },
     "execution_count": 120,
     "metadata": {},
     "output_type": "execute_result"
    }
   ],
   "source": [
    "funkcija(1,2,65,30)"
   ]
  },
  {
   "cell_type": "markdown",
   "metadata": {},
   "source": [
    "### Lambda"
   ]
  },
  {
   "cell_type": "code",
   "execution_count": 121,
   "metadata": {},
   "outputs": [],
   "source": [
    "# Lambda yra trumpa funkcijos israiska, daznai naudojama papastoms funkcijoms"
   ]
  },
  {
   "cell_type": "code",
   "execution_count": 128,
   "metadata": {},
   "outputs": [
    {
     "data": {
      "text/plain": [
       "['Hello', ' fsdf', ' sdgsg', ' DGDGFG']"
      ]
     },
     "execution_count": 128,
     "metadata": {},
     "output_type": "execute_result"
    }
   ],
   "source": [
    "'Hello, fsdf, sdgsg, DGDGFG'.split(',')"
   ]
  },
  {
   "cell_type": "code",
   "execution_count": 122,
   "metadata": {},
   "outputs": [],
   "source": [
    "text = 'Hello world'"
   ]
  },
  {
   "cell_type": "code",
   "execution_count": 133,
   "metadata": {},
   "outputs": [],
   "source": [
    "def my_split(x):\n",
    "    return x.split(' ')[0]\n",
    "\n",
    "my_lambda_split = lambda x: x.split(' ')[0]"
   ]
  },
  {
   "cell_type": "code",
   "execution_count": 134,
   "metadata": {},
   "outputs": [
    {
     "name": "stdout",
     "output_type": "stream",
     "text": [
      "Hello\n",
      "Hello\n"
     ]
    }
   ],
   "source": [
    "print(my_split(text))\n",
    "print(my_lambda_split(text))"
   ]
  },
  {
   "cell_type": "code",
   "execution_count": 148,
   "metadata": {},
   "outputs": [
    {
     "name": "stdout",
     "output_type": "stream",
     "text": [
      "[['one', 1], ['two', 2], ['ten', 10], ['five', 5]]\n",
      "[['five', 5], ['one', 1], ['ten', 10], ['two', 2]]\n",
      "[['one', 1], ['two', 2], ['five', 5], ['ten', 10]]\n"
     ]
    }
   ],
   "source": [
    "my_list = [ ['one', 1], ['two', 2], ['ten', 10], ['five', 5] ]\n",
    "print(my_list)\n",
    "print(sorted(my_list))\n",
    "print(sorted(my_list, key = lambda x: x[1])) # naudoja palyginimui pirma nari is mazu sarasu, skaicius"
   ]
  },
  {
   "cell_type": "code",
   "execution_count": 147,
   "metadata": {},
   "outputs": [
    {
     "name": "stdout",
     "output_type": "stream",
     "text": [
      "['a', 'me', 'hello', 'very_long_word']\n",
      "['very_long_word', 'hello', 'me', 'a']\n"
     ]
    }
   ],
   "source": [
    "my_words = ['a', 'hello', 'me', 'very_long_word']\n",
    "print(sorted(my_words, key = lambda x:len(x))) # x bus zodis vienas per kabl\n",
    "print(sorted(my_words, key = lambda x:len(x), reverse=True)) # reverse apsuka"
   ]
  },
  {
   "cell_type": "code",
   "execution_count": 150,
   "metadata": {},
   "outputs": [],
   "source": [
    "# lambda padeda isrusiuoti sunkiai rusiuojamus dalykus, pvz texta, pagal kazka ivertina, arba skaiciu,arba len"
   ]
  },
  {
   "cell_type": "code",
   "execution_count": 153,
   "metadata": {},
   "outputs": [
    {
     "name": "stdout",
     "output_type": "stream",
     "text": [
      "[['one', 1], ['two', 2], ['ten', 10], ['five', 5], [0, 'zero']]\n",
      "[[0, 'zero'], ['one', 1], ['two', 2], ['five', 5], ['ten', 10]]\n"
     ]
    }
   ],
   "source": [
    "# galima if salygas rasyti nes fja\n",
    "\n",
    "my_list = [ ['one', 1], ['two', 2], ['ten', 10], ['five', 5], [0, 'zero'] ]\n",
    "print(my_list)\n",
    "#print(sorted(my_list))\n",
    "print(sorted(my_list, key = lambda x: x[1] if isinstance(x[1], int) else 0 )) # grazinti x[1] jeigu jis skaicius, isinstance patikrina ar x[1] yra skaicius\n",
    "# naudok skaiciu jeigu tai yra skaicius, jeigu ne, visais kitais atvejais bus 0"
   ]
  },
  {
   "cell_type": "markdown",
   "metadata": {},
   "source": [
    "### While loop"
   ]
  },
  {
   "cell_type": "code",
   "execution_count": 154,
   "metadata": {},
   "outputs": [],
   "source": [
    "# antras ciklu tipas (for loop, while loop)"
   ]
  },
  {
   "cell_type": "code",
   "execution_count": null,
   "metadata": {},
   "outputs": [],
   "source": [
    "# for loop naudojam, kai zinom kiek kartu reikes kartoti veiksma, jeigu turim sarasa, mes zinom, kad jame yra 10 nariu ir pan,\n",
    "# ir reikia kazkoki veiksma kartoti 10 kartu\n",
    "\n",
    "# while loop naudojamas dazniau tada, kai is anksto negalim pasakyti, kaip ilgai reikes kartoti ta cikla"
   ]
  },
  {
   "cell_type": "code",
   "execution_count": 156,
   "metadata": {},
   "outputs": [
    {
     "name": "stdout",
     "output_type": "stream",
     "text": [
      "No input received. Please try again!\n",
      "No input received. Please try again!\n",
      "Your name is Juste\n"
     ]
    }
   ],
   "source": [
    "name = None # nezinom vartotojo vardo\n",
    "\n",
    "while name is None:\n",
    "    user_input = input('What is your name?') # kol nezinom vardo, galim uzklausti\n",
    "    if user_input:\n",
    "        name = user_input\n",
    "    else:\n",
    "        print('No input received. Please try again!')\n",
    "print('Your name is', name) #nepriklauso ciklui nes nera tarpu\n",
    "\n",
    "# kadangi perrasom name, vardas nebera None, tai sustabdo visa cikla ir isprintina pask dalyka PO ciklo"
   ]
  },
  {
   "cell_type": "code",
   "execution_count": 160,
   "metadata": {},
   "outputs": [
    {
     "name": "stdout",
     "output_type": "stream",
     "text": [
      "while loop ended\n"
     ]
    }
   ],
   "source": [
    "while True:\n",
    "    user_input = input(\"enter a number\")\n",
    "    if int(user_input) > 5:\n",
    "        break\n",
    "    print('number {user_input} is smaller than 5. Try again.')\n",
    "print('while loop ended')"
   ]
  },
  {
   "cell_type": "code",
   "execution_count": null,
   "metadata": {},
   "outputs": [],
   "source": []
  }
 ],
 "metadata": {
  "interpreter": {
   "hash": "c1079bb051ce826b2586e8a117626216eeafca56017ae30fdaacad9a7d00cd2c"
  },
  "kernelspec": {
   "display_name": "Python 3.10.2 64-bit",
   "language": "python",
   "name": "python3"
  },
  "language_info": {
   "codemirror_mode": {
    "name": "ipython",
    "version": 3
   },
   "file_extension": ".py",
   "mimetype": "text/x-python",
   "name": "python",
   "nbconvert_exporter": "python",
   "pygments_lexer": "ipython3",
   "version": "3.10.2"
  },
  "orig_nbformat": 4
 },
 "nbformat": 4,
 "nbformat_minor": 2
}
